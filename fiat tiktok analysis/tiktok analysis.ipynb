{
 "cells": [
  {
   "cell_type": "code",
   "execution_count": 2,
   "metadata": {},
   "outputs": [
    {
     "name": "stdout",
     "output_type": "stream",
     "text": [
      "Requirement already satisfied: gensim in /Users/federicomartin/anaconda3/lib/python3.11/site-packages (4.3.0)\n",
      "Requirement already satisfied: pandas in /Users/federicomartin/anaconda3/lib/python3.11/site-packages (1.5.3)\n",
      "Requirement already satisfied: nltk in /Users/federicomartin/anaconda3/lib/python3.11/site-packages (3.8.1)\n",
      "Requirement already satisfied: matplotlib in /Users/federicomartin/anaconda3/lib/python3.11/site-packages (3.7.1)\n",
      "Requirement already satisfied: numpy>=1.18.5 in /Users/federicomartin/anaconda3/lib/python3.11/site-packages (from gensim) (1.24.4)\n",
      "Requirement already satisfied: scipy>=1.7.0 in /Users/federicomartin/anaconda3/lib/python3.11/site-packages (from gensim) (1.10.1)\n",
      "Requirement already satisfied: smart-open>=1.8.1 in /Users/federicomartin/anaconda3/lib/python3.11/site-packages (from gensim) (5.2.1)\n",
      "Requirement already satisfied: FuzzyTM>=0.4.0 in /Users/federicomartin/anaconda3/lib/python3.11/site-packages (from gensim) (2.0.9)\n",
      "Requirement already satisfied: python-dateutil>=2.8.1 in /Users/federicomartin/anaconda3/lib/python3.11/site-packages (from pandas) (2.8.2)\n",
      "Requirement already satisfied: pytz>=2020.1 in /Users/federicomartin/anaconda3/lib/python3.11/site-packages (from pandas) (2022.7)\n",
      "Requirement already satisfied: click in /Users/federicomartin/anaconda3/lib/python3.11/site-packages (from nltk) (8.0.4)\n",
      "Requirement already satisfied: joblib in /Users/federicomartin/anaconda3/lib/python3.11/site-packages (from nltk) (1.2.0)\n",
      "Requirement already satisfied: regex>=2021.8.3 in /Users/federicomartin/anaconda3/lib/python3.11/site-packages (from nltk) (2022.7.9)\n",
      "Requirement already satisfied: tqdm in /Users/federicomartin/anaconda3/lib/python3.11/site-packages (from nltk) (4.65.0)\n",
      "Requirement already satisfied: contourpy>=1.0.1 in /Users/federicomartin/anaconda3/lib/python3.11/site-packages (from matplotlib) (1.0.5)\n",
      "Requirement already satisfied: cycler>=0.10 in /Users/federicomartin/anaconda3/lib/python3.11/site-packages (from matplotlib) (0.11.0)\n",
      "Requirement already satisfied: fonttools>=4.22.0 in /Users/federicomartin/anaconda3/lib/python3.11/site-packages (from matplotlib) (4.25.0)\n",
      "Requirement already satisfied: kiwisolver>=1.0.1 in /Users/federicomartin/anaconda3/lib/python3.11/site-packages (from matplotlib) (1.4.4)\n",
      "Requirement already satisfied: packaging>=20.0 in /Users/federicomartin/anaconda3/lib/python3.11/site-packages (from matplotlib) (23.0)\n",
      "Requirement already satisfied: pillow>=6.2.0 in /Users/federicomartin/anaconda3/lib/python3.11/site-packages (from matplotlib) (9.4.0)\n",
      "Requirement already satisfied: pyparsing>=2.3.1 in /Users/federicomartin/anaconda3/lib/python3.11/site-packages (from matplotlib) (3.0.9)\n",
      "Requirement already satisfied: pyfume in /Users/federicomartin/anaconda3/lib/python3.11/site-packages (from FuzzyTM>=0.4.0->gensim) (0.3.4)\n",
      "Requirement already satisfied: six>=1.5 in /Users/federicomartin/anaconda3/lib/python3.11/site-packages (from python-dateutil>=2.8.1->pandas) (1.16.0)\n",
      "Requirement already satisfied: simpful==2.12.0 in /Users/federicomartin/anaconda3/lib/python3.11/site-packages (from pyfume->FuzzyTM>=0.4.0->gensim) (2.12.0)\n",
      "Requirement already satisfied: fst-pso==1.8.1 in /Users/federicomartin/anaconda3/lib/python3.11/site-packages (from pyfume->FuzzyTM>=0.4.0->gensim) (1.8.1)\n",
      "Requirement already satisfied: miniful in /Users/federicomartin/anaconda3/lib/python3.11/site-packages (from fst-pso==1.8.1->pyfume->FuzzyTM>=0.4.0->gensim) (0.0.6)\n",
      "Note: you may need to restart the kernel to use updated packages.\n"
     ]
    }
   ],
   "source": [
    "pip install gensim pandas nltk matplotlib\n"
   ]
  },
  {
   "cell_type": "code",
   "execution_count": 60,
   "metadata": {},
   "outputs": [],
   "source": [
    "import gensim\n",
    "from gensim import corpora\n",
    "from nltk.corpus import stopwords\n",
    "from gensim.models.phrases import Phrases, Phraser"
   ]
  },
  {
   "cell_type": "code",
   "execution_count": 63,
   "metadata": {},
   "outputs": [],
   "source": [
    "# Tokenize and clean up text\n",
    "def preprocess(text):\n",
    "    result = []\n",
    "    for token in gensim.utils.simple_preprocess(text):\n",
    "        if token not in gensim.parsing.preprocessing.STOPWORDS and len(token) > 3:\n",
    "            result.append(token)\n",
    "    return result\n"
   ]
  },
  {
   "cell_type": "markdown",
   "metadata": {},
   "source": [
    "### Identifying optimal number of topics"
   ]
  },
  {
   "cell_type": "code",
   "execution_count": 11,
   "metadata": {},
   "outputs": [
    {
     "name": "stderr",
     "output_type": "stream",
     "text": [
      "[nltk_data] Downloading package stopwords to\n",
      "[nltk_data]     /Users/federicomartin/nltk_data...\n",
      "[nltk_data]   Package stopwords is already up-to-date!\n",
      "[nltk_data] Downloading package punkt to\n",
      "[nltk_data]     /Users/federicomartin/nltk_data...\n",
      "[nltk_data]   Package punkt is already up-to-date!\n",
      "huggingface/tokenizers: The current process just got forked, after parallelism has already been used. Disabling parallelism to avoid deadlocks...\n",
      "To disable this warning, you can either:\n",
      "\t- Avoid using `tokenizers` before the fork if possible\n",
      "\t- Explicitly set the environment variable huggingface/tokenizers: The current process just got forked, after parallelism has already been used. Disabling parallelism to avoid deadlocks...\n",
      "To disable this warning, you can either:\n",
      "\t- Avoid using `tokenizers` before the fork if possible\n",
      "\t- Explicitly set the environment variable TOKENIZERS_PARALLELISM=(true | false)\n",
      "TOKENIZERS_PARALLELISM=(true | false)\n",
      "huggingface/tokenizers: The current process just got forked, after parallelism has already been used. Disabling parallelism to avoid deadlocks...\n",
      "To disable this warning, you can either:\n",
      "\t- Avoid using `tokenizers` before the fork if possible\n",
      "\t- Explicitly set the environment variable TOKENIZERS_PARALLELISM=(true | false)\n",
      "huggingface/tokenizers: The current process just got forked, after parallelism has already been used. Disabling parallelism to avoid deadlocks...\n",
      "To disable this warning, you can either:\n",
      "\t- Avoid using `tokenizers` before the fork if possible\n",
      "\t- Explicitly set the environment variable TOKENIZERS_PARALLELISM=(true | false)\n",
      "huggingface/tokenizers: The current process just got forked, after parallelism has already been used. Disabling parallelism to avoid deadlocks...\n",
      "To disable this warning, you can either:\n",
      "\t- Avoid using `tokenizers` before the fork if possible\n",
      "\t- Explicitly set the environment variable TOKENIZERS_PARALLELISM=(true | false)\n",
      "huggingface/tokenizers: The current process just got forked, after parallelism has already been used. Disabling parallelism to avoid deadlocks...\n",
      "To disable this warning, you can either:\n",
      "\t- Avoid using `tokenizers` before the fork if possible\n",
      "\t- Explicitly set the environment variable TOKENIZERS_PARALLELISM=(true | false)\n",
      "huggingface/tokenizers: The current process just got forked, after parallelism has already been used. Disabling parallelism to avoid deadlocks...\n",
      "To disable this warning, you can either:\n",
      "\t- Avoid using `tokenizers` before the fork if possible\n",
      "\t- Explicitly set the environment variable TOKENIZERS_PARALLELISM=(true | false)\n",
      "huggingface/tokenizers: The current process just got forked, after parallelism has already been used. Disabling parallelism to avoid deadlocks...\n",
      "To disable this warning, you can either:\n",
      "\t- Avoid using `tokenizers` before the fork if possible\n",
      "\t- Explicitly set the environment variable TOKENIZERS_PARALLELISM=(true | false)\n",
      "huggingface/tokenizers: The current process just got forked, after parallelism has already been used. Disabling parallelism to avoid deadlocks...\n",
      "To disable this warning, you can either:\n",
      "\t- Avoid using `tokenizers` before the fork if possible\n",
      "\t- Explicitly set the environment variable TOKENIZERS_PARALLELISM=(true | false)\n",
      "huggingface/tokenizers: The current process just got forked, after parallelism has already been used. Disabling parallelism to avoid deadlocks...\n",
      "To disable this warning, you can either:\n",
      "\t- Avoid using `tokenizers` before the fork if possible\n",
      "\t- Explicitly set the environment variable TOKENIZERS_PARALLELISM=(true | false)\n",
      "huggingface/tokenizers: The current process just got forked, after parallelism has already been used. Disabling parallelism to avoid deadlocks...\n",
      "To disable this warning, you can either:\n",
      "\t- Avoid using `tokenizers` before the fork if possible\n",
      "\t- Explicitly set the environment variable TOKENIZERS_PARALLELISM=(true | false)\n",
      "huggingface/tokenizers: The current process just got forked, after parallelism has already been used. Disabling parallelism to avoid deadlocks...\n",
      "To disable this warning, you can either:\n",
      "\t- Avoid using `tokenizers` before the fork if possible\n",
      "\t- Explicitly set the environment variable TOKENIZERS_PARALLELISM=(true | false)\n",
      "huggingface/tokenizers: The current process just got forked, after parallelism has already been used. Disabling parallelism to avoid deadlocks...\n",
      "To disable this warning, you can either:\n",
      "\t- Avoid using `tokenizers` before the fork if possible\n",
      "\t- Explicitly set the environment variable TOKENIZERS_PARALLELISM=(true | false)\n",
      "huggingface/tokenizers: The current process just got forked, after parallelism has already been used. Disabling parallelism to avoid deadlocks...\n",
      "To disable this warning, you can either:\n",
      "\t- Avoid using `tokenizers` before the fork if possible\n",
      "\t- Explicitly set the environment variable TOKENIZERS_PARALLELISM=(true | false)\n",
      "huggingface/tokenizers: The current process just got forked, after parallelism has already been used. Disabling parallelism to avoid deadlocks...\n",
      "To disable this warning, you can either:\n",
      "\t- Avoid using `tokenizers` before the fork if possible\n",
      "\t- Explicitly set the environment variable TOKENIZERS_PARALLELISM=(true | false)\n",
      "huggingface/tokenizers: The current process just got forked, after parallelism has already been used. Disabling parallelism to avoid deadlocks...\n",
      "To disable this warning, you can either:\n",
      "\t- Avoid using `tokenizers` before the fork if possible\n",
      "\t- Explicitly set the environment variable TOKENIZERS_PARALLELISM=(true | false)\n",
      "huggingface/tokenizers: The current process just got forked, after parallelism has already been used. Disabling parallelism to avoid deadlocks...\n",
      "To disable this warning, you can either:\n",
      "\t- Avoid using `tokenizers` before the fork if possible\n",
      "\t- Explicitly set the environment variable TOKENIZERS_PARALLELISM=(true | false)\n",
      "huggingface/tokenizers: The current process just got forked, after parallelism has already been used. Disabling parallelism to avoid deadlocks...\n",
      "To disable this warning, you can either:\n",
      "\t- Avoid using `tokenizers` before the fork if possible\n",
      "\t- Explicitly set the environment variable TOKENIZERS_PARALLELISM=(true | false)\n",
      "huggingface/tokenizers: The current process just got forked, after parallelism has already been used. Disabling parallelism to avoid deadlocks...\n",
      "To disable this warning, you can either:\n",
      "\t- Avoid using `tokenizers` before the fork if possible\n",
      "\t- Explicitly set the environment variable TOKENIZERS_PARALLELISM=(true | false)\n",
      "huggingface/tokenizers: The current process just got forked, after parallelism has already been used. Disabling parallelism to avoid deadlocks...\n",
      "To disable this warning, you can either:\n",
      "\t- Avoid using `tokenizers` before the fork if possible\n",
      "\t- Explicitly set the environment variable TOKENIZERS_PARALLELISM=(true | false)\n",
      "huggingface/tokenizers: The current process just got forked, after parallelism has already been used. Disabling parallelism to avoid deadlocks...\n",
      "To disable this warning, you can either:\n",
      "\t- Avoid using `tokenizers` before the fork if possible\n",
      "\t- Explicitly set the environment variable TOKENIZERS_PARALLELISM=(true | false)\n",
      "huggingface/tokenizers: The current process just got forked, after parallelism has already been used. Disabling parallelism to avoid deadlocks...\n",
      "To disable this warning, you can either:\n",
      "\t- Avoid using `tokenizers` before the fork if possible\n",
      "\t- Explicitly set the environment variable TOKENIZERS_PARALLELISM=(true | false)\n",
      "huggingface/tokenizers: The current process just got forked, after parallelism has already been used. Disabling parallelism to avoid deadlocks...\n",
      "To disable this warning, you can either:\n",
      "\t- Avoid using `tokenizers` before the fork if possible\n",
      "\t- Explicitly set the environment variable TOKENIZERS_PARALLELISM=(true | false)\n",
      "huggingface/tokenizers: The current process just got forked, after parallelism has already been used. Disabling parallelism to avoid deadlocks...\n",
      "To disable this warning, you can either:\n",
      "\t- Avoid using `tokenizers` before the fork if possible\n",
      "\t- Explicitly set the environment variable TOKENIZERS_PARALLELISM=(true | false)\n",
      "huggingface/tokenizers: The current process just got forked, after parallelism has already been used. Disabling parallelism to avoid deadlocks...\n",
      "To disable this warning, you can either:\n",
      "\t- Avoid using `tokenizers` before the fork if possible\n",
      "\t- Explicitly set the environment variable TOKENIZERS_PARALLELISM=(true | false)\n",
      "huggingface/tokenizers: The current process just got forked, after parallelism has already been used. Disabling parallelism to avoid deadlocks...\n",
      "To disable this warning, you can either:\n",
      "\t- Avoid using `tokenizers` before the fork if possible\n",
      "\t- Explicitly set the environment variable TOKENIZERS_PARALLELISM=(true | false)\n",
      "huggingface/tokenizers: The current process just got forked, after parallelism has already been used. Disabling parallelism to avoid deadlocks...\n",
      "To disable this warning, you can either:\n",
      "\t- Avoid using `tokenizers` before the fork if possible\n",
      "\t- Explicitly set the environment variable TOKENIZERS_PARALLELISM=(true | false)\n",
      "huggingface/tokenizers: The current process just got forked, after parallelism has already been used. Disabling parallelism to avoid deadlocks...\n",
      "To disable this warning, you can either:\n",
      "\t- Avoid using `tokenizers` before the fork if possible\n",
      "\t- Explicitly set the environment variable TOKENIZERS_PARALLELISM=(true | false)\n",
      "huggingface/tokenizers: The current process just got forked, after parallelism has already been used. Disabling parallelism to avoid deadlocks...\n",
      "To disable this warning, you can either:\n",
      "\t- Avoid using `tokenizers` before the fork if possible\n",
      "\t- Explicitly set the environment variable TOKENIZERS_PARALLELISM=(true | false)\n",
      "huggingface/tokenizers: The current process just got forked, after parallelism has already been used. Disabling parallelism to avoid deadlocks...\n",
      "To disable this warning, you can either:\n",
      "\t- Avoid using `tokenizers` before the fork if possible\n",
      "\t- Explicitly set the environment variable TOKENIZERS_PARALLELISM=(true | false)\n",
      "huggingface/tokenizers: The current process just got forked, after parallelism has already been used. Disabling parallelism to avoid deadlocks...\n",
      "To disable this warning, you can either:\n",
      "\t- Avoid using `tokenizers` before the fork if possible\n",
      "\t- Explicitly set the environment variable TOKENIZERS_PARALLELISM=(true | false)\n",
      "huggingface/tokenizers: The current process just got forked, after parallelism has already been used. Disabling parallelism to avoid deadlocks...\n",
      "To disable this warning, you can either:\n",
      "\t- Avoid using `tokenizers` before the fork if possible\n",
      "\t- Explicitly set the environment variable TOKENIZERS_PARALLELISM=(true | false)\n",
      "huggingface/tokenizers: The current process just got forked, after parallelism has already been used. Disabling parallelism to avoid deadlocks...\n",
      "To disable this warning, you can either:\n",
      "\t- Avoid using `tokenizers` before the fork if possible\n",
      "\t- Explicitly set the environment variable TOKENIZERS_PARALLELISM=(true | false)\n",
      "huggingface/tokenizers: The current process just got forked, after parallelism has already been used. Disabling parallelism to avoid deadlocks...\n",
      "To disable this warning, you can either:\n",
      "\t- Avoid using `tokenizers` before the fork if possible\n",
      "\t- Explicitly set the environment variable TOKENIZERS_PARALLELISM=(true | false)\n",
      "huggingface/tokenizers: The current process just got forked, after parallelism has already been used. Disabling parallelism to avoid deadlocks...\n",
      "To disable this warning, you can either:\n",
      "\t- Avoid using `tokenizers` before the fork if possible\n",
      "\t- Explicitly set the environment variable TOKENIZERS_PARALLELISM=(true | false)\n",
      "huggingface/tokenizers: The current process just got forked, after parallelism has already been used. Disabling parallelism to avoid deadlocks...\n",
      "To disable this warning, you can either:\n",
      "\t- Avoid using `tokenizers` before the fork if possible\n",
      "\t- Explicitly set the environment variable TOKENIZERS_PARALLELISM=(true | false)\n",
      "huggingface/tokenizers: The current process just got forked, after parallelism has already been used. Disabling parallelism to avoid deadlocks...\n",
      "To disable this warning, you can either:\n",
      "\t- Avoid using `tokenizers` before the fork if possible\n",
      "\t- Explicitly set the environment variable TOKENIZERS_PARALLELISM=(true | false)\n",
      "huggingface/tokenizers: The current process just got forked, after parallelism has already been used. Disabling parallelism to avoid deadlocks...\n",
      "To disable this warning, you can either:\n",
      "\t- Avoid using `tokenizers` before the fork if possible\n",
      "\t- Explicitly set the environment variable TOKENIZERS_PARALLELISM=(true | false)\n",
      "huggingface/tokenizers: The current process just got forked, after parallelism has already been used. Disabling parallelism to avoid deadlocks...\n",
      "To disable this warning, you can either:\n",
      "\t- Avoid using `tokenizers` before the fork if possible\n",
      "\t- Explicitly set the environment variable TOKENIZERS_PARALLELISM=(true | false)\n",
      "huggingface/tokenizers: The current process just got forked, after parallelism has already been used. Disabling parallelism to avoid deadlocks...\n",
      "To disable this warning, you can either:\n",
      "\t- Avoid using `tokenizers` before the fork if possible\n",
      "\t- Explicitly set the environment variable TOKENIZERS_PARALLELISM=(true | false)\n",
      "huggingface/tokenizers: The current process just got forked, after parallelism has already been used. Disabling parallelism to avoid deadlocks...\n",
      "To disable this warning, you can either:\n",
      "\t- Avoid using `tokenizers` before the fork if possible\n",
      "\t- Explicitly set the environment variable TOKENIZERS_PARALLELISM=(true | false)\n",
      "huggingface/tokenizers: The current process just got forked, after parallelism has already been used. Disabling parallelism to avoid deadlocks...\n",
      "To disable this warning, you can either:\n",
      "\t- Avoid using `tokenizers` before the fork if possible\n",
      "\t- Explicitly set the environment variable TOKENIZERS_PARALLELISM=(true | false)\n",
      "huggingface/tokenizers: The current process just got forked, after parallelism has already been used. Disabling parallelism to avoid deadlocks...\n",
      "To disable this warning, you can either:\n",
      "\t- Avoid using `tokenizers` before the fork if possible\n",
      "\t- Explicitly set the environment variable TOKENIZERS_PARALLELISM=(true | false)\n",
      "huggingface/tokenizers: The current process just got forked, after parallelism has already been used. Disabling parallelism to avoid deadlocks...\n",
      "To disable this warning, you can either:\n",
      "\t- Avoid using `tokenizers` before the fork if possible\n",
      "\t- Explicitly set the environment variable TOKENIZERS_PARALLELISM=(true | false)\n",
      "huggingface/tokenizers: The current process just got forked, after parallelism has already been used. Disabling parallelism to avoid deadlocks...\n",
      "To disable this warning, you can either:\n",
      "\t- Avoid using `tokenizers` before the fork if possible\n",
      "\t- Explicitly set the environment variable TOKENIZERS_PARALLELISM=(true | false)\n",
      "huggingface/tokenizers: The current process just got forked, after parallelism has already been used. Disabling parallelism to avoid deadlocks...\n",
      "To disable this warning, you can either:\n",
      "\t- Avoid using `tokenizers` before the fork if possible\n",
      "\t- Explicitly set the environment variable TOKENIZERS_PARALLELISM=(true | false)\n",
      "huggingface/tokenizers: The current process just got forked, after parallelism has already been used. Disabling parallelism to avoid deadlocks...\n",
      "To disable this warning, you can either:\n",
      "\t- Avoid using `tokenizers` before the fork if possible\n",
      "\t- Explicitly set the environment variable TOKENIZERS_PARALLELISM=(true | false)\n",
      "huggingface/tokenizers: The current process just got forked, after parallelism has already been used. Disabling parallelism to avoid deadlocks...\n",
      "To disable this warning, you can either:\n",
      "\t- Avoid using `tokenizers` before the fork if possible\n",
      "\t- Explicitly set the environment variable TOKENIZERS_PARALLELISM=(true | false)\n",
      "huggingface/tokenizers: The current process just got forked, after parallelism has already been used. Disabling parallelism to avoid deadlocks...\n",
      "To disable this warning, you can either:\n",
      "\t- Avoid using `tokenizers` before the fork if possible\n",
      "\t- Explicitly set the environment variable TOKENIZERS_PARALLELISM=(true | false)\n",
      "huggingface/tokenizers: The current process just got forked, after parallelism has already been used. Disabling parallelism to avoid deadlocks...\n",
      "To disable this warning, you can either:\n",
      "\t- Avoid using `tokenizers` before the fork if possible\n",
      "\t- Explicitly set the environment variable TOKENIZERS_PARALLELISM=(true | false)\n",
      "huggingface/tokenizers: The current process just got forked, after parallelism has already been used. Disabling parallelism to avoid deadlocks...\n",
      "To disable this warning, you can either:\n",
      "\t- Avoid using `tokenizers` before the fork if possible\n",
      "\t- Explicitly set the environment variable TOKENIZERS_PARALLELISM=(true | false)\n",
      "huggingface/tokenizers: The current process just got forked, after parallelism has already been used. Disabling parallelism to avoid deadlocks...\n",
      "To disable this warning, you can either:\n",
      "\t- Avoid using `tokenizers` before the fork if possible\n",
      "\t- Explicitly set the environment variable TOKENIZERS_PARALLELISM=(true | false)\n",
      "huggingface/tokenizers: The current process just got forked, after parallelism has already been used. Disabling parallelism to avoid deadlocks...\n",
      "To disable this warning, you can either:\n",
      "\t- Avoid using `tokenizers` before the fork if possible\n",
      "\t- Explicitly set the environment variable TOKENIZERS_PARALLELISM=(true | false)\n",
      "huggingface/tokenizers: The current process just got forked, after parallelism has already been used. Disabling parallelism to avoid deadlocks...\n",
      "To disable this warning, you can either:\n",
      "\t- Avoid using `tokenizers` before the fork if possible\n",
      "\t- Explicitly set the environment variable TOKENIZERS_PARALLELISM=(true | false)\n",
      "huggingface/tokenizers: The current process just got forked, after parallelism has already been used. Disabling parallelism to avoid deadlocks...\n",
      "To disable this warning, you can either:\n",
      "\t- Avoid using `tokenizers` before the fork if possible\n",
      "\t- Explicitly set the environment variable TOKENIZERS_PARALLELISM=(true | false)\n",
      "huggingface/tokenizers: The current process just got forked, after parallelism has already been used. Disabling parallelism to avoid deadlocks...\n",
      "To disable this warning, you can either:\n",
      "\t- Avoid using `tokenizers` before the fork if possible\n",
      "\t- Explicitly set the environment variable TOKENIZERS_PARALLELISM=(true | false)\n",
      "huggingface/tokenizers: The current process just got forked, after parallelism has already been used. Disabling parallelism to avoid deadlocks...\n",
      "To disable this warning, you can either:\n",
      "\t- Avoid using `tokenizers` before the fork if possible\n",
      "\t- Explicitly set the environment variable TOKENIZERS_PARALLELISM=(true | false)\n",
      "huggingface/tokenizers: The current process just got forked, after parallelism has already been used. Disabling parallelism to avoid deadlocks...\n",
      "To disable this warning, you can either:\n",
      "\t- Avoid using `tokenizers` before the fork if possible\n",
      "\t- Explicitly set the environment variable TOKENIZERS_PARALLELISM=(true | false)\n",
      "huggingface/tokenizers: The current process just got forked, after parallelism has already been used. Disabling parallelism to avoid deadlocks...\n",
      "To disable this warning, you can either:\n",
      "\t- Avoid using `tokenizers` before the fork if possible\n",
      "\t- Explicitly set the environment variable TOKENIZERS_PARALLELISM=(true | false)\n",
      "huggingface/tokenizers: The current process just got forked, after parallelism has already been used. Disabling parallelism to avoid deadlocks...\n",
      "To disable this warning, you can either:\n",
      "\t- Avoid using `tokenizers` before the fork if possible\n",
      "\t- Explicitly set the environment variable TOKENIZERS_PARALLELISM=(true | false)\n",
      "huggingface/tokenizers: The current process just got forked, after parallelism has already been used. Disabling parallelism to avoid deadlocks...\n",
      "To disable this warning, you can either:\n",
      "\t- Avoid using `tokenizers` before the fork if possible\n",
      "\t- Explicitly set the environment variable TOKENIZERS_PARALLELISM=(true | false)\n",
      "huggingface/tokenizers: The current process just got forked, after parallelism has already been used. Disabling parallelism to avoid deadlocks...\n",
      "To disable this warning, you can either:\n",
      "\t- Avoid using `tokenizers` before the fork if possible\n",
      "\t- Explicitly set the environment variable TOKENIZERS_PARALLELISM=(true | false)\n",
      "huggingface/tokenizers: The current process just got forked, after parallelism has already been used. Disabling parallelism to avoid deadlocks...\n",
      "To disable this warning, you can either:\n",
      "\t- Avoid using `tokenizers` before the fork if possible\n",
      "\t- Explicitly set the environment variable TOKENIZERS_PARALLELISM=(true | false)\n",
      "huggingface/tokenizers: The current process just got forked, after parallelism has already been used. Disabling parallelism to avoid deadlocks...\n",
      "To disable this warning, you can either:\n",
      "\t- Avoid using `tokenizers` before the fork if possible\n",
      "\t- Explicitly set the environment variable TOKENIZERS_PARALLELISM=(true | false)\n",
      "huggingface/tokenizers: The current process just got forked, after parallelism has already been used. Disabling parallelism to avoid deadlocks...\n",
      "To disable this warning, you can either:\n",
      "\t- Avoid using `tokenizers` before the fork if possible\n",
      "\t- Explicitly set the environment variable TOKENIZERS_PARALLELISM=(true | false)\n",
      "huggingface/tokenizers: The current process just got forked, after parallelism has already been used. Disabling parallelism to avoid deadlocks...\n",
      "To disable this warning, you can either:\n",
      "\t- Avoid using `tokenizers` before the fork if possible\n",
      "\t- Explicitly set the environment variable TOKENIZERS_PARALLELISM=(true | false)\n",
      "huggingface/tokenizers: The current process just got forked, after parallelism has already been used. Disabling parallelism to avoid deadlocks...\n",
      "To disable this warning, you can either:\n",
      "\t- Avoid using `tokenizers` before the fork if possible\n",
      "\t- Explicitly set the environment variable TOKENIZERS_PARALLELISM=(true | false)\n",
      "huggingface/tokenizers: The current process just got forked, after parallelism has already been used. Disabling parallelism to avoid deadlocks...\n",
      "To disable this warning, you can either:\n",
      "\t- Avoid using `tokenizers` before the fork if possible\n",
      "\t- Explicitly set the environment variable TOKENIZERS_PARALLELISM=(true | false)\n",
      "huggingface/tokenizers: The current process just got forked, after parallelism has already been used. Disabling parallelism to avoid deadlocks...\n",
      "To disable this warning, you can either:\n",
      "\t- Avoid using `tokenizers` before the fork if possible\n",
      "\t- Explicitly set the environment variable TOKENIZERS_PARALLELISM=(true | false)\n",
      "huggingface/tokenizers: The current process just got forked, after parallelism has already been used. Disabling parallelism to avoid deadlocks...\n",
      "To disable this warning, you can either:\n",
      "\t- Avoid using `tokenizers` before the fork if possible\n",
      "\t- Explicitly set the environment variable TOKENIZERS_PARALLELISM=(true | false)\n",
      "huggingface/tokenizers: The current process just got forked, after parallelism has already been used. Disabling parallelism to avoid deadlocks...\n",
      "To disable this warning, you can either:\n",
      "\t- Avoid using `tokenizers` before the fork if possible\n",
      "\t- Explicitly set the environment variable TOKENIZERS_PARALLELISM=(true | false)\n",
      "huggingface/tokenizers: The current process just got forked, after parallelism has already been used. Disabling parallelism to avoid deadlocks...\n",
      "To disable this warning, you can either:\n",
      "\t- Avoid using `tokenizers` before the fork if possible\n",
      "\t- Explicitly set the environment variable TOKENIZERS_PARALLELISM=(true | false)\n",
      "huggingface/tokenizers: The current process just got forked, after parallelism has already been used. Disabling parallelism to avoid deadlocks...\n",
      "To disable this warning, you can either:\n",
      "\t- Avoid using `tokenizers` before the fork if possible\n",
      "\t- Explicitly set the environment variable TOKENIZERS_PARALLELISM=(true | false)\n",
      "huggingface/tokenizers: The current process just got forked, after parallelism has already been used. Disabling parallelism to avoid deadlocks...\n",
      "To disable this warning, you can either:\n",
      "\t- Avoid using `tokenizers` before the fork if possible\n",
      "\t- Explicitly set the environment variable TOKENIZERS_PARALLELISM=(true | false)\n",
      "huggingface/tokenizers: The current process just got forked, after parallelism has already been used. Disabling parallelism to avoid deadlocks...\n",
      "To disable this warning, you can either:\n",
      "\t- Avoid using `tokenizers` before the fork if possible\n",
      "\t- Explicitly set the environment variable TOKENIZERS_PARALLELISM=(true | false)\n",
      "huggingface/tokenizers: The current process just got forked, after parallelism has already been used. Disabling parallelism to avoid deadlocks...\n",
      "To disable this warning, you can either:\n",
      "\t- Avoid using `tokenizers` before the fork if possible\n",
      "\t- Explicitly set the environment variable TOKENIZERS_PARALLELISM=(true | false)\n",
      "huggingface/tokenizers: The current process just got forked, after parallelism has already been used. Disabling parallelism to avoid deadlocks...\n",
      "To disable this warning, you can either:\n",
      "\t- Avoid using `tokenizers` before the fork if possible\n",
      "\t- Explicitly set the environment variable TOKENIZERS_PARALLELISM=(true | false)\n",
      "huggingface/tokenizers: The current process just got forked, after parallelism has already been used. Disabling parallelism to avoid deadlocks...\n",
      "To disable this warning, you can either:\n",
      "\t- Avoid using `tokenizers` before the fork if possible\n",
      "\t- Explicitly set the environment variable TOKENIZERS_PARALLELISM=(true | false)\n",
      "huggingface/tokenizers: The current process just got forked, after parallelism has already been used. Disabling parallelism to avoid deadlocks...\n",
      "To disable this warning, you can either:\n",
      "\t- Avoid using `tokenizers` before the fork if possible\n",
      "\t- Explicitly set the environment variable TOKENIZERS_PARALLELISM=(true | false)\n",
      "huggingface/tokenizers: The current process just got forked, after parallelism has already been used. Disabling parallelism to avoid deadlocks...\n",
      "To disable this warning, you can either:\n",
      "\t- Avoid using `tokenizers` before the fork if possible\n",
      "\t- Explicitly set the environment variable TOKENIZERS_PARALLELISM=(true | false)\n",
      "huggingface/tokenizers: The current process just got forked, after parallelism has already been used. Disabling parallelism to avoid deadlocks...\n",
      "To disable this warning, you can either:\n",
      "\t- Avoid using `tokenizers` before the fork if possible\n",
      "\t- Explicitly set the environment variable TOKENIZERS_PARALLELISM=(true | false)\n",
      "huggingface/tokenizers: The current process just got forked, after parallelism has already been used. Disabling parallelism to avoid deadlocks...\n",
      "To disable this warning, you can either:\n",
      "\t- Avoid using `tokenizers` before the fork if possible\n",
      "\t- Explicitly set the environment variable TOKENIZERS_PARALLELISM=(true | false)\n",
      "huggingface/tokenizers: The current process just got forked, after parallelism has already been used. Disabling parallelism to avoid deadlocks...\n",
      "To disable this warning, you can either:\n",
      "\t- Avoid using `tokenizers` before the fork if possible\n",
      "\t- Explicitly set the environment variable TOKENIZERS_PARALLELISM=(true | false)\n",
      "huggingface/tokenizers: The current process just got forked, after parallelism has already been used. Disabling parallelism to avoid deadlocks...\n",
      "To disable this warning, you can either:\n",
      "\t- Avoid using `tokenizers` before the fork if possible\n",
      "\t- Explicitly set the environment variable TOKENIZERS_PARALLELISM=(true | false)\n",
      "huggingface/tokenizers: The current process just got forked, after parallelism has already been used. Disabling parallelism to avoid deadlocks...\n",
      "To disable this warning, you can either:\n",
      "\t- Avoid using `tokenizers` before the fork if possible\n",
      "\t- Explicitly set the environment variable TOKENIZERS_PARALLELISM=(true | false)\n",
      "huggingface/tokenizers: The current process just got forked, after parallelism has already been used. Disabling parallelism to avoid deadlocks...\n",
      "To disable this warning, you can either:\n",
      "\t- Avoid using `tokenizers` before the fork if possible\n",
      "\t- Explicitly set the environment variable TOKENIZERS_PARALLELISM=(true | false)\n",
      "huggingface/tokenizers: The current process just got forked, after parallelism has already been used. Disabling parallelism to avoid deadlocks...\n",
      "To disable this warning, you can either:\n",
      "\t- Avoid using `tokenizers` before the fork if possible\n",
      "\t- Explicitly set the environment variable TOKENIZERS_PARALLELISM=(true | false)\n",
      "huggingface/tokenizers: The current process just got forked, after parallelism has already been used. Disabling parallelism to avoid deadlocks...\n",
      "To disable this warning, you can either:\n",
      "\t- Avoid using `tokenizers` before the fork if possible\n",
      "\t- Explicitly set the environment variable TOKENIZERS_PARALLELISM=(true | false)\n",
      "huggingface/tokenizers: The current process just got forked, after parallelism has already been used. Disabling parallelism to avoid deadlocks...\n",
      "To disable this warning, you can either:\n",
      "\t- Avoid using `tokenizers` before the fork if possible\n",
      "\t- Explicitly set the environment variable TOKENIZERS_PARALLELISM=(true | false)\n",
      "huggingface/tokenizers: The current process just got forked, after parallelism has already been used. Disabling parallelism to avoid deadlocks...\n",
      "To disable this warning, you can either:\n",
      "\t- Avoid using `tokenizers` before the fork if possible\n",
      "\t- Explicitly set the environment variable TOKENIZERS_PARALLELISM=(true | false)\n",
      "huggingface/tokenizers: The current process just got forked, after parallelism has already been used. Disabling parallelism to avoid deadlocks...\n",
      "To disable this warning, you can either:\n",
      "\t- Avoid using `tokenizers` before the fork if possible\n",
      "\t- Explicitly set the environment variable TOKENIZERS_PARALLELISM=(true | false)\n",
      "huggingface/tokenizers: The current process just got forked, after parallelism has already been used. Disabling parallelism to avoid deadlocks...\n",
      "To disable this warning, you can either:\n",
      "\t- Avoid using `tokenizers` before the fork if possible\n",
      "\t- Explicitly set the environment variable TOKENIZERS_PARALLELISM=(true | false)\n",
      "huggingface/tokenizers: The current process just got forked, after parallelism has already been used. Disabling parallelism to avoid deadlocks...\n",
      "To disable this warning, you can either:\n",
      "\t- Avoid using `tokenizers` before the fork if possible\n",
      "\t- Explicitly set the environment variable TOKENIZERS_PARALLELISM=(true | false)\n",
      "huggingface/tokenizers: The current process just got forked, after parallelism has already been used. Disabling parallelism to avoid deadlocks...\n",
      "To disable this warning, you can either:\n",
      "\t- Avoid using `tokenizers` before the fork if possible\n",
      "\t- Explicitly set the environment variable TOKENIZERS_PARALLELISM=(true | false)\n",
      "huggingface/tokenizers: The current process just got forked, after parallelism has already been used. Disabling parallelism to avoid deadlocks...\n",
      "To disable this warning, you can either:\n",
      "\t- Avoid using `tokenizers` before the fork if possible\n",
      "\t- Explicitly set the environment variable TOKENIZERS_PARALLELISM=(true | false)\n",
      "huggingface/tokenizers: The current process just got forked, after parallelism has already been used. Disabling parallelism to avoid deadlocks...\n",
      "To disable this warning, you can either:\n",
      "\t- Avoid using `tokenizers` before the fork if possible\n",
      "\t- Explicitly set the environment variable TOKENIZERS_PARALLELISM=(true | false)\n",
      "huggingface/tokenizers: The current process just got forked, after parallelism has already been used. Disabling parallelism to avoid deadlocks...\n",
      "To disable this warning, you can either:\n",
      "\t- Avoid using `tokenizers` before the fork if possible\n",
      "\t- Explicitly set the environment variable TOKENIZERS_PARALLELISM=(true | false)\n",
      "huggingface/tokenizers: The current process just got forked, after parallelism has already been used. Disabling parallelism to avoid deadlocks...\n",
      "To disable this warning, you can either:\n",
      "\t- Avoid using `tokenizers` before the fork if possible\n",
      "\t- Explicitly set the environment variable TOKENIZERS_PARALLELISM=(true | false)\n",
      "huggingface/tokenizers: The current process just got forked, after parallelism has already been used. Disabling parallelism to avoid deadlocks...\n",
      "To disable this warning, you can either:\n",
      "\t- Avoid using `tokenizers` before the fork if possible\n",
      "\t- Explicitly set the environment variable TOKENIZERS_PARALLELISM=(true | false)\n",
      "huggingface/tokenizers: The current process just got forked, after parallelism has already been used. Disabling parallelism to avoid deadlocks...\n",
      "To disable this warning, you can either:\n",
      "\t- Avoid using `tokenizers` before the fork if possible\n",
      "\t- Explicitly set the environment variable TOKENIZERS_PARALLELISM=(true | false)\n",
      "huggingface/tokenizers: The current process just got forked, after parallelism has already been used. Disabling parallelism to avoid deadlocks...\n",
      "To disable this warning, you can either:\n",
      "\t- Avoid using `tokenizers` before the fork if possible\n",
      "\t- Explicitly set the environment variable TOKENIZERS_PARALLELISM=(true | false)\n",
      "huggingface/tokenizers: The current process just got forked, after parallelism has already been used. Disabling parallelism to avoid deadlocks...\n",
      "To disable this warning, you can either:\n",
      "\t- Avoid using `tokenizers` before the fork if possible\n",
      "\t- Explicitly set the environment variable TOKENIZERS_PARALLELISM=(true | false)\n",
      "huggingface/tokenizers: The current process just got forked, after parallelism has already been used. Disabling parallelism to avoid deadlocks...\n",
      "To disable this warning, you can either:\n",
      "\t- Avoid using `tokenizers` before the fork if possible\n",
      "\t- Explicitly set the environment variable TOKENIZERS_PARALLELISM=(true | false)\n",
      "huggingface/tokenizers: The current process just got forked, after parallelism has already been used. Disabling parallelism to avoid deadlocks...\n",
      "To disable this warning, you can either:\n",
      "\t- Avoid using `tokenizers` before the fork if possible\n",
      "\t- Explicitly set the environment variable TOKENIZERS_PARALLELISM=(true | false)\n",
      "huggingface/tokenizers: The current process just got forked, after parallelism has already been used. Disabling parallelism to avoid deadlocks...\n",
      "To disable this warning, you can either:\n",
      "\t- Avoid using `tokenizers` before the fork if possible\n",
      "\t- Explicitly set the environment variable TOKENIZERS_PARALLELISM=(true | false)\n",
      "huggingface/tokenizers: The current process just got forked, after parallelism has already been used. Disabling parallelism to avoid deadlocks...\n",
      "To disable this warning, you can either:\n",
      "\t- Avoid using `tokenizers` before the fork if possible\n",
      "\t- Explicitly set the environment variable TOKENIZERS_PARALLELISM=(true | false)\n",
      "huggingface/tokenizers: The current process just got forked, after parallelism has already been used. Disabling parallelism to avoid deadlocks...\n",
      "To disable this warning, you can either:\n",
      "\t- Avoid using `tokenizers` before the fork if possible\n",
      "\t- Explicitly set the environment variable TOKENIZERS_PARALLELISM=(true | false)\n",
      "huggingface/tokenizers: The current process just got forked, after parallelism has already been used. Disabling parallelism to avoid deadlocks...\n",
      "To disable this warning, you can either:\n",
      "\t- Avoid using `tokenizers` before the fork if possible\n",
      "\t- Explicitly set the environment variable TOKENIZERS_PARALLELISM=(true | false)\n",
      "huggingface/tokenizers: The current process just got forked, after parallelism has already been used. Disabling parallelism to avoid deadlocks...\n",
      "To disable this warning, you can either:\n",
      "\t- Avoid using `tokenizers` before the fork if possible\n",
      "\t- Explicitly set the environment variable TOKENIZERS_PARALLELISM=(true | false)\n",
      "huggingface/tokenizers: The current process just got forked, after parallelism has already been used. Disabling parallelism to avoid deadlocks...\n",
      "To disable this warning, you can either:\n",
      "\t- Avoid using `tokenizers` before the fork if possible\n",
      "\t- Explicitly set the environment variable TOKENIZERS_PARALLELISM=(true | false)\n",
      "huggingface/tokenizers: The current process just got forked, after parallelism has already been used. Disabling parallelism to avoid deadlocks...\n",
      "To disable this warning, you can either:\n",
      "\t- Avoid using `tokenizers` before the fork if possible\n",
      "\t- Explicitly set the environment variable TOKENIZERS_PARALLELISM=(true | false)\n",
      "huggingface/tokenizers: The current process just got forked, after parallelism has already been used. Disabling parallelism to avoid deadlocks...\n",
      "To disable this warning, you can either:\n",
      "\t- Avoid using `tokenizers` before the fork if possible\n",
      "\t- Explicitly set the environment variable TOKENIZERS_PARALLELISM=(true | false)\n",
      "huggingface/tokenizers: The current process just got forked, after parallelism has already been used. Disabling parallelism to avoid deadlocks...\n",
      "To disable this warning, you can either:\n",
      "\t- Avoid using `tokenizers` before the fork if possible\n",
      "\t- Explicitly set the environment variable TOKENIZERS_PARALLELISM=(true | false)\n",
      "huggingface/tokenizers: The current process just got forked, after parallelism has already been used. Disabling parallelism to avoid deadlocks...\n",
      "To disable this warning, you can either:\n",
      "\t- Avoid using `tokenizers` before the fork if possible\n",
      "\t- Explicitly set the environment variable TOKENIZERS_PARALLELISM=(true | false)\n",
      "huggingface/tokenizers: The current process just got forked, after parallelism has already been used. Disabling parallelism to avoid deadlocks...\n",
      "To disable this warning, you can either:\n",
      "\t- Avoid using `tokenizers` before the fork if possible\n",
      "\t- Explicitly set the environment variable TOKENIZERS_PARALLELISM=(true | false)\n",
      "huggingface/tokenizers: The current process just got forked, after parallelism has already been used. Disabling parallelism to avoid deadlocks...\n",
      "To disable this warning, you can either:\n",
      "\t- Avoid using `tokenizers` before the fork if possible\n",
      "\t- Explicitly set the environment variable TOKENIZERS_PARALLELISM=(true | false)\n",
      "huggingface/tokenizers: The current process just got forked, after parallelism has already been used. Disabling parallelism to avoid deadlocks...\n",
      "To disable this warning, you can either:\n",
      "\t- Avoid using `tokenizers` before the fork if possible\n",
      "\t- Explicitly set the environment variable TOKENIZERS_PARALLELISM=(true | false)\n",
      "huggingface/tokenizers: The current process just got forked, after parallelism has already been used. Disabling parallelism to avoid deadlocks...\n",
      "To disable this warning, you can either:\n",
      "\t- Avoid using `tokenizers` before the fork if possible\n",
      "\t- Explicitly set the environment variable TOKENIZERS_PARALLELISM=(true | false)\n",
      "huggingface/tokenizers: The current process just got forked, after parallelism has already been used. Disabling parallelism to avoid deadlocks...\n",
      "To disable this warning, you can either:\n",
      "\t- Avoid using `tokenizers` before the fork if possible\n",
      "\t- Explicitly set the environment variable TOKENIZERS_PARALLELISM=(true | false)\n",
      "huggingface/tokenizers: The current process just got forked, after parallelism has already been used. Disabling parallelism to avoid deadlocks...\n",
      "To disable this warning, you can either:\n",
      "\t- Avoid using `tokenizers` before the fork if possible\n",
      "\t- Explicitly set the environment variable TOKENIZERS_PARALLELISM=(true | false)\n",
      "huggingface/tokenizers: The current process just got forked, after parallelism has already been used. Disabling parallelism to avoid deadlocks...\n",
      "To disable this warning, you can either:\n",
      "\t- Avoid using `tokenizers` before the fork if possible\n",
      "\t- Explicitly set the environment variable TOKENIZERS_PARALLELISM=(true | false)\n",
      "huggingface/tokenizers: The current process just got forked, after parallelism has already been used. Disabling parallelism to avoid deadlocks...\n",
      "To disable this warning, you can either:\n",
      "\t- Avoid using `tokenizers` before the fork if possible\n",
      "\t- Explicitly set the environment variable TOKENIZERS_PARALLELISM=(true | false)\n",
      "huggingface/tokenizers: The current process just got forked, after parallelism has already been used. Disabling parallelism to avoid deadlocks...\n",
      "To disable this warning, you can either:\n",
      "\t- Avoid using `tokenizers` before the fork if possible\n",
      "\t- Explicitly set the environment variable TOKENIZERS_PARALLELISM=(true | false)\n",
      "huggingface/tokenizers: The current process just got forked, after parallelism has already been used. Disabling parallelism to avoid deadlocks...\n",
      "To disable this warning, you can either:\n",
      "\t- Avoid using `tokenizers` before the fork if possible\n",
      "\t- Explicitly set the environment variable TOKENIZERS_PARALLELISM=(true | false)\n",
      "huggingface/tokenizers: The current process just got forked, after parallelism has already been used. Disabling parallelism to avoid deadlocks...\n",
      "To disable this warning, you can either:\n",
      "\t- Avoid using `tokenizers` before the fork if possible\n",
      "\t- Explicitly set the environment variable TOKENIZERS_PARALLELISM=(true | false)\n",
      "huggingface/tokenizers: The current process just got forked, after parallelism has already been used. Disabling parallelism to avoid deadlocks...\n",
      "To disable this warning, you can either:\n",
      "\t- Avoid using `tokenizers` before the fork if possible\n",
      "\t- Explicitly set the environment variable TOKENIZERS_PARALLELISM=(true | false)\n",
      "huggingface/tokenizers: The current process just got forked, after parallelism has already been used. Disabling parallelism to avoid deadlocks...\n",
      "To disable this warning, you can either:\n",
      "\t- Avoid using `tokenizers` before the fork if possible\n",
      "\t- Explicitly set the environment variable TOKENIZERS_PARALLELISM=(true | false)\n",
      "huggingface/tokenizers: The current process just got forked, after parallelism has already been used. Disabling parallelism to avoid deadlocks...\n",
      "To disable this warning, you can either:\n",
      "\t- Avoid using `tokenizers` before the fork if possible\n",
      "\t- Explicitly set the environment variable TOKENIZERS_PARALLELISM=(true | false)\n",
      "huggingface/tokenizers: The current process just got forked, after parallelism has already been used. Disabling parallelism to avoid deadlocks...\n",
      "To disable this warning, you can either:\n",
      "\t- Avoid using `tokenizers` before the fork if possible\n",
      "\t- Explicitly set the environment variable TOKENIZERS_PARALLELISM=(true | false)\n",
      "huggingface/tokenizers: The current process just got forked, after parallelism has already been used. Disabling parallelism to avoid deadlocks...\n",
      "To disable this warning, you can either:\n",
      "\t- Avoid using `tokenizers` before the fork if possible\n",
      "\t- Explicitly set the environment variable TOKENIZERS_PARALLELISM=(true | false)\n",
      "huggingface/tokenizers: The current process just got forked, after parallelism has already been used. Disabling parallelism to avoid deadlocks...\n",
      "To disable this warning, you can either:\n",
      "\t- Avoid using `tokenizers` before the fork if possible\n",
      "\t- Explicitly set the environment variable TOKENIZERS_PARALLELISM=(true | false)\n",
      "huggingface/tokenizers: The current process just got forked, after parallelism has already been used. Disabling parallelism to avoid deadlocks...\n",
      "To disable this warning, you can either:\n",
      "\t- Avoid using `tokenizers` before the fork if possible\n",
      "\t- Explicitly set the environment variable TOKENIZERS_PARALLELISM=(true | false)\n",
      "huggingface/tokenizers: The current process just got forked, after parallelism has already been used. Disabling parallelism to avoid deadlocks...\n",
      "To disable this warning, you can either:\n",
      "\t- Avoid using `tokenizers` before the fork if possible\n",
      "\t- Explicitly set the environment variable TOKENIZERS_PARALLELISM=(true | false)\n",
      "huggingface/tokenizers: The current process just got forked, after parallelism has already been used. Disabling parallelism to avoid deadlocks...\n",
      "To disable this warning, you can either:\n",
      "\t- Avoid using `tokenizers` before the fork if possible\n",
      "\t- Explicitly set the environment variable TOKENIZERS_PARALLELISM=(true | false)\n",
      "huggingface/tokenizers: The current process just got forked, after parallelism has already been used. Disabling parallelism to avoid deadlocks...\n",
      "To disable this warning, you can either:\n",
      "\t- Avoid using `tokenizers` before the fork if possible\n",
      "\t- Explicitly set the environment variable TOKENIZERS_PARALLELISM=(true | false)\n",
      "huggingface/tokenizers: The current process just got forked, after parallelism has already been used. Disabling parallelism to avoid deadlocks...\n",
      "To disable this warning, you can either:\n",
      "\t- Avoid using `tokenizers` before the fork if possible\n",
      "\t- Explicitly set the environment variable TOKENIZERS_PARALLELISM=(true | false)\n",
      "huggingface/tokenizers: The current process just got forked, after parallelism has already been used. Disabling parallelism to avoid deadlocks...\n",
      "To disable this warning, you can either:\n",
      "\t- Avoid using `tokenizers` before the fork if possible\n",
      "\t- Explicitly set the environment variable TOKENIZERS_PARALLELISM=(true | false)\n",
      "huggingface/tokenizers: The current process just got forked, after parallelism has already been used. Disabling parallelism to avoid deadlocks...\n",
      "To disable this warning, you can either:\n",
      "\t- Avoid using `tokenizers` before the fork if possible\n",
      "\t- Explicitly set the environment variable TOKENIZERS_PARALLELISM=(true | false)\n",
      "huggingface/tokenizers: The current process just got forked, after parallelism has already been used. Disabling parallelism to avoid deadlocks...\n",
      "To disable this warning, you can either:\n",
      "\t- Avoid using `tokenizers` before the fork if possible\n",
      "\t- Explicitly set the environment variable TOKENIZERS_PARALLELISM=(true | false)\n",
      "huggingface/tokenizers: The current process just got forked, after parallelism has already been used. Disabling parallelism to avoid deadlocks...\n",
      "To disable this warning, you can either:\n",
      "\t- Avoid using `tokenizers` before the fork if possible\n",
      "\t- Explicitly set the environment variable TOKENIZERS_PARALLELISM=(true | false)\n",
      "huggingface/tokenizers: The current process just got forked, after parallelism has already been used. Disabling parallelism to avoid deadlocks...\n",
      "To disable this warning, you can either:\n",
      "\t- Avoid using `tokenizers` before the fork if possible\n",
      "\t- Explicitly set the environment variable TOKENIZERS_PARALLELISM=(true | false)\n",
      "huggingface/tokenizers: The current process just got forked, after parallelism has already been used. Disabling parallelism to avoid deadlocks...\n",
      "To disable this warning, you can either:\n",
      "\t- Avoid using `tokenizers` before the fork if possible\n",
      "\t- Explicitly set the environment variable TOKENIZERS_PARALLELISM=(true | false)\n",
      "huggingface/tokenizers: The current process just got forked, after parallelism has already been used. Disabling parallelism to avoid deadlocks...\n",
      "To disable this warning, you can either:\n",
      "\t- Avoid using `tokenizers` before the fork if possible\n",
      "\t- Explicitly set the environment variable TOKENIZERS_PARALLELISM=(true | false)\n"
     ]
    },
    {
     "data": {
      "image/png": "[encoded data removed]",
      "text/plain": [
       "<Figure size 640x480 with 1 Axes>"
      ]
     },
     "metadata": {},
     "output_type": "display_data"
    },
    {
     "name": "stdout",
     "output_type": "stream",
     "text": [
      "Optimal number of topics: 7\n",
      "(0, '0.034*\"face\" + 0.030*\"grinning\" + 0.030*\"sweat\" + 0.014*\"heart\" + 0.013*\"much\" + 0.010*\"together\" + 0.010*\"palm\" + 0.009*\"yes\" + 0.007*\"better\" + 0.007*\"fiat\" + 0.007*\"cost\" + 0.007*\"buy\" + 0.007*\"one\" + 0.007*\"let\" + 0.007*\"boat\" + 0.007*\"mine\" + 0.006*\"I\" + 0.005*\"white\" + 0.005*\"need\" + 0.005*\"une\" + 0.005*\"thought\" + 0.005*\"eu\" + 0.005*\"asap\" + 0.005*\"bien\" + 0.005*\"alone\" + 0.005*\"sparkle\" + 0.005*\"house\" + 0.005*\"w\" + 0.005*\"true\" + 0.005*\"close\" + 0.004*\"never\" + 0.004*\"best\" + 0.004*\"years\" + 0.003*\"c\" + 0.003*\"engine\" + 0.003*\"really\" + 0.003*\"tan\" + 0.003*\"e\" + 0.003*\"que\" + 0.003*\"colour\" + 0.003*\"seen\" + 0.003*\"ah\" + 0.003*\"vespa\" + 0.003*\"da\" + 0.003*\"mean\" + 0.003*\"getting\" + 0.003*\"help\" + 0.003*\"buying\" + 0.003*\"صح\" + 0.003*\"permis\" + 0.003*\"black\" + 0.003*\"get\" + 0.003*\"crash\" + 0.003*\"pues\" + 0.003*\"pena\" + 0.003*\"mi\" + 0.003*\"uno\" + 0.003*\"bonito\" + 0.003*\"comprado\" + 0.003*\"hija\" + 0.003*\"darselo\" + 0.003*\"yo\" + 0.003*\"son\" + 0.003*\"comme\" + 0.003*\"toute\"')\n",
      "(1, '0.133*\"smiling\" + 0.130*\"face\" + 0.118*\"heart\" + 0.033*\"eye\" + 0.018*\"star_struck\" + 0.012*\"hand\" + 0.009*\"fiat\" + 0.009*\"car\" + 0.009*\"need\" + 0.008*\"folded\" + 0.008*\"year\" + 0.008*\"slightly\" + 0.007*\"never\" + 0.006*\"beaming\" + 0.005*\"I\" + 0.005*\"one\" + 0.005*\"think\" + 0.004*\"would\" + 0.004*\"please\" + 0.004*\"nice\" + 0.004*\"pleading\" + 0.003*\"interior\" + 0.003*\"woman\" + 0.003*\"beautiful\" + 0.003*\"km\" + 0.003*\"rent\" + 0.003*\"light\" + 0.003*\"million\" + 0.002*\"mini\" + 0.002*\"time\" + 0.002*\"better\" + 0.002*\"sri\" + 0.002*\"lanka\" + 0.002*\"Aaliyah\" + 0.002*\"everyone\" + 0.002*\"someone\" + 0.002*\"pow\" + 0.002*\"moai\" + 0.002*\"wanted\" + 0.002*\"mean\" + 0.002*\"worth\" + 0.002*\"already\" + 0.002*\"k\" + 0.002*\"boat\" + 0.002*\"ever\" + 0.002*\"buying\" + 0.002*\"thinking\" + 0.002*\"engine\" + 0.002*\"cutest\" + 0.002*\"drive\" + 0.002*\"relieved\" + 0.002*\"want\" + 0.002*\"red\" + 0.002*\"e\" + 0.002*\"problem\" + 0.001*\"sooo\" + 0.001*\"two\" + 0.001*\"cat\" + 0.001*\"open\" + 0.001*\"cute\" + 0.001*\"even\" + 0.001*\"old\" + 0.001*\"new\" + 0.001*\"apart\" + 0.001*\"omg\"')\n",
      "(2, '0.017*\"car\" + 0.016*\"would\" + 0.015*\"fiat\" + 0.015*\"tour\" + 0.012*\"cute\" + 0.009*\"e\" + 0.009*\"I\" + 0.008*\"one\" + 0.008*\"buy\" + 0.008*\"God\" + 0.008*\"mum\" + 0.007*\"even\" + 0.006*\"engine\" + 0.005*\"look\" + 0.005*\"know\" + 0.005*\"rich\" + 0.005*\"better\" + 0.005*\"fun\" + 0.005*\"use\" + 0.005*\"option\" + 0.005*\"fell\" + 0.005*\"dolce\" + 0.005*\"vita\" + 0.005*\"savoring\" + 0.005*\"food\" + 0.005*\"say\" + 0.005*\"little\" + 0.005*\"check\" + 0.005*\"girl\" + 0.005*\"bless\" + 0.005*\"id\" + 0.005*\"imagine\" + 0.005*\"great\" + 0.005*\"first\" + 0.005*\"hour\" + 0.005*\"face\" + 0.004*\"around\" + 0.004*\"drive\" + 0.003*\"boat\" + 0.003*\"small\" + 0.003*\"really\" + 0.003*\"new\" + 0.003*\"u\" + 0.003*\"problem\" + 0.003*\"maybe\" + 0.003*\"life\" + 0.003*\"time\" + 0.003*\"video\" + 0.003*\"next\" + 0.003*\"everything\" + 0.003*\"world\" + 0.003*\"wanted\" + 0.003*\"lada\" + 0.003*\"mean\" + 0.003*\"sign\" + 0.003*\"opinion\" + 0.003*\"lottery\" + 0.003*\"inside\" + 0.003*\"day\" + 0.003*\"Hadi\" + 0.003*\"though\" + 0.003*\"trust\" + 0.003*\"li\" + 0.003*\"never\" + 0.003*\"outperforms\"')\n",
      "(3, '0.050*\"face\" + 0.035*\"cry\" + 0.033*\"loudly\" + 0.032*\"price\" + 0.020*\"rolling_floor\" + 0.020*\"laughing\" + 0.016*\"fiat\" + 0.011*\"heart\" + 0.009*\"love\" + 0.009*\"skull\" + 0.009*\"get\" + 0.009*\"smiling\" + 0.009*\"two\" + 0.008*\"red\" + 0.007*\"electric\" + 0.007*\"open\" + 0.006*\"mini\" + 0.006*\"one\" + 0.005*\"I\" + 0.005*\"eye\" + 0.005*\"dream\" + 0.005*\"real\" + 0.005*\"day\" + 0.005*\"flushed\" + 0.005*\"punch\" + 0.005*\"abarth\" + 0.005*\"convertible\" + 0.005*\"um\" + 0.005*\"like\" + 0.005*\"v\" + 0.005*\"tão\" + 0.004*\"time\" + 0.003*\"need\" + 0.003*\"hand\" + 0.003*\"car\" + 0.002*\"beautiful\" + 0.002*\"por\" + 0.002*\"ok\" + 0.002*\"thank\" + 0.002*\"thumb\" + 0.002*\"colour\" + 0.002*\"new\" + 0.002*\"aperol\" + 0.002*\"u\" + 0.002*\"x\" + 0.002*\"crossbones\" + 0.002*\"catch\" + 0.002*\"la\" + 0.002*\"sparkle\" + 0.002*\"wanted\" + 0.002*\"dealership\" + 0.002*\"comment\" + 0.002*\"headlight\" + 0.002*\"replace\" + 0.002*\"emblem\" + 0.002*\"reminding\" + 0.002*\"shiny\" + 0.002*\"introduce\" + 0.002*\"caro\" + 0.002*\"rr\" + 0.002*\"passou\" + 0.002*\"frowning\" + 0.002*\"skye\" + 0.002*\"ele\" + 0.002*\"mouth\"')\n",
      "(4, '0.037*\"car\" + 0.029*\"one\" + 0.028*\"want\" + 0.026*\"like\" + 0.020*\"I\" + 0.016*\"omg\" + 0.012*\"bottle\" + 0.012*\"dream\" + 0.009*\"c\" + 0.008*\"much\" + 0.007*\"el\" + 0.007*\"type\" + 0.007*\"My\" + 0.007*\"available\" + 0.005*\"cool\" + 0.005*\"k\" + 0.005*\"l\" + 0.005*\"rich\" + 0.005*\"good\" + 0.005*\"cute\" + 0.005*\"skull\" + 0.005*\"still\" + 0.005*\"hybrid\" + 0.005*\"water\" + 0.005*\"digital\" + 0.005*\"euro\" + 0.005*\"user\" + 0.005*\"suzuki\" + 0.005*\"boat\" + 0.005*\"live\" + 0.005*\"money\" + 0.005*\"enough\" + 0.005*\"yes\" + 0.005*\"would\" + 0.005*\"take\" + 0.005*\"really\" + 0.004*\"need\" + 0.004*\"think\" + 0.003*\"depends\" + 0.003*\"see\" + 0.003*\"hour\" + 0.003*\"great\" + 0.003*\"mini\" + 0.003*\"cooper\" + 0.003*\"luck\" + 0.003*\"seen\" + 0.003*\"pay\" + 0.003*\"house\" + 0.003*\"anybody\" + 0.003*\"also\" + 0.003*\"know\" + 0.003*\"future\" + 0.003*\"small\" + 0.003*\"look\" + 0.003*\"choice\" + 0.003*\"kind\" + 0.003*\"im\" + 0.003*\"tahlia\" + 0.003*\"molly\" + 0.003*\"old\" + 0.003*\"driving\" + 0.003*\"giving\" + 0.003*\"ghir\" + 0.003*\"tell\" + 0.003*\"always\"')\n",
      "(5, '0.030*\"car\" + 0.024*\"red\" + 0.018*\"one\" + 0.015*\"heart\" + 0.012*\"u\" + 0.008*\"want\" + 0.008*\"e\" + 0.008*\"pink\" + 0.006*\"look\" + 0.006*\"drive\" + 0.006*\"fun\" + 0.006*\"us\" + 0.006*\"really\" + 0.006*\"maybe\" + 0.006*\"problem\" + 0.005*\"fiat\" + 0.004*\"beautiful\" + 0.004*\"x\" + 0.004*\"million\" + 0.004*\"got\" + 0.004*\"may\" + 0.004*\"something\" + 0.004*\"rome\" + 0.004*\"better\" + 0.004*\"actually\" + 0.004*\"called\" + 0.004*\"bloke\" + 0.004*\"person\" + 0.004*\"going\" + 0.004*\"traveling\" + 0.004*\"haha\" + 0.004*\"candle\" + 0.004*\"Fiat\" + 0.004*\"light\" + 0.004*\"drove\" + 0.004*\"age\" + 0.004*\"sign\" + 0.004*\"skin\" + 0.004*\"hp\" + 0.004*\"small\" + 0.004*\"boat\" + 0.004*\"wow\" + 0.004*\"sell\" + 0.004*\"handle\" + 0.004*\"looking\" + 0.004*\"cute\" + 0.002*\"eye\" + 0.002*\"God\" + 0.002*\"ferrari\" + 0.002*\"rent\" + 0.002*\"colour\" + 0.002*\"cool\" + 0.002*\"expensive\" + 0.002*\"good\" + 0.002*\"company\" + 0.002*\"apart\" + 0.002*\"suzuki\" + 0.002*\"thank\" + 0.002*\"la\" + 0.002*\"gearbox\" + 0.002*\"work\" + 0.002*\"go\" + 0.002*\"bro\" + 0.002*\"little\" + 0.002*\"taste\"')\n",
      "(6, '0.110*\"face\" + 0.098*\"tear\" + 0.088*\"joy\" + 0.018*\"car\" + 0.010*\"hand\" + 0.009*\"horn\" + 0.008*\"skin\" + 0.008*\"tone\" + 0.008*\"love\" + 0.008*\"back\" + 0.008*\"light\" + 0.007*\"holding\" + 0.006*\"everything\" + 0.006*\"know\" + 0.006*\"motor\" + 0.006*\"scooter\" + 0.006*\"fire\" + 0.006*\"folded\" + 0.006*\"fiat\" + 0.006*\"medium\" + 0.005*\"much\" + 0.005*\"I\" + 0.004*\"vespa\" + 0.004*\"got\" + 0.004*\"loudly\" + 0.004*\"engine\" + 0.003*\"dream\" + 0.003*\"always\" + 0.003*\"god\" + 0.003*\"people\" + 0.003*\"donate\" + 0.003*\"Lord\" + 0.003*\"give\" + 0.003*\"polish\" + 0.003*\"nail\" + 0.003*\"O\" + 0.003*\"baby\" + 0.003*\"TwinView\" + 0.003*\"al\" + 0.003*\"display\" + 0.003*\"giving\" + 0.003*\"actual\" + 0.003*\"look\" + 0.003*\"u\" + 0.003*\"flushed\" + 0.003*\"next\" + 0.003*\"tour\" + 0.003*\"white\" + 0.003*\"call\" + 0.003*\"get\" + 0.003*\"cry\" + 0.002*\"one\" + 0.002*\"like\" + 0.002*\"mine\" + 0.002*\"outside\" + 0.002*\"never\" + 0.002*\"go\" + 0.002*\"doors\" + 0.002*\"charge\" + 0.002*\"raised\" + 0.002*\"rent\" + 0.002*\"take\" + 0.002*\"similar\" + 0.002*\"usually\" + 0.002*\"reading\"')\n"
     ]
    }
   ],
   "source": [
    "import pandas as pd\n",
    "import gensim\n",
    "from gensim.models import Phrases\n",
    "from gensim.models.phrases import Phraser\n",
    "from gensim import corpora\n",
    "from gensim.models.ldamodel import LdaModel\n",
    "from gensim.models import CoherenceModel\n",
    "from nltk.corpus import stopwords\n",
    "from nltk.tokenize import word_tokenize\n",
    "import nltk\n",
    "import matplotlib.pyplot as plt\n",
    "\n",
    "# Download stopwords if not already downloaded\n",
    "nltk.download('stopwords')\n",
    "nltk.download('punkt')\n",
    "\n",
    "# Load the dataset\n",
    "file_path = '/Users/federicomartin/Desktop/final_translated_comments_with_text_emojis.csv' \n",
    "df = pd.read_csv(file_path)\n",
    "\n",
    "# Preprocessing: Tokenization and removing stopwords\n",
    "stop_words = set(stopwords.words('english'))\n",
    "df['tokens'] = df['translated_comments'].apply(lambda x: [word for word in word_tokenize(str(x)) if word.isalpha() and word not in stop_words])\n",
    "\n",
    "# Build bigrams and trigrams\n",
    "bigram = Phrases(df['tokens'], min_count=5, threshold=100)  # Higher threshold fewer phrases.\n",
    "trigram = Phrases(bigram[df['tokens']], threshold=100)  \n",
    "\n",
    "bigram_mod = Phraser(bigram)\n",
    "trigram_mod = Phraser(trigram)\n",
    "\n",
    "# Create trigrams\n",
    "df['trigrams'] = df['tokens'].apply(lambda x: trigram_mod[bigram_mod[x]])\n",
    "\n",
    "# Remove unrelated words from trigrams\n",
    "df['filtered_trigrams'] = df['trigrams'].apply(lambda x: [word for word in x if word not in unrelated_words])\n",
    "\n",
    "# Create Dictionary and Corpus\n",
    "id2word = corpora.Dictionary(df['filtered_trigrams'])\n",
    "corpus = [id2word.doc2bow(text) for text in df['filtered_trigrams']]\n",
    "\n",
    "# Coherence test for various number of topics\n",
    "coherence_values = []\n",
    "model_list = []\n",
    "topic_range = range(2, 15, 1)\n",
    "random_seed = 7# Set your random seed here\n",
    "\n",
    "for num_topics in topic_range:\n",
    "    model = LdaModel(corpus=corpus, id2word=id2word, num_topics=num_topics, random_state=random_seed, passes=10)\n",
    "    model_list.append(model)\n",
    "    coherencemodel = CoherenceModel(model=model, texts=df['filtered_trigrams'], dictionary=id2word, coherence='c_v')\n",
    "    coherence_values.append(coherencemodel.get_coherence())\n",
    "\n",
    "# Plot coherence scores\n",
    "plt.plot(topic_range, coherence_values)\n",
    "plt.xlabel(\"Num Topics\")\n",
    "plt.ylabel(\"Coherence score\")\n",
    "plt.legend((\"coherence_values\"), loc='best')\n",
    "plt.show()\n",
    "\n",
    "# Select the model with the highest coherence score\n",
    "optimal_num_topics = topic_range[coherence_values.index(max(coherence_values))]\n",
    "print(f\"Optimal number of topics: {optimal_num_topics}\")\n",
    "\n",
    "# Build the LDA model with the optimal number of topics\n",
    "optimal_model = LdaModel(corpus=corpus, id2word=id2word, num_topics=optimal_num_topics, random_state=random_seed, passes=10)\n",
    "\n",
    "# Print the topics with the top 65 words, now filtered\n",
    "topics = optimal_model.print_topics(num_words=65)\n",
    "topic_words_df = pd.DataFrame(topics, columns=[\"Topic\", \"Top Words\"])\n",
    "output_path = '/Users/federicomartin/Desktop/City/Applied Research Project/TikTok/tiktok_topics_top_50_words.csv'\n",
    "topic_words_df.to_csv(output_path, index=False)\n",
    "\n",
    "for topic in topics:\n",
    "    print(topic)"
   ]
  },
  {
   "cell_type": "code",
   "execution_count": 21,
   "metadata": {},
   "outputs": [
    {
     "name": "stdout",
     "output_type": "stream",
     "text": [
      "Coherence score of optimal number of topics: 0.5618890986719557\n"
     ]
    }
   ],
   "source": [
    "print(f\"Coherence score of optimal number of topics: {coherence_values[topic_range.index(optimal_num_topics)]}\")\n"
   ]
  },
  {
   "cell_type": "code",
   "execution_count": 12,
   "metadata": {},
   "outputs": [
    {
     "name": "stdout",
     "output_type": "stream",
     "text": [
      "Comments and weights for Topic 1 saved to /Users/federicomartin/Desktop/City/Applied Research Project/TikTok/tiktok_comments_topic_1_comments.csv\n",
      "Comments and weights for Topic 2 saved to /Users/federicomartin/Desktop/City/Applied Research Project/TikTok/tiktok_comments_topic_2_comments.csv\n",
      "Comments and weights for Topic 3 saved to /Users/federicomartin/Desktop/City/Applied Research Project/TikTok/tiktok_comments_topic_3_comments.csv\n",
      "Comments and weights for Topic 4 saved to /Users/federicomartin/Desktop/City/Applied Research Project/TikTok/tiktok_comments_topic_4_comments.csv\n",
      "Comments and weights for Topic 5 saved to /Users/federicomartin/Desktop/City/Applied Research Project/TikTok/tiktok_comments_topic_5_comments.csv\n",
      "Comments and weights for Topic 6 saved to /Users/federicomartin/Desktop/City/Applied Research Project/TikTok/tiktok_comments_topic_6_comments.csv\n",
      "Comments and weights for Topic 7 saved to /Users/federicomartin/Desktop/City/Applied Research Project/TikTok/tiktok_comments_topic_7_comments.csv\n"
     ]
    }
   ],
   "source": [
    "import pandas as pd\n",
    "\n",
    "# Assuming you have already built the optimal LDA model as in the provided code.\n",
    "# We will now extract the document-topic distribution.\n",
    "\n",
    "# Extract the document-topic distribution for each comment\n",
    "doc_topic_dist = optimal_model[corpus]\n",
    "\n",
    "# Convert this distribution into a DataFrame\n",
    "doc_topic_df = pd.DataFrame()\n",
    "\n",
    "for i, row_list in enumerate(doc_topic_dist):\n",
    "    row = [0] * optimal_num_topics\n",
    "    for topic_num, prop in row_list:\n",
    "        row[topic_num] = prop\n",
    "    doc_topic_df = pd.concat([doc_topic_df, pd.Series(row)], axis=1)\n",
    "\n",
    "doc_topic_df = doc_topic_df.T  # Transpose to get topics as columns\n",
    "doc_topic_df.columns = [f\"Topic_{i+1}\" for i in range(optimal_num_topics)]  # Rename columns\n",
    "\n",
    "# Now, let's save this document-topic distribution for future use\n",
    "doc_topic_dist_file = 'Zdoc_topic_dist_tiktok_comments.csv'\n",
    "doc_topic_df.to_csv(doc_topic_dist_file, index=False)\n",
    "\n",
    "# Define the directory path\n",
    "directory_path = \"/Users/federicomartin/Desktop/City/Applied Research Project/TikTok\"\n",
    "\n",
    "# Function to extract comments for each topic with their weights\n",
    "def extract_comments_for_topics(doc_topic_df, comments, num_topics, output_prefix, threshold=0.3):\n",
    "    for topic in range(num_topics):\n",
    "        # Extract comments and their weights (probabilities) for this topic\n",
    "        topic_comments_weights = [(comments[i], doc_topic_df.iloc[i, topic]) for i in range(len(comments)) if doc_topic_df.iloc[i, topic] > threshold]\n",
    "\n",
    "        # Save the comments and their weights to a CSV file\n",
    "        output_file = f\"{directory_path}/{output_prefix}_topic_{topic + 1}_comments.csv\"\n",
    "        pd.DataFrame(topic_comments_weights, columns=[\"Comment\", \"Weight\"]).to_csv(output_file, index=False)\n",
    "        print(f\"Comments and weights for Topic {topic + 1} saved to {output_file}\")\n",
    "\n",
    "# Extract comments for the identified topics\n",
    "comments = df['cleaned_comment_original'].tolist()  # Use the original translated comments\n",
    "\n",
    "extract_comments_for_topics(doc_topic_df, comments, optimal_num_topics, 'tiktok_comments')\n",
    "\n"
   ]
  },
  {
   "cell_type": "code",
   "execution_count": 13,
   "metadata": {},
   "outputs": [
    {
     "name": "stdout",
     "output_type": "stream",
     "text": [
      "Categorized comments for Topic 1 have been saved.\n",
      "Categorized comments for Topic 2 have been saved.\n",
      "Categorized comments for Topic 3 have been saved.\n",
      "Categorized comments for Topic 4 have been saved.\n",
      "Categorized comments for Topic 5 have been saved.\n",
      "Categorized comments for Topic 6 have been saved.\n",
      "Categorized comments for Topic 7 have been saved.\n"
     ]
    }
   ],
   "source": [
    "import pandas as pd\n",
    "\n",
    "# Define the directory path where your files are stored\n",
    "directory_path = \"/Users/federicomartin/Desktop/City/Applied Research Project/TikTok\"\n",
    "\n",
    "# List of topics (assuming you have files for each topic)\n",
    "topics = [1, 2, 3, 4, 5, 6, 7]\n",
    "\n",
    "for topic_num in topics:\n",
    "    # Load the comments for the current topic\n",
    "    topic_df = pd.read_csv(f'{directory_path}/tiktok_comments_topic_{topic_num}_comments.csv')\n",
    "\n",
    "    # Calculate the mean and standard deviation for the weights\n",
    "    mean_weight = topic_df['Weight'].mean()\n",
    "    std_dev = topic_df['Weight'].std()\n",
    "    \n",
    "    # Define thresholds based on mean and standard deviation\n",
    "    most_important_threshold = mean_weight + std_dev\n",
    "    least_important_threshold = mean_weight - std_dev\n",
    "\n",
    "    # Categorize the comments based on the thresholds\n",
    "    most_important_comments = topic_df[topic_df['Weight'] > most_important_threshold]\n",
    "    important_comments = topic_df[(topic_df['Weight'] <= most_important_threshold) & (topic_df['Weight'] >= least_important_threshold)]\n",
    "    least_important_comments = topic_df[topic_df['Weight'] < least_important_threshold]\n",
    "\n",
    "    # Save the categorized comments to CSV files\n",
    "    most_important_comments.to_csv(f'{directory_path}/TIKTOK most_important_comments_topic_{topic_num}.csv', index=False)\n",
    "    important_comments.to_csv(f'{directory_path}/TIKTOK important_comments_topic_{topic_num}.csv', index=False)\n",
    "    least_important_comments.to_csv(f'{directory_path}/TIKTOK least_important_comments_topic_{topic_num}.csv', index=False)\n",
    "\n",
    "    print(f\"Categorized comments for Topic {topic_num} have been saved.\")\n",
    "    \n"
   ]
  },
  {
   "cell_type": "code",
   "execution_count": 3,
   "metadata": {},
   "outputs": [
    {
     "name": "stdout",
     "output_type": "stream",
     "text": [
      "Requirement already satisfied: Datasets in /Users/federicomartin/anaconda3/lib/python3.11/site-packages (2.20.0)\n",
      "Requirement already satisfied: filelock in /Users/federicomartin/anaconda3/lib/python3.11/site-packages (from Datasets) (3.15.4)\n",
      "Requirement already satisfied: numpy>=1.17 in /Users/federicomartin/anaconda3/lib/python3.11/site-packages (from Datasets) (1.26.4)\n",
      "Requirement already satisfied: pyarrow>=15.0.0 in /Users/federicomartin/anaconda3/lib/python3.11/site-packages (from Datasets) (17.0.0)\n",
      "Requirement already satisfied: pyarrow-hotfix in /Users/federicomartin/anaconda3/lib/python3.11/site-packages (from Datasets) (0.6)\n",
      "Requirement already satisfied: dill<0.3.9,>=0.3.0 in /Users/federicomartin/anaconda3/lib/python3.11/site-packages (from Datasets) (0.3.6)\n",
      "Requirement already satisfied: pandas in /Users/federicomartin/anaconda3/lib/python3.11/site-packages (from Datasets) (1.5.3)\n",
      "Requirement already satisfied: requests>=2.32.2 in /Users/federicomartin/anaconda3/lib/python3.11/site-packages (from Datasets) (2.32.3)\n",
      "Requirement already satisfied: tqdm>=4.66.3 in /Users/federicomartin/anaconda3/lib/python3.11/site-packages (from Datasets) (4.66.5)\n",
      "Requirement already satisfied: xxhash in /Users/federicomartin/anaconda3/lib/python3.11/site-packages (from Datasets) (2.0.2)\n",
      "Requirement already satisfied: multiprocess in /Users/federicomartin/anaconda3/lib/python3.11/site-packages (from Datasets) (0.70.14)\n",
      "Requirement already satisfied: fsspec<=2024.5.0,>=2023.1.0 in /Users/federicomartin/anaconda3/lib/python3.11/site-packages (from fsspec[http]<=2024.5.0,>=2023.1.0->Datasets) (2024.5.0)\n",
      "Requirement already satisfied: aiohttp in /Users/federicomartin/anaconda3/lib/python3.11/site-packages (from Datasets) (3.10.3)\n",
      "Requirement already satisfied: huggingface-hub>=0.21.2 in /Users/federicomartin/anaconda3/lib/python3.11/site-packages (from Datasets) (0.24.5)\n",
      "Requirement already satisfied: packaging in /Users/federicomartin/anaconda3/lib/python3.11/site-packages (from Datasets) (24.1)\n",
      "Requirement already satisfied: pyyaml>=5.1 in /Users/federicomartin/anaconda3/lib/python3.11/site-packages (from Datasets) (6.0.2)\n",
      "Requirement already satisfied: aiohappyeyeballs>=2.3.0 in /Users/federicomartin/anaconda3/lib/python3.11/site-packages (from aiohttp->Datasets) (2.3.5)\n",
      "Requirement already satisfied: aiosignal>=1.1.2 in /Users/federicomartin/anaconda3/lib/python3.11/site-packages (from aiohttp->Datasets) (1.2.0)\n",
      "Requirement already satisfied: attrs>=17.3.0 in /Users/federicomartin/anaconda3/lib/python3.11/site-packages (from aiohttp->Datasets) (22.1.0)\n",
      "Requirement already satisfied: frozenlist>=1.1.1 in /Users/federicomartin/anaconda3/lib/python3.11/site-packages (from aiohttp->Datasets) (1.3.3)\n",
      "Requirement already satisfied: multidict<7.0,>=4.5 in /Users/federicomartin/anaconda3/lib/python3.11/site-packages (from aiohttp->Datasets) (6.0.2)\n",
      "Requirement already satisfied: yarl<2.0,>=1.0 in /Users/federicomartin/anaconda3/lib/python3.11/site-packages (from aiohttp->Datasets) (1.8.1)\n",
      "Requirement already satisfied: typing-extensions>=3.7.4.3 in /Users/federicomartin/anaconda3/lib/python3.11/site-packages (from huggingface-hub>=0.21.2->Datasets) (4.12.2)\n",
      "Requirement already satisfied: charset-normalizer<4,>=2 in /Users/federicomartin/anaconda3/lib/python3.11/site-packages (from requests>=2.32.2->Datasets) (2.1.1)\n",
      "Requirement already satisfied: idna<4,>=2.5 in /Users/federicomartin/anaconda3/lib/python3.11/site-packages (from requests>=2.32.2->Datasets) (3.7)\n",
      "Requirement already satisfied: urllib3<3,>=1.21.1 in /Users/federicomartin/anaconda3/lib/python3.11/site-packages (from requests>=2.32.2->Datasets) (1.26.19)\n",
      "Requirement already satisfied: certifi>=2017.4.17 in /Users/federicomartin/anaconda3/lib/python3.11/site-packages (from requests>=2.32.2->Datasets) (2024.7.4)\n",
      "Requirement already satisfied: python-dateutil>=2.8.1 in /Users/federicomartin/anaconda3/lib/python3.11/site-packages (from pandas->Datasets) (2.8.2)\n",
      "Requirement already satisfied: pytz>=2020.1 in /Users/federicomartin/anaconda3/lib/python3.11/site-packages (from pandas->Datasets) (2022.7)\n",
      "Requirement already satisfied: six>=1.5 in /Users/federicomartin/anaconda3/lib/python3.11/site-packages (from python-dateutil>=2.8.1->pandas->Datasets) (1.16.0)\n",
      "Note: you may need to restart the kernel to use updated packages.\n"
     ]
    }
   ],
   "source": [
    "# pip install transformers[torch]\n",
    "%pip install Datasets\n"
   ]
  },
  {
   "cell_type": "markdown",
   "metadata": {},
   "source": [
    "### Bart model fine tuning "
   ]
  },
  {
   "cell_type": "code",
   "execution_count": 2,
   "metadata": {},
   "outputs": [
    {
     "name": "stdout",
     "output_type": "stream",
     "text": [
      "Using device: mps\n"
     ]
    },
    {
     "data": {
      "application/vnd.jupyter.widget-view+json": {
       "model_id": "bc0c8c31b454482cb9933981692ed81a",
       "version_major": 2,
       "version_minor": 0
      },
      "text/plain": [
       "Map:   0%|          | 0/15 [00:00<?, ? examples/s]"
      ]
     },
     "metadata": {},
     "output_type": "display_data"
    },
    {
     "name": "stderr",
     "output_type": "stream",
     "text": [
      "/Users/federicomartin/anaconda3/lib/python3.11/site-packages/transformers/training_args.py:1525: FutureWarning: `evaluation_strategy` is deprecated and will be removed in version 4.46 of 🤗 Transformers. Use `eval_strategy` instead\n",
      "  warnings.warn(\n"
     ]
    },
    {
     "data": {
      "application/vnd.jupyter.widget-view+json": {
       "model_id": "8fe2855d2add4d2bbd796d98b7504bf5",
       "version_major": 2,
       "version_minor": 0
      },
      "text/plain": [
       "  0%|          | 0/180 [00:00<?, ?it/s]"
      ]
     },
     "metadata": {},
     "output_type": "display_data"
    },
    {
     "name": "stderr",
     "output_type": "stream",
     "text": [
      "Some non-default generation parameters are set in the model config. These should go into a GenerationConfig file (https://huggingface.co/docs/transformers/generation_strategies#save-a-custom-decoding-strategy-with-your-model) instead. This warning will be raised to an exception in v4.41.\n",
      "Non-default generation parameters: {'max_length': 142, 'min_length': 56, 'early_stopping': True, 'num_beams': 4, 'length_penalty': 2.0, 'no_repeat_ngram_size': 3, 'forced_bos_token_id': 0, 'forced_eos_token_id': 2}\n",
      "Some non-default generation parameters are set in the model config. These should go into a GenerationConfig file (https://huggingface.co/docs/transformers/generation_strategies#save-a-custom-decoding-strategy-with-your-model) instead. This warning will be raised to an exception in v4.41.\n",
      "Non-default generation parameters: {'max_length': 142, 'min_length': 56, 'early_stopping': True, 'num_beams': 4, 'length_penalty': 2.0, 'no_repeat_ngram_size': 3, 'forced_bos_token_id': 0, 'forced_eos_token_id': 2}\n"
     ]
    },
    {
     "name": "stdout",
     "output_type": "stream",
     "text": [
      "{'train_runtime': 2386.662, 'train_samples_per_second': 0.283, 'train_steps_per_second': 0.075, 'train_loss': 0.20181935628255207, 'epoch': 45.0}\n"
     ]
    },
    {
     "data": {
      "text/plain": [
       "('./fine-tuned-model/tokenizer_config.json',\n",
       " './fine-tuned-model/special_tokens_map.json',\n",
       " './fine-tuned-model/vocab.json',\n",
       " './fine-tuned-model/merges.txt',\n",
       " './fine-tuned-model/added_tokens.json',\n",
       " './fine-tuned-model/tokenizer.json')"
      ]
     },
     "execution_count": 2,
     "metadata": {},
     "output_type": "execute_result"
    }
   ],
   "source": [
    "import pandas as pd\n",
    "from datasets import Dataset\n",
    "from transformers import AutoTokenizer, AutoModelForSeq2SeqLM, Seq2SeqTrainingArguments, Seq2SeqTrainer\n",
    "import torch\n",
    "\n",
    "# Check if MPS is available\n",
    "device = torch.device(\"mps\") if torch.backends.mps.is_built() else torch.device(\"cuda\" if torch.cuda.is_available() else \"cpu\")\n",
    "print(f\"Using device: {device}\")\n",
    "\n",
    "# Set the Hugging Face model repo\n",
    "model_name = \"suriya7/bart-finetuned-text-summarization\"\n",
    "tokenizer = AutoTokenizer.from_pretrained(model_name)\n",
    "model = AutoModelForSeq2SeqLM.from_pretrained(model_name).to(device)\n",
    "\n",
    "# Ensure special tokens are set\n",
    "model.config.decoder_start_token_id = model.config.decoder_start_token_id or tokenizer.bos_token_id\n",
    "model.config.pad_token_id = model.config.pad_token_id or tokenizer.pad_token_id\n",
    "\n",
    "# Load the few-shot examples\n",
    "few_shot_examples_path = \"/Users/federicomartin/Desktop/NEW Cleaned_Few_Shot_Example.csv\"#### Mention the path here \n",
    "few_shot_df = pd.read_csv(few_shot_examples_path)\n",
    "\n",
    "# Preprocess the dataset\n",
    "def preprocess_function(examples):\n",
    "    inputs = tokenizer(examples[\"Comments\"], max_length=1024, truncation=True, padding=\"max_length\")\n",
    "    targets = tokenizer(examples[\"Summary\"], max_length=150, truncation=True, padding=\"max_length\")\n",
    "    inputs[\"labels\"] = targets[\"input_ids\"]\n",
    "    inputs[\"labels\"] = [[label if label != tokenizer.pad_token_id else -100 for label in labels] for labels in inputs[\"labels\"]]  # Ignore padded tokens in the loss computation\n",
    "    return inputs\n",
    "\n",
    "# Convert the DataFrame to a Dataset\n",
    "few_shot_dataset = Dataset.from_pandas(few_shot_df)\n",
    "tokenized_few_shot_dataset = few_shot_dataset.map(preprocess_function, batched=True)\n",
    "\n",
    "# Training arguments without evaluation\n",
    "training_args = Seq2SeqTrainingArguments(\n",
    "    output_dir=\"./results\",\n",
    "    evaluation_strategy=\"no\",  # Disable evaluation\n",
    "    learning_rate=6e-5,  # 3 best \n",
    "    per_device_train_batch_size=4,\n",
    "    per_device_eval_batch_size=4,\n",
    "    weight_decay=0.01,\n",
    "    save_total_limit=3,\n",
    "    use_cpu=True,\n",
    "    num_train_epochs=45,  # Increase epochs due to small dataset 35 best \n",
    "    predict_with_generate=True\n",
    ")\n",
    "\n",
    "# Initialize the Trainer\n",
    "trainer = Seq2SeqTrainer(\n",
    "    model=model,\n",
    "    args=training_args,\n",
    "    train_dataset=tokenized_few_shot_dataset,\n",
    "    tokenizer=tokenizer\n",
    ")\n",
    "\n",
    "# Fine-tune the model\n",
    "trainer.train()\n",
    "\n",
    "# Save the trained model and tokenizer\n",
    "trainer.save_model(\"./fine-tuned-model\")\n",
    "tokenizer.save_pretrained(\"./fine-tuned-model\")\n"
   ]
  },
  {
   "cell_type": "markdown",
   "metadata": {},
   "source": [
    "### Topic summarization"
   ]
  },
  {
   "cell_type": "code",
   "execution_count": 14,
   "metadata": {},
   "outputs": [
    {
     "name": "stdout",
     "output_type": "stream",
     "text": [
      "Using device: mps\n"
     ]
    },
    {
     "name": "stderr",
     "output_type": "stream",
     "text": [
      "Processing:   0%|          | 0/21 [00:00<?, ?it/s]/var/folders/x1/518kd7394j54w55305x5jkpw0000gn/T/ipykernel_7649/1218828593.py:70: SettingWithCopyWarning:\n",
      "\n",
      "\n",
      "A value is trying to be set on a copy of a slice from a DataFrame.\n",
      "Try using .loc[row_indexer,col_indexer] = value instead\n",
      "\n",
      "See the caveats in the documentation: https://pandas.pydata.org/pandas-docs/stable/user_guide/indexing.html#returning-a-view-versus-a-copy\n",
      "\n"
     ]
    },
    {
     "name": "stdout",
     "output_type": "stream",
     "text": [
      "Categorized comments for Topic 1 have been saved.\n"
     ]
    },
    {
     "name": "stderr",
     "output_type": "stream",
     "text": [
      "Processing:  14%|█▍        | 3/21 [02:27<14:41, 48.96s/it]/var/folders/x1/518kd7394j54w55305x5jkpw0000gn/T/ipykernel_7649/1218828593.py:70: SettingWithCopyWarning:\n",
      "\n",
      "\n",
      "A value is trying to be set on a copy of a slice from a DataFrame.\n",
      "Try using .loc[row_indexer,col_indexer] = value instead\n",
      "\n",
      "See the caveats in the documentation: https://pandas.pydata.org/pandas-docs/stable/user_guide/indexing.html#returning-a-view-versus-a-copy\n",
      "\n"
     ]
    },
    {
     "name": "stdout",
     "output_type": "stream",
     "text": [
      "Categorized comments for Topic 2 have been saved.\n"
     ]
    },
    {
     "name": "stderr",
     "output_type": "stream",
     "text": [
      "Processing:  29%|██▊       | 6/21 [05:02<12:42, 50.86s/it]/var/folders/x1/518kd7394j54w55305x5jkpw0000gn/T/ipykernel_7649/1218828593.py:70: SettingWithCopyWarning:\n",
      "\n",
      "\n",
      "A value is trying to be set on a copy of a slice from a DataFrame.\n",
      "Try using .loc[row_indexer,col_indexer] = value instead\n",
      "\n",
      "See the caveats in the documentation: https://pandas.pydata.org/pandas-docs/stable/user_guide/indexing.html#returning-a-view-versus-a-copy\n",
      "\n"
     ]
    },
    {
     "name": "stdout",
     "output_type": "stream",
     "text": [
      "Categorized comments for Topic 3 have been saved.\n"
     ]
    },
    {
     "name": "stderr",
     "output_type": "stream",
     "text": [
      "Processing:  43%|████▎     | 9/21 [07:08<08:48, 44.00s/it]/var/folders/x1/518kd7394j54w55305x5jkpw0000gn/T/ipykernel_7649/1218828593.py:70: SettingWithCopyWarning:\n",
      "\n",
      "\n",
      "A value is trying to be set on a copy of a slice from a DataFrame.\n",
      "Try using .loc[row_indexer,col_indexer] = value instead\n",
      "\n",
      "See the caveats in the documentation: https://pandas.pydata.org/pandas-docs/stable/user_guide/indexing.html#returning-a-view-versus-a-copy\n",
      "\n"
     ]
    },
    {
     "name": "stdout",
     "output_type": "stream",
     "text": [
      "Categorized comments for Topic 4 have been saved.\n"
     ]
    },
    {
     "name": "stderr",
     "output_type": "stream",
     "text": [
      "Processing:  57%|█████▋    | 12/21 [09:24<06:36, 44.10s/it]/var/folders/x1/518kd7394j54w55305x5jkpw0000gn/T/ipykernel_7649/1218828593.py:70: SettingWithCopyWarning:\n",
      "\n",
      "\n",
      "A value is trying to be set on a copy of a slice from a DataFrame.\n",
      "Try using .loc[row_indexer,col_indexer] = value instead\n",
      "\n",
      "See the caveats in the documentation: https://pandas.pydata.org/pandas-docs/stable/user_guide/indexing.html#returning-a-view-versus-a-copy\n",
      "\n"
     ]
    },
    {
     "name": "stdout",
     "output_type": "stream",
     "text": [
      "Categorized comments for Topic 5 have been saved.\n"
     ]
    },
    {
     "name": "stderr",
     "output_type": "stream",
     "text": [
      "Processing:  71%|███████▏  | 15/21 [11:42<04:31, 45.33s/it]/var/folders/x1/518kd7394j54w55305x5jkpw0000gn/T/ipykernel_7649/1218828593.py:70: SettingWithCopyWarning:\n",
      "\n",
      "\n",
      "A value is trying to be set on a copy of a slice from a DataFrame.\n",
      "Try using .loc[row_indexer,col_indexer] = value instead\n",
      "\n",
      "See the caveats in the documentation: https://pandas.pydata.org/pandas-docs/stable/user_guide/indexing.html#returning-a-view-versus-a-copy\n",
      "\n"
     ]
    },
    {
     "name": "stdout",
     "output_type": "stream",
     "text": [
      "Categorized comments for Topic 6 have been saved.\n"
     ]
    },
    {
     "name": "stderr",
     "output_type": "stream",
     "text": [
      "Processing:  86%|████████▌ | 18/21 [13:47<02:07, 42.38s/it]/var/folders/x1/518kd7394j54w55305x5jkpw0000gn/T/ipykernel_7649/1218828593.py:70: SettingWithCopyWarning:\n",
      "\n",
      "\n",
      "A value is trying to be set on a copy of a slice from a DataFrame.\n",
      "Try using .loc[row_indexer,col_indexer] = value instead\n",
      "\n",
      "See the caveats in the documentation: https://pandas.pydata.org/pandas-docs/stable/user_guide/indexing.html#returning-a-view-versus-a-copy\n",
      "\n"
     ]
    },
    {
     "name": "stdout",
     "output_type": "stream",
     "text": [
      "Categorized comments for Topic 7 have been saved.\n"
     ]
    },
    {
     "name": "stderr",
     "output_type": "stream",
     "text": [
      "Processing: 100%|██████████| 21/21 [16:16<00:00, 46.50s/it]\n"
     ]
    }
   ],
   "source": [
    "import pandas as pd\n",
    "from transformers import AutoTokenizer, AutoModelForSeq2SeqLM\n",
    "import torch\n",
    "from tqdm import tqdm\n",
    "from docx import Document\n",
    "\n",
    "# Define the directory path where your files are stored\n",
    "directory_path = \"/Users/federicomartin/Desktop/City/Applied Research Project/TikTok\"\n",
    "\n",
    "# List of topics (assuming you have files for each topic)\n",
    "topics = [1, 2, 3, 4, 5, 6, 7]  # Add more topics if needed\n",
    "\n",
    "# Check if MPS or CUDA is available and set the device accordingly\n",
    "device = torch.device(\"mps\") if torch.backends.mps.is_built() else torch.device(\"cuda\" if torch.cuda.is_available() else \"cpu\")\n",
    "print(f\"Using device: {device}\")\n",
    "\n",
    "# Load the fine-tuned model and tokenizer\n",
    "model_name = \"./fine-tuned-model\"  # Path to your fine-tuned model\n",
    "tokenizer = AutoTokenizer.from_pretrained(model_name)\n",
    "model = AutoModelForSeq2SeqLM.from_pretrained(model_name).to(device)\n",
    "\n",
    "# Function to generate summaries\n",
    "def generate_summary(text):\n",
    "    inputs = tokenizer(text, return_tensors=\"pt\", max_length=1024, truncation=True, padding=\"max_length\")\n",
    "    inputs = {key: value.to(device) for key, value in inputs.items()}\n",
    "    summary_ids = model.generate(inputs[\"input_ids\"], attention_mask=inputs[\"attention_mask\"], num_beams=4, max_length=150, early_stopping=True)\n",
    "    return tokenizer.decode(summary_ids[0], skip_special_tokens=True)\n",
    "\n",
    "# Initialize the progress bar\n",
    "total_steps = len(topics) * 3  # Number of topics times 3 categories per topic\n",
    "progress_bar = tqdm(total=total_steps, desc=\"Processing\")\n",
    "\n",
    "for topic_num in topics:\n",
    "    # Load the comments for the current topic\n",
    "    topic_df = pd.read_csv(f'{directory_path}/tiktok_comments_topic_{topic_num}_comments.csv')\n",
    "\n",
    "    # Calculate the mean and standard deviation for the weights\n",
    "    mean_weight = topic_df['Weight'].mean()\n",
    "    std_dev = topic_df['Weight'].std()\n",
    "    \n",
    "    # Define thresholds based on mean and standard deviation\n",
    "    most_important_threshold = mean_weight + std_dev\n",
    "    least_important_threshold = mean_weight - std_dev\n",
    "\n",
    "    # Categorize the comments based on the thresholds\n",
    "    most_important_comments = topic_df[topic_df['Weight'] > most_important_threshold]\n",
    "    important_comments = topic_df[(topic_df['Weight'] <= most_important_threshold) & (topic_df['Weight'] >= least_important_threshold)]\n",
    "    least_important_comments = topic_df[topic_df['Weight'] < least_important_threshold]\n",
    "\n",
    "    # Save the categorized comments to CSV files\n",
    "    most_important_comments.to_csv(f'{directory_path}/TIKTOK_most_important_comments_topic_{topic_num}.csv', index=False)\n",
    "    important_comments.to_csv(f'{directory_path}/TIKTOK_important_comments_topic_{topic_num}.csv', index=False)\n",
    "    least_important_comments.to_csv(f'{directory_path}/TIKTOK_least_important_comments_topic_{topic_num}.csv', index=False)\n",
    "\n",
    "    print(f\"Categorized comments for Topic {topic_num} have been saved.\")\n",
    "    \n",
    "    # Create a Word document for the summaries\n",
    "    document = Document()\n",
    "    document.add_heading(f'Topic {topic_num}', level=1)\n",
    "    \n",
    "    for category, comments_df in zip(\n",
    "        ['most_important', 'important', 'least_important'], \n",
    "        [most_important_comments, important_comments, least_important_comments]\n",
    "    ):\n",
    "        # Calculate the number of comments and average weight of each aspect\n",
    "        num_comments = len(comments_df)\n",
    "        average_weight = comments_df['Weight'].mean() if num_comments > 0 else 'N/A'\n",
    "        \n",
    "        # Ensure all comments are strings and handle NaNs\n",
    "        comments_df['Comment'] = comments_df['Comment'].fillna('').astype(str)\n",
    "\n",
    "        # Concatenate all comments in the category\n",
    "        all_comments = \" \".join(comments_df['Comment'].tolist())\n",
    "        \n",
    "        # Generate a summary for all comments together\n",
    "        if all_comments.strip():  # Only generate summary if there are comments\n",
    "            summary = generate_summary(all_comments)\n",
    "        else:\n",
    "            summary = \"No comments available.\"\n",
    "        \n",
    "        # Add the summary to the document\n",
    "        document.add_heading(f'{category.replace(\"_\", \" \").title()} Comments Summary', level=2)\n",
    "        document.add_paragraph(f'Number of comments: {num_comments}')\n",
    "        document.add_paragraph(f'Average weight: {average_weight}')\n",
    "        document.add_paragraph(summary)\n",
    "        \n",
    "        # Update the progress bar\n",
    "        progress_bar.update(1)\n",
    "    \n",
    "    # Save the document for this topic\n",
    "    document_path = f'{directory_path}/TIKTOK_Topic_{topic_num}_summaries.docx'\n",
    "    document.save(document_path)\n",
    "\n",
    "# Close the progress bar\n",
    "progress_bar.close()\n",
    "\n"
   ]
  },
  {
   "cell_type": "markdown",
   "metadata": {},
   "source": [
    "### Similarity between tiktok and marketing topics"
   ]
  },
  {
   "cell_type": "code",
   "execution_count": 30,
   "metadata": {},
   "outputs": [
    {
     "data": {
      "application/vnd.plotly.v1+json": {
       "config": {
        "plotlyServerURL": "https://plot.ly"
       },
       "data": [
        {
         "coloraxis": "coloraxis",
         "hovertemplate": "Marketing Topics: %{x}<br>TikTok Topics: %{y}<br>Cosine Similarity: %{z}<extra></extra>",
         "name": "0",
         "texttemplate": "%{z}",
         "type": "heatmap",
         "x": [
          "Fiat Marketing: Design and Exterior",
          "Fiat Marketing: Lifestyle Dolce Vita",
          "Fiat Marketing: Driver Assistance and Features",
          "Fiat Marketing: General Features and Design",
          "Fiat Marketing: Advanced Technology",
          "Fiat Marketing: Luxurious Interior and Sustainability",
          "Fiat Marketing: Touchscreen and Infotainment"
         ],
         "xaxis": "x",
         "y": [
          "Fiat Dolcevita: Design and Reliability",
          "Fiat Dolcevita: Practicality versus Competitive Value",
          "Fiat Dolcevita: Eco-Friendly Appeal and Performance",
          "Fiat Dolcevita: Historical Significance versus Modern Expectations",
          "Fiat Dolcevita: Features",
          "Fiat Dolcevita: Stylish Urban Utility",
          "Fiat Dolcevita: Innovation with Practicality"
         ],
         "yaxis": "y",
         "z": [
          [
           0.04252941699401565,
           0,
           0.04879829545188214,
           0.03727296273174392,
           0.04909850560620822,
           0.21074794957564305,
           0
          ],
          [
           0.06722196631739363,
           0.055432728776340374,
           0.13689958567709049,
           0.10456621707135,
           0.1377418004586257,
           0.13333420486120384,
           0.051539938995509633
          ],
          [
           0.21442615703339266,
           0,
           0.04291761539063253,
           0.1879240000148913,
           0.04318164723478647,
           0.04179987904526264,
           0
          ],
          [
           0.14427733361931555,
           0,
           0.09835254506510824,
           0.16400693952493503,
           0.0989576160508658,
           0.09579107436646135,
           0.04240560529015325
          ],
          [
           0.16247873929039636,
           0.09990758582072402,
           0.12422834826083849,
           0.0347712998902941,
           0.12499260880022217,
           0.04433749018288908,
           0.03925539243998552
          ],
          [
           0.15497854127313454,
           0,
           0.08145156490800755,
           0.1358238556128432,
           0.08195266001070935,
           0.07933025938680643,
           0
          ],
          [
           0.06332629264757444,
           0,
           0.14532130261383627,
           0.11099886679023509,
           0.14621532832273804,
           0.1415365885702076,
           0.06265661752640762
          ]
         ]
        }
       ],
       "layout": {
        "coloraxis": {
         "colorbar": {
          "title": {
           "text": "Cosine Similarity"
          }
         },
         "colorscale": [
          [
           0,
           "red"
          ],
          [
           0.5,
           "yellow"
          ],
          [
           1,
           "green"
          ]
         ]
        },
        "height": 800,
        "margin": {
         "t": 60
        },
        "template": {
         "data": {
          "bar": [
           {
            "error_x": {
             "color": "#2a3f5f"
            },
            "error_y": {
             "color": "#2a3f5f"
            },
            "marker": {
             "line": {
              "color": "#E5ECF6",
              "width": 0.5
             },
             "pattern": {
              "fillmode": "overlay",
              "size": 10,
              "solidity": 0.2
             }
            },
            "type": "bar"
           }
          ],
          "barpolar": [
           {
            "marker": {
             "line": {
              "color": "#E5ECF6",
              "width": 0.5
             },
             "pattern": {
              "fillmode": "overlay",
              "size": 10,
              "solidity": 0.2
             }
            },
            "type": "barpolar"
           }
          ],
          "carpet": [
           {
            "aaxis": {
             "endlinecolor": "#2a3f5f",
             "gridcolor": "white",
             "linecolor": "white",
             "minorgridcolor": "white",
             "startlinecolor": "#2a3f5f"
            },
            "baxis": {
             "endlinecolor": "#2a3f5f",
             "gridcolor": "white",
             "linecolor": "white",
             "minorgridcolor": "white",
             "startlinecolor": "#2a3f5f"
            },
            "type": "carpet"
           }
          ],
          "choropleth": [
           {
            "colorbar": {
             "outlinewidth": 0,
             "ticks": ""
            },
            "type": "choropleth"
           }
          ],
          "contour": [
           {
            "colorbar": {
             "outlinewidth": 0,
             "ticks": ""
            },
            "colorscale": [
             [
              0,
              "#0d0887"
             ],
             [
              0.1111111111111111,
              "#46039f"
             ],
             [
              0.2222222222222222,
              "#7201a8"
             ],
             [
              0.3333333333333333,
              "#9c179e"
             ],
             [
              0.4444444444444444,
              "#bd3786"
             ],
             [
              0.5555555555555556,
              "#d8576b"
             ],
             [
              0.6666666666666666,
              "#ed7953"
             ],
             [
              0.7777777777777778,
              "#fb9f3a"
             ],
             [
              0.8888888888888888,
              "#fdca26"
             ],
             [
              1,
              "#f0f921"
             ]
            ],
            "type": "contour"
           }
          ],
          "contourcarpet": [
           {
            "colorbar": {
             "outlinewidth": 0,
             "ticks": ""
            },
            "type": "contourcarpet"
           }
          ],
          "heatmap": [
           {
            "colorbar": {
             "outlinewidth": 0,
             "ticks": ""
            },
            "colorscale": [
             [
              0,
              "#0d0887"
             ],
             [
              0.1111111111111111,
              "#46039f"
             ],
             [
              0.2222222222222222,
              "#7201a8"
             ],
             [
              0.3333333333333333,
              "#9c179e"
             ],
             [
              0.4444444444444444,
              "#bd3786"
             ],
             [
              0.5555555555555556,
              "#d8576b"
             ],
             [
              0.6666666666666666,
              "#ed7953"
             ],
             [
              0.7777777777777778,
              "#fb9f3a"
             ],
             [
              0.8888888888888888,
              "#fdca26"
             ],
             [
              1,
              "#f0f921"
             ]
            ],
            "type": "heatmap"
           }
          ],
          "heatmapgl": [
           {
            "colorbar": {
             "outlinewidth": 0,
             "ticks": ""
            },
            "colorscale": [
             [
              0,
              "#0d0887"
             ],
             [
              0.1111111111111111,
              "#46039f"
             ],
             [
              0.2222222222222222,
              "#7201a8"
             ],
             [
              0.3333333333333333,
              "#9c179e"
             ],
             [
              0.4444444444444444,
              "#bd3786"
             ],
             [
              0.5555555555555556,
              "#d8576b"
             ],
             [
              0.6666666666666666,
              "#ed7953"
             ],
             [
              0.7777777777777778,
              "#fb9f3a"
             ],
             [
              0.8888888888888888,
              "#fdca26"
             ],
             [
              1,
              "#f0f921"
             ]
            ],
            "type": "heatmapgl"
           }
          ],
          "histogram": [
           {
            "marker": {
             "pattern": {
              "fillmode": "overlay",
              "size": 10,
              "solidity": 0.2
             }
            },
            "type": "histogram"
           }
          ],
          "histogram2d": [
           {
            "colorbar": {
             "outlinewidth": 0,
             "ticks": ""
            },
            "colorscale": [
             [
              0,
              "#0d0887"
             ],
             [
              0.1111111111111111,
              "#46039f"
             ],
             [
              0.2222222222222222,
              "#7201a8"
             ],
             [
              0.3333333333333333,
              "#9c179e"
             ],
             [
              0.4444444444444444,
              "#bd3786"
             ],
             [
              0.5555555555555556,
              "#d8576b"
             ],
             [
              0.6666666666666666,
              "#ed7953"
             ],
             [
              0.7777777777777778,
              "#fb9f3a"
             ],
             [
              0.8888888888888888,
              "#fdca26"
             ],
             [
              1,
              "#f0f921"
             ]
            ],
            "type": "histogram2d"
           }
          ],
          "histogram2dcontour": [
           {
            "colorbar": {
             "outlinewidth": 0,
             "ticks": ""
            },
            "colorscale": [
             [
              0,
              "#0d0887"
             ],
             [
              0.1111111111111111,
              "#46039f"
             ],
             [
              0.2222222222222222,
              "#7201a8"
             ],
             [
              0.3333333333333333,
              "#9c179e"
             ],
             [
              0.4444444444444444,
              "#bd3786"
             ],
             [
              0.5555555555555556,
              "#d8576b"
             ],
             [
              0.6666666666666666,
              "#ed7953"
             ],
             [
              0.7777777777777778,
              "#fb9f3a"
             ],
             [
              0.8888888888888888,
              "#fdca26"
             ],
             [
              1,
              "#f0f921"
             ]
            ],
            "type": "histogram2dcontour"
           }
          ],
          "mesh3d": [
           {
            "colorbar": {
             "outlinewidth": 0,
             "ticks": ""
            },
            "type": "mesh3d"
           }
          ],
          "parcoords": [
           {
            "line": {
             "colorbar": {
              "outlinewidth": 0,
              "ticks": ""
             }
            },
            "type": "parcoords"
           }
          ],
          "pie": [
           {
            "automargin": true,
            "type": "pie"
           }
          ],
          "scatter": [
           {
            "fillpattern": {
             "fillmode": "overlay",
             "size": 10,
             "solidity": 0.2
            },
            "type": "scatter"
           }
          ],
          "scatter3d": [
           {
            "line": {
             "colorbar": {
              "outlinewidth": 0,
              "ticks": ""
             }
            },
            "marker": {
             "colorbar": {
              "outlinewidth": 0,
              "ticks": ""
             }
            },
            "type": "scatter3d"
           }
          ],
          "scattercarpet": [
           {
            "marker": {
             "colorbar": {
              "outlinewidth": 0,
              "ticks": ""
             }
            },
            "type": "scattercarpet"
           }
          ],
          "scattergeo": [
           {
            "marker": {
             "colorbar": {
              "outlinewidth": 0,
              "ticks": ""
             }
            },
            "type": "scattergeo"
           }
          ],
          "scattergl": [
           {
            "marker": {
             "colorbar": {
              "outlinewidth": 0,
              "ticks": ""
             }
            },
            "type": "scattergl"
           }
          ],
          "scattermapbox": [
           {
            "marker": {
             "colorbar": {
              "outlinewidth": 0,
              "ticks": ""
             }
            },
            "type": "scattermapbox"
           }
          ],
          "scatterpolar": [
           {
            "marker": {
             "colorbar": {
              "outlinewidth": 0,
              "ticks": ""
             }
            },
            "type": "scatterpolar"
           }
          ],
          "scatterpolargl": [
           {
            "marker": {
             "colorbar": {
              "outlinewidth": 0,
              "ticks": ""
             }
            },
            "type": "scatterpolargl"
           }
          ],
          "scatterternary": [
           {
            "marker": {
             "colorbar": {
              "outlinewidth": 0,
              "ticks": ""
             }
            },
            "type": "scatterternary"
           }
          ],
          "surface": [
           {
            "colorbar": {
             "outlinewidth": 0,
             "ticks": ""
            },
            "colorscale": [
             [
              0,
              "#0d0887"
             ],
             [
              0.1111111111111111,
              "#46039f"
             ],
             [
              0.2222222222222222,
              "#7201a8"
             ],
             [
              0.3333333333333333,
              "#9c179e"
             ],
             [
              0.4444444444444444,
              "#bd3786"
             ],
             [
              0.5555555555555556,
              "#d8576b"
             ],
             [
              0.6666666666666666,
              "#ed7953"
             ],
             [
              0.7777777777777778,
              "#fb9f3a"
             ],
             [
              0.8888888888888888,
              "#fdca26"
             ],
             [
              1,
              "#f0f921"
             ]
            ],
            "type": "surface"
           }
          ],
          "table": [
           {
            "cells": {
             "fill": {
              "color": "#EBF0F8"
             },
             "line": {
              "color": "white"
             }
            },
            "header": {
             "fill": {
              "color": "#C8D4E3"
             },
             "line": {
              "color": "white"
             }
            },
            "type": "table"
           }
          ]
         },
         "layout": {
          "annotationdefaults": {
           "arrowcolor": "#2a3f5f",
           "arrowhead": 0,
           "arrowwidth": 1
          },
          "autotypenumbers": "strict",
          "coloraxis": {
           "colorbar": {
            "outlinewidth": 0,
            "ticks": ""
           }
          },
          "colorscale": {
           "diverging": [
            [
             0,
             "#8e0152"
            ],
            [
             0.1,
             "#c51b7d"
            ],
            [
             0.2,
             "#de77ae"
            ],
            [
             0.3,
             "#f1b6da"
            ],
            [
             0.4,
             "#fde0ef"
            ],
            [
             0.5,
             "#f7f7f7"
            ],
            [
             0.6,
             "#e6f5d0"
            ],
            [
             0.7,
             "#b8e186"
            ],
            [
             0.8,
             "#7fbc41"
            ],
            [
             0.9,
             "#4d9221"
            ],
            [
             1,
             "#276419"
            ]
           ],
           "sequential": [
            [
             0,
             "#0d0887"
            ],
            [
             0.1111111111111111,
             "#46039f"
            ],
            [
             0.2222222222222222,
             "#7201a8"
            ],
            [
             0.3333333333333333,
             "#9c179e"
            ],
            [
             0.4444444444444444,
             "#bd3786"
            ],
            [
             0.5555555555555556,
             "#d8576b"
            ],
            [
             0.6666666666666666,
             "#ed7953"
            ],
            [
             0.7777777777777778,
             "#fb9f3a"
            ],
            [
             0.8888888888888888,
             "#fdca26"
            ],
            [
             1,
             "#f0f921"
            ]
           ],
           "sequentialminus": [
            [
             0,
             "#0d0887"
            ],
            [
             0.1111111111111111,
             "#46039f"
            ],
            [
             0.2222222222222222,
             "#7201a8"
            ],
            [
             0.3333333333333333,
             "#9c179e"
            ],
            [
             0.4444444444444444,
             "#bd3786"
            ],
            [
             0.5555555555555556,
             "#d8576b"
            ],
            [
             0.6666666666666666,
             "#ed7953"
            ],
            [
             0.7777777777777778,
             "#fb9f3a"
            ],
            [
             0.8888888888888888,
             "#fdca26"
            ],
            [
             1,
             "#f0f921"
            ]
           ]
          },
          "colorway": [
           "#636efa",
           "#EF553B",
           "#00cc96",
           "#ab63fa",
           "#FFA15A",
           "#19d3f3",
           "#FF6692",
           "#B6E880",
           "#FF97FF",
           "#FECB52"
          ],
          "font": {
           "color": "#2a3f5f"
          },
          "geo": {
           "bgcolor": "white",
           "lakecolor": "white",
           "landcolor": "#E5ECF6",
           "showlakes": true,
           "showland": true,
           "subunitcolor": "white"
          },
          "hoverlabel": {
           "align": "left"
          },
          "hovermode": "closest",
          "mapbox": {
           "style": "light"
          },
          "paper_bgcolor": "white",
          "plot_bgcolor": "#E5ECF6",
          "polar": {
           "angularaxis": {
            "gridcolor": "white",
            "linecolor": "white",
            "ticks": ""
           },
           "bgcolor": "#E5ECF6",
           "radialaxis": {
            "gridcolor": "white",
            "linecolor": "white",
            "ticks": ""
           }
          },
          "scene": {
           "xaxis": {
            "backgroundcolor": "#E5ECF6",
            "gridcolor": "white",
            "gridwidth": 2,
            "linecolor": "white",
            "showbackground": true,
            "ticks": "",
            "zerolinecolor": "white"
           },
           "yaxis": {
            "backgroundcolor": "#E5ECF6",
            "gridcolor": "white",
            "gridwidth": 2,
            "linecolor": "white",
            "showbackground": true,
            "ticks": "",
            "zerolinecolor": "white"
           },
           "zaxis": {
            "backgroundcolor": "#E5ECF6",
            "gridcolor": "white",
            "gridwidth": 2,
            "linecolor": "white",
            "showbackground": true,
            "ticks": "",
            "zerolinecolor": "white"
           }
          },
          "shapedefaults": {
           "line": {
            "color": "#2a3f5f"
           }
          },
          "ternary": {
           "aaxis": {
            "gridcolor": "white",
            "linecolor": "white",
            "ticks": ""
           },
           "baxis": {
            "gridcolor": "white",
            "linecolor": "white",
            "ticks": ""
           },
           "bgcolor": "#E5ECF6",
           "caxis": {
            "gridcolor": "white",
            "linecolor": "white",
            "ticks": ""
           }
          },
          "title": {
           "x": 0.05
          },
          "xaxis": {
           "automargin": true,
           "gridcolor": "white",
           "linecolor": "white",
           "ticks": "",
           "title": {
            "standoff": 15
           },
           "zerolinecolor": "white",
           "zerolinewidth": 2
          },
          "yaxis": {
           "automargin": true,
           "gridcolor": "white",
           "linecolor": "white",
           "ticks": "",
           "title": {
            "standoff": 15
           },
           "zerolinecolor": "white",
           "zerolinewidth": 2
          }
         }
        },
        "title": {
         "text": "Similarity Between TikTok and Marketing Topics"
        },
        "width": 1000,
        "xaxis": {
         "anchor": "y",
         "constrain": "domain",
         "domain": [
          0,
          1
         ],
         "scaleanchor": "y",
         "tickangle": -45,
         "title": {
          "text": "Marketing Topics"
         }
        },
        "yaxis": {
         "anchor": "x",
         "autorange": "reversed",
         "constrain": "domain",
         "domain": [
          0,
          1
         ],
         "title": {
          "text": "TikTok Topics"
         }
        }
       }
      }
     },
     "metadata": {},
     "output_type": "display_data"
    }
   ],
   "source": [
    "import pandas as pd\n",
    "from sklearn.feature_extraction.text import TfidfVectorizer\n",
    "from sklearn.metrics.pairwise import cosine_similarity\n",
    "import plotly.express as px\n",
    "import numpy as np\n",
    "\n",
    "# Load the topics from both the Instagram topics and marketing topics CSV files\n",
    "tiktok_topics_df = pd.read_csv('/Users/federicomartin/Desktop/City/Applied Research Project/TikTok/tiktok_topics_top_50_words.csv')\n",
    "marketing_topics_df = pd.read_csv('/Users/federicomartin/Desktop/City/Applied Research Project/Fiat_Dolcevita_Marketing_Topics_75_words.csv')\n",
    "\n",
    "# Combine the 'Top Words' from the topics into a list\n",
    "tiktok_topics = tiktok_topics_df['Top Words'].tolist()\n",
    "marketing_topics = marketing_topics_df['Top Words'].tolist()\n",
    "\n",
    "# Assign meaningful labels to the Tiktok topics\n",
    "tiktok_topic_labels = [\n",
    "    \"Fiat Dolcevita: Design and Reliability\",\n",
    "    \"Fiat Dolcevita: Practicality versus Competitive Value\",\n",
    "    \"Fiat Dolcevita: Eco-Friendly Appeal and Performance\",\n",
    "    \"Fiat Dolcevita: Historical Significance versus Modern Expectations\",\n",
    "    \"Fiat Dolcevita: Features\",\n",
    "    \"Fiat Dolcevita: Stylish Urban Utility\",\n",
    "    \"Fiat Dolcevita: Innovation with Practicality\",\n",
    "]\n",
    "\n",
    "# Assign meaningful labels to the marketing topics\n",
    "marketing_topic_labels = [\n",
    "    \"Fiat Marketing: Design and Exterior\",\n",
    "    \"Fiat Marketing: Lifestyle Dolce Vita\",\n",
    "    \"Fiat Marketing: Driver Assistance and Features\",\n",
    "    \"Fiat Marketing: General Features and Design\",\n",
    "    \"Fiat Marketing: Advanced Technology\",\n",
    "    \"Fiat Marketing: Luxurious Interior and Sustainability\",\n",
    "    # \"Fiat Marketing: Fiat Brand and Dolcevita\",\n",
    "    \"Fiat Marketing: Touchscreen and Infotainment\"\n",
    "]\n",
    "\n",
    "# Ensure that the number of labels matches the number of topics\n",
    "assert len(tiktok_topics) == len(tiktok_topic_labels), \"Number of TIKTOK topics and labels do not match\"\n",
    "assert len(marketing_topics) == len(marketing_topic_labels), \"Number of marketing topics and labels do not match\"\n",
    "\n",
    "# Create a TF-IDF vectorizer\n",
    "vectorizer = TfidfVectorizer()\n",
    "\n",
    "# Fit and transform the topics from both datasets\n",
    "marketing_tfidf = vectorizer.fit_transform(marketing_topics)\n",
    "tiktok_tfidf = vectorizer.transform(tiktok_topics)\n",
    "\n",
    "# Calculate cosine similarity between the TIKTOK topics and marketing topics\n",
    "similarity_matrix = cosine_similarity(tiktok_tfidf, marketing_tfidf)\n",
    "\n",
    "# Create an interactive heatmap using plotly\n",
    "fig = px.imshow(\n",
    "    similarity_matrix,\n",
    "    labels=dict(x=\"Marketing Topics\", y=\"TikTok Topics\", color=\"Cosine Similarity\"),\n",
    "    x=marketing_topic_labels,\n",
    "    y=tiktok_topic_labels,\n",
    "    color_continuous_scale=[\n",
    "        [0.0, 'red'],   # Low overlap\n",
    "        [0.5, 'yellow'],  # Medium overlap\n",
    "        [1.0, 'green']    # Strong overlap\n",
    "    ],\n",
    "    text_auto=True\n",
    ")\n",
    "\n",
    "fig.update_layout(\n",
    "    title=\"Similarity Between TikTok and Marketing Topics\",\n",
    "    xaxis_title=\"Marketing Topics\",\n",
    "    yaxis_title=\"TikTok Topics\",\n",
    "    width=1000,\n",
    "    height=800,\n",
    "    xaxis_tickangle=-45\n",
    ")\n",
    "\n",
    "fig.show()\n"
   ]
  },
  {
   "cell_type": "markdown",
   "metadata": {},
   "source": [
    "### Sentiment analysis"
   ]
  },
  {
   "cell_type": "code",
   "execution_count": 23,
   "metadata": {},
   "outputs": [
    {
     "name": "stdout",
     "output_type": "stream",
     "text": [
      "Using device: mps\n"
     ]
    },
    {
     "data": {
      "application/vnd.jupyter.widget-view+json": {
       "model_id": "9ae3464b362d490aa8fbcbab3bbf6d1a",
       "version_major": 2,
       "version_minor": 0
      },
      "text/plain": [
       "pytorch_model.bin:   0%|          | 0.00/669M [00:00<?, ?B/s]"
      ]
     },
     "metadata": {},
     "output_type": "display_data"
    },
    {
     "data": {
      "application/vnd.jupyter.widget-view+json": {
       "model_id": "367a692a96914715a1bf0ea834cb6e63",
       "version_major": 2,
       "version_minor": 0
      },
      "text/plain": [
       "tokenizer_config.json:   0%|          | 0.00/39.0 [00:00<?, ?B/s]"
      ]
     },
     "metadata": {},
     "output_type": "display_data"
    },
    {
     "data": {
      "application/vnd.jupyter.widget-view+json": {
       "model_id": "4734b36e5d51494480d34e7b12bb5eca",
       "version_major": 2,
       "version_minor": 0
      },
      "text/plain": [
       "vocab.txt:   0%|          | 0.00/872k [00:00<?, ?B/s]"
      ]
     },
     "metadata": {},
     "output_type": "display_data"
    },
    {
     "data": {
      "application/vnd.jupyter.widget-view+json": {
       "model_id": "45160900aecc4da5890d12a379611571",
       "version_major": 2,
       "version_minor": 0
      },
      "text/plain": [
       "special_tokens_map.json:   0%|          | 0.00/112 [00:00<?, ?B/s]"
      ]
     },
     "metadata": {},
     "output_type": "display_data"
    },
    {
     "name": "stderr",
     "output_type": "stream",
     "text": [
      "/Users/federicomartin/anaconda3/lib/python3.11/site-packages/transformers/tokenization_utils_base.py:1601: FutureWarning:\n",
      "\n",
      "`clean_up_tokenization_spaces` was not set. It will be set to `True` by default. This behavior will be depracted in transformers v4.45, and will be then set to `False` by default. For more details check this issue: https://github.com/huggingface/transformers/issues/31884\n",
      "\n"
     ]
    },
    {
     "name": "stdout",
     "output_type": "stream",
     "text": [
      "Processed 10/502 comments. Elapsed time: 12.87 seconds.\n",
      "Processed 20/502 comments. Elapsed time: 19.94 seconds.\n",
      "Processed 30/502 comments. Elapsed time: 22.61 seconds.\n",
      "Processed 40/502 comments. Elapsed time: 25.39 seconds.\n",
      "Processed 50/502 comments. Elapsed time: 28.25 seconds.\n",
      "Processed 60/502 comments. Elapsed time: 30.06 seconds.\n",
      "Processed 70/502 comments. Elapsed time: 33.94 seconds.\n",
      "Processed 80/502 comments. Elapsed time: 37.20 seconds.\n",
      "Processed 90/502 comments. Elapsed time: 40.02 seconds.\n",
      "Processed 100/502 comments. Elapsed time: 40.85 seconds.\n",
      "Processed 110/502 comments. Elapsed time: 42.60 seconds.\n",
      "Processed 120/502 comments. Elapsed time: 45.19 seconds.\n",
      "Processed 130/502 comments. Elapsed time: 46.47 seconds.\n",
      "Processed 140/502 comments. Elapsed time: 48.30 seconds.\n",
      "Processed 150/502 comments. Elapsed time: 49.24 seconds.\n",
      "Processed 160/502 comments. Elapsed time: 49.80 seconds.\n",
      "Processed 170/502 comments. Elapsed time: 50.50 seconds.\n",
      "Processed 180/502 comments. Elapsed time: 51.41 seconds.\n",
      "Processed 190/502 comments. Elapsed time: 52.05 seconds.\n",
      "Processed 200/502 comments. Elapsed time: 52.63 seconds.\n",
      "Processed 210/502 comments. Elapsed time: 53.60 seconds.\n",
      "Processed 220/502 comments. Elapsed time: 54.77 seconds.\n",
      "Processed 230/502 comments. Elapsed time: 56.66 seconds.\n",
      "Processed 240/502 comments. Elapsed time: 57.78 seconds.\n",
      "Processed 250/502 comments. Elapsed time: 59.64 seconds.\n",
      "Processed 260/502 comments. Elapsed time: 63.15 seconds.\n",
      "Processed 270/502 comments. Elapsed time: 64.35 seconds.\n",
      "Processed 280/502 comments. Elapsed time: 67.01 seconds.\n",
      "Processed 290/502 comments. Elapsed time: 67.98 seconds.\n",
      "Processed 300/502 comments. Elapsed time: 69.39 seconds.\n",
      "Processed 310/502 comments. Elapsed time: 70.46 seconds.\n",
      "Processed 320/502 comments. Elapsed time: 71.67 seconds.\n",
      "Processed 330/502 comments. Elapsed time: 72.51 seconds.\n",
      "Processed 340/502 comments. Elapsed time: 74.18 seconds.\n",
      "Processed 350/502 comments. Elapsed time: 74.74 seconds.\n",
      "Processed 360/502 comments. Elapsed time: 75.83 seconds.\n",
      "Processed 370/502 comments. Elapsed time: 76.41 seconds.\n",
      "Processed 380/502 comments. Elapsed time: 77.28 seconds.\n",
      "Processed 390/502 comments. Elapsed time: 77.95 seconds.\n",
      "Processed 400/502 comments. Elapsed time: 78.68 seconds.\n",
      "Processed 410/502 comments. Elapsed time: 79.56 seconds.\n",
      "Processed 420/502 comments. Elapsed time: 80.48 seconds.\n",
      "Processed 430/502 comments. Elapsed time: 81.29 seconds.\n",
      "Processed 440/502 comments. Elapsed time: 81.94 seconds.\n",
      "Processed 450/502 comments. Elapsed time: 82.97 seconds.\n",
      "Processed 460/502 comments. Elapsed time: 83.86 seconds.\n",
      "Processed 470/502 comments. Elapsed time: 85.05 seconds.\n",
      "Processed 480/502 comments. Elapsed time: 86.98 seconds.\n",
      "Processed 490/502 comments. Elapsed time: 88.04 seconds.\n",
      "Processed 500/502 comments. Elapsed time: 89.08 seconds.\n",
      "                                           video_url                  cid  \\\n",
      "0  https://www.tiktok.com/@azemcars/video/7333955...  7354950450280530706   \n",
      "1  https://www.tiktok.com/@azemcars/video/7333955...  7360063612696494880   \n",
      "2  https://www.tiktok.com/@azemcars/video/7333955...  7356994180511761184   \n",
      "3  https://www.tiktok.com/@azemcars/video/7333955...  7344808420091151109   \n",
      "4  https://www.tiktok.com/@azemcars/video/7333955...  7354806295014327046   \n",
      "\n",
      "   create_time           create_time_iso  digg_count  replies_to_id  \\\n",
      "0   1712457859  2024-04-07T02:44:19.000Z         155            NaN   \n",
      "1   1713648362  2024-04-20T21:26:02.000Z           0            NaN   \n",
      "2   1712933710  2024-04-12T14:55:10.000Z           1            NaN   \n",
      "3   1710096491  2024-03-10T18:48:11.000Z           2            NaN   \n",
      "4   1712424297  2024-04-06T17:24:57.000Z           2            NaN   \n",
      "\n",
      "   reply_comment_total                                submitted_video_url  \\\n",
      "0                  2.0  https://www.tiktok.com/@azemcars/video/7333955...   \n",
      "1                  0.0  https://www.tiktok.com/@azemcars/video/7333955...   \n",
      "2                  0.0  https://www.tiktok.com/@azemcars/video/7333955...   \n",
      "3                  1.0  https://www.tiktok.com/@azemcars/video/7333955...   \n",
      "4                  1.0  https://www.tiktok.com/@azemcars/video/7333955...   \n",
      "\n",
      "                     comment              comment_date                  uid  \\\n",
      "0         Mini Cooper better  2024-04-07T02:44:19.000Z  7164719874148959234   \n",
      "1     I prefer a mini cooper  2024-04-20T21:26:02.000Z  6716859072204243974   \n",
      "2     This is my next fiat 🙏  2024-04-12T14:55:10.000Z  6902418532954719237   \n",
      "3     @alexav mziiiiiiwna 🙂🙂  2024-03-10T18:48:11.000Z  7081936316825158661   \n",
      "4  @Laura Skillen lauris car  2024-04-06T17:24:57.000Z  6607547213676462086   \n",
      "\n",
      "        unique_id                           comment_with_text_emojis  \\\n",
      "0         xllxxli                                 Mini Cooper better   \n",
      "1       usered490                             I prefer a mini cooper   \n",
      "2  natashakovacov                This is my next fiat :folded_hands:   \n",
      "3  manalelmejjasy  @alexav mziiiiiiwna :slightly_smiling_face::sl...   \n",
      "4     mauriciob98                          @Laura Skillen lauris car   \n",
      "\n",
      "   cleaned_comment_original  \\\n",
      "0        mini cooper better   \n",
      "1        prefer mini cooper   \n",
      "2                 next fiat   \n",
      "3        alexav mziiiiiiwna   \n",
      "4  laura skillen lauris car   \n",
      "\n",
      "                    cleaned_comment_with_text_emojis  \\\n",
      "0                                 mini cooper better   \n",
      "1                                 prefer mini cooper   \n",
      "2                              next fiat folded hand   \n",
      "3  alexav mziiiiiiwna slightly smiling face sligh...   \n",
      "4                           laura skillen lauris car   \n",
      "\n",
      "                                 translated_comments sentiment  \n",
      "0                                 mini cooper better   3 stars  \n",
      "1                                 prefer mini cooper   3 stars  \n",
      "2                              next fiat folded hand   5 stars  \n",
      "3  alexav mziiiiiiwna slightly smiling face sligh...   5 stars  \n",
      "4                           laura skillen lauris car   5 stars  \n",
      "Sentiment analysis complete. Results saved to /Users/federicomartin/Desktop/City/Applied Research Project/TikTok/sentiment_analyzed_comments_with_text_emojis_tiktok_fiat.csv.\n"
     ]
    }
   ],
   "source": [
    "import pandas as pd\n",
    "from transformers import pipeline\n",
    "import torch\n",
    "import time\n",
    "\n",
    "# Check if Apple Silicon with MPS backend is available\n",
    "device = torch.device(\"mps\") if torch.backends.mps.is_available() else torch.device(\"cpu\")\n",
    "print(f\"Using device: {device}\")\n",
    "\n",
    "# Load your data\n",
    "file_path =  '/Users/federicomartin/Desktop/final_translated_comments_with_text_emojis.csv'\n",
    "tiktok_data = pd.read_csv(file_path)\n",
    "\n",
    "# Load the pre-trained sentiment-analysis pipeline with GPU support\n",
    "sentiment_pipeline = pipeline(\"sentiment-analysis\", model=\"nlptown/bert-base-multilingual-uncased-sentiment\", device=device)\n",
    "\n",
    "# Function to split text into chunks of max_length\n",
    "def chunk_text(text, max_length=512):\n",
    "    return [text[i:i + max_length] for i in range(0, len(text), max_length)]\n",
    "\n",
    "# Function to apply sentiment analysis safely with segment processing\n",
    "def analyze_sentiment(text):\n",
    "    try:\n",
    "        chunks = chunk_text(text, max_length=512)\n",
    "        sentiments = [sentiment_pipeline(chunk)[0]['label'] for chunk in chunks]\n",
    "        # Aggregate sentiments (simple approach: take the mode, assuming it's a majority vote)\n",
    "        aggregated_sentiment = max(set(sentiments), key=sentiments.count)\n",
    "        return aggregated_sentiment\n",
    "    except Exception as e:\n",
    "        print(f\"Error processing text: {text}\\nError: {e}\")\n",
    "        return None\n",
    "\n",
    "# Progress tracking variables\n",
    "total_comments = len(tiktok_data)\n",
    "start_time = time.time()\n",
    "\n",
    "# Apply sentiment analysis to the translated comments\n",
    "sentiments = []\n",
    "for idx, comment in enumerate(tiktok_data['comment']):\n",
    "    sentiment = analyze_sentiment(str(comment))\n",
    "    sentiments.append(sentiment)\n",
    "\n",
    "    # Print progress every 10 comments\n",
    "    if (idx + 1) % 10 == 0:\n",
    "        elapsed_time = time.time() - start_time\n",
    "        print(f\"Processed {idx + 1}/{total_comments} comments. Elapsed time: {elapsed_time:.2f} seconds.\")\n",
    "\n",
    "# Add sentiments to the dataframe\n",
    "tiktok_data['sentiment'] = sentiments\n",
    "\n",
    "# Display the first few rows to show the sentiment analysis results\n",
    "print(tiktok_data.head())\n",
    "\n",
    "# Define the directory path\n",
    "directory_path = \"/Users/federicomartin/Desktop/City/Applied Research Project/TikTok\"\n",
    "\n",
    "# Save the results to a new CSV file\n",
    "output_file_path = f\"{directory_path}/sentiment_analyzed_comments_with_text_emojis_tiktok_fiat.csv\"\n",
    "tiktok_data.to_csv(output_file_path, index=False)\n",
    "\n",
    "print(f\"Sentiment analysis complete. Results saved to {output_file_path}.\")"
   ]
  },
  {
   "cell_type": "markdown",
   "metadata": {},
   "source": [
    "#### Star rating plot"
   ]
  },
  {
   "cell_type": "code",
   "execution_count": 24,
   "metadata": {},
   "outputs": [
    {
     "data": {
      "image/png": "[encoded data removed]",
      "text/plain": [
       "<Figure size 1200x800 with 1 Axes>"
      ]
     },
     "metadata": {},
     "output_type": "display_data"
    }
   ],
   "source": [
    "import pandas as pd\n",
    "import matplotlib.pyplot as plt\n",
    "import seaborn as sns\n",
    "\n",
    "# Load the sentiment analyzed data\n",
    "file_path =  '/Users/federicomartin/Desktop/City/Applied Research Project/TikTok/sentiment_analyzed_comments_with_text_emojis_tiktok_fiat.csv'\n",
    "tiktok_data = pd.read_csv(file_path)\n",
    "\n",
    "# Extract the star ratings from the sentiment labels\n",
    "tiktok_data['star_rating'] = tiktok_data['sentiment'].apply(lambda x: int(x.split()[0]) if 'star' in x else None)\n",
    "\n",
    "# Count the occurrences of each star rating\n",
    "rating_counts = tiktok_data['star_rating'].value_counts().sort_index(ascending=False)\n",
    "\n",
    "# Plot the results\n",
    "plt.figure(figsize=(12, 8))\n",
    "sns.barplot(x=rating_counts.index, y=rating_counts.values, palette='viridis')\n",
    "\n",
    "# Set plot details\n",
    "plt.title('Distribution of Star Ratings for Fiat Reddit Page Dolcevita Concept Reviews', fontsize=16)\n",
    "plt.xlabel('Star Rating', fontsize=14)\n",
    "plt.ylabel('Count', fontsize=14)\n",
    "plt.xticks(rotation=0)\n",
    "plt.grid(axis='y', linestyle='--', alpha=0.7)\n",
    "\n",
    "# Save and display the plot\n",
    "plt.savefig('star_rating_distribution_with_text_emojis_fiat_Reddit.png', dpi=300)\n",
    "plt.show()"
   ]
  },
  {
   "cell_type": "markdown",
   "metadata": {},
   "source": [
    "#### Sentiment distribution"
   ]
  },
  {
   "cell_type": "code",
   "execution_count": 32,
   "metadata": {},
   "outputs": [
    {
     "data": {
      "image/png": "[encoded data removed]",
      "text/plain": [
       "<Figure size 1200x800 with 1 Axes>"
      ]
     },
     "metadata": {},
     "output_type": "display_data"
    }
   ],
   "source": [
    "import pandas as pd\n",
    "import matplotlib.pyplot as plt\n",
    "import seaborn as sns\n",
    "\n",
    "# Load the sentiment analyzed data\n",
    "file_path =  '/Users/federicomartin/Desktop/City/Applied Research Project/TikTok/sentiment_analyzed_comments_with_text_emojis_tiktok_fiat.csv'\n",
    "tiktok_data = pd.read_csv(file_path)\n",
    "\n",
    "# Extract the star ratings from the sentiment labels\n",
    "tiktok_data['star_rating'] = tiktok_data['sentiment'].apply(lambda x: int(x.split()[0]) if 'star' in x else None)\n",
    "\n",
    "# Convert star ratings to sentiment categories\n",
    "def star_to_sentiment(star_rating):\n",
    "    if star_rating in [4, 5]:\n",
    "        return 'Positive'\n",
    "    elif star_rating == 3:\n",
    "        return 'Neutral'\n",
    "    elif star_rating in [1, 2]:\n",
    "        return 'Negative'\n",
    "    else:\n",
    "        return None\n",
    "\n",
    "tiktok_data['sentiment_category'] = tiktok_data['star_rating'].apply(star_to_sentiment)\n",
    "\n",
    "# Count the occurrences of each sentiment category\n",
    "sentiment_counts = tiktok_data['sentiment_category'].value_counts()\n",
    "\n",
    "# Plot the results\n",
    "plt.figure(figsize=(12, 8))\n",
    "sns.barplot(x=sentiment_counts.index, y=sentiment_counts.values, palette='viridis')\n",
    "\n",
    "# Set plot details\n",
    "plt.title('Distribution of Sentiment for Fiat Tiktok Dolcevita Concept', fontsize=16)\n",
    "plt.xlabel('Sentiment Category', fontsize=14)\n",
    "plt.ylabel('Count', fontsize=14)\n",
    "plt.xticks(rotation=0)\n",
    "plt.grid(axis='y', linestyle='--', alpha=0.7)\n",
    "\n",
    "# Save and display the plot\n",
    "plt.savefig('sentiment_category_distribution_fiat_Tiktok.png', dpi=300)\n",
    "plt.show()"
   ]
  }
 ],
 "metadata": {
  "kernelspec": {
   "display_name": "base",
   "language": "python",
   "name": "python3"
  },
  "language_info": {
   "codemirror_mode": {
    "name": "ipython",
    "version": 3
   },
   "file_extension": ".py",
   "mimetype": "text/x-python",
   "name": "python",
   "nbconvert_exporter": "python",
   "pygments_lexer": "ipython3",
   "version": "3.11.4"
  }
 },
 "nbformat": 4,
 "nbformat_minor": 2
}
