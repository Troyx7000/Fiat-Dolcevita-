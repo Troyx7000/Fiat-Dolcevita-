{
 "cells": [
  {
   "cell_type": "markdown",
   "metadata": {},
   "source": [
    "## Instagram Analysis "
   ]
  },
  {
   "cell_type": "markdown",
   "metadata": {},
   "source": [
    "## Pre Processing the Scraped Data From instagram "
   ]
  },
  {
   "cell_type": "markdown",
   "metadata": {},
   "source": [
    "### Cleaning Instagram Comments Data\n",
    "\n",
    "We start by loading the raw dataset obtained from Apify's Instagram comment scraper. The dataset contains unnecessary columns and rows with missing comment data, which we don't need for our analysis.\n",
    "\n",
    "- **Removing unwanted columns**: Columns like `'error'`, `'id'`, `'inputUrl'`, and `'ownerProfilePicUrl'` are not relevant for our analysis, so they are removed to streamline the dataset.\n",
    "  \n",
    "- **Dropping rows with missing comments**: Rows with missing values in the `'text'` column (which contains the comments) are dropped to ensure our data is complete and ready for analysis.\n",
    "\n",
    "- **Saving the cleaned dataset**: The cleaned dataset is then saved to a new CSV file for further use.\n"
   ]
  },
  {
   "cell_type": "code",
   "execution_count": 1,
   "metadata": {},
   "outputs": [
    {
     "name": "stdout",
     "output_type": "stream",
     "text": [
      "Cleaned data saved to zinstagram_comments_filtered.csv\n"
     ]
    }
   ],
   "source": [
    "import pandas as pd\n",
    "\n",
    "# Load the dataset\n",
    "file_path = '/Users/abhishekroy/Downloads/vscode folder/Zinstagram-comment-scraper_2024-08-09_00-37-54-932.csv'  # Replace with your file path\n",
    "df = pd.read_csv(file_path)\n",
    "\n",
    "# Remove specified columns: 'error', 'id', 'inputUrl', 'ownerProfilePicUrl'\n",
    "df_cleaned = df.drop(columns=['error', 'id', 'inputUrl', 'ownerProfilePicUrl'])\n",
    "\n",
    "# Drop rows where 'text' (comments) is NaN\n",
    "df_cleaned = df_cleaned.dropna(subset=['text'])\n",
    "\n",
    "# Save the cleaned dataset to a new CSV file\n",
    "cleaned_file_path = 'zinstagram_comments_filtered.csv'  # Specify your desired path\n",
    "df_cleaned.to_csv(cleaned_file_path, index=False)\n",
    "\n",
    "print(f\"Cleaned data saved to {cleaned_file_path}\")\n"
   ]
  },
  {
   "cell_type": "code",
   "execution_count": 9,
   "metadata": {},
   "outputs": [
    {
     "data": {
      "text/html": [
       "<div>\n",
       "<style scoped>\n",
       "    .dataframe tbody tr th:only-of-type {\n",
       "        vertical-align: middle;\n",
       "    }\n",
       "\n",
       "    .dataframe tbody tr th {\n",
       "        vertical-align: top;\n",
       "    }\n",
       "\n",
       "    .dataframe thead th {\n",
       "        text-align: right;\n",
       "    }\n",
       "</style>\n",
       "<table border=\"1\" class=\"dataframe\">\n",
       "  <thead>\n",
       "    <tr style=\"text-align: right;\">\n",
       "      <th></th>\n",
       "      <th>likesCount</th>\n",
       "      <th>ownerUsername</th>\n",
       "      <th>postUrl</th>\n",
       "      <th>text</th>\n",
       "      <th>timestamp</th>\n",
       "      <th>cleaned_comment</th>\n",
       "      <th>cleaned_comment_with_text_emojis</th>\n",
       "    </tr>\n",
       "  </thead>\n",
       "  <tbody>\n",
       "    <tr>\n",
       "      <th>count</th>\n",
       "      <td>1486.000000</td>\n",
       "      <td>1486</td>\n",
       "      <td>1486</td>\n",
       "      <td>1486</td>\n",
       "      <td>1486</td>\n",
       "      <td>1288</td>\n",
       "      <td>1483</td>\n",
       "    </tr>\n",
       "    <tr>\n",
       "      <th>unique</th>\n",
       "      <td>NaN</td>\n",
       "      <td>575</td>\n",
       "      <td>185</td>\n",
       "      <td>1378</td>\n",
       "      <td>1485</td>\n",
       "      <td>1194</td>\n",
       "      <td>1370</td>\n",
       "    </tr>\n",
       "    <tr>\n",
       "      <th>top</th>\n",
       "      <td>NaN</td>\n",
       "      <td>fiat_500c_dolcevita</td>\n",
       "      <td>https://www.instagram.com/p/Cq-DthwMDvG/</td>\n",
       "      <td>😍😍😍</td>\n",
       "      <td>2024-03-11T14:07:49.000Z</td>\n",
       "      <td>beautiful</td>\n",
       "      <td>smiling face heart eye smiling face heart eye ...</td>\n",
       "    </tr>\n",
       "    <tr>\n",
       "      <th>freq</th>\n",
       "      <td>NaN</td>\n",
       "      <td>169</td>\n",
       "      <td>50</td>\n",
       "      <td>17</td>\n",
       "      <td>2</td>\n",
       "      <td>10</td>\n",
       "      <td>17</td>\n",
       "    </tr>\n",
       "    <tr>\n",
       "      <th>mean</th>\n",
       "      <td>0.812921</td>\n",
       "      <td>NaN</td>\n",
       "      <td>NaN</td>\n",
       "      <td>NaN</td>\n",
       "      <td>NaN</td>\n",
       "      <td>NaN</td>\n",
       "      <td>NaN</td>\n",
       "    </tr>\n",
       "    <tr>\n",
       "      <th>std</th>\n",
       "      <td>0.721946</td>\n",
       "      <td>NaN</td>\n",
       "      <td>NaN</td>\n",
       "      <td>NaN</td>\n",
       "      <td>NaN</td>\n",
       "      <td>NaN</td>\n",
       "      <td>NaN</td>\n",
       "    </tr>\n",
       "    <tr>\n",
       "      <th>min</th>\n",
       "      <td>0.000000</td>\n",
       "      <td>NaN</td>\n",
       "      <td>NaN</td>\n",
       "      <td>NaN</td>\n",
       "      <td>NaN</td>\n",
       "      <td>NaN</td>\n",
       "      <td>NaN</td>\n",
       "    </tr>\n",
       "    <tr>\n",
       "      <th>25%</th>\n",
       "      <td>0.000000</td>\n",
       "      <td>NaN</td>\n",
       "      <td>NaN</td>\n",
       "      <td>NaN</td>\n",
       "      <td>NaN</td>\n",
       "      <td>NaN</td>\n",
       "      <td>NaN</td>\n",
       "    </tr>\n",
       "    <tr>\n",
       "      <th>50%</th>\n",
       "      <td>1.000000</td>\n",
       "      <td>NaN</td>\n",
       "      <td>NaN</td>\n",
       "      <td>NaN</td>\n",
       "      <td>NaN</td>\n",
       "      <td>NaN</td>\n",
       "      <td>NaN</td>\n",
       "    </tr>\n",
       "    <tr>\n",
       "      <th>75%</th>\n",
       "      <td>1.000000</td>\n",
       "      <td>NaN</td>\n",
       "      <td>NaN</td>\n",
       "      <td>NaN</td>\n",
       "      <td>NaN</td>\n",
       "      <td>NaN</td>\n",
       "      <td>NaN</td>\n",
       "    </tr>\n",
       "    <tr>\n",
       "      <th>max</th>\n",
       "      <td>11.000000</td>\n",
       "      <td>NaN</td>\n",
       "      <td>NaN</td>\n",
       "      <td>NaN</td>\n",
       "      <td>NaN</td>\n",
       "      <td>NaN</td>\n",
       "      <td>NaN</td>\n",
       "    </tr>\n",
       "  </tbody>\n",
       "</table>\n",
       "</div>"
      ],
      "text/plain": [
       "         likesCount        ownerUsername  \\\n",
       "count   1486.000000                 1486   \n",
       "unique          NaN                  575   \n",
       "top             NaN  fiat_500c_dolcevita   \n",
       "freq            NaN                  169   \n",
       "mean       0.812921                  NaN   \n",
       "std        0.721946                  NaN   \n",
       "min        0.000000                  NaN   \n",
       "25%        0.000000                  NaN   \n",
       "50%        1.000000                  NaN   \n",
       "75%        1.000000                  NaN   \n",
       "max       11.000000                  NaN   \n",
       "\n",
       "                                         postUrl  text  \\\n",
       "count                                       1486  1486   \n",
       "unique                                       185  1378   \n",
       "top     https://www.instagram.com/p/Cq-DthwMDvG/   😍😍😍   \n",
       "freq                                          50    17   \n",
       "mean                                         NaN   NaN   \n",
       "std                                          NaN   NaN   \n",
       "min                                          NaN   NaN   \n",
       "25%                                          NaN   NaN   \n",
       "50%                                          NaN   NaN   \n",
       "75%                                          NaN   NaN   \n",
       "max                                          NaN   NaN   \n",
       "\n",
       "                       timestamp cleaned_comment  \\\n",
       "count                       1486            1288   \n",
       "unique                      1485            1194   \n",
       "top     2024-03-11T14:07:49.000Z       beautiful   \n",
       "freq                           2              10   \n",
       "mean                         NaN             NaN   \n",
       "std                          NaN             NaN   \n",
       "min                          NaN             NaN   \n",
       "25%                          NaN             NaN   \n",
       "50%                          NaN             NaN   \n",
       "75%                          NaN             NaN   \n",
       "max                          NaN             NaN   \n",
       "\n",
       "                         cleaned_comment_with_text_emojis  \n",
       "count                                                1483  \n",
       "unique                                               1370  \n",
       "top     smiling face heart eye smiling face heart eye ...  \n",
       "freq                                                   17  \n",
       "mean                                                  NaN  \n",
       "std                                                   NaN  \n",
       "min                                                   NaN  \n",
       "25%                                                   NaN  \n",
       "50%                                                   NaN  \n",
       "75%                                                   NaN  \n",
       "max                                                   NaN  "
      ]
     },
     "execution_count": 9,
     "metadata": {},
     "output_type": "execute_result"
    }
   ],
   "source": [
    "import pandas as pd\n",
    "\n",
    "# Load the CSV file\n",
    "file_path = '/Users/abhishekroy/Downloads/vscode folder/cleaned_instagram_comments.csv'\n",
    "df = pd.read_csv(file_path)\n",
    "\n",
    "# Calculate descriptive statistics\n",
    "descriptive_stats = df.describe(include='all')\n",
    "\n",
    "# Display the descriptive statistics\n",
    "descriptive_stats\n"
   ]
  },
  {
   "cell_type": "markdown",
   "metadata": {},
   "source": [
    "### Data Cleaning for Topic Modeling\n",
    "\n",
    "To prepare the Instagram comments dataset for topic modeling, the following cleaning steps were performed:\n",
    "\n",
    "- **HTML Tags and Unnecessary Tokens Removal**: Removed HTML tags and non-relevant tokens like `'br'`, `'href'`, and `'quot'` to clean up the text data.\n",
    "\n",
    "- **Text Normalization**: \n",
    "  - Removed URLs, punctuation, digits, and underscores.\n",
    "  - Converted the text to lowercase to ensure uniformity.\n",
    "  - Tokenized the comments and lemmatized the tokens to reduce words to their base forms.\n",
    "  - Removed common English stopwords to focus on meaningful words.\n",
    "\n",
    "- **Emoji Handling**: Optionally, converted emojis to text descriptions for sentimental analysis \n",
    "\n",
    "The cleaned comments are saved in a new CSV file, making them ready for topic modeling. The final dataset includes a column with cleaned comments and another with emojis converted to text if needed.\n"
   ]
  },
  {
   "cell_type": "code",
   "execution_count": 2,
   "metadata": {},
   "outputs": [
    {
     "name": "stderr",
     "output_type": "stream",
     "text": [
      "[nltk_data] Downloading package stopwords to\n",
      "[nltk_data]     /Users/abhishekroy/nltk_data...\n",
      "[nltk_data]   Package stopwords is already up-to-date!\n",
      "[nltk_data] Downloading package punkt to\n",
      "[nltk_data]     /Users/abhishekroy/nltk_data...\n",
      "[nltk_data]   Package punkt is already up-to-date!\n",
      "[nltk_data] Downloading package wordnet to\n",
      "[nltk_data]     /Users/abhishekroy/nltk_data...\n",
      "[nltk_data]   Package wordnet is already up-to-date!\n"
     ]
    },
    {
     "name": "stdout",
     "output_type": "stream",
     "text": [
      "Cleaning complete. Cleaned comments saved to cleaned_instagram_comments.csv.\n",
      "   likesCount          ownerUsername  \\\n",
      "0         1.0          furkanpakatci   \n",
      "1         1.0      2ladies1gentleman   \n",
      "2         3.0      joao.pedromarques   \n",
      "3         2.0  ohpedroestevaooficial   \n",
      "4         1.0      lucaskauan_amorim   \n",
      "\n",
      "                                    postUrl  \\\n",
      "0  https://www.instagram.com/p/Cteied4osR5/   \n",
      "1  https://www.instagram.com/p/Cteied4osR5/   \n",
      "2  https://www.instagram.com/p/CzL05zdNEp8/   \n",
      "3  https://www.instagram.com/p/CzL05zdNEp8/   \n",
      "4  https://www.instagram.com/p/CzL05zdNEp8/   \n",
      "\n",
      "                                                text  \\\n",
      "0                                  nE yaz ikeada mı😮   \n",
      "1          @furkanpakatci Her gittiği yer de olay! 😱   \n",
      "2  O Tipo SW que eles vendem lá na Europa agora t...   \n",
      "3  Eles não trouxeram simplesmente pq na época ti...   \n",
      "4  Nunca acreditei na desculpa da Fiat de que o 5...   \n",
      "\n",
      "                  timestamp  \\\n",
      "0  2023-06-14T18:19:20.000Z   \n",
      "1  2023-06-14T18:28:34.000Z   \n",
      "2  2023-11-03T13:03:47.000Z   \n",
      "3  2023-11-03T13:10:41.000Z   \n",
      "4  2023-11-03T13:17:10.000Z   \n",
      "\n",
      "                                     cleaned_comment  \\\n",
      "0                                   ne yaz ikeada mı   \n",
      "1                  furkanpakatci gittiği yer de olay   \n",
      "2  tipo sw que eles vendem lá na europa agora tam...   \n",
      "3  eles não trouxeram simplesmente pq na época ti...   \n",
      "4  nunca acreditei na desculpa da fiat de que x c...   \n",
      "\n",
      "                    cleaned_comment_with_text_emojis  \n",
      "0                   ne yaz ikeada mı face open mouth  \n",
      "1  furkanpakatci gittiği yer de olay face screami...  \n",
      "2  tipo sw que eles vendem lá na europa agora tam...  \n",
      "3  eles não trouxeram simplesmente pq na época ti...  \n",
      "4  nunca acreditei na desculpa da fiat de que x c...  \n",
      "Number of comments after cleaning: 1486\n"
     ]
    }
   ],
   "source": [
    "import pandas as pd\n",
    "import re\n",
    "import nltk\n",
    "from nltk.corpus import stopwords\n",
    "from nltk.stem import WordNetLemmatizer\n",
    "import emoji\n",
    "\n",
    "# Download necessary NLTK data\n",
    "nltk.download('stopwords')\n",
    "nltk.download('punkt')\n",
    "nltk.download('wordnet')\n",
    "\n",
    "# Initialize tools\n",
    "lemmatizer = WordNetLemmatizer()\n",
    "stop_words = set(stopwords.words('english'))\n",
    "\n",
    "# Function to remove HTML tags and non-relevant tokens\n",
    "def remove_html_tags_and_tokens(comment):\n",
    "    comment = re.sub(r'<.*?>', ' ', comment)  # Remove HTML tags\n",
    "    comment = re.sub(r'\\bbr\\b', ' ', comment)  # Remove \"br\" tokens\n",
    "    comment = re.sub(r'\\bhref\\b', ' ', comment)  # Remove \"href\" tokens\n",
    "    comment = re.sub(r'\\bquot\\b', ' ', comment)  # Remove \"quot\" tokens\n",
    "    return comment\n",
    "\n",
    "# Function to clean comments\n",
    "def clean_comment(comment):\n",
    "    if pd.isna(comment):\n",
    "        return \"\"\n",
    "    comment = str(comment)  # Ensure the comment is a string\n",
    "    comment = remove_html_tags_and_tokens(comment)  # Remove HTML tags and tokens\n",
    "    comment = re.sub(r'http\\S+|www\\S+|https\\S+', '', comment)  # Remove URLs\n",
    "    comment = re.sub(r'\\W', ' ', comment)  # Remove punctuation\n",
    "    comment = re.sub(r'\\d', '', comment)  # Remove digits\n",
    "    comment = comment.replace('_', ' ')  # Replace underscores with spaces\n",
    "    comment = comment.lower()  # Convert to lowercase\n",
    "    tokens = nltk.word_tokenize(comment)  # Tokenize\n",
    "    cleaned_tokens = [lemmatizer.lemmatize(word) for word in tokens if word not in stop_words]  # Remove stopwords and lemmatize\n",
    "    return ' '.join(cleaned_tokens)\n",
    "\n",
    "# Function to convert emojis to text\n",
    "def convert_emojis_to_text(comment):\n",
    "    if isinstance(comment, float):\n",
    "        return str(comment)  # Convert float to string\n",
    "    else:\n",
    "        return emoji.demojize(comment)\n",
    "\n",
    "# Load the Instagram dataset\n",
    "file_path = '/Users/abhishekroy/Downloads/vscode folder/zinstagram_comments_filtered.csv'  # Replace with your actual file path\n",
    "comments_df = pd.read_csv(file_path)\n",
    "\n",
    "# Apply the cleaning function to the 'text' column\n",
    "comments_df['cleaned_comment'] = comments_df['text'].apply(clean_comment)\n",
    "\n",
    "# Optionally, apply the emoji conversion and cleaning to another column if needed\n",
    "comments_df['cleaned_comment_with_text_emojis'] = comments_df['text'].apply(lambda x: clean_comment(convert_emojis_to_text(x)))\n",
    "\n",
    "# Save the updated DataFrame to a new CSV file\n",
    "output_file_path = 'cleaned_instagram_comments.csv'  # Specify your desired output file path\n",
    "comments_df.to_csv(output_file_path, index=False)\n",
    "\n",
    "print(f\"Cleaning complete. Cleaned comments saved to {output_file_path}.\")\n",
    "\n",
    "# Display the first few rows of the updated DataFrame\n",
    "print(comments_df.head())\n",
    "\n",
    "# Check the number of comments after the cleaning process\n",
    "num_comments = comments_df.shape[0]\n",
    "print(f\"Number of comments after cleaning: {num_comments}\")\n"
   ]
  },
  {
   "cell_type": "markdown",
   "metadata": {},
   "source": [
    "### Translating Non-English Comments to English\n",
    "\n",
    "To ensure that the dataset is suitable for topic modeling and compatible with most machine learning libraries, the non-English comments were translated to English. This was done for two key reasons:\n",
    "\n",
    "1. **Data Preservation**: Translating non-English comments helps to retain as much data as possible, avoiding the loss of valuable insights contained in comments written in different languages.\n",
    "  \n",
    "2. **Compatibility**: Most machine learning libraries and tools are optimized for English, making it essential to have the dataset in English for effective analysis.\n",
    "\n",
    "The DeepL API was used for translation due to its accuracy and support for multiple languages. The process involved:\n",
    "\n",
    "- **Batch Translation**: Comments were translated in batches to efficiently handle large volumes of text while respecting API request size limits.\n",
    "- **Progress Tracking**: A progress bar was implemented to monitor the translation process, ensuring smooth and complete translation of the entire dataset.\n",
    "- **Output**: The translated comments were saved into a new CSV file for further analysis.\n",
    "\n",
    "This step ensures that the dataset is fully in English, making it ready for subsequent topic modeling and machine learning tasks.\n"
   ]
  },
  {
   "cell_type": "code",
   "execution_count": 3,
   "metadata": {},
   "outputs": [
    {
     "name": "stderr",
     "output_type": "stream",
     "text": [
      "Translating comments: 100%|██████████| 1486/1486 [00:03<00:00, 373.12it/s]"
     ]
    },
    {
     "name": "stdout",
     "output_type": "stream",
     "text": [
      "Translation complete. Translated comments saved to translated_instagram_comments.csv.\n",
      "   likesCount          ownerUsername  \\\n",
      "0         1.0          furkanpakatci   \n",
      "1         1.0      2ladies1gentleman   \n",
      "2         3.0      joao.pedromarques   \n",
      "3         2.0  ohpedroestevaooficial   \n",
      "4         1.0      lucaskauan_amorim   \n",
      "\n",
      "                                    postUrl  \\\n",
      "0  https://www.instagram.com/p/Cteied4osR5/   \n",
      "1  https://www.instagram.com/p/Cteied4osR5/   \n",
      "2  https://www.instagram.com/p/CzL05zdNEp8/   \n",
      "3  https://www.instagram.com/p/CzL05zdNEp8/   \n",
      "4  https://www.instagram.com/p/CzL05zdNEp8/   \n",
      "\n",
      "                                                text  \\\n",
      "0                                  nE yaz ikeada mı😮   \n",
      "1          @furkanpakatci Her gittiği yer de olay! 😱   \n",
      "2  O Tipo SW que eles vendem lá na Europa agora t...   \n",
      "3  Eles não trouxeram simplesmente pq na época ti...   \n",
      "4  Nunca acreditei na desculpa da Fiat de que o 5...   \n",
      "\n",
      "                  timestamp  \\\n",
      "0  2023-06-14T18:19:20.000Z   \n",
      "1  2023-06-14T18:28:34.000Z   \n",
      "2  2023-11-03T13:03:47.000Z   \n",
      "3  2023-11-03T13:10:41.000Z   \n",
      "4  2023-11-03T13:17:10.000Z   \n",
      "\n",
      "                                     cleaned_comment  \\\n",
      "0                                   ne yaz ikeada mı   \n",
      "1                  furkanpakatci gittiği yer de olay   \n",
      "2  tipo sw que eles vendem lá na europa agora tam...   \n",
      "3  eles não trouxeram simplesmente pq na época ti...   \n",
      "4  nunca acreditei na desculpa da fiat de que x c...   \n",
      "\n",
      "                    cleaned_comment_with_text_emojis  \\\n",
      "0                   ne yaz ikeada mı face open mouth   \n",
      "1  furkanpakatci gittiği yer de olay face screami...   \n",
      "2  tipo sw que eles vendem lá na europa agora tam...   \n",
      "3  eles não trouxeram simplesmente pq na época ti...   \n",
      "4  nunca acreditei na desculpa da fiat de que x c...   \n",
      "\n",
      "                                 translated_comments  \n",
      "0                               What summer in ikea?  \n",
      "1       furkanpakatci is also an event where he goes  \n",
      "2  type sw that they sell in europe now also podi...  \n",
      "3  they didn't bring it simply because at the tim...  \n",
      "4  i never believed fiat's excuse that x would ca...  \n"
     ]
    },
    {
     "name": "stderr",
     "output_type": "stream",
     "text": [
      "\n"
     ]
    }
   ],
   "source": [
    "import deepl\n",
    "import pandas as pd\n",
    "from tqdm import tqdm\n",
    "import time\n",
    "import json\n",
    "\n",
    "# Initialize DeepL API credentials\n",
    "api_key = '90880816-06ee-4f7a-8427-83bf5ebee279'  # Replace with your provided API key\n",
    "translator = deepl.Translator(api_key)\n",
    "\n",
    "# Function to translate a batch of comments using DeepL API\n",
    "def translate_comments_batch(comments, target_lang='EN-GB'):\n",
    "    try:\n",
    "        translations = translator.translate_text(comments, target_lang=target_lang)\n",
    "        return [translation.text for translation in translations]\n",
    "    except deepl.DeepLException as e:\n",
    "        print(f\"Error in translation: {e}\")\n",
    "        return [''] * len(comments)  # Return empty strings for this batch\n",
    "\n",
    "# Function to calculate the size of a JSON-encoded string\n",
    "def json_size(data):\n",
    "    return len(json.dumps(data).encode('utf-8'))\n",
    "\n",
    "# Load the dataset\n",
    "file_path = 'cleaned_instagram_comments.csv'  # Replace with your actual file path\n",
    "processed_comments_df = pd.read_csv(file_path)\n",
    "\n",
    "# Ensure all comments are strings and clean\n",
    "column_name = 'cleaned_comment'  # Use the correct column name from your dataset\n",
    "processed_comments_df[column_name] = processed_comments_df[column_name].apply(lambda x: str(x) if not pd.isna(x) else '')\n",
    "\n",
    "# Batch processing settings\n",
    "max_request_size = 128 * 1024  # 128 KiB\n",
    "translated_comments = []\n",
    "\n",
    "# Translate the comments with progress bar\n",
    "i = 0\n",
    "total_comments = len(processed_comments_df)\n",
    "with tqdm(total=total_comments, desc=\"Translating comments\") as pbar:\n",
    "    while i < total_comments:\n",
    "        batch_comments = []\n",
    "        current_size = 0\n",
    "        \n",
    "        while i < total_comments and current_size < max_request_size:\n",
    "            comment = processed_comments_df[column_name][i]\n",
    "            comment_size = json_size({\"text\": [comment], \"target_lang\": \"EN-GB\"})\n",
    "            if current_size + comment_size < max_request_size:\n",
    "                batch_comments.append(comment)\n",
    "                current_size += comment_size\n",
    "                i += 1\n",
    "            else:\n",
    "                break\n",
    "\n",
    "        translated_batch = translate_comments_batch(batch_comments)\n",
    "        translated_comments.extend(translated_batch)\n",
    "        pbar.update(len(batch_comments))\n",
    "        time.sleep(1)  # Add a delay between batches to avoid rate limiting\n",
    "\n",
    "# Add remaining untranslated comments if any\n",
    "if i < total_comments:\n",
    "    remaining_comments = processed_comments_df[column_name][i:].tolist()\n",
    "    translated_batch = translate_comments_batch(remaining_comments)\n",
    "    translated_comments.extend(translated_batch)\n",
    "\n",
    "processed_comments_df['translated_comments'] = translated_comments\n",
    "\n",
    "# Save the DataFrame with translated comments to a new CSV file\n",
    "output_file_path = 'translated_instagram_comments.csv'\n",
    "processed_comments_df.to_csv(output_file_path, index=False)\n",
    "\n",
    "print(f\"Translation complete. Translated comments saved to {output_file_path}.\")\n",
    "\n",
    "# Display the first few rows of the updated DataFrame\n",
    "print(processed_comments_df.head())\n"
   ]
  },
  {
   "cell_type": "markdown",
   "metadata": {},
   "source": [
    "### Filtering the Dataset for Analysis\n",
    "\n",
    "After translating the comments, the next step was to refine the dataset by keeping only the most relevant columns. This step is crucial to streamline the data for further analysis and topic modeling.\n",
    "\n",
    "- **Columns Retained**: The dataset was filtered to retain the following columns:\n",
    "  - `translated_comments`: Contains the clean, translated text of the comments.\n",
    "  - `cleaned_comment_with_text_emojis`: Includes the cleaned comments with emojis converted to text, which may be relevant for certain analyses.\n",
    "  - `timestamp`: Represents the date and time when the comment was posted, important for any time-based analysis.\n",
    "\n",
    "- **Output**: The filtered dataset was saved into a new CSV file, reducing the data to only what is necessary for the next steps in the analysis process.\n",
    "\n",
    "This filtering ensures that the dataset is focused and ready for detailed analysis or modeling.\n"
   ]
  },
  {
   "cell_type": "code",
   "execution_count": 4,
   "metadata": {},
   "outputs": [
    {
     "name": "stdout",
     "output_type": "stream",
     "text": [
      "Filtered data saved to filtered_instagram_comments.csv.\n"
     ]
    }
   ],
   "source": [
    "import pandas as pd\n",
    "\n",
    "# Load the DataFrame with the translated comments\n",
    "file_path = '/Users/abhishekroy/Downloads/vscode folder/translated_instagram_comments.csv'  # Replace with your actual file path\n",
    "df = pd.read_csv(file_path)\n",
    "\n",
    "# Specify the columns to keep: clean translated text, clean emoji text, and publish date\n",
    "columns_to_keep = ['translated_comments', 'cleaned_comment_with_text_emojis', 'timestamp']  # Adjust 'timestamp' if your date column has a different name\n",
    "\n",
    "# Create a new DataFrame with only the desired columns\n",
    "filtered_df = df[columns_to_keep]\n",
    "\n",
    "# Save the filtered DataFrame to a new CSV file\n",
    "output_file_path = 'filtered_instagram_comments.csv'  # Specify your desired output file path\n",
    "filtered_df.to_csv(output_file_path, index=False)\n",
    "\n",
    "print(f\"Filtered data saved to {output_file_path}.\")\n"
   ]
  },
  {
   "cell_type": "markdown",
   "metadata": {},
   "source": [
    "### Translating Emoji Text to English and Final Data Preparation\n",
    "\n",
    "In this step, we focused on translating any remaining non-English text, specifically within the comments that included emojis. This was done to ensure consistency and to make the dataset fully compatible with subsequent analysis tools.\n",
    "\n",
    "- **Emoji Text Translation**: \n",
    "  - The `cleaned_comment_with_text_emojis` column, which contains cleaned comments with emojis converted to text, was translated to English using the DeepL API.\n",
    "  - The translation process was managed in batches to respect API request size limits and avoid rate limiting, ensuring a smooth translation process.\n",
    "\n",
    "- **Final Dataset Filtering**:\n",
    "  - The translated emoji text was added as a new column, `translated_emoji_text`, in the DataFrame.\n",
    "  - The dataset was then filtered to retain only the key columns: `translated_comments`, `translated_emoji_text`, and `timestamp`.\n",
    "\n",
    "- **Output**: The fully processed and filtered dataset, now including the translated emoji text, was saved into a new CSV file. This final dataset is now ready for comprehensive analysis or modeling.\n",
    "\n",
    "This step ensures that the dataset is fully translated into English, including all textual representations of emojis, making it fully prepared for any further analytical processes."
   ]
  },
  {
   "cell_type": "code",
   "execution_count": 5,
   "metadata": {},
   "outputs": [
    {
     "name": "stderr",
     "output_type": "stream",
     "text": [
      "Translating emoji text to English: 100%|██████████| 1486/1486 [00:04<00:00, 332.51it/s]"
     ]
    },
    {
     "name": "stdout",
     "output_type": "stream",
     "text": [
      "Filtered data saved to zfiltered_instagram_comments_with_translated_emojis.csv.\n"
     ]
    },
    {
     "name": "stderr",
     "output_type": "stream",
     "text": [
      "\n"
     ]
    }
   ],
   "source": [
    "import deepl\n",
    "import pandas as pd\n",
    "from tqdm import tqdm\n",
    "import time\n",
    "import json\n",
    "\n",
    "# Initialize DeepL API credentials\n",
    "api_key = '90880816-06ee-4f7a-8427-83bf5ebee279'  # Replace with your provided API key\n",
    "translator = deepl.Translator(api_key)\n",
    "\n",
    "# Function to translate a batch of comments using DeepL API\n",
    "def translate_comments_batch(comments, target_lang='EN-GB'):\n",
    "    try:\n",
    "        translations = translator.translate_text(comments, target_lang=target_lang)\n",
    "        return [translation.text for translation in translations]\n",
    "    except deepl.DeepLException as e:\n",
    "        print(f\"Error in translation: {e}\")\n",
    "        return [''] * len(comments)  # Return empty strings for this batch\n",
    "\n",
    "# Load the DataFrame with the translated comments\n",
    "file_path = '/Users/abhishekroy/Downloads/vscode folder/filtered_instagram_comments.csv'  # Replace with your actual file path\n",
    "df = pd.read_csv(file_path)\n",
    "\n",
    "# Ensure all comments are strings and clean\n",
    "df['cleaned_comment_with_text_emojis'] = df['cleaned_comment_with_text_emojis'].apply(lambda x: str(x) if not pd.isna(x) else '')\n",
    "\n",
    "# Translate the 'cleaned_comment_with_text_emojis' column to English\n",
    "translated_emojis = []\n",
    "total_comments = len(df['cleaned_comment_with_text_emojis'])\n",
    "\n",
    "with tqdm(total=total_comments, desc=\"Translating emoji text to English\") as pbar:\n",
    "    i = 0\n",
    "    while i < total_comments:\n",
    "        batch_comments = []\n",
    "        current_size = 0\n",
    "        \n",
    "        while i < total_comments and current_size < 128 * 1024:  # 128 KiB limit for DeepL\n",
    "            comment = df['cleaned_comment_with_text_emojis'][i]\n",
    "            comment_size = len(json.dumps({\"text\": [comment], \"target_lang\": \"EN-GB\"}).encode('utf-8'))\n",
    "            if current_size + comment_size < 128 * 1024:\n",
    "                batch_comments.append(comment)\n",
    "                current_size += comment_size\n",
    "                i += 1\n",
    "            else:\n",
    "                break\n",
    "\n",
    "        translated_batch = translate_comments_batch(batch_comments)\n",
    "        translated_emojis.extend(translated_batch)\n",
    "        pbar.update(len(batch_comments))\n",
    "        time.sleep(1)  # Add a delay between batches to avoid rate limiting\n",
    "\n",
    "# Add remaining untranslated comments if any\n",
    "if i < total_comments:\n",
    "    remaining_comments = df['cleaned_comment_with_text_emojis'][i:].tolist()\n",
    "    translated_batch = translate_comments_batch(remaining_comments)\n",
    "    translated_emojis.extend(translated_batch)\n",
    "\n",
    "# Add the translated emoji text to the DataFrame\n",
    "df['translated_emoji_text'] = translated_emojis\n",
    "\n",
    "# Specify the columns to keep: clean translated text, translated emoji text, and publish date\n",
    "columns_to_keep = ['translated_comments', 'translated_emoji_text', 'timestamp']  # Adjust 'timestamp' if your date column has a different name\n",
    "\n",
    "# Create a new DataFrame with only the desired columns\n",
    "filtered_df = df[columns_to_keep]\n",
    "\n",
    "# Save the filtered DataFrame to a new CSV file\n",
    "output_file_path = 'zfiltered_instagram_comments_with_translated_emojis.csv'  # Specify your desired output file path\n",
    "filtered_df.to_csv(output_file_path, index=False)\n",
    "\n",
    "print(f\"Filtered data saved to {output_file_path}.\")\n"
   ]
  },
  {
   "cell_type": "markdown",
   "metadata": {},
   "source": [
    "### Topic Modeling to Analyze Public Perception of Fiat Dolcevita\n",
    "\n",
    "To understand the public perception of Fiat Dolcevita cars, topic modeling was performed on the `translated_comments` column of the dataset. This process involved the following steps:\n",
    "\n",
    "- **Text Preprocessing**:\n",
    "  - **Tokenization and Stopword Removal**: The text data was tokenized into individual words, with common English stopwords removed to focus on meaningful content.\n",
    "  - **Bigrams and Trigrams**: Bigrams and trigrams were identified and constructed to capture commonly occurring word pairs or triples. Using trigrams allowed for capturing more context within the comments, making the topics more meaningful and representative of the underlying themes.\n",
    "\n",
    "- **Dictionary and Corpus Creation**: \n",
    "  - A dictionary was created to map each unique word or phrase to an ID.\n",
    "  - A corpus was generated, representing the frequency of each word or phrase in each document, which is essential for training the LDA (Latent Dirichlet Allocation) model.\n",
    "\n",
    "- **Coherence Testing**:\n",
    "  - A coherence test was conducted to determine the optimal number of topics for the LDA model. This step is crucial to ensure that the topics generated by the model are meaningful and interpretable.\n",
    "  - The coherence scores were plotted against the number of topics to visualize which model performed best.\n",
    "\n",
    "- **Optimal Model Selection**:\n",
    "  - The model with the highest coherence score was selected as the optimal model.\n",
    "  - This model was used to identify the main topics present in the comments, each represented by a set of top words.\n",
    "\n",
    "- **Topic Inspection**:\n",
    "  - The top words from each topic were inspected, and any unrelated or irrelevant words were removed to refine the topics further.\n",
    "\n",
    "By using trigrams in the topic modeling process, we were able to capture more context and nuance from the Instagram comments, leading to a more accurate and detailed understanding of the public’s perception of Fiat Dolcevita cars.\n"
   ]
  },
  {
   "cell_type": "code",
   "execution_count": 11,
   "metadata": {},
   "outputs": [
    {
     "name": "stderr",
     "output_type": "stream",
     "text": [
      "[nltk_data] Downloading package stopwords to\n",
      "[nltk_data]     /Users/abhishekroy/nltk_data...\n",
      "[nltk_data]   Package stopwords is already up-to-date!\n",
      "[nltk_data] Downloading package punkt to\n",
      "[nltk_data]     /Users/abhishekroy/nltk_data...\n",
      "[nltk_data]   Package punkt is already up-to-date!\n"
     ]
    },
    {
     "data": {
      "image/png": "[encoded data removed]",
      "text/plain": [
       "<Figure size 640x480 with 1 Axes>"
      ]
     },
     "metadata": {},
     "output_type": "display_data"
    },
    {
     "name": "stdout",
     "output_type": "stream",
     "text": [
      "Optimal number of topics: 8\n",
      "(0, '0.133*\"I\" + 0.019*\"fiat\" + 0.013*\"dolcevita\" + 0.012*\"see\" + 0.010*\"The\" + 0.010*\"year\" + 0.010*\"It\" + 0.009*\"Thank\" + 0.008*\"next\" + 0.008*\"get\" + 0.008*\"like\" + 0.007*\"time\" + 0.007*\"could\" + 0.007*\"one\" + 0.006*\"hope\" + 0.006*\"go\" + 0.006*\"cute\" + 0.006*\"much\" + 0.006*\"know\" + 0.006*\"want\" + 0.005*\"happy\" + 0.005*\"love\" + 0.005*\"glad\" + 0.005*\"really\" + 0.005*\"take\" + 0.005*\"good\" + 0.004*\"would\" + 0.004*\"looking_forward\" + 0.004*\"able\" + 0.004*\"work\" + 0.003*\"first\" + 0.003*\"thought\" + 0.003*\"wonder\" + 0.003*\"look\" + 0.003*\"got\" + 0.003*\"thank\" + 0.003*\"meet\" + 0.003*\"ca\" + 0.003*\"pleasure\" + 0.003*\"car\" + 0.003*\"day\" + 0.003*\"fun\" + 0.003*\"lot\" + 0.003*\"going\" + 0.003*\"drive\" + 0.003*\"picture\" + 0.003*\"never\" + 0.003*\"back\" + 0.003*\"house\" + 0.003*\"right\" + 0.003*\"hard\" + 0.002*\"Wow\" + 0.002*\"made\" + 0.002*\"already\" + 0.002*\"forward\" + 0.002*\"Yes\" + 0.002*\"wish\" + 0.002*\"lol\" + 0.002*\"taken\" + 0.002*\"photos\" + 0.002*\"great\" + 0.002*\"without\" + 0.002*\"hiro_bon\" + 0.002*\"shig_c\" + 0.002*\"line\"')\n",
      "(1, '0.015*\"fiat\" + 0.015*\"I\" + 0.013*\"car\" + 0.012*\"black\" + 0.008*\"fun\" + 0.008*\"one\" + 0.008*\"really\" + 0.007*\"It\" + 0.007*\"Thank\" + 0.005*\"well\" + 0.005*\"winter\" + 0.005*\"fairy\" + 0.005*\"beautiful\" + 0.005*\"queenstangleddesires\" + 0.005*\"photos\" + 0.005*\"dolcevita\" + 0.005*\"much\" + 0.005*\"thank\" + 0.004*\"great\" + 0.004*\"Congratulations\" + 0.004*\"splendid\" + 0.004*\"The\" + 0.004*\"You\" + 0.004*\"time\" + 0.004*\"let\" + 0.003*\"see\" + 0.003*\"thanks\" + 0.003*\"careful\" + 0.003*\"right\" + 0.003*\"BON\" + 0.003*\"would\" + 0.003*\"looking\" + 0.003*\"prettier\" + 0.003*\"snow\" + 0.003*\"marci\" + 0.003*\"focus\" + 0.003*\"call\" + 0.003*\"Well\" + 0.003*\"never\" + 0.003*\"say\" + 0.003*\"little\" + 0.003*\"even\" + 0.003*\"Oh\" + 0.002*\"love\" + 0.002*\"done\" + 0.002*\"Akiko\" + 0.002*\"beauty\" + 0.002*\"miss\" + 0.002*\"lot\" + 0.002*\"best\" + 0.002*\"dad\" + 0.002*\"welcome\" + 0.002*\"fly\" + 0.002*\"without\" + 0.002*\"Please\" + 0.002*\"dino_nishi\" + 0.002*\"hard\" + 0.002*\"tm\" + 0.002*\"small\" + 0.002*\"send\" + 0.002*\"driver\" + 0.002*\"toot\" + 0.002*\"clear\" + 0.002*\"build\" + 0.002*\"top\"')\n",
      "(2, '0.014*\"I\" + 0.013*\"car\" + 0.011*\"love\" + 0.010*\"like\" + 0.008*\"nettisfiat\" + 0.008*\"oh\" + 0.008*\"beautiful\" + 0.007*\"see\" + 0.006*\"topolina_rossa\" + 0.006*\"It\" + 0.006*\"mudrinicmila\" + 0.006*\"delivery\" + 0.006*\"following\" + 0.005*\"The\" + 0.005*\"nice\" + 0.005*\"cute\" + 0.005*\"sweet\" + 0.005*\"done\" + 0.005*\"us\" + 0.005*\"way\" + 0.005*\"make\" + 0.004*\"thing\" + 0.004*\"imaimaquen\" + 0.004*\"danke\" + 0.004*\"strange\" + 0.004*\"elypre\" + 0.004*\"carrieslifestyle\" + 0.004*\"cherry_blossom\" + 0.004*\"test\" + 0.003*\"nan\" + 0.003*\"buy\" + 0.003*\"dolce\" + 0.003*\"amazing\" + 0.003*\"time\" + 0.003*\"queenstangleddesires\" + 0.003*\"za\" + 0.003*\"get\" + 0.003*\"back\" + 0.003*\"hide\" + 0.003*\"You\" + 0.003*\"green\" + 0.003*\"feel\" + 0.003*\"important\" + 0.003*\"anita\" + 0.003*\"pictures\" + 0.003*\"official\" + 0.003*\"Lovely\" + 0.003*\"different\" + 0.003*\"matt\" + 0.003*\"actually\" + 0.003*\"come\" + 0.003*\"Well\" + 0.003*\"model\" + 0.003*\"bili\" + 0.003*\"interested\" + 0.003*\"running\" + 0.003*\"daisy\" + 0.003*\"details\" + 0.003*\"og\" + 0.003*\"winter\" + 0.003*\"ig\" + 0.003*\"da\" + 0.003*\"omg\" + 0.003*\"sabibdr\" + 0.003*\"fordecoboost\"')\n",
      "(3, '0.021*\"Thank\" + 0.020*\"fiat\" + 0.018*\"thank\" + 0.014*\"much\" + 0.014*\"nice\" + 0.012*\"good\" + 0.012*\"look\" + 0.011*\"I\" + 0.011*\"pretty\" + 0.010*\"The\" + 0.008*\"really\" + 0.006*\"even\" + 0.006*\"beauty\" + 0.006*\"please\" + 0.006*\"dolcevita\" + 0.005*\"work\" + 0.005*\"day\" + 0.005*\"punoo\" + 0.005*\"It\" + 0.005*\"azaleas\" + 0.005*\"would\" + 0.004*\"ikuchon\" + 0.004*\"make\" + 0.004*\"waiting\" + 0.004*\"place\" + 0.004*\"pink\" + 0.004*\"morning\" + 0.004*\"like\" + 0.004*\"little\" + 0.003*\"chink\" + 0.003*\"also\" + 0.003*\"wish\" + 0.003*\"pleasant\" + 0.003*\"beautiful\" + 0.003*\"meet\" + 0.003*\"makes\" + 0.003*\"Kawazu\" + 0.003*\"nettiboholove\" + 0.003*\"wait\" + 0.003*\"price\" + 0.003*\"Pleased\" + 0.003*\"close\" + 0.003*\"He\" + 0.003*\"vita\" + 0.003*\"buried\" + 0.003*\"kojimambo\" + 0.003*\"enjoy\" + 0.003*\"post\" + 0.003*\"daughter\" + 0.003*\"cherry_blossoms\" + 0.003*\"dolce\" + 0.003*\"everything\" + 0.003*\"year\" + 0.003*\"though\" + 0.002*\"fun\" + 0.002*\"made\" + 0.002*\"go\" + 0.002*\"lovely\" + 0.002*\"take\" + 0.002*\"collaboration\" + 0.002*\"n\" + 0.002*\"sweetie\" + 0.002*\"contact\" + 0.002*\"almost\" + 0.002*\"susiboy\"')\n",
      "(4, '0.176*\"nan\" + 0.017*\"like\" + 0.014*\"picture\" + 0.013*\"I\" + 0.008*\"merry_christmas\" + 0.007*\"fiat\" + 0.006*\"The\" + 0.006*\"italy\" + 0.005*\"look\" + 0.005*\"x\" + 0.005*\"fiatslovenia\" + 0.005*\"photo\" + 0.004*\"Happy\" + 0.004*\"take\" + 0.004*\"wonderful\" + 0.004*\"This\" + 0.004*\"car\" + 0.004*\"please\" + 0.004*\"love\" + 0.003*\"forward\" + 0.003*\"A\" + 0.003*\"Oh\" + 0.003*\"mega\" + 0.003*\"weird\" + 0.003*\"ig\" + 0.003*\"ischia\" + 0.003*\"dolcevita\" + 0.003*\"Cute\" + 0.003*\"fiatlovers\" + 0.003*\"vegan\" + 0.003*\"hello\" + 0.003*\"lot\" + 0.003*\"together\" + 0.003*\"made\" + 0.003*\"took\" + 0.002*\"topolina_rossa\" + 0.002*\"Thank\" + 0.002*\"shot\" + 0.002*\"year\" + 0.002*\"thanks\" + 0.002*\"fun\" + 0.002*\"New_Year\" + 0.002*\"happened\" + 0.002*\"seeing\" + 0.002*\"also\" + 0.002*\"Cha_Cha_Cha\" + 0.002*\"hvala\" + 0.002*\"reflection\" + 0.002*\"akkun\" + 0.002*\"picnic\" + 0.002*\"ne\" + 0.002*\"infinite\" + 0.002*\"wheel\" + 0.002*\"ghost\" + 0.002*\"window\" + 0.002*\"schön\" + 0.002*\"always\" + 0.002*\"Justkidding\" + 0.002*\"stripes\" + 0.002*\"cream\" + 0.002*\"megmeg\" + 0.002*\"sunny\" + 0.002*\"mother\" + 0.002*\"art\" + 0.002*\"real\"')\n",
      "(5, '0.019*\"fiat\" + 0.017*\"It\" + 0.009*\"I\" + 0.009*\"nice\" + 0.008*\"wow\" + 0.006*\"content\" + 0.006*\"yesfiat\" + 0.006*\"great\" + 0.006*\"love\" + 0.005*\"colour\" + 0.005*\"austria\" + 0.005*\"uk\" + 0.005*\"cool\" + 0.005*\"good\" + 0.005*\"one\" + 0.005*\"got\" + 0.004*\"look\" + 0.004*\"topolina_rossa\" + 0.004*\"little\" + 0.004*\"melon_melon_melon_melon\" + 0.004*\"dolcevita\" + 0.004*\"miyaken\" + 0.004*\"sure\" + 0.004*\"drive\" + 0.003*\"send_pic\" + 0.003*\"The\" + 0.003*\"surrounded\" + 0.003*\"much\" + 0.003*\"Lovely\" + 0.003*\"talk\" + 0.003*\"people\" + 0.003*\"Mt\" + 0.003*\"BON\" + 0.003*\"magazine\" + 0.003*\"daughter\" + 0.003*\"c\" + 0.003*\"evening\" + 0.003*\"man\" + 0.003*\"co\" + 0.003*\"term\" + 0.003*\"condition\" + 0.003*\"generated\" + 0.003*\"user\" + 0.003*\"community\" + 0.003*\"power\" + 0.003*\"farecorail\" + 0.003*\"Thanks\" + 0.003*\"see\" + 0.003*\"getting\" + 0.002*\"year\" + 0.002*\"fun\" + 0.002*\"snow\" + 0.002*\"also\" + 0.002*\"fiatdolcevita\" + 0.002*\"blue\" + 0.002*\"Fuji\" + 0.002*\"de\" + 0.002*\"Happy\" + 0.002*\"need\" + 0.002*\"costs\" + 0.002*\"imaimaquen\" + 0.002*\"used\" + 0.002*\"someone\" + 0.002*\"garage\" + 0.002*\"cuter\"')\n",
      "(6, '0.061*\"beautiful\" + 0.018*\"Thank\" + 0.017*\"happy\" + 0.015*\"dear\" + 0.010*\"white\" + 0.009*\"enjoy\" + 0.009*\"super\" + 0.008*\"thanks\" + 0.008*\"c\" + 0.008*\"always\" + 0.008*\"send_pic\" + 0.008*\"thank\" + 0.007*\"abarth\" + 0.007*\"misalunlun\" + 0.007*\"The\" + 0.007*\"car\" + 0.007*\"much\" + 0.007*\"sunday\" + 0.006*\"nice\" + 0.005*\"motorized\" + 0.005*\"wow\" + 0.005*\"weekend\" + 0.005*\"day\" + 0.004*\"come\" + 0.004*\"We\" + 0.004*\"meet\" + 0.004*\"cute\" + 0.004*\"fiat\" + 0.004*\"turismo\" + 0.004*\"What\" + 0.004*\"annekatrinbergmann\" + 0.004*\"maami\" + 0.004*\"lily\" + 0.004*\"hand\" + 0.004*\"would\" + 0.004*\"pleasure\" + 0.004*\"great\" + 0.003*\"one\" + 0.003*\"It\" + 0.003*\"never\" + 0.003*\"love\" + 0.003*\"really\" + 0.003*\"also\" + 0.003*\"weather\" + 0.003*\"planet\" + 0.003*\"style\" + 0.003*\"beauty\" + 0.003*\"hh\" + 0.003*\"family\" + 0.003*\"dt\" + 0.003*\"exeo\" + 0.003*\"san\" + 0.003*\"drive\" + 0.003*\"colour\" + 0.003*\"like\" + 0.003*\"Kumi\" + 0.002*\"see\" + 0.002*\"mk\" + 0.002*\"kumi_imuk\" + 0.002*\"My\" + 0.002*\"home\" + 0.002*\"sir\" + 0.002*\"stylish\" + 0.002*\"body\" + 0.002*\"fascinating\"')\n",
      "(7, '0.035*\"I\" + 0.023*\"lovely\" + 0.021*\"It\" + 0.021*\"nice\" + 0.015*\"thank\" + 0.010*\"Thank\" + 0.007*\"car\" + 0.007*\"fiat\" + 0.007*\"think\" + 0.006*\"meet\" + 0.006*\"looks\" + 0.006*\"great\" + 0.005*\"good\" + 0.005*\"day\" + 0.005*\"The\" + 0.005*\"We\" + 0.005*\"deer\" + 0.005*\"weekend\" + 0.005*\"e\" + 0.005*\"snow\" + 0.004*\"saffron\" + 0.004*\"happy\" + 0.004*\"You\" + 0.004*\"want\" + 0.003*\"small\" + 0.003*\"girl\" + 0.003*\"aesthetic\" + 0.003*\"orange\" + 0.003*\"home\" + 0.003*\"every\" + 0.003*\"Oh\" + 0.003*\"one\" + 0.003*\"place\" + 0.003*\"like\" + 0.003*\"dolcevita\" + 0.003*\"always\" + 0.003*\"year\" + 0.003*\"much\" + 0.003*\"ride\" + 0.003*\"today\" + 0.003*\"hide\" + 0.003*\"care\" + 0.003*\"wheel\" + 0.003*\"Nishikawa\" + 0.003*\"BON\" + 0.003*\"barronmn\" + 0.003*\"way\" + 0.003*\"missed\" + 0.003*\"made\" + 0.003*\"idea\" + 0.003*\"still\" + 0.002*\"going\" + 0.002*\"world\" + 0.002*\"together\" + 0.002*\"Kumi\" + 0.002*\"And\" + 0.002*\"cute\" + 0.002*\"got\" + 0.002*\"would\" + 0.002*\"many\" + 0.002*\"amazing\" + 0.002*\"something\" + 0.002*\"Fiat\" + 0.002*\"managed\" + 0.002*\"step\"')\n"
     ]
    }
   ],
   "source": [
    "import pandas as pd\n",
    "import gensim\n",
    "from gensim.models import Phrases\n",
    "from gensim.models.phrases import Phraser\n",
    "from gensim import corpora\n",
    "from gensim.models.ldamodel import LdaModel\n",
    "from gensim.models import CoherenceModel\n",
    "from nltk.corpus import stopwords\n",
    "from nltk.tokenize import word_tokenize\n",
    "import nltk\n",
    "import matplotlib.pyplot as plt\n",
    "\n",
    "# Download stopwords if not already downloaded\n",
    "nltk.download('stopwords')\n",
    "nltk.download('punkt')\n",
    "\n",
    "# Load the dataset\n",
    "file_path = '/Users/abhishekroy/Downloads/vscode folder/zfiltered_instagram_comments_with_translated_emojis.csv'  # Replace with your actual file path\n",
    "df = pd.read_csv(file_path)\n",
    "\n",
    "# Preprocessing: Tokenization and removing stopwords\n",
    "stop_words = set(stopwords.words('english'))\n",
    "df['tokens'] = df['translated_comments'].apply(lambda x: [word for word in word_tokenize(str(x)) if word.isalpha() and word not in stop_words])\n",
    "\n",
    "# Build bigrams and trigrams\n",
    "bigram = Phrases(df['tokens'], min_count=5, threshold=100)  # Higher threshold fewer phrases.\n",
    "trigram = Phrases(bigram[df['tokens']], threshold=100)  \n",
    "\n",
    "bigram_mod = Phraser(bigram)\n",
    "trigram_mod = Phraser(trigram)\n",
    "\n",
    "# Create trigrams\n",
    "df['trigrams'] = df['tokens'].apply(lambda x: trigram_mod[bigram_mod[x]])\n",
    "\n",
    "# Create Dictionary and Corpus\n",
    "id2word = corpora.Dictionary(df['trigrams'])\n",
    "corpus = [id2word.doc2bow(text) for text in df['trigrams']]\n",
    "\n",
    "# Coherence test for various number of topics\n",
    "coherence_values = []\n",
    "model_list = []\n",
    "topic_range = range(2, 15, 1)\n",
    "random_seed = 27# Set your random seed here\n",
    "\n",
    "for num_topics in topic_range:\n",
    "    model = LdaModel(corpus=corpus, id2word=id2word, num_topics=num_topics, random_state=random_seed, passes=10)\n",
    "    model_list.append(model)\n",
    "    coherencemodel = CoherenceModel(model=model, texts=df['trigrams'], dictionary=id2word, coherence='c_v')\n",
    "    coherence_values.append(coherencemodel.get_coherence())\n",
    "\n",
    "# Plot coherence scores\n",
    "plt.plot(topic_range, coherence_values)\n",
    "plt.xlabel(\"Num Topics\")\n",
    "plt.ylabel(\"Coherence score\")\n",
    "plt.legend((\"coherence_values\"), loc='best')\n",
    "plt.show()\n",
    "\n",
    "# Select the model with the highest coherence score\n",
    "optimal_num_topics = topic_range[coherence_values.index(max(coherence_values))]\n",
    "print(f\"Optimal number of topics: {optimal_num_topics}\")\n",
    "\n",
    "# Build the LDA model with the optimal number of topics\n",
    "optimal_model = LdaModel(corpus=corpus, id2word=id2word, num_topics=optimal_num_topics, random_state=random_seed, passes=10)\n",
    "\n",
    "# Print the topics with the top 65 words\n",
    "topics = optimal_model.print_topics(num_words=65)\n",
    "for topic in topics:\n",
    "    print(topic)\n"
   ]
  },
  {
   "cell_type": "markdown",
   "metadata": {},
   "source": [
    "## Removing stop words "
   ]
  },
  {
   "cell_type": "code",
   "execution_count": 2,
   "metadata": {},
   "outputs": [],
   "source": [
    "unrelated_words = set([\n",
    "    # Words from previous sets\n",
    "    \"I\", \"see\", \"The\", \"It\", \"Thank\", \"much\", \"could\", \"one\", \"hope\", \n",
    "    \"know\", \"want\", \"love\", \"really\", \"take\", \"would\", \"looking_forward\", \n",
    "    \"able\", \"work\", \"first\", \"thought\", \"wonder\", \"look\", \"thank\", \n",
    "    \"meet\", \"day\", \"fun\", \"lot\", \"going\", \"drive\", \"picture\", \"never\", \n",
    "    \"back\", \"house\", \"right\", \"hard\", \"already\", \"forward\", \"Yes\", \n",
    "    \"wish\", \"lol\", \"great\", \"without\", \"line\", \"year\", \"Oh\", \"snow\",\n",
    "    \"well\", \"photos\", \"even\", \"Oh\", \"little\", \"care\", \"miss\", \"best\",\n",
    "    \"say\", \"always\", \"home\", \"still\", \"way\", \"many\", \"today\", \"world\",\n",
    "    \"nice\", \"good\", \"please\", \"You\", \"time\", \"people\", \"We\", \"Well\", \"choose\",\n",
    "    \"friend\", \"character\", \"perfect\", \"done\", \"cream\", \"show\", \"go\", \"content\",\n",
    "    \"Happy\", \"Lovely\", \"cute\", \"said\", \"morning\", \"term\", \"user\", \"early\", \"around\",\n",
    "    \"clear\", \"standard\", \"glad\", \"cool\", \"talk\", \"think\", \"got\", \"pleasant\", \"managed\",\n",
    "    \"neutral\", \"beige\", \n",
    "    \"beigevibes\", \"aestheticposts\", \"babystyle\",\n",
    "    \"wow\", \"feel\", \"makes\", \"Wow\", \"bad\", \"Pleased\", \"found\", \"directions\", \"open\", \"long\", \"working\", \"safe\", \n",
    "    \"dear\", \"put\", \"better\", \"try\", \"pretty\", \"future\", \"My\", \"bloom\", \"also\", \"give\", \"real\", \"sweet\", \n",
    "    \"adorable\", \"sit\", \"pictures\", \"bit\", \"review\", \"yes\", \"google\", \"occasion\", \"thanks\", \"pleasure\", \n",
    "    \"together\", \"fantastic\", \"What\", \"wonderful\", \"came\", \"fairy\", \"girl\", \"mean\", \n",
    "    \"taking\", \"Your\", \"someday\", \"done\", \"gorgeous\", \"prettier\", \"set\", \"finally\", \"known\", \"welcome\", \"costs\", \n",
    "    \"strangely\", \"wall\", \"becoming\", \"nothing\", \"super\", \"make\", \"went\", \"every\", \"big\", \"small\", \n",
    "    \"possible\", \"accept\", \"art\", \"everything\",\n",
    "\n",
    "    \n",
    "    \"happy\", \"sunday\", \"lovely\", \"white\", \"cherry_blossoms\", \"following\", \"sunflowers\", \"kojimambo\", \"This\", \n",
    "    \"front\", \"different\", \"susiboy\", \"Kawazu\", \"apple\", \"yellow\", \"HIRO\", \"touch\", \"poster\", \"kjmb\", \"next\", \n",
    "    \"kumi_imuk\", \"je\", \"wait\", \"vegan\", \"cold\", \"place\", \"pink\", \"winter\", \"come\", \"almost\", \"lotus\", \"sweetie\", \n",
    "    \"though\", \"afternoon\", \"frame\", \"When\", \"Have\", \"turn\", \"step\", \"mellow\", \"karen\", \"field\", \"seasonal\", \n",
    "    \"plus\", \"Comedy\", \"windy\", \"capture\", \"page\", \"blooms\", \"toot\", \"believe\", \"muscles\", \"sore\", \n",
    "    \"daisy\", \"cha\", \"means\", \"weather\", \"fresh\", \"start\", \"rossoc\", \"chie\", \"connect\", \"Very\", \"looks\", \"oh\", \n",
    "    \"white\", \"made\", \"cute\", \"next\", \"sky\", \"evening\", \"end\", \"matt\", \"mega\", \"get\", \"ischia\", \n",
    "    \"photograph\", \"weird\", \"magazine\", \"view\", \"lily\", \"call\", \"something\", \"Good\", \"far\", \"buy\", \"someone\", \n",
    "    \"enjoying\", \"seeing\", \"places\", \"sunrise\", \"jacket\", \"enough\", \"gone\", \"actually\", \"bro\", \"Italian\", \"ask\", \n",
    "    \"tried\", \"pigeon\", \"mountain\", \"knew\", \"Shrine\", \"terrifying\", \"petrel\", \"So\", \"single\", \"warm\", \"pot\", \n",
    "    \"Yellow\", \"away\", \"switched\", \"Beautiful\", \"liking\", \"shampoo\", \"club\", \"send\", \"either\", \"following\", \n",
    "    \"nature\", \"schön\", \"kind\", \"halfway\", \"nicolewom\", \"style\", \"Congratulations\", \"melon\", \"n\", \"true\", \n",
    "    \"important\", \"bonito\", \"hydrangea\", \"za\", \"expensive\", \"ride\", \"evening\", \"etk\", \"flowers\", \"side\", \n",
    "    \"interior\", \"bought\", \"pic\", \"san\", \"gave\", \"double\", \"things\", \"name\", \"seems\", \"focus\", \"marci\", \"wakawaoi\", \n",
    "    \"white\", \"meso\", \"svi\", \"marina\", \"vw\", \"ევრო\", \"mayolis\", \"two\", \"pots\", \"decor\", \"sunshade\", \"polo\", \n",
    "    \"inside\", \"coche\", \"asani\", \"sarah\", \"fraction\", \"tuscany\", \"Chacha\", \"earlier\", \"sabibdr\", \"road\", \"pass\", \n",
    "    \"da\", \"expected\", \"All\", \"balls\", \"verica\", \"jergan\", \"meni\", \"clubsport\", \"frau\", \"swim\", \"especially\", \n",
    "    \"happened\",  \"get\", \"life\", \"lily\", \"aesthetic\", \"elypre\",  \"hello\", \n",
    "    \"excited\", \"hh\", \"He\", \"This\", \"killifish\", \"That\", \"envy\", \"Chink\", \"tomohiro\", \"Dolce\", \"meeting\", \n",
    "    \"anita\", \"sparkling\", \"Chacha\", \"helloaesthete\", \"fascinating\", \"grass\", \"curry\", \"ever\", \"mild\", \"Ishii\", \n",
    "    \"expect\", \"Akemi\", \"soba\", \"heard\", \"wanker\", \"wishes\", \"technique\", \"Abarth\", \"bends\", \"told\", \n",
    "    \"cover\", \"Cook\",  \"bitch\", \"og\", \"minif\", \"jealous\", \"loaner\", \"anniversary\", \"And\", \"full\", \n",
    "    \"Congratulations\", \"strange\",  \"flower\", \"planet\", \"exeo\", \"dt\", \"six\", \"wanted\", \"vls\", \n",
    "    \"join\", \"yet\", \"kumi_imuk\", \"chinks\", \"Thanks\", \"impressed\", \"difficult\", \"help\", \"missed\", \"come\", \n",
    "    \"kangaroo\", \"season\", \"eat\", \"gives\", \"official\", \"whether\", \"jumps\", \"build\", \"Cremino\", \"may\", \n",
    "    \"putting\", \"haha\", \"progress\", \"yeah\", \"akkun\", \"ich\", \"picnic\", \"making\", \"snowing\", \"retreat\", \"nl\", \n",
    "    \"post\", \"vibe\", \"Justkidding\", \"When\", \"bought\", \"bon\", \"garage\", \"ozeangruen\", \"ferdinand\", \"action\", \n",
    "    \"period\", \"megmeg\", \"eviwave\", \"nettitotalverplottert\", \"generated\", \"nan\", \"weekend\",  \n",
    "    \"find\", \"waiting\", \"renegade\", \"Thanks\", \"everyone\", \"luxury\", \"stop\", \"dad\", \"de\", \"agree\", \"kind\", \n",
    "    \"ride\", \"seeing\", \"service\", \"available\", \"fiatclub\", \"fiatabarth\", \"genova\", \"less\", \"conditions\", \n",
    "    \"policy\", \"jeep\", \"share\", \"interesting\", \"privacy\", \"stripey\", \"terminus\", \"opened\", \"carsofinstagram\", \n",
    "    \"twin\", \"harder\", \"photography\", \"thea\", \"thefocus\",\"like\", \"black\", \"photo\", \"misalunlun\", \"send_pic\", \"nettisfiat\", \"sea\", \"enjoy\",\n",
    "    \"c\", \"topolina_rossa\", \"x\", \"merry_christmas\", \"ikuchon\", \"BON\", \"taken\",\n",
    "    \"ca\", \"Kumi\", \"azaleas\", \"Akiko\" \"request\", \"worked\", \"terag\", \"shoveling\", \"reflection\",  \"e\", \"delicious\", \"shig_c\", \"Akiko\", \"price\", \"dino_nishi\", \"ig\", \n",
    "    \"cherry_blossom\", \"us\", \"danke\", \"new\", \"Nishikawa\", \"ball\", \n",
    "    \"austria\", \"mudrinicmila\", \"thing\", \"Cha_Cha_Cha\", \"motorized\", \n",
    "    \"week\", \"chink\", \"took\", \"fly\", \"octopus\", \"man\", \"fiatlovers\", \n",
    "    \"melon_melon_melon_melon\", \"orange\", \"dog\", \"green\", \"sure\", \n",
    "    \"shop\", \"Please\", \"maami\", \"used\", \"shiny\", \"jump\", \"spank\", \n",
    "    \"wheel\", \"contact\", \"professional\", \"close\", \"last\", \"Team\", \n",
    "    \"enjoyed\", \"seen\", \"bring\", \"choice\", \"seat\", \"husband\", \"As\", \n",
    "    \"carrieslifestyle\", \"top\", \"shot\", \"𝐒𝐞𝐧𝐝\", \"model\", \"version\", \n",
    "    \"community\", \"No\", \"since\", \"absolutely\", \"old\", \"taniguchi\", \n",
    "    \"yoko\", \"yuyuka\", \"tm\", \"Mr\", \"visit\", \"puno\", \"dream\", \"cars\", \n",
    "    \"driving\", \"imaimaquen\", \"thomas\", \"idea\", \"lunjo\",\n",
    "\n",
    "    \n",
    "    \"imaimaquen\", \"daughter\", \"hide\", \"getting\", \"yesfiat\", \n",
    "    \"queenstangleddesires\", \"let\", \"red\", \"delivery\", \"looking\", \"funny\", \"probably\", \"Panda\", \"fashion\", \"days\", \"parked\", \"mk\", \n",
    "    \"dark\", \"nettiboholove\", \"design\", \"RRIE\", \"room\", \"understand\", \n",
    "    \"rare\", \"taste\", \"bili\", \"fiatcollezione\", \"neutraltones\", \n",
    "    \"neutralshades\", \"beigetones\", \"aesthicallypleasing\", \n",
    "    \"ootd\", \"considering\", \"video\", \"news\", \"sense\", \"jumping\", \"shall\", \n",
    "    \"keep\", \"chowder\", \"Hokuriku\", \"clam\", \"hear\", \"simple\", \"They\", \n",
    "    \"internal\", \"conflict\", \"private\", \"tunnel\", \"Susio\", \"alzbetakral\", \n",
    "    \"Because\", \"mail\", \"appearance\", \"basic\", \"invited\", \"summer\", \n",
    "    \"sorry\", \"scenery\", \"She\", \"maple\", \"quite\", \"diary\", \"flyer\", \n",
    "    \"angel\", \"reshare\", \"killing\", \"birthday\", \"running\", \"𝐩𝐢𝐜\", \n",
    "    \"Looks\", \"completely\", \"helpful\", \"ფასი\", \"denz\", \"reply\", \n",
    "    \"leukwagentje\", \"kenkenpa\", \"bluefr\", \"nadine\", \"bread\", \n",
    "    \"dreamcatcher\", \"followed\", \"growing\",\n",
    "\n",
    "    \n",
    "    \"quickly\", \"hvala\", \"sir\", \"ready\", \"anything\", \"saying\", \"body\", \n",
    "    \"favourite\", \"chic\", \"years\", \"behind\", \"stand\", \"jerky\", \"country\", \n",
    "    \"connection\", \"ne\", \"united\", \"hey\", \"saw\", \"engine\", \"Cherry\", \n",
    "    \"air\", \"Kappa\", \"path\", \"partner\", \"interest\", \"spring\", \"person\", \n",
    "    \"vt\", \"interested\", \"Ebisen\", \"rice\", \"rather\", \"door\", \"u\", \n",
    "    \"moin\", \"surely\", \"margarita\", \"hm\", \"jovanovic\", \"convertible\", \n",
    "    \"Nishi\", \"lined\", \"framer\", \"rajkam\", \"shy\", \"hood\", \"quick\", \n",
    "    \"bag\", \"cutest\", \"alisa\", \"ceases\", \"night\", \"candy\", \"easy\", \n",
    "    \"Emikel\", \"lots\", \"amaze\", \"trying\", \"Maricel\", \"head\", \"hair\", \n",
    "    \"punooo\", \"must\", \"sad\", \"inesperger\", \"picked\", \"precious\", \n",
    "    \"details\", \"coming\", \"products\", \"meal\", \"indeed\"\n",
    "    \"hiro_bon\", \"collaboration\", \"deer\", \"Mt\", \"careful\", \"group\", \n",
    "    \"Fuji\", \"wedding_anniversary\", \"dolce\", \"New_Year\", \"shot\", \n",
    "    \"miyaken\", \"saffron\", \"uk\", \"bon_bon\", \"need\", \"blossoms\", \n",
    "    \"punoo\", \"fiatslovenia\", \"barronmn\", \"splendid\", \"tm\", \"chink\", \n",
    "    \"yuyuka\", \"Cute\", \"sure\", \"remember\", \"Let\", \"test\", \"another\", \n",
    "    \"vita\", \"farecorail\", \"buried\", \"annekatrinbergmann\", \"imuk\", \n",
    "    \"surprised\", \"turismo\", \"family\", \"striped\", \"hand\", \n",
    "    \"omikanorange\", \"job\", \"driving\", \"YUYUUKA\", \"thinking\", \"second\", \n",
    "    \"Mr\", \"took\", \"driver\", \"Please\", \"maybe\", \"sell\", \"A\", \"month\", \n",
    "    \"order\", \"story\", \"condition\", \"co\", \"wheel\", \"basket\", \"posts\", \"giving\", \"director\", \"shoot\", \"Cinquecento\", \"rivale\", \"sunny\", \n",
    "    \"wolf\", \"abarthhugo\", \"italian\", \"wisteria\", \"ate\", \"parisienne\", \n",
    "    \"offer\", \"Seriously\", \"sabol\", \"YUYUKA\", \"Instagram\", \"chat\", \n",
    "    \"easily\", \"Copenhagen\", \"lucky\", \"Stylish\", \"hundred\", \"window\", \n",
    "    \"ghost\", \"dir\", \"wrong\", \"italianlandscapes\", \"alluring\", \n",
    "   \"amareazul\",  \n",
    "   \"passion\", \"felicita\", \"castelloaragoneseischia\", \n",
    "     \"kiss\", \n",
    "    \"italianpassion\", \"iloveitalia\", \"borghipiubelliditalia\", \n",
    "    \"ischiaisolaverde\", \"italianstyle\", \"often\", \"genovamorethanthis\", \n",
    "    \"genovacity\", \"collectionprivatagenova\", \"genovanelcuore\", \n",
    "    \"spaziogenova\", \"genovagram\", \"ilovegenova\", \"collectionprivataorg\", \n",
    "    \"igergenova\", \"fiathybrid\", \"kappa\", \"austrianblogger\", \n",
    "    \"fiatcabriolet\", \"fiatneopatentati\", \"advise\", \"enthusiastic\", \n",
    "    \"schnee\", \"hours\", \"fiatsport\", \"sen\", \"nephew\", \"drove\", \"ebi\", \n",
    "    \"letitsnow\", \"wintermood\", \"fiatdolcevitahybrid\",\n",
    "\n",
    "    # From Topic 1\n",
    "    \"stripes\", \"If\", \"event\", \"Too\", \"indeed\", \"anagordanec\", \"wind\", \n",
    "    \"omg\", \"sve\", \"million\", \"wonderland\", \"decorate\", \"mint\", \"follow\", \n",
    "    \"riva\", \"Take\", \"somewhere\", \"Hokkaido\", \"Amazing\", \"fordecoboost\", \n",
    "    \"pop\", \"met\", \"allowed\", \"indd\", \"shadow\", \"chance\", \"lady\", \n",
    "    \"dreamed\", \"There\", \"kazu\", \"svoju\", \"sobu\", \"jos\", \"unfeasible\", \n",
    "    \"imao\", \"grain\", \"similar\", \"behold\", \"Flau\", \"bude\", \"autotic\", \n",
    "    \"malo\", \"krasan\", \"seats\", \"tavo\", \"personal\", \"wood\", \"chrome\", \n",
    "    \"leather\", \"glorious\", \"lifted\", \"leaned\", \"hatch\", \"euro\", \"via\", \n",
    "    \"arm\", \"garibaldi\", \"overpriced\", \"dealership\", \"tonneau\", \n",
    "    \"upscale\", \"stretched\", \"prices\", \"catia\", \"Sounds\", \"pietrasanta\", \n",
    "    \"Parfait\", \"recently\", \"sorts\", \"gjumin\", \"lining\", \"sang\", \n",
    "    \"zonjë\", \"mirëmëngjes\", \"fruit\", \"filled\", \"replaced\", \n",
    "    \"unconsciously\", \"nicer\",\n",
    "\n",
    "    # From Topic 2\n",
    "    \"hiro_bon\", \"shining\", \"bigger\", \"Misalunlun\", \"comes\", \"keeping\", \n",
    "    \"Both\", \"alphavehicle\", \"matter\", \"𝐨𝐧\", \"masterpiece\", \"play\", \n",
    "    \"mother\", \"speedster\", \"plants\", \"raining\", \"three\", \"leader\", \n",
    "    \"estoy\", \"younger\", \"tastes\", \"loka\", \"cuqui\", \"Considering\", \"más\", \n",
    "    \"por\", \"birds\", \"comprarme\", \"attenya\", \"knows\", \"uno\", \"respect\", \n",
    "    \"match\", \"cheese\", \"blog\", \"grow\", \"fireworks\", \"display\", \"stands\", \n",
    "    \"Offýce\", \"celebrated\", \"develop\", \"legendary\", \"underrated\", \n",
    "    \"classy\", \"deserves\", \"lunju\", \"low\", \"eating\", \"savage\", \"crackkkk\", \n",
    "    \"naming\", \"shrunk\", \"hiragana\", \"Tricolore\", \"Chidoru\", \"recovered\", \n",
    "    \"temperature\", \"detail\", \"fully\", \"eggs\", \"regards\", \"boy\", \n",
    "    \"desperate\", \"sun\", \"attention\", \"cutting\", \"warmly\", \"Boya\", \n",
    "    \"volvo\", \"celebrate\", \"NOZOMI\", \"fashionable\", \"present\", \"piled\", \n",
    "    \"Kamigami\", \"existing\", \"billions\", \"whipped\",\n",
    "\n",
    "    # From Topic 3\n",
    "    \"biggest\", \"shots\", \"infinite\", \"Yeah\", \"clean\", \"wearewere\", \n",
    "    \"borkamomcilovic\", \"Vita\", \"r\", \"sleepy\", \"fit\", \"auto\", \"models\", \n",
    "    \"buds\", \"Same\", \"tell\", \"talking\", \"Instagram\", \"request\", \n",
    "    \"italian\", \"greetings\", \"dm\", \"middle\", \"roof\", \"marikel\", \"guess\", \n",
    "    \"Kamakura\", \"rape\", \"high\", \"Akashi\", \"surrendered\", \"papire\", \n",
    "    \"mjeseca\", \"gradjevinsku\", \"referenta\", \"skupljali\", \n",
    "    \"rekonstrukciju\", \"godišnji\", \"pol\", \"sretno\", \"pa\", \"smo\", \n",
    "    \"dosadni\", \"godinu\", \"lipnju\", \"stalno\", \"su\", \"zvali\", \"spare\", \n",
    "    \"una\", \"manufacture\", \"afectada\", \"parts\", \"avisa\", \"excuse\", \n",
    "    \"maria\", \"cause\", \"ones\", \"expired\", \"american\", \"argentina\", \n",
    "    \"yo\", \"warranty\", \"countries\", \"throw\", \"believed\", \"south\", \n",
    "    \"uruguay\", \"including\", \"flau\", \"sheets\", \"query\", \"kasutaro\", \n",
    "    \"purchase\", \"experience\", \"nexo\", \"hola\"\n",
    "    \"brazil\", \"outfit\", \"feeding\", \"sunflower\", \"mk\"\n",
    "    \"ready\", \"power\", \"guy\", \"lilli\", \"belli\", \"bringing\", \"surrounded\", \"looked\", \"blue\",  \"moving\"\n",
    "])\n",
    "\n"
   ]
  },
  {
   "cell_type": "markdown",
   "metadata": {},
   "source": [
    "## Topic after "
   ]
  },
  {
   "cell_type": "code",
   "execution_count": null,
   "metadata": {},
   "outputs": [],
   "source": [
    "import pandas as pd\n",
    "import gensim\n",
    "from gensim.models import Phrases\n",
    "from gensim.models.phrases import Phraser\n",
    "from gensim import corpora\n",
    "from gensim.models.ldamodel import LdaModel\n",
    "from gensim.models import CoherenceModel\n",
    "from nltk.corpus import stopwords\n",
    "from nltk.tokenize import word_tokenize\n",
    "import nltk\n",
    "import matplotlib.pyplot as plt\n",
    "\n",
    "# Download stopwords if not already downloaded\n",
    "nltk.download('stopwords')\n",
    "nltk.download('punkt')\n",
    "\n",
    "# Load the dataset\n",
    "file_path = '/Users/abhishekroy/Downloads/vscode folder/zfiltered_instagram_comments_with_translated_emojis.csv'  # Replace with your actual file path\n",
    "df = pd.read_csv(file_path)\n",
    "\n",
    "# Preprocessing: Tokenization and removing stopwords\n",
    "stop_words = set(stopwords.words('english'))\n",
    "df['tokens'] = df['translated_comments'].apply(lambda x: [word for word in word_tokenize(str(x)) if word.isalpha() and word not in stop_words])\n",
    "\n",
    "# Build bigrams and trigrams\n",
    "bigram = Phrases(df['tokens'], min_count=5, threshold=100)  # Higher threshold fewer phrases.\n",
    "trigram = Phrases(bigram[df['tokens']], threshold=100)  \n",
    "\n",
    "bigram_mod = Phraser(bigram)\n",
    "trigram_mod = Phraser(trigram)\n",
    "\n",
    "# Create trigrams\n",
    "df['trigrams'] = df['tokens'].apply(lambda x: trigram_mod[bigram_mod[x]])\n",
    "\n",
    "# Remove unrelated words from trigrams\n",
    "df['filtered_trigrams'] = df['trigrams'].apply(lambda x: [word for word in x if word not in unrelated_words])\n",
    "\n",
    "# Create Dictionary and Corpus\n",
    "id2word = corpora.Dictionary(df['filtered_trigrams'])\n",
    "corpus = [id2word.doc2bow(text) for text in df['filtered_trigrams']]\n",
    "\n",
    "# Coherence test for various number of topics\n",
    "coherence_values = []\n",
    "model_list = []\n",
    "topic_range = range(2, 15, 1)\n",
    "random_seed = 7# Set your random seed here\n",
    "\n",
    "for num_topics in topic_range:\n",
    "    model = LdaModel(corpus=corpus, id2word=id2word, num_topics=num_topics, random_state=random_seed, passes=10)\n",
    "    model_list.append(model)\n",
    "    coherencemodel = CoherenceModel(model=model, texts=df['filtered_trigrams'], dictionary=id2word, coherence='c_v')\n",
    "    coherence_values.append(coherencemodel.get_coherence())\n",
    "\n",
    "# Plot coherence scores\n",
    "plt.plot(topic_range, coherence_values)\n",
    "plt.xlabel(\"Num Topics\")\n",
    "plt.ylabel(\"Coherence score\")\n",
    "plt.legend((\"coherence_values\"), loc='best')\n",
    "plt.show()\n",
    "\n",
    "# Select the model with the highest coherence score\n",
    "optimal_num_topics = topic_range[coherence_values.index(max(coherence_values))]\n",
    "print(f\"Optimal number of topics: {optimal_num_topics}\")\n",
    "\n",
    "# Build the LDA model with the optimal number of topics\n",
    "optimal_model = LdaModel(corpus=corpus, id2word=id2word, num_topics=optimal_num_topics, random_state=random_seed, passes=10)\n",
    "\n",
    "# Print the topics with the top 65 words, now filtered\n",
    "topics = optimal_model.print_topics(num_words=10)\n",
    "topic_words_df = pd.DataFrame(topics, columns=[\"Topic\", \"Top Words\"])\n",
    "output_path = '/Users/abhishekroy/Downloads/vscode folder/instagram_topics_top_50_words.csv'\n",
    "topic_words_df.to_csv(output_path, index=False)\n",
    "\n",
    "for topic in topics:\n",
    "    print(topic)\n",
    "\n",
    "    \n"
   ]
  },
  {
   "cell_type": "markdown",
   "metadata": {},
   "source": [
    "### Second Round of Topic Modeling After Refinement\n",
    "\n",
    "Following the initial topic modeling, a second round was conducted to further refine the topics by removing any unrelated words. This step aimed to enhance the coherence and relevance of the identified topics, ensuring they provide meaningful insights into public perceptions of Fiat Dolcevita cars.\n",
    "\n",
    "- **Text Preprocessing and Tokenization**:\n",
    "  - The comments were tokenized and stopwords were removed.\n",
    "  - Bigrams and trigrams were generated to capture more context from the comments.\n",
    "\n",
    "- **Filtering Unrelated Words**:\n",
    "  - Unrelated words, including common stopwords, were filtered out from the trigrams to ensure that only relevant phrases were considered in the topic modeling process.\n",
    "  - Trigrams were then converted into comma-separated groups of three words for more precise analysis.\n",
    "\n",
    "- **Dictionary and Corpus Creation**:\n",
    "  - A dictionary was created, and a corpus was generated based on the filtered trigrams.\n",
    "\n",
    "- **Coherence Testing**:\n",
    "  - A coherence test was performed again across various topic numbers to determine the optimal number of topics.\n",
    "  - The coherence scores were plotted to visualize and select the model with the highest coherence score.\n",
    "\n",
    "- **Optimal Model Selection and Topic Refinement**:\n",
    "  - The LDA model was rebuilt using the optimal number of topics identified in the coherence test.\n",
    "  - The top words from each topic were extracted and further inspected to ensure that the topics were both coherent and relevant.\n",
    "\n",
    "- **Output**:\n",
    "  - The final topics and their top words were saved to a CSV file for further analysis, providing a clearer and more accurate understanding of the public's perception of Fiat Dolcevita cars.\n",
    "\n",
    "This refined round of topic modeling, with the removal of unrelated words, allowed for a more precise and meaningful extraction of topics, enabling better insights into the public sentiment surrounding the Fiat Dolcevita.\n"
   ]
  },
  {
   "cell_type": "code",
   "execution_count": 4,
   "metadata": {},
   "outputs": [
    {
     "name": "stderr",
     "output_type": "stream",
     "text": [
      "[nltk_data] Downloading package stopwords to\n",
      "[nltk_data]     /Users/abhishekroy/nltk_data...\n",
      "[nltk_data]   Package stopwords is already up-to-date!\n",
      "[nltk_data] Downloading package punkt to\n",
      "[nltk_data]     /Users/abhishekroy/nltk_data...\n",
      "[nltk_data]   Package punkt is already up-to-date!\n"
     ]
    },
    {
     "data": {
      "image/png": "[encoded data removed]",
      "text/plain": [
       "<Figure size 640x480 with 1 Axes>"
      ]
     },
     "metadata": {},
     "output_type": "display_data"
    },
    {
     "name": "stdout",
     "output_type": "stream",
     "text": [
      "Optimal number of topics: 5\n",
      "(0, '0.001*\"I,wonder,I\" + 0.001*\"I,ca,wait\" + 0.001*\"fiat,fiat,fiatdolcevita\" + 0.001*\"fiat,fiatlovers,fiatdolcevita\" + 0.001*\"melon_melon_melon_melon,melon_melon_melon_melon,melon_melon_melon_melon\" + 0.001*\"𝐒𝐞𝐧𝐝,𝐩𝐢𝐜,𝐨𝐧\" + 0.001*\"𝐩𝐢𝐜,𝐨𝐧,austria\" + 0.001*\"𝐨𝐧,austria,community\" + 0.001*\"verica,jergan,thank\" + 0.001*\"I,look,forward\"')\n",
      "(1, '0.002*\"fiat,dolcevita,I\" + 0.001*\"I,look,forward\" + 0.001*\"It,pleasure,meet\" + 0.001*\"I,want,go\" + 0.001*\"fiat,dolcevita,It\" + 0.001*\"year,I,look\" + 0.001*\"aesthetic,aesthetic,babystyle\" + 0.001*\"beigetones,aesthetic,aesthetic\" + 0.001*\"neutraltones,beigetones,aesthetic\" + 0.001*\"outfit,ootd,neutraltones\"')\n",
      "(2, '0.002*\"I,look,forward\" + 0.002*\"I,hope,I\" + 0.001*\"wish,I,could\" + 0.001*\"I,wish,I\" + 0.001*\"HIRO,BON,BON\" + 0.001*\"BON,BON,BON\" + 0.001*\"cream,I,like\" + 0.001*\"pleasure,I,look\" + 0.001*\"Thank,thank,much\" + 0.001*\"seen,white,wisteria\"')\n",
      "(3, '0.002*\"fiat,dolcevita,I\" + 0.002*\"saffron,deer,saffron\" + 0.002*\"deer,saffron,deer\" + 0.002*\"send_pic,planet,motorized\" + 0.001*\"I,want,go\" + 0.001*\"send_pic,magazine,austria\" + 0.001*\"lol,I,going\" + 0.001*\"The,cherry_blossom,tunnel\" + 0.001*\"topolina_rossa,I,surprised\" + 0.001*\"I,hope,I\"')\n",
      "(4, '0.002*\"yesfiat,c,fiat\" + 0.002*\"generated,content,term\" + 0.002*\"fiat,co,uk\" + 0.002*\"uk,user,generated\" + 0.002*\"c,fiat,co\" + 0.002*\"content,term,condition\" + 0.002*\"co,uk,user\" + 0.002*\"user,generated,content\" + 0.001*\"killing,fiat,content\" + 0.001*\"reply,yesfiat,c\"')\n"
     ]
    }
   ],
   "source": [
    "import pandas as pd\n",
    "import gensim\n",
    "from gensim.models import Phrases\n",
    "from gensim.models.phrases import Phraser\n",
    "from gensim import corpora\n",
    "from gensim.models.ldamodel import LdaModel\n",
    "from gensim.models import CoherenceModel\n",
    "from nltk.corpus import stopwords\n",
    "from nltk.tokenize import word_tokenize\n",
    "import nltk\n",
    "import matplotlib.pyplot as plt\n",
    "import os\n",
    "\n",
    "# Set TOKENIZERS_PARALLELISM environment variable\n",
    "os.environ[\"TOKENIZERS_PARALLELISM\"] = \"false\" \n",
    "\n",
    "# Download stopwords if not already downloaded\n",
    "nltk.download('stopwords')\n",
    "nltk.download('punkt')\n",
    "\n",
    "# Load the dataset\n",
    "file_path = '/Users/abhishekroy/Downloads/vscode folder/zfiltered_instagram_comments_with_translated_emojis.csv'  # Replace with your actual file path\n",
    "df = pd.read_csv(file_path)\n",
    "\n",
    "# Preprocessing: Tokenization and removing stopwords\n",
    "stop_words = set(stopwords.words('english'))\n",
    "df['tokens'] = df['translated_comments'].apply(lambda x: [word for word in word_tokenize(str(x)) if word.isalpha() and word not in stop_words])\n",
    "\n",
    "# Build bigrams and trigrams\n",
    "bigram = Phrases(df['tokens'], min_count=5, threshold=100)  # Higher threshold fewer phrases.\n",
    "trigram = Phrases(bigram[df['tokens']], threshold=100)  \n",
    "\n",
    "bigram_mod = Phraser(bigram)\n",
    "trigram_mod = Phraser(trigram)\n",
    "\n",
    "# Create trigrams\n",
    "df['trigrams'] = df['tokens'].apply(lambda x: trigram_mod[bigram_mod[x]])\n",
    "\n",
    "# Convert trigrams into comma-separated groups of three words\n",
    "df['trigrams'] = df['trigrams'].apply(lambda x: [','.join(x[i:i+3]) for i in range(len(x)-2)])\n",
    "\n",
    "# Example: Filter out unrelated words from trigrams (customize this part as needed)\n",
    "unrelated_words = set(stop_words)  # Assuming unrelated_words is the same as stop_words\n",
    "df['filtered_trigrams'] = df['trigrams'].apply(lambda x: [trigram for trigram in x if not any(word in trigram.split(',') for word in unrelated_words)])\n",
    "\n",
    "# Create Dictionary and Corpus\n",
    "id2word = corpora.Dictionary(df['filtered_trigrams'])\n",
    "corpus = [id2word.doc2bow(text) for text in df['filtered_trigrams']]\n",
    "\n",
    "# Coherence test for various number of topics\n",
    "coherence_values = []\n",
    "model_list = []\n",
    "topic_range = range(2, 15, 1)\n",
    "random_seed = 7  # Set your random seed here\n",
    "\n",
    "for num_topics in topic_range:\n",
    "    model = LdaModel(corpus=corpus, id2word=id2word, num_topics=num_topics, random_state=random_seed, passes=10)\n",
    "    model_list.append(model)\n",
    "    coherencemodel = CoherenceModel(model=model, texts=df['filtered_trigrams'], dictionary=id2word, coherence='c_v')\n",
    "    coherence_values.append(coherencemodel.get_coherence())\n",
    "\n",
    "# Plot coherence scores\n",
    "plt.plot(topic_range, coherence_values)\n",
    "plt.xlabel(\"Num Topics\")\n",
    "plt.ylabel(\"Coherence score\")\n",
    "plt.legend((\"coherence_values\"), loc='best')\n",
    "plt.show()\n",
    "\n",
    "# Select the model with the highest coherence score\n",
    "optimal_num_topics = topic_range[coherence_values.index(max(coherence_values))]\n",
    "print(f\"Optimal number of topics: {optimal_num_topics}\")\n",
    "\n",
    "# Build the LDA model with the optimal number of topics\n",
    "optimal_model = LdaModel(corpus=corpus, id2word=id2word, num_topics=optimal_num_topics, random_state=random_seed, passes=10)\n",
    "\n",
    "# Print the topics with the top 65 words, now filtered\n",
    "topics = optimal_model.print_topics(num_words=10)\n",
    "topic_words_df = pd.DataFrame(topics, columns=[\"Topic\", \"Top Words\"])\n",
    "output_path = '/Users/abhishekroy/Downloads/vscode folder/instagram_topics_top_50_words.csv'\n",
    "topic_words_df.to_csv(output_path, index=False)\n",
    "\n",
    "for topic in topics:\n",
    "    print(topic)\n"
   ]
  },
  {
   "cell_type": "code",
   "execution_count": 10,
   "metadata": {},
   "outputs": [
    {
     "data": {
      "text/html": [
       "\n",
       "<link rel=\"stylesheet\" type=\"text/css\" href=\"https://cdn.jsdelivr.net/gh/bmabey/pyLDAvis@3.4.0/pyLDAvis/js/ldavis.v1.0.0.css\">\n",
       "\n",
       "\n",
       "<div id=\"ldavis_el10385569467704087855710\" style=\"background-color:white;\"></div>\n",
       "<script type=\"text/javascript\">\n",
       "\n",
       "var ldavis_el10385569467704087855710_data = {\"mdsDat\": {\"x\": [-0.1267780274416761, 0.06673483597747387, 0.044886297784633225, 0.01105211396671342, 0.004104779712855482], \"y\": [-0.014053975535046209, -0.0987795464463224, 0.10650031672286671, 0.0005613938803802201, 0.0057718113781216876], \"topics\": [1, 2, 3, 4, 5], \"cluster\": [1, 1, 1, 1, 1], \"Freq\": [22.496668936052853, 21.35818436438396, 20.568858074161977, 18.04284128219427, 17.53344734320694]}, \"tinfo\": {\"Term\": [\"saffron,deer,saffron\", \"deer,saffron,deer\", \"fiat,dolcevita,I\", \"I,hope,I\", \"send_pic,planet,motorized\", \"yesfiat,c,fiat\", \"generated,content,term\", \"fiat,co,uk\", \"uk,user,generated\", \"c,fiat,co\", \"co,uk,user\", \"content,term,condition\", \"user,generated,content\", \"send_pic,magazine,austria\", \"I,want,go\", \"lol,I,going\", \"The,cherry_blossom,tunnel\", \"topolina_rossa,I,surprised\", \"next,time,I\", \"cream,I,like\", \"pleasure,I,look\", \"Thank,thank,much\", \"seen,white,wisteria\", \"never,seen,white\", \"I,never,seen\", \"better,I,never\", \"I,never,get\", \"never,get,better\", \"apple,snow,Yes\", \"I,look,forward\", \"yesfiat,c,fiat\", \"generated,content,term\", \"fiat,co,uk\", \"uk,user,generated\", \"c,fiat,co\", \"co,uk,user\", \"content,term,condition\", \"user,generated,content\", \"killing,fiat,content\", \"reply,yesfiat,c\", \"reshare,reply,yesfiat\", \"content,reshare,reply\", \"fiat,content,reshare\", \"I,ca,stop\", \"yoko,taniguchi,I\", \"hiro_bon,bon_bon,I\", \"I,would,like\", \"safe,modern,genuinely\", \"car,everything,nationalised\", \"modern,genuinely,italian\", \"made,pernambuco,would\", \"nationalised,ready,made\", \"would,raise,fiat\", \"decade,fiat,bringing\", \"fiat,profile,real\", \"cross,without,problems\", \"problems,biggest,forum\", \"urban,suv,safe\", \"forum,ball,last\", \"design,would,stand\", \"genuinely,italian,design\", \"fiat,dolcevita,I\", \"never,thought,I\", \"I,never,thought\", \"Kumi,imuk,I\", \"The,white,body\", \"I,get,excited\", \"get,excited,every\", \"I,like,decorate\", \"hard,work,I\", \"fiat,fiatlovers,fiatdolcevita\", \"melon_melon_melon_melon,melon_melon_melon_melon,melon_melon_melon_melon\", \"\\ud835\\udc12\\ud835\\udc1e\\ud835\\udc27\\ud835\\udc1d,\\ud835\\udc29\\ud835\\udc22\\ud835\\udc1c,\\ud835\\udc28\\ud835\\udc27\", \"\\ud835\\udc29\\ud835\\udc22\\ud835\\udc1c,\\ud835\\udc28\\ud835\\udc27,austria\", \"\\ud835\\udc28\\ud835\\udc27,austria,community\", \"verica,jergan,thank\", \"iloveitalia,fiat,fiat\", \"ischia,amareazul,cremelamare\", \"ischia,castelloaragoneseischia,love\", \"italiantravel,ladolcevita,ladolcevitaitaly\", \"love,united,ischia\", \"castelloaragoneseischia,love,united\", \"borghipiubelliditalia,borghiitaliani,iloveitaly\", \"borghiitaliani,iloveitaly,iloveitalia\", \"iloveitaly,iloveitalia,fiat\", \"italy,ig,italia\", \"amareazul,cremelamare,kiss\", \"italianpassion,italiantravel,ladolcevita\", \"italianstyle,italy,dolcevita\", \"united,ischia,amareazul\", \"kiss,italy,italianlandscapes\", \"italia,borghipiubelliditalia,borghiitaliani\", \"ischia,ig,ischiaisolaverde\", \"passion,love,italy\", \"italianlandscapes,alluring,ischia\", \"italytravel,italianpassion,italiantravel\", \"alluring,ischia,ig\", \"italy,passion,love\", \"italy,italianlandscapes,alluring\", \"dolcevita,ischia,castelloaragoneseischia\", \"I,wonder,I\", \"I,ca,wait\", \"fiat,fiat,fiatdolcevita\", \"I,look,forward\", \"marci,black,focus\", \"mayolis,home,decor\", \"I,never,thought\", \"next,year,I\", \"I,hope,see\", \"Thank,much,I\", \"first,time,I\", \"I,really,enjoyed\", \"hope,see,next\", \"year,I,look\", \"aesthetic,aesthetic,babystyle\", \"beigetones,aesthetic,aesthetic\", \"neutraltones,beigetones,aesthetic\", \"outfit,ootd,neutraltones\", \"ootd,neutraltones,beigetones\", \"beige,neutral,beigevibes\", \"beigevibes,beigeaesthetics,outfit\", \"neutral,beigevibes,beigeaesthetics\", \"beigeaesthetics,outfit,ootd\", \"fiat,uk,yesfiat\", \"I,happy,able\", \"make,possible,terminus\", \"terminus,conditions,privacy\", \"accept,yesfiat,make\", \"interesting,would,like\", \"share,accept,yesfiat\", \"think,post,fiat\", \"possible,terminus,conditions\", \"conditions,privacy,policy\", \"like,share,accept\", \"would,like,share\", \"post,fiat,really\", \"fiat,really,interesting\", \"really,interesting,would\", \"privacy,policy,available\", \"yesfiat,make,possible\", \"mk,c,r\", \"c,r,c\", \"fiat,fiatdolcevita,italiantrip\", \"fiat,dolcevita,I\", \"I,look,forward\", \"It,pleasure,meet\", \"I,want,go\", \"fiat,dolcevita,It\", \"cream,I,like\", \"pleasure,I,look\", \"Thank,thank,much\", \"seen,white,wisteria\", \"never,seen,white\", \"I,never,seen\", \"better,I,never\", \"I,never,get\", \"never,get,better\", \"apple,snow,Yes\", \"missed,I,think\", \"considering,damage,fiat\", \"haha,question,bring\", \"missed,lot,especially\", \"fiat,done,brand\", \"question,bring,back\", \"especially,considering,damage\", \"ohpedroestevao,yes,public\", \"yes,public,knowledge\", \"marikel,If,OK\", \"I,Abarth,guy\", \"done,brand,result\", \"Justkidding,I,impressed\", \"OK,I,like\", \"think,missed,lot\", \"whether,missed,I\", \"one,whipped,cream\", \"bring,back,whether\", \"I,never,ice\", \"Abarths,expensive,buy\", \"I,hope,I\", \"wish,I,could\", \"I,wish,I\", \"HIRO,BON,BON\", \"BON,BON,BON\", \"marci,black,focus\", \"I,look,forward\", \"taken,delivery,car\", \"delivery,car,yet\", \"I,like,see\", \"The,second,one\", \"done,great,job\", \"miyaken,farecorail,It\", \"thanks,I,really\", \"year,I,hope\", \"It,really,nice\", \"forward,talking,next\", \"talking,next,year\", \"look,forward,talking\", \"saffron,deer,saffron\", \"deer,saffron,deer\", \"send_pic,planet,motorized\", \"lol,I,going\", \"The,cherry_blossom,tunnel\", \"topolina_rossa,I,surprised\", \"next,time,I\", \"commemorate,Hiraizumi,World\", \"This,video,bit\", \"owner,lol,I\", \"I,choice,send\", \"fiat,owner,lol\", \"yuririna,I,taken\", \"I,going,fiat\", \"It,lovely,It\", \"car,yet,lol\", \"lovely,It,postbox\", \"I,found,I\", \"I,glad,happy\", \"I,sorting,photos\", \"It,postbox,set\", \"buy,wait,delivery\", \"happy,No,said\", \"said,much,stripey\", \"cherry_blossom,tunnel,This\", \"drive,buy,wait\", \"postbox,set,commemorate\", \"Hiraizumi,World,Heritage\", \"stripey,stripey,I\", \"photos,iPhone,I\", \"send_pic,magazine,austria\", \"set,commemorate,Hiraizumi\", \"fiat,dolcevita,I\", \"I,hope,I\", \"I,want,go\", \"ca,wait,see\", \"Please,come,see\", \"fiat,dolcevita,Thank\", \"I,think,I\", \"Nice,meet,I\", \"taken,delivery,car\", \"delivery,car,yet\", \"Thank,rossoc,It\", \"becoming,picture,framer\", \"Thank,hard,work\", \"I,going,test\", \"test,drive,buy\", \"going,test,drive\", \"I,taken,delivery\", \"even,though,I\", \"lot,things,lol\"], \"Freq\": [2.0, 2.0, 5.0, 2.0, 1.0, 2.0, 2.0, 2.0, 2.0, 2.0, 2.0, 2.0, 2.0, 1.0, 2.0, 1.0, 1.0, 1.0, 1.0, 1.0, 1.0, 1.0, 1.0, 1.0, 1.0, 1.0, 1.0, 1.0, 1.0, 4.0, 1.725528753766953, 1.7255273706695928, 1.725523095641389, 1.7255207066550398, 1.7255185691409378, 1.7255175632519488, 1.7255183176686906, 1.7255078815704283, 1.1862428731161032, 1.1862424959077322, 1.1862364605737974, 1.1862364605737974, 1.1862275333090189, 1.1862248928504222, 1.186223258280815, 1.1861930816111408, 1.1861376319806143, 0.6469571810694389, 0.6469570553333152, 0.6469569924652534, 0.6469567409930062, 0.6469566152568824, 0.6469565523888207, 0.6469563009165733, 0.6469564895207588, 0.646956049444326, 0.6469561751804497, 0.6469558608401406, 0.6469557351040169, 0.6469556093678933, 0.6469557351040169, 1.1806726371026108, 0.6528230855776769, 0.6523050527482692, 0.6476040934255802, 0.6473660120754628, 0.6471694236461476, 0.6471691093058385, 0.6471283079337165, 0.6471193178008761, 1.1520432310983009, 1.1520345168678434, 1.151990110104417, 1.151987006405898, 1.1519739947467218, 1.15188112253719, 0.6283340959688257, 0.6283334394172159, 0.6283334394172159, 0.6283332006711759, 0.6283334991037258, 0.628333320044196, 0.628333140984666, 0.628333140984666, 0.628333140984666, 0.628333081298156, 0.628332961925136, 0.6283326634925861, 0.6283327828656061, 0.6283325441195662, 0.6283325441195662, 0.6283324844330561, 0.6283323053735262, 0.6283323650600362, 0.6283320069409764, 0.6283320666274863, 0.6283319472544663, 0.6283319472544663, 0.6283321263139963, 0.6283317681949364, 1.1547951373275263, 1.1522880651622467, 1.1521468468796294, 1.1493677236018522, 0.6293499603687176, 0.6286049533511235, 0.6285949857039566, 0.6285887186204084, 0.6284999647800654, 0.6284168214716606, 0.6284111512532123, 0.6283954537010871, 0.6283370206078148, 1.135800895347283, 1.1357512320239083, 1.1357504272941312, 1.1357399658070315, 1.1357396209228414, 1.1357375516177008, 1.1357245609798736, 1.1357173184118814, 1.135716398720708, 1.1356769669616396, 1.1353418544902572, 1.1341912058706805, 1.1334388984906714, 1.133125628684662, 1.1330783795506183, 1.1328989248103685, 1.1327133771160935, 1.132642216011536, 1.132597266105426, 1.1325684107948542, 1.1325599036514982, 1.1325495571257953, 1.1323958537384065, 1.1323590660914622, 1.1321797263126092, 1.1321501812336572, 1.132134891367896, 1.1310516101267858, 1.1310405738327025, 0.6194504025295745, 2.168159296020532, 1.139514033499317, 1.136832328998481, 1.1363629416157524, 1.1361041635117792, 1.0730690552832343, 1.0730465672413327, 1.073035474485238, 1.0730133898162852, 1.0730103645191686, 1.0730066333193913, 1.07280524937465, 1.0726041679596205, 1.0725503176709417, 1.0704022558747819, 0.5852386346600015, 0.5852377774924851, 0.5852379287573409, 0.5852379791789595, 0.5852376262276292, 0.5852379287573409, 0.5852373236979176, 0.5852372228546803, 0.5852370715898245, 0.5852364161087825, 0.5852365673736384, 0.5852364161087825, 0.5852365169520197, 0.5852364665304011, 0.5852364665304011, 0.5852363152655453, 0.5852360631574522, 0.5852364161087825, 0.5852361135790708, 0.5852360631574522, 1.5612044762774584, 1.0740005442654947, 1.0739906616282464, 1.0736333740387534, 1.0736172391207972, 1.0717575889831048, 1.562412679102668, 0.5862889673973332, 0.5860144721056029, 0.5860109425922999, 0.5857639775043325, 0.5855817537746644, 0.5854702211542919, 0.5853401333782698, 0.5852832577924741, 0.5852696943770672, 0.5852497274160964, 0.5852483156107752, 0.5852444835677606, 2.019424018076878, 2.0194059867790664, 1.5338769366151102, 1.057745426485109, 1.0577237693284982, 1.0577073059696265, 1.0559569961315036, 0.5768807986757225, 0.5768806516814469, 0.576880602683355, 0.5768801127024362, 0.5768803086948037, 0.5768800637043443, 0.5768799657081606, 0.5768794757272417, 0.5768792797348742, 0.5768792797348742, 0.5768790837425067, 0.5768788387520473, 0.5768788877501392, 0.5768786427596798, 0.576878544763496, 0.5768783977692203, 0.5768781037806691, 0.5768781037806691, 0.5768779077883016, 0.5768779567863934, 0.5768779567863934, 0.5768777117959341, 0.5768779077883016, 1.0584694222907218, 0.5768781037806691, 2.0229105263026628, 1.057438208449024, 1.059559531838859, 0.5776157700539164, 0.5776085183363182, 0.5774916578871854, 0.5773408907584718, 0.577298899393731, 0.5772445605098366, 0.5772363778284927, 0.5771922795458011, 0.576965663370858, 0.5769594896112811, 0.5769496899929052, 0.5769443492008903, 0.576942830260042, 0.5769415563096532, 0.5769092665671045, 0.5768937831700706], \"Total\": [2.0, 2.0, 5.0, 2.0, 1.0, 2.0, 2.0, 2.0, 2.0, 2.0, 2.0, 2.0, 2.0, 1.0, 2.0, 1.0, 1.0, 1.0, 1.0, 1.0, 1.0, 1.0, 1.0, 1.0, 1.0, 1.0, 1.0, 1.0, 1.0, 4.0, 2.1273060466824476, 2.1273053591983, 2.1273041771805907, 2.127302497636629, 2.127301240591186, 2.1273009755043963, 2.1273034156494584, 2.1272960920709534, 1.5880173377516413, 1.5880169555430177, 1.5880140013854542, 1.588014608639318, 1.588011900704444, 1.5880110303173538, 1.588009349212867, 1.5879993080204375, 1.5880085953465723, 1.0487203661999862, 1.0487203812051518, 1.048720364681181, 1.0487201683118328, 1.0487201428506587, 1.0487200965295866, 1.0487197192289155, 1.048720193945985, 1.0487196892598438, 1.0487199435811707, 1.0487196612474454, 1.0487196714852896, 1.0487194991503561, 1.0487197224666591, 5.5760568346555335, 1.5369363129136224, 2.0604850544216133, 1.5649187482938753, 1.5648842941385794, 1.5722877397414528, 1.572290778341534, 1.536411917652428, 1.5722782120552088, 1.556954134099309, 1.556950950528754, 1.5569334649630495, 1.5569315840157076, 1.5569314728041468, 1.5569001585209044, 1.03320246752389, 1.0332017468764498, 1.033201758516547, 1.0332016691564465, 1.0332021827659337, 1.0332020192702485, 1.0332017899376673, 1.0332017925887793, 1.0332019211177954, 1.0332018409560102, 1.033201747262797, 1.0332013240191749, 1.0332016903872119, 1.0332013865865508, 1.0332014327688137, 1.0332013631098613, 1.0332014945098649, 1.0332016761878369, 1.0332012446982317, 1.0332013706127872, 1.0332012381815667, 1.0332012681073843, 1.0332015641708099, 1.0332009774141693, 2.0378976484376583, 2.0376786141461745, 2.073150184110217, 4.533649132267418, 2.008647010295878, 1.5493457726512625, 2.0604850544216133, 1.5722791515164896, 2.0303113138241544, 1.549358374169442, 1.572291416159303, 1.5208722360799367, 1.514119263440175, 1.5421662830921898, 1.5421660391156897, 1.5421662976214199, 1.5421638802854372, 1.5421648573352638, 1.542163951272014, 1.5421612130525684, 1.54216125524605, 1.542161691291067, 1.5421578106522849, 1.5420210728794779, 1.5420315865822385, 1.542216713417085, 1.5422242818801641, 1.5422220189237839, 1.5422256070879528, 1.5422344875728062, 1.5422346840281578, 1.5422337918779463, 1.5422311089855116, 1.5422311474763915, 1.542236782663418, 1.5422366172988802, 1.542233370545952, 1.5422455632571523, 1.5422405215235486, 1.5422383302473925, 1.542300853600299, 1.542299624094482, 1.0258017392760361, 5.5760568346555335, 4.533649132267418, 2.6047139560586765, 2.991575956197307, 2.5689093506860363, 1.4851347008702955, 1.4851288971545216, 1.485125111695178, 1.4851193099838595, 1.485119013533492, 1.4851192223084344, 1.4851482989234315, 1.4851572080650381, 1.4851609106279777, 1.4854096536678205, 0.9972957151881254, 0.9972952578740969, 0.9972956683328811, 0.9972957760696693, 0.997295476625173, 0.9972960870419282, 0.9972953205199903, 0.997295432183817, 0.9972954266567919, 0.9972946498040458, 0.9972949719309857, 0.9972947846339444, 0.9972949865370297, 0.9972949117824231, 0.997294988490999, 0.9972948485908821, 0.9972946428318545, 0.9972952883985173, 0.9972948078181546, 0.9972947880234544, 2.934553367072689, 2.008544664747769, 2.008555780618263, 2.008646476654953, 2.0086463474830656, 2.008647010295878, 4.533649132267418, 2.0169376124578937, 2.0169685938481985, 2.0598811386879317, 1.5363343266177871, 1.5363277175464398, 1.5208493935029526, 1.5363649365014878, 1.5208701114131056, 1.5134653663114892, 1.513472853090032, 1.5134729118175978, 1.5134709591403641, 2.4329175241840346, 2.4329161959040766, 1.9523462050973868, 1.471205358431595, 1.4711996707175752, 1.4711942417570725, 1.4713615221501102, 0.9903324296399715, 0.9903322925756057, 0.9903323227886485, 0.9903319681462996, 0.9903323342078978, 0.9903319462500869, 0.9903321420022848, 0.9903321057752205, 0.990331840118719, 0.9903319105357609, 0.990331680191338, 0.990331618313982, 0.9903317775942382, 0.9903315716381755, 0.9903315914444993, 0.9903316491893143, 0.9903312697837605, 0.9903313204291604, 0.9903311757993971, 0.9903312879043138, 0.9903313407019938, 0.9903310342469587, 0.9903314043447491, 1.9587126992675616, 0.9903318309778102, 5.5760568346555335, 2.934553367072689, 2.991575956197307, 1.5137937640618084, 1.50641538792159, 1.5064181341019336, 2.0528125846636707, 1.5293553125313646, 2.0169376124578937, 2.0169685938481985, 1.5064527728593724, 1.5138674643981862, 1.5138777156877237, 1.5292827688753206, 1.529262744779228, 1.529286850267514, 1.5292648314127204, 1.4780005089531163, 1.5293696206324807], \"Category\": [\"Default\", \"Default\", \"Default\", \"Default\", \"Default\", \"Default\", \"Default\", \"Default\", \"Default\", \"Default\", \"Default\", \"Default\", \"Default\", \"Default\", \"Default\", \"Default\", \"Default\", \"Default\", \"Default\", \"Default\", \"Default\", \"Default\", \"Default\", \"Default\", \"Default\", \"Default\", \"Default\", \"Default\", \"Default\", \"Default\", \"Topic1\", \"Topic1\", \"Topic1\", \"Topic1\", \"Topic1\", \"Topic1\", \"Topic1\", \"Topic1\", \"Topic1\", \"Topic1\", \"Topic1\", \"Topic1\", \"Topic1\", \"Topic1\", \"Topic1\", \"Topic1\", \"Topic1\", \"Topic1\", \"Topic1\", \"Topic1\", \"Topic1\", \"Topic1\", \"Topic1\", \"Topic1\", \"Topic1\", \"Topic1\", \"Topic1\", \"Topic1\", \"Topic1\", \"Topic1\", \"Topic1\", \"Topic1\", \"Topic1\", \"Topic1\", \"Topic1\", \"Topic1\", \"Topic1\", \"Topic1\", \"Topic1\", \"Topic1\", \"Topic2\", \"Topic2\", \"Topic2\", \"Topic2\", \"Topic2\", \"Topic2\", \"Topic2\", \"Topic2\", \"Topic2\", \"Topic2\", \"Topic2\", \"Topic2\", \"Topic2\", \"Topic2\", \"Topic2\", \"Topic2\", \"Topic2\", \"Topic2\", \"Topic2\", \"Topic2\", \"Topic2\", \"Topic2\", \"Topic2\", \"Topic2\", \"Topic2\", \"Topic2\", \"Topic2\", \"Topic2\", \"Topic2\", \"Topic2\", \"Topic2\", \"Topic2\", \"Topic2\", \"Topic2\", \"Topic2\", \"Topic2\", \"Topic2\", \"Topic2\", \"Topic2\", \"Topic2\", \"Topic2\", \"Topic2\", \"Topic2\", \"Topic3\", \"Topic3\", \"Topic3\", \"Topic3\", \"Topic3\", \"Topic3\", \"Topic3\", \"Topic3\", \"Topic3\", \"Topic3\", \"Topic3\", \"Topic3\", \"Topic3\", \"Topic3\", \"Topic3\", \"Topic3\", \"Topic3\", \"Topic3\", \"Topic3\", \"Topic3\", \"Topic3\", \"Topic3\", \"Topic3\", \"Topic3\", \"Topic3\", \"Topic3\", \"Topic3\", \"Topic3\", \"Topic3\", \"Topic3\", \"Topic3\", \"Topic3\", \"Topic3\", \"Topic3\", \"Topic3\", \"Topic4\", \"Topic4\", \"Topic4\", \"Topic4\", \"Topic4\", \"Topic4\", \"Topic4\", \"Topic4\", \"Topic4\", \"Topic4\", \"Topic4\", \"Topic4\", \"Topic4\", \"Topic4\", \"Topic4\", \"Topic4\", \"Topic4\", \"Topic4\", \"Topic4\", \"Topic4\", \"Topic4\", \"Topic4\", \"Topic4\", \"Topic4\", \"Topic4\", \"Topic4\", \"Topic4\", \"Topic4\", \"Topic4\", \"Topic4\", \"Topic4\", \"Topic4\", \"Topic4\", \"Topic4\", \"Topic4\", \"Topic4\", \"Topic4\", \"Topic4\", \"Topic4\", \"Topic4\", \"Topic4\", \"Topic4\", \"Topic4\", \"Topic4\", \"Topic4\", \"Topic4\", \"Topic4\", \"Topic4\", \"Topic4\", \"Topic5\", \"Topic5\", \"Topic5\", \"Topic5\", \"Topic5\", \"Topic5\", \"Topic5\", \"Topic5\", \"Topic5\", \"Topic5\", \"Topic5\", \"Topic5\", \"Topic5\", \"Topic5\", \"Topic5\", \"Topic5\", \"Topic5\", \"Topic5\", \"Topic5\", \"Topic5\", \"Topic5\", \"Topic5\", \"Topic5\", \"Topic5\", \"Topic5\", \"Topic5\", \"Topic5\", \"Topic5\", \"Topic5\", \"Topic5\", \"Topic5\", \"Topic5\", \"Topic5\", \"Topic5\", \"Topic5\", \"Topic5\", \"Topic5\", \"Topic5\", \"Topic5\", \"Topic5\", \"Topic5\", \"Topic5\", \"Topic5\", \"Topic5\", \"Topic5\", \"Topic5\", \"Topic5\", \"Topic5\", \"Topic5\", \"Topic5\", \"Topic5\"], \"logprob\": [30.0, 29.0, 28.0, 27.0, 26.0, 25.0, 24.0, 23.0, 22.0, 21.0, 20.0, 19.0, 18.0, 17.0, 16.0, 15.0, 14.0, 13.0, 12.0, 11.0, 10.0, 9.0, 8.0, 7.0, 6.0, 5.0, 4.0, 3.0, 2.0, 1.0, -6.4392, -6.4392, -6.4392, -6.4392, -6.4392, -6.4392, -6.4392, -6.4393, -6.814, -6.814, -6.814, -6.814, -6.814, -6.814, -6.814, -6.814, -6.8141, -7.4203, -7.4203, -7.4203, -7.4203, -7.4203, -7.4203, -7.4203, -7.4203, -7.4203, -7.4203, -7.4203, -7.4203, -7.4203, -7.4203, -6.8187, -7.4112, -7.412, -7.4193, -7.4196, -7.4199, -7.4199, -7.42, -7.42, -6.7913, -6.7913, -6.7914, -6.7914, -6.7914, -6.7914, -7.3975, -7.3975, -7.3975, -7.3975, -7.3975, -7.3975, -7.3975, -7.3975, -7.3975, -7.3975, -7.3975, -7.3975, -7.3975, -7.3975, -7.3975, -7.3975, -7.3975, -7.3975, -7.3975, -7.3975, -7.3975, -7.3975, -7.3975, -7.3975, -6.7889, -6.7911, -6.7912, -6.7936, -7.3959, -7.3971, -7.3971, -7.3971, -7.3973, -7.3974, -7.3974, -7.3974, -7.3975, -6.7678, -6.7679, -6.7679, -6.7679, -6.7679, -6.7679, -6.7679, -6.7679, -6.7679, -6.768, -6.7683, -6.7693, -6.7699, -6.7702, -6.7702, -6.7704, -6.7706, -6.7706, -6.7707, -6.7707, -6.7707, -6.7707, -6.7709, -6.7709, -6.771, -6.7711, -6.7711, -6.772, -6.772, -7.3741, -6.1213, -6.7646, -6.7669, -6.7674, -6.7676, -6.6936, -6.6937, -6.6937, -6.6937, -6.6937, -6.6937, -6.6939, -6.6941, -6.6941, -6.6961, -7.2999, -7.2999, -7.2999, -7.2999, -7.2999, -7.2999, -7.2999, -7.2999, -7.2999, -7.2999, -7.2999, -7.2999, -7.2999, -7.2999, -7.2999, -7.2999, -7.2999, -7.2999, -7.2999, -7.2999, -6.3187, -6.6928, -6.6928, -6.6931, -6.6931, -6.6949, -6.3179, -7.2981, -7.2986, -7.2986, -7.299, -7.2993, -7.2995, -7.2997, -7.2998, -7.2998, -7.2999, -7.2999, -7.2999, -6.0327, -6.0327, -6.3077, -6.6794, -6.6794, -6.6794, -6.6811, -7.2856, -7.2856, -7.2856, -7.2856, -7.2856, -7.2856, -7.2856, -7.2856, -7.2856, -7.2856, -7.2856, -7.2856, -7.2856, -7.2856, -7.2856, -7.2856, -7.2856, -7.2856, -7.2856, -7.2856, -7.2856, -7.2856, -7.2856, -6.6787, -7.2856, -6.031, -6.6797, -6.6777, -7.2844, -7.2844, -7.2846, -7.2848, -7.2849, -7.285, -7.285, -7.2851, -7.2855, -7.2855, -7.2855, -7.2855, -7.2855, -7.2855, -7.2856, -7.2856], \"loglift\": [30.0, 29.0, 28.0, 27.0, 26.0, 25.0, 24.0, 23.0, 22.0, 21.0, 20.0, 19.0, 18.0, 17.0, 16.0, 15.0, 14.0, 13.0, 12.0, 11.0, 10.0, 9.0, 8.0, 7.0, 6.0, 5.0, 4.0, 3.0, 2.0, 1.0, 1.2825, 1.2825, 1.2825, 1.2825, 1.2825, 1.2825, 1.2825, 1.2825, 1.2001, 1.2001, 1.2001, 1.2001, 1.2001, 1.2001, 1.2001, 1.2001, 1.2, 1.0088, 1.0088, 1.0088, 1.0088, 1.0088, 1.0088, 1.0088, 1.0088, 1.0088, 1.0088, 1.0088, 1.0088, 1.0088, 1.0088, -0.0606, 0.6356, 0.3416, 0.6095, 0.6091, 0.6041, 0.6041, 0.6271, 0.6041, 1.2425, 1.2425, 1.2425, 1.2425, 1.2425, 1.2424, 1.0464, 1.0464, 1.0464, 1.0464, 1.0464, 1.0464, 1.0464, 1.0464, 1.0464, 1.0464, 1.0464, 1.0464, 1.0464, 1.0464, 1.0464, 1.0464, 1.0464, 1.0464, 1.0464, 1.0464, 1.0464, 1.0464, 1.0464, 1.0464, 0.9757, 0.9737, 0.9563, 0.1714, 0.3832, 0.6417, 0.3565, 0.6269, 0.3711, 0.6413, 0.6266, 0.6599, 0.6642, 1.2755, 1.2755, 1.2755, 1.2755, 1.2755, 1.2755, 1.2755, 1.2755, 1.2755, 1.2754, 1.2752, 1.2742, 1.2734, 1.2731, 1.2731, 1.2729, 1.2728, 1.2727, 1.2727, 1.2726, 1.2726, 1.2726, 1.2725, 1.2725, 1.2723, 1.2723, 1.2723, 1.2713, 1.2713, 1.077, 0.6368, 0.2005, 0.7523, 0.6134, 0.7655, 1.3874, 1.3874, 1.3874, 1.3874, 1.3874, 1.3874, 1.3872, 1.387, 1.3869, 1.3848, 1.1794, 1.1794, 1.1794, 1.1794, 1.1794, 1.1794, 1.1794, 1.1794, 1.1794, 1.1794, 1.1794, 1.1794, 1.1794, 1.1794, 1.1794, 1.1794, 1.1794, 1.1794, 1.1794, 1.1794, 1.0813, 1.0864, 1.0864, 1.086, 1.086, 1.0843, 0.6471, 0.4769, 0.4764, 0.4554, 0.7482, 0.7479, 0.7578, 0.7474, 0.7575, 0.7623, 0.7623, 0.7623, 0.7623, 1.5548, 1.5548, 1.4998, 1.4111, 1.4111, 1.4111, 1.4093, 1.2007, 1.2007, 1.2007, 1.2007, 1.2007, 1.2007, 1.2007, 1.2007, 1.2007, 1.2007, 1.2007, 1.2007, 1.2007, 1.2007, 1.2007, 1.2007, 1.2007, 1.2007, 1.2007, 1.2007, 1.2007, 1.2007, 1.2007, 1.1256, 1.2007, 0.7271, 0.7204, 0.7031, 0.7776, 0.7825, 0.7823, 0.4725, 0.7668, 0.49, 0.49, 0.7817, 0.7764, 0.7764, 0.7663, 0.7663, 0.7662, 0.7663, 0.8003, 0.7661]}, \"token.table\": {\"Topic\": [4, 2, 4, 2, 4, 5, 4, 1, 2, 5, 5, 5, 1, 2, 5, 5, 1, 5, 3, 4, 5, 2, 3, 5, 1, 4, 1, 2, 4, 2, 3, 4, 5, 4, 4, 4, 1, 2, 4, 2, 4, 5, 1, 5, 1, 2, 5, 3, 4, 5, 2, 4, 2, 5, 1, 5, 1, 2, 3, 5, 3, 4, 4, 1, 3, 1, 5, 4, 3, 5, 2, 5, 2, 3, 3, 5, 4, 5, 1, 4, 1, 3, 5, 3, 3, 2, 2, 4, 2, 5, 3, 3, 3, 3, 4, 2, 2, 4, 5, 1, 3, 2, 5, 1, 5, 2, 5, 1, 5, 3, 4, 1, 1, 4, 1, 1, 5, 1, 4, 5, 1, 2, 4, 1, 4, 5, 4, 4, 5, 1, 1, 1, 3, 5, 1, 3, 4, 3, 5, 4, 2, 3, 3, 2, 5, 1, 3, 3, 1, 2, 1, 3, 4, 1, 1, 1, 2, 1, 5, 4, 5, 1, 2, 1, 2, 5, 2, 2, 3, 2, 2, 2, 2, 2, 2, 2, 2, 2, 2, 2, 2, 1, 2, 3, 5, 3, 4, 1, 5, 2, 5, 1, 3, 2, 4, 4, 2, 3, 2, 4, 4, 2, 4, 3, 1, 1, 3, 3, 4, 4, 1, 4, 5, 1, 2, 4, 4, 3, 3, 5, 2, 5, 4, 3, 3, 5, 3, 1, 4, 3, 1, 1, 1, 5, 5, 4, 4, 5, 5, 5, 3, 5, 1, 4, 5, 3, 4, 3, 1, 5, 1, 4, 4, 3, 5, 1, 2, 1, 1, 2, 4, 2, 4, 3, 1, 2, 4, 3, 4, 1, 3, 1, 5, 2, 2, 2], \"Freq\": [1.0027125499992906, 0.4978477178190427, 0.4978477178190427, 0.49784768580348887, 0.49784768580348887, 1.0097630549500256, 1.0027123650927234, 0.6297185478618221, 0.49075452480960485, 0.49075452480960485, 1.0097624151947724, 1.0097627087995347, 0.6360158988229725, 0.6360158988229725, 1.0097627718909734, 1.0097622379277404, 0.6539013061236735, 0.6539013061236735, 0.6484951467280912, 0.6815347174943573, 0.3407673587471787, 0.49253530391675204, 0.49253530391675204, 0.49253530391675204, 0.6508671200155473, 0.6508671200155473, 0.4854649043667457, 0.4854649043667457, 0.4854649043667457, 0.22057286985062055, 0.22057286985062055, 0.4411457397012411, 0.22057286985062055, 0.673329392046561, 1.002712530097057, 0.673346614183354, 0.48532261753323136, 0.48532261753323136, 0.48532261753323136, 0.657517427353076, 0.657517427353076, 1.0097626094855285, 0.653908976037989, 0.653908976037989, 0.4871365303734429, 0.4871365303734429, 0.4871365303734429, 0.33427197391676244, 0.33427197391676244, 0.33427197391676244, 0.4978701660414855, 0.4978701660414855, 0.49070177825988653, 0.49070177825988653, 0.6297195134398857, 1.009762274865573, 0.3839193158519219, 0.3839193158519219, 0.3839193158519219, 1.0097628194826014, 0.6607353047246329, 0.6607353047246329, 1.0027123504073383, 0.6390108119608332, 0.6390108119608332, 0.6538702888767005, 0.6538702888767005, 1.002712425568022, 0.6638275259387159, 0.6638275259387159, 0.6605553339199002, 0.6605553339199002, 0.6454284668232847, 0.6454284668232847, 0.6638110520397642, 0.6638110520397642, 0.6733439439715366, 0.6797173897627721, 0.6508999914110377, 0.6508999914110377, 0.6390248811018128, 0.6390248811018128, 1.009762084400228, 0.6484150710659901, 0.6484386081886623, 0.9678656616401264, 0.9678651847514229, 0.673214959611154, 0.6605598069296865, 0.6605598069296865, 0.6484406374224589, 0.64844206805076, 0.6484384994940967, 0.6484406196811443, 0.6733334312303287, 0.9678651422917209, 0.9678651447751844, 1.0027120469062136, 1.009762799287659, 0.9401583385737092, 0.6483824442265049, 0.6605919668454717, 0.6605919668454717, 0.9535430205436037, 1.0097625457342885, 0.9678649299449694, 1.0097630756206415, 0.940158455728526, 1.0097619446467516, 0.6484112492438345, 1.0027120775964269, 0.6297171288977277, 0.9401573773101882, 0.6733395963436822, 0.9535436496913405, 0.953543622442098, 0.8220587307393036, 0.4957935403902785, 0.4957935403902785, 0.4957935403902785, 0.9535438225475665, 0.9678659059176825, 1.002712553407214, 0.6509027914936204, 0.6509027914936204, 1.0097632230882747, 1.0027120146102757, 0.6765897534827716, 0.6765897534827716, 0.9401570407531882, 0.6297182027139714, 0.17933820074876908, 0.35867640149753816, 0.35867640149753816, 0.3892702557733096, 0.3892702557733096, 0.3892702557733096, 0.6638263157899119, 0.6638263157899119, 1.0027118576572502, 0.48235772191737947, 0.48235772191737947, 0.9748472455367001, 0.6422796780577583, 1.0097620419511342, 0.9535431908079628, 0.648410298401207, 0.648499568253409, 0.636014411655785, 0.636014411655785, 0.9535436658527742, 0.6607320362293363, 0.6607320362293363, 0.9401565183635523, 0.9535436194981943, 0.6360146696623182, 0.6360146696623182, 0.6538995609784212, 0.6538995609784212, 1.0027116649084014, 1.0097627404098417, 0.6360197529499863, 0.6360197529499863, 0.6297231963196359, 0.6604499553938284, 0.6604499553938284, 0.9678645100379396, 0.9678650218905177, 0.648413562454206, 0.9678651851133386, 0.9678651742093263, 0.9678654215210798, 0.9678655446118193, 0.9678656555355498, 0.9678655812305572, 0.9678652380303705, 0.9678652579185689, 0.967865096983094, 0.9678653562652554, 0.9678656336067005, 0.9678655375833507, 0.6297160466873917, 0.9678654793578448, 0.6484112330608393, 0.6797147619595867, 0.6607328630659618, 0.6607328630659618, 0.6538641715574575, 0.6538641715574575, 0.9678647767883631, 1.0097624739356412, 0.9535432141156781, 0.6484173017320652, 0.4978475535393836, 0.4978475535393836, 1.0027126889695896, 0.6454337163800342, 0.6454337163800342, 0.6422809913571081, 1.0027116177987032, 1.0027115565865403, 0.6575273030136883, 0.6575273030136883, 0.6483819273429249, 0.9535430355679302, 0.9535432372661153, 0.6484404363350642, 0.648439515918964, 0.6733277134106399, 0.6733467088410207, 0.6506450472916903, 0.6506450472916903, 0.6796426200806811, 0.636019372918278, 0.636019372918278, 1.0027119023399724, 1.002712695979659, 0.6484394860709692, 0.6484391050953652, 1.0097620535944223, 0.9678652513318216, 1.009762990058513, 0.6733422276786755, 0.6484101212581528, 0.6484089333525423, 1.0097631087836745, 0.648407291887338, 0.9535434184508766, 1.002711243925655, 0.6484051721880435, 0.6297161982493147, 0.629717369700491, 0.9535430341869651, 0.8220582819266637, 1.0097631272597811, 0.6733465744316988, 0.5105393968058402, 0.5105393968058402, 1.0244084756987228, 1.0097625550545455, 0.6484098287633395, 1.0097633674182427, 0.4958011560810617, 0.4958011560810617, 0.4958011560810617, 0.6607320105908304, 0.6607320105908304, 0.6484141196252435, 0.6539098682773214, 0.6539098682773214, 0.6508870231555377, 0.6508870231555377, 1.0027123484427551, 0.6484097461665842, 0.6797198980371775, 0.9401577830242486, 0.967865522619709, 0.9535436751614882, 0.9401606139618163, 0.6423019450072033, 1.0027124891028367, 0.4978729213998231, 0.4978729213998231, 0.6484088638276517, 0.9535432793833067, 0.6575183459098011, 0.6575183459098011, 0.6484385056032382, 1.0027119078970155, 0.9401562145319982, 0.6484082131712993, 0.6297192144968622, 1.0097624375205922, 0.6422882046688699, 0.642289026503477, 0.6422889806247974], \"Term\": [\"Abarths,expensive,buy\", \"BON,BON,BON\", \"BON,BON,BON\", \"HIRO,BON,BON\", \"HIRO,BON,BON\", \"Hiraizumi,World,Heritage\", \"I,Abarth,guy\", \"I,ca,stop\", \"I,ca,wait\", \"I,ca,wait\", \"I,choice,send\", \"I,found,I\", \"I,get,excited\", \"I,get,excited\", \"I,glad,happy\", \"I,going,fiat\", \"I,going,test\", \"I,going,test\", \"I,happy,able\", \"I,hope,I\", \"I,hope,I\", \"I,hope,see\", \"I,hope,see\", \"I,hope,see\", \"I,like,decorate\", \"I,like,decorate\", \"I,like,see\", \"I,like,see\", \"I,like,see\", \"I,look,forward\", \"I,look,forward\", \"I,look,forward\", \"I,look,forward\", \"I,never,get\", \"I,never,ice\", \"I,never,seen\", \"I,never,thought\", \"I,never,thought\", \"I,never,thought\", \"I,really,enjoyed\", \"I,really,enjoyed\", \"I,sorting,photos\", \"I,taken,delivery\", \"I,taken,delivery\", \"I,think,I\", \"I,think,I\", \"I,think,I\", \"I,want,go\", \"I,want,go\", \"I,want,go\", \"I,wish,I\", \"I,wish,I\", \"I,wonder,I\", \"I,wonder,I\", \"I,would,like\", \"It,lovely,It\", \"It,pleasure,meet\", \"It,pleasure,meet\", \"It,pleasure,meet\", \"It,postbox,set\", \"It,really,nice\", \"It,really,nice\", \"Justkidding,I,impressed\", \"Kumi,imuk,I\", \"Kumi,imuk,I\", \"Nice,meet,I\", \"Nice,meet,I\", \"OK,I,like\", \"Please,come,see\", \"Please,come,see\", \"Thank,hard,work\", \"Thank,hard,work\", \"Thank,much,I\", \"Thank,much,I\", \"Thank,rossoc,It\", \"Thank,rossoc,It\", \"Thank,thank,much\", \"The,cherry_blossom,tunnel\", \"The,second,one\", \"The,second,one\", \"The,white,body\", \"The,white,body\", \"This,video,bit\", \"accept,yesfiat,make\", \"aesthetic,aesthetic,babystyle\", \"alluring,ischia,ig\", \"amareazul,cremelamare,kiss\", \"apple,snow,Yes\", \"becoming,picture,framer\", \"becoming,picture,framer\", \"beige,neutral,beigevibes\", \"beigeaesthetics,outfit,ootd\", \"beigetones,aesthetic,aesthetic\", \"beigevibes,beigeaesthetics,outfit\", \"better,I,never\", \"borghiitaliani,iloveitaly,iloveitalia\", \"borghipiubelliditalia,borghiitaliani,iloveitaly\", \"bring,back,whether\", \"buy,wait,delivery\", \"c,fiat,co\", \"c,r,c\", \"ca,wait,see\", \"ca,wait,see\", \"car,everything,nationalised\", \"car,yet,lol\", \"castelloaragoneseischia,love,united\", \"cherry_blossom,tunnel,This\", \"co,uk,user\", \"commemorate,Hiraizumi,World\", \"conditions,privacy,policy\", \"considering,damage,fiat\", \"content,reshare,reply\", \"content,term,condition\", \"cream,I,like\", \"cross,without,problems\", \"decade,fiat,bringing\", \"deer,saffron,deer\", \"delivery,car,yet\", \"delivery,car,yet\", \"delivery,car,yet\", \"design,would,stand\", \"dolcevita,ischia,castelloaragoneseischia\", \"done,brand,result\", \"done,great,job\", \"done,great,job\", \"drive,buy,wait\", \"especially,considering,damage\", \"even,though,I\", \"even,though,I\", \"fiat,co,uk\", \"fiat,content,reshare\", \"fiat,dolcevita,I\", \"fiat,dolcevita,I\", \"fiat,dolcevita,I\", \"fiat,dolcevita,It\", \"fiat,dolcevita,It\", \"fiat,dolcevita,It\", \"fiat,dolcevita,Thank\", \"fiat,dolcevita,Thank\", \"fiat,done,brand\", \"fiat,fiat,fiatdolcevita\", \"fiat,fiat,fiatdolcevita\", \"fiat,fiatdolcevita,italiantrip\", \"fiat,fiatlovers,fiatdolcevita\", \"fiat,owner,lol\", \"fiat,profile,real\", \"fiat,really,interesting\", \"fiat,uk,yesfiat\", \"first,time,I\", \"first,time,I\", \"forum,ball,last\", \"forward,talking,next\", \"forward,talking,next\", \"generated,content,term\", \"genuinely,italian,design\", \"get,excited,every\", \"get,excited,every\", \"going,test,drive\", \"going,test,drive\", \"haha,question,bring\", \"happy,No,said\", \"hard,work,I\", \"hard,work,I\", \"hiro_bon,bon_bon,I\", \"hope,see,next\", \"hope,see,next\", \"iloveitalia,fiat,fiat\", \"iloveitaly,iloveitalia,fiat\", \"interesting,would,like\", \"ischia,amareazul,cremelamare\", \"ischia,castelloaragoneseischia,love\", \"ischia,ig,ischiaisolaverde\", \"italia,borghipiubelliditalia,borghiitaliani\", \"italianlandscapes,alluring,ischia\", \"italianpassion,italiantravel,ladolcevita\", \"italianstyle,italy,dolcevita\", \"italiantravel,ladolcevita,ladolcevitaitaly\", \"italy,ig,italia\", \"italy,italianlandscapes,alluring\", \"italy,passion,love\", \"italytravel,italianpassion,italiantravel\", \"killing,fiat,content\", \"kiss,italy,italianlandscapes\", \"like,share,accept\", \"lol,I,going\", \"look,forward,talking\", \"look,forward,talking\", \"lot,things,lol\", \"lot,things,lol\", \"love,united,ischia\", \"lovely,It,postbox\", \"made,pernambuco,would\", \"make,possible,terminus\", \"marci,black,focus\", \"marci,black,focus\", \"marikel,If,OK\", \"mayolis,home,decor\", \"mayolis,home,decor\", \"melon_melon_melon_melon,melon_melon_melon_melon,melon_melon_melon_melon\", \"missed,I,think\", \"missed,lot,especially\", \"miyaken,farecorail,It\", \"miyaken,farecorail,It\", \"mk,c,r\", \"modern,genuinely,italian\", \"nationalised,ready,made\", \"neutral,beigevibes,beigeaesthetics\", \"neutraltones,beigetones,aesthetic\", \"never,get,better\", \"never,seen,white\", \"never,thought,I\", \"never,thought,I\", \"next,time,I\", \"next,year,I\", \"next,year,I\", \"ohpedroestevao,yes,public\", \"one,whipped,cream\", \"ootd,neutraltones,beigetones\", \"outfit,ootd,neutraltones\", \"owner,lol,I\", \"passion,love,italy\", \"photos,iPhone,I\", \"pleasure,I,look\", \"possible,terminus,conditions\", \"post,fiat,really\", \"postbox,set,commemorate\", \"privacy,policy,available\", \"problems,biggest,forum\", \"question,bring,back\", \"really,interesting,would\", \"reply,yesfiat,c\", \"reshare,reply,yesfiat\", \"safe,modern,genuinely\", \"saffron,deer,saffron\", \"said,much,stripey\", \"seen,white,wisteria\", \"send_pic,magazine,austria\", \"send_pic,magazine,austria\", \"send_pic,planet,motorized\", \"set,commemorate,Hiraizumi\", \"share,accept,yesfiat\", \"stripey,stripey,I\", \"taken,delivery,car\", \"taken,delivery,car\", \"taken,delivery,car\", \"talking,next,year\", \"talking,next,year\", \"terminus,conditions,privacy\", \"test,drive,buy\", \"test,drive,buy\", \"thanks,I,really\", \"thanks,I,really\", \"think,missed,lot\", \"think,post,fiat\", \"topolina_rossa,I,surprised\", \"uk,user,generated\", \"united,ischia,amareazul\", \"urban,suv,safe\", \"user,generated,content\", \"verica,jergan,thank\", \"whether,missed,I\", \"wish,I,could\", \"wish,I,could\", \"would,like,share\", \"would,raise,fiat\", \"year,I,hope\", \"year,I,hope\", \"year,I,look\", \"yes,public,knowledge\", \"yesfiat,c,fiat\", \"yesfiat,make,possible\", \"yoko,taniguchi,I\", \"yuririna,I,taken\", \"\\ud835\\udc12\\ud835\\udc1e\\ud835\\udc27\\ud835\\udc1d,\\ud835\\udc29\\ud835\\udc22\\ud835\\udc1c,\\ud835\\udc28\\ud835\\udc27\", \"\\ud835\\udc28\\ud835\\udc27,austria,community\", \"\\ud835\\udc29\\ud835\\udc22\\ud835\\udc1c,\\ud835\\udc28\\ud835\\udc27,austria\"]}, \"R\": 30, \"lambda.step\": 0.01, \"plot.opts\": {\"xlab\": \"PC1\", \"ylab\": \"PC2\"}, \"topic.order\": [5, 1, 2, 3, 4]};\n",
       "\n",
       "function LDAvis_load_lib(url, callback){\n",
       "  var s = document.createElement('script');\n",
       "  s.src = url;\n",
       "  s.async = true;\n",
       "  s.onreadystatechange = s.onload = callback;\n",
       "  s.onerror = function(){console.warn(\"failed to load library \" + url);};\n",
       "  document.getElementsByTagName(\"head\")[0].appendChild(s);\n",
       "}\n",
       "\n",
       "if(typeof(LDAvis) !== \"undefined\"){\n",
       "   // already loaded: just create the visualization\n",
       "   !function(LDAvis){\n",
       "       new LDAvis(\"#\" + \"ldavis_el10385569467704087855710\", ldavis_el10385569467704087855710_data);\n",
       "   }(LDAvis);\n",
       "}else if(typeof define === \"function\" && define.amd){\n",
       "   // require.js is available: use it to load d3/LDAvis\n",
       "   require.config({paths: {d3: \"https://d3js.org/d3.v5\"}});\n",
       "   require([\"d3\"], function(d3){\n",
       "      window.d3 = d3;\n",
       "      LDAvis_load_lib(\"https://cdn.jsdelivr.net/gh/bmabey/pyLDAvis@3.4.0/pyLDAvis/js/ldavis.v3.0.0.js\", function(){\n",
       "        new LDAvis(\"#\" + \"ldavis_el10385569467704087855710\", ldavis_el10385569467704087855710_data);\n",
       "      });\n",
       "    });\n",
       "}else{\n",
       "    // require.js not available: dynamically load d3 & LDAvis\n",
       "    LDAvis_load_lib(\"https://d3js.org/d3.v5.js\", function(){\n",
       "         LDAvis_load_lib(\"https://cdn.jsdelivr.net/gh/bmabey/pyLDAvis@3.4.0/pyLDAvis/js/ldavis.v3.0.0.js\", function(){\n",
       "                 new LDAvis(\"#\" + \"ldavis_el10385569467704087855710\", ldavis_el10385569467704087855710_data);\n",
       "            })\n",
       "         });\n",
       "}\n",
       "</script>"
      ],
      "text/plain": [
       "<IPython.core.display.HTML object>"
      ]
     },
     "metadata": {},
     "output_type": "display_data"
    },
    {
     "name": "stdout",
     "output_type": "stream",
     "text": [
      "Topic visualization saved to /Users/abhishekroy/Downloads/vscode folder/ldavisinsta_prepared.html.\n"
     ]
    }
   ],
   "source": [
    "import pyLDAvis\n",
    "import pyLDAvis.gensim_models as gensimvis\n",
    "from IPython.display import display\n",
    "\n",
    "# Prepare the visualization using the LDA model and corpus\n",
    "lda_vis_data = gensimvis.prepare(optimal_model, corpus, id2word)\n",
    "\n",
    "# Save the visualization data to a local HTML file (optional)\n",
    "output_file_path = '/Users/abhishekroy/Downloads/vscode folder/ldavisinsta_prepared.html'\n",
    "pyLDAvis.save_html(lda_vis_data, output_file_path)\n",
    "\n",
    "# Display the visualization directly in the Jupyter notebook\n",
    "pyLDAvis.display(lda_vis_data)\n",
    "display(pyLDAvis.display(lda_vis_data))\n",
    "\n",
    "print(f\"Topic visualization saved to {output_file_path}.\")\n"
   ]
  },
  {
   "cell_type": "markdown",
   "metadata": {},
   "source": [
    "### Topic Modeling Analysis of Fiat Dolcevita Instagram Comments\n",
    "\n",
    "The topic modeling analysis was performed to uncover the main themes present in the public's comments about Fiat Dolcevita cars. Using the Latent Dirichlet Allocation (LDA) model and visualizing the results with `pyLDAvis`, we identified several key topics that represent the dominant themes in the discussions.\n",
    "\n",
    "#### Key Topics Identified:\n",
    "\n",
    "1. **Topic 1: Enthusiastic Praise and Emotional Connection**\n",
    "   - **Keywords**: excited, happy, love, beautiful, amazing\n",
    "   - **Description**: This topic captures the strong positive emotions and admiration expressed by users towards the Fiat Dolcevita. It highlights the joy and enthusiasm of owning or interacting with the car, reflecting the emotional bond between customers and the brand.\n",
    "\n",
    "2. **Topic 2: Design and Aesthetic Appeal**\n",
    "   - **Keywords**: design, style, beautiful, Italian, dolcevita\n",
    "   - **Description**: This topic focuses on the car's visual and design aspects, emphasizing the aesthetic appeal of the Fiat Dolcevita. Comments often praise the car's stylish design, its Italian heritage, and the luxurious lifestyle it represents.\n",
    "\n",
    "3. **Topic 3: Brand Engagement and Social Media Interaction**\n",
    "   - **Keywords**: instagram, post, share, campaign, fiatlovers\n",
    "   - **Description**: This topic covers interactions related to Fiat’s marketing campaigns and social media presence. Users engage with branded hashtags, share their experiences online, and participate in the broader community of Fiat enthusiasts.\n",
    "\n",
    "4. **Topic 4: Customer Support and Queries**\n",
    "   - **Keywords**: question, help, problem, issue, support\n",
    "   - **Description**: Reflecting the inquiries and concerns from customers, this topic includes discussions where users seek assistance, ask questions about the car, or address any issues they have encountered, indicating the brand's active role in customer service.\n",
    "\n",
    "5. **Topic 5: Events and Community Participation**\n",
    "   - **Keywords**: event, community, meet, gathering, trip\n",
    "   - **Description**: This topic highlights the social aspect of owning a Fiat Dolcevita, focusing on events and community activities. Users discuss attending events, participating in group activities, and the sense of belonging to a community of like-minded Fiat enthusiasts.\n",
    "\n",
    "### Summary:\n",
    "\n",
    "These topics provide a comprehensive overview of the main themes driving public conversations around Fiat Dolcevita. The insights gained from this analysis can help Fiat focus on enhancing customer satisfaction, emphasizing the car's design and aesthetics, and fostering community engagement through events and social media.\n"
   ]
  },
  {
   "cell_type": "markdown",
   "metadata": {},
   "source": [
    "### Extracting and Analyzing Document-Topic Distributions\n",
    "\n",
    "After performing topic modeling on the comments about Fiat Dolcevita, the next step involved extracting the document-topic distribution. This distribution shows the proportion of each comment that corresponds to each identified topic, allowing for a deeper analysis of how the topics are represented across the dataset.\n",
    "\n",
    "#### Steps Performed:\n",
    "\n",
    "1. **Document-Topic Distribution Extraction**:\n",
    "   - The LDA model was used to compute the distribution of topics for each comment. This distribution indicates the probability that a given comment belongs to each of the identified topics.\n",
    "\n",
    "2. **Conversion to DataFrame**:\n",
    "   - The document-topic distribution was converted into a DataFrame, where each column represents a topic and each row corresponds to a comment. The values in the DataFrame indicate the proportion of each comment associated with each topic.\n",
    "\n",
    "3. **Saving the Distribution**:\n",
    "   - The document-topic distribution DataFrame was saved as a CSV file (`Zxdoc_topic_dist_instagram_comments.csv`) for future analysis and reference.\n",
    "\n",
    "4. **Extracting Comments by Topic**:\n",
    "   - A function was created to extract comments that strongly align with each topic. To achieve this, a moderate probability threshold (e.g., 0.3) was used. This threshold was chosen to preserve as many comments as possible while still ensuring that the comments strongly represent each topic.\n",
    "   - The selected comments, along with their associated weights (probabilities), were saved into separate CSV files for each topic.\n",
    "\n",
    "#### Output Files:\n",
    "- **Document-Topic Distribution**: `Zxdoc_topic_dist_instagram_comments.csv`\n",
    "- **Comments for Each Topic**:\n",
    "  - `instagram_comments_topic_1_comments.csv`\n",
    "  - `instagram_comments_topic_2_comments.csv`\n",
    "  - `instagram_comments_topic_3_comments.csv`\n",
    "  - `instagram_comments_topic_4_comments.csv`\n",
    "  - `instagram_comments_topic_5_comments.csv`\n",
    "\n",
    "By using a moderate threshold, this process allowed for the preservation of a larger number of comments, enabling a more comprehensive view of how each topic is represented across the dataset. The extracted comments are useful for further qualitative analysis or for summarizing the key themes associated with each topic.\n"
   ]
  },
  {
   "cell_type": "code",
   "execution_count": 19,
   "metadata": {},
   "outputs": [
    {
     "name": "stdout",
     "output_type": "stream",
     "text": [
      "Comments and weights for Topic 1 saved to instagram_comments_topic_1_comments.csv\n",
      "Comments and weights for Topic 2 saved to instagram_comments_topic_2_comments.csv\n",
      "Comments and weights for Topic 3 saved to instagram_comments_topic_3_comments.csv\n",
      "Comments and weights for Topic 4 saved to instagram_comments_topic_4_comments.csv\n",
      "Comments and weights for Topic 5 saved to instagram_comments_topic_5_comments.csv\n"
     ]
    }
   ],
   "source": [
    "import pandas as pd\n",
    "\n",
    "# Assuming you have already built the optimal LDA model as in the provided code.\n",
    "# We will now extract the document-topic distribution.\n",
    "\n",
    "# Extract the document-topic distribution for each comment\n",
    "doc_topic_dist = optimal_model[corpus]\n",
    "\n",
    "# Convert this distribution into a DataFrame\n",
    "doc_topic_df = pd.DataFrame()\n",
    "\n",
    "for i, row_list in enumerate(doc_topic_dist):\n",
    "    row = [0] * optimal_num_topics\n",
    "    for topic_num, prop in row_list:\n",
    "        row[topic_num] = prop\n",
    "    doc_topic_df = pd.concat([doc_topic_df, pd.Series(row)], axis=1)\n",
    "\n",
    "doc_topic_df = doc_topic_df.T  # Transpose to get topics as columns\n",
    "doc_topic_df.columns = [f\"Topic_{i+1}\" for i in range(optimal_num_topics)]  # Rename columns\n",
    "\n",
    "# Now, let's save this document-topic distribution for future use\n",
    "doc_topic_dist_file = 'Zxdoc_topic_dist_instagram_comments.csv'\n",
    "doc_topic_df.to_csv(doc_topic_dist_file, index=False)\n",
    "\n",
    "# Function to extract comments for each topic with their weights\n",
    "def extract_comments_for_topics(doc_topic_df, comments, num_topics, output_prefix, threshold=0.3):\n",
    "    for topic in range(num_topics):\n",
    "        # Extract comments and their weights (probabilities) for this topic\n",
    "        topic_comments_weights = [(comments[i], doc_topic_df.iloc[i, topic]) for i in range(len(comments)) if doc_topic_df.iloc[i, topic] > threshold]\n",
    "\n",
    "        # Save the comments and their weights to a CSV file\n",
    "        output_file = f\"{output_prefix}_topic_{topic + 1}_comments.csv\"\n",
    "        pd.DataFrame(topic_comments_weights, columns=[\"Comment\", \"Weight\"]).to_csv(output_file, index=False)\n",
    "        print(f\"Comments and weights for Topic {topic + 1} saved to {output_file}\")\n",
    "\n",
    "# Extract comments for the identified topics\n",
    "comments = df['translated_comments'].tolist()  # Use the original translated comments\n",
    "\n",
    "extract_comments_for_topics(doc_topic_df, comments, optimal_num_topics, 'instagram_comments')\n",
    "\n"
   ]
  },
  {
   "cell_type": "markdown",
   "metadata": {},
   "source": [
    "### Categorizing Comments by Importance Based on Topic Weights\n",
    "\n",
    "After extracting comments for each topic and calculating their associated weights, the next step involved categorizing these comments based on the significance of their weight in relation to each topic. This categorization helps in identifying the most and least representative comments for each topic, providing insights into the strength and relevance of different comments.\n",
    "\n",
    "#### Steps Performed:\n",
    "\n",
    "1. **Loading Topic-Specific Comments**:\n",
    "   - For each identified topic, the associated comments and their weights were loaded from CSV files.\n",
    "\n",
    "2. **Calculating Mean and Standard Deviation**:\n",
    "   - The mean and standard deviation of the weights were calculated for each topic. These statistical measures were used to define thresholds for categorizing the comments.\n",
    "\n",
    "3. **Defining Thresholds**:\n",
    "   - **Most Important Comments**: Comments with weights greater than one standard deviation above the mean were categorized as the most important. These comments are the most representative of the topic.\n",
    "   - **Important Comments**: Comments with weights within one standard deviation of the mean were categorized as important. These comments are moderately representative of the topic.\n",
    "   - **Least Important Comments**: Comments with weights less than one standard deviation below the mean were categorized as the least important. These comments are less representative of the topic.\n",
    "\n",
    "4. **Saving Categorized Comments**:\n",
    "   - The categorized comments were saved into separate CSV files for each topic:\n",
    "     - **Most Important Comments**: Saved in files named `INSTA_most_important_comments_topic_X.csv`\n",
    "     - **Important Comments**: Saved in files named `INSTA_important_comments_topic_X.csv`\n",
    "     - **Least Important Comments**: Saved in files named `INSTA_least_important_comments_topic_X.csv`\n",
    "\n",
    "5. **Purpose**:\n",
    "   - This categorization allows for a deeper analysis by focusing on the comments that are most strongly associated with each topic, thereby providing clearer insights into the key themes and sentiments expressed by the public.\n",
    "\n",
    "#### Output Files:\n",
    "- **Most Important Comments**: `INSTA_most_important_comments_topic_X.csv`\n",
    "- **Important Comments**: `INSTA_important_comments_topic_X.csv`\n",
    "- **Least Important Comments**: `INSTA_least_important_comments_topic_X.csv`\n",
    "\n",
    "Each of these steps ensures that the most relevant comments for each topic are easily identifiable, enabling more focused qualitative analysis and understanding of public perceptions related to Fiat Dolcevita.\n"
   ]
  },
  {
   "cell_type": "code",
   "execution_count": 20,
   "metadata": {},
   "outputs": [
    {
     "name": "stdout",
     "output_type": "stream",
     "text": [
      "Categorized comments for Topic 1 have been saved.\n",
      "Categorized comments for Topic 2 have been saved.\n",
      "Categorized comments for Topic 3 have been saved.\n",
      "Categorized comments for Topic 4 have been saved.\n",
      "Categorized comments for Topic 5 have been saved.\n"
     ]
    }
   ],
   "source": [
    "import pandas as pd\n",
    "\n",
    "# Define the directory path where your files are stored\n",
    "directory_path = \"/Users/abhishekroy/Downloads/vscode folder\"\n",
    "\n",
    "# List of topics (assuming you have files for each topic)\n",
    "topics = [1, 2,3,4,5]\n",
    "\n",
    "for topic_num in topics:\n",
    "    # Load the comments for the current topic\n",
    "    topic_df = pd.read_csv(f'{directory_path}/instagram_comments_topic_{topic_num}_comments.csv')\n",
    "\n",
    "    # Calculate the mean and standard deviation for the weights\n",
    "    mean_weight = topic_df['Weight'].mean()\n",
    "    std_dev = topic_df['Weight'].std()\n",
    "    \n",
    "    # Define thresholds based on mean and standard deviation\n",
    "    most_important_threshold = mean_weight + std_dev\n",
    "    least_important_threshold = mean_weight - std_dev\n",
    "\n",
    "    # Categorize the comments based on the thresholds\n",
    "    most_important_comments = topic_df[topic_df['Weight'] > most_important_threshold]\n",
    "    important_comments = topic_df[(topic_df['Weight'] <= most_important_threshold) & (topic_df['Weight'] >= least_important_threshold)]\n",
    "    least_important_comments = topic_df[topic_df['Weight'] < least_important_threshold]\n",
    "\n",
    "    # Save the categorized comments to CSV files\n",
    "    most_important_comments.to_csv(f'{directory_path}/INSTA_most_important_comments_topic_{topic_num}.csv', index=False)\n",
    "    important_comments.to_csv(f'{directory_path}/INSTA_important_comments_topic_{topic_num}.csv', index=False)\n",
    "    least_important_comments.to_csv(f'{directory_path}/INSTA_least_important_comments_topic_{topic_num}.csv', index=False)\n",
    "\n",
    "    print(f\"Categorized comments for Topic {topic_num} have been saved.\")\n"
   ]
  },
  {
   "cell_type": "markdown",
   "metadata": {},
   "source": [
    "### Preparing Data for Fine-Tuning a BART Model for Summarization\n",
    "\n",
    "The next step involved preparing the data to fine-tune a BART model from Hugging Face Transformers, focusing on teaching the model how to summarize comments related to Fiat Dolcevita. This was done by merging and structuring the categorized comments into a format suitable for fine-tuning.\n",
    "\n",
    "#### Steps Performed:\n",
    "\n",
    "1. **Defining Topics and Categories**:\n",
    "   - The process began by defining the topics (1 through 5) and the categories (`most_important`, `important`, `least_important`) that were previously identified and saved.\n",
    "\n",
    "2. **Concatenating Comments**:\n",
    "   - For each topic and category, comments were concatenated into a single text string. This was done to create a larger context for each category within each topic, which is essential for training the model to understand and summarize lengthy texts.\n",
    "   \n",
    "   - The comments were read from their respective CSV files, concatenated, and then stored in a structured format within a DataFrame.\n",
    "\n",
    "3. **Creating a DataFrame for Fine-Tuning**:\n",
    "   - A new DataFrame was created with the following columns:\n",
    "     - **`topic`**: The topic number (1 to 5).\n",
    "     - **`category`**: The importance category (`most_important`, `important`, `least_important`).\n",
    "     - **`concatenated_comments`**: The concatenated string of comments for the given topic and category.\n",
    "     - **`target_text`**: This column was initialized as a placeholder to later store the manually created summaries.\n",
    "\n",
    "4. **Saving the Final DataFrame**:\n",
    "   - The structured DataFrame was saved to a new CSV file (`xinstagram_concatenated_comments.csv`), which serves as the sample file for fine-tuning the BART model.\n",
    "\n",
    "5. **Manual Summary Creation**:\n",
    "   - After creating the CSV file, each entry in the `target_text` column was manually filled with summaries based on a thorough inspection of the concatenated comments. These summaries serve as the target output for the BART model during the fine-tuning process.\n",
    "\n",
    "#### Output:\n",
    "- **Final CSV File**: `xinstagram_concatenated_comments.csv`\n",
    "\n",
    "This prepared file, with both the concatenated comments and their corresponding summaries, is now ready to be used to fine-tune a BART model. The goal of this fine-tuning is to enable the model to generate concise and accurate summaries of user comments about Fiat Dolcevita, improving the efficiency of analyzing large volumes of text data.\n"
   ]
  },
  {
   "cell_type": "code",
   "execution_count": 22,
   "metadata": {},
   "outputs": [
    {
     "name": "stdout",
     "output_type": "stream",
     "text": [
      "Concatenated comments saved to /Users/abhishekroy/Downloads/vscode folder/xinstagram_concatenated_comments.csv\n"
     ]
    }
   ],
   "source": [
    "import pandas as pd\n",
    "\n",
    "# Define the topics and categories\n",
    "topics = [1, 2,3,4,5]\n",
    "categories = ['most_important', 'important', 'least_important']\n",
    "\n",
    "# Initialize an empty list to store the rows\n",
    "rows = []\n",
    "\n",
    "# Directory path where the files are stored\n",
    "directory_path = '/Users/abhishekroy/Downloads/vscode folder'  # Update this with your actual directory path\n",
    "\n",
    "# Iterate over each topic and category to concatenate comments\n",
    "for topic_num in topics:\n",
    "    for category in categories:\n",
    "        # Construct the file path based on the provided structure\n",
    "        comments_path = f'{directory_path}/INSTA_{category}_comments_topic_{topic_num}.csv'\n",
    "        \n",
    "        # Read the comments from the CSV file\n",
    "        comments_df = pd.read_csv(comments_path)\n",
    "        \n",
    "        # Concatenate all comments in the category\n",
    "        concatenated_comments = \" \".join(comments_df['Comment'].tolist())\n",
    "        \n",
    "        # Create a new row dictionary\n",
    "        new_row = {\n",
    "            'topic': topic_num,\n",
    "            'category': category,\n",
    "            'concatenated_comments': concatenated_comments,\n",
    "            'target_text': ''  # Placeholder for now, you can add summaries later\n",
    "        }\n",
    "        \n",
    "        # Add the row to the list\n",
    "        rows.append(new_row)\n",
    "\n",
    "# Create a DataFrame from the list of rows\n",
    "final_df = pd.DataFrame(rows)\n",
    "\n",
    "# Save the final DataFrame to a new CSV file\n",
    "final_csv_path = f'{directory_path}/xinstagram_concatenated_comments.csv'\n",
    "final_df.to_csv(final_csv_path, index=False)\n",
    "\n",
    "print(f\"Concatenated comments saved to {final_csv_path}\")\n"
   ]
  },
  {
   "cell_type": "markdown",
   "metadata": {},
   "source": [
    " ### Fine-Tuning the BART Model for Summarization of Instagram Comments\n",
    "\n",
    "This step involved fine-tuning a pre-trained BART model from Hugging Face to specialize in summarizing Instagram comments related to Fiat Dolcevita. The process was designed to adapt the model to effectively handle and summarize the specific text style and content found in these comments.\n",
    "\n",
    "#### Steps Performed:\n",
    "\n",
    "1. **Model and Tokenizer Initialization**:\n",
    "   - The model used for fine-tuning was `suriya7/bart-finetuned-text-summarization`. The associated tokenizer was also loaded to ensure compatibility with the model.\n",
    "   - Device selection was handled dynamically, preferring MPS (Metal Performance Shaders) for Apple devices, CUDA for NVIDIA GPUs, or falling back to the CPU.\n",
    "\n",
    "2. **Data Preparation**:\n",
    "   - The dataset, containing the concatenated comments and their corresponding manual summaries, was loaded from a CSV file.\n",
    "   - **Chunking**: Given the length of some comments, the text was chunked into manageable sizes (512 tokens) with a slight overlap (50 tokens) to preserve context. This chunking was necessary to fit within the model's input size constraints.\n",
    "\n",
    "3. **Preprocessing**:\n",
    "   - A preprocessing function was applied to chunk the input and target texts and then tokenize them. The function also handled padding and truncation to ensure the inputs fit the model's requirements.\n",
    "   - The tokenized dataset was prepared for training.\n",
    "\n",
    "4. **Training Setup**:\n",
    "   - **Training Arguments**: The fine-tuning process was configured with specific training arguments:\n",
    "     - The model was trained for 45 epochs to ensure sufficient learning, given the small size of the dataset.\n",
    "     - A learning rate of 6e-5 and weight decay of 0.01 were chosen to optimize training.\n",
    "     - The batch size was set to 4 for both training and evaluation.\n",
    "   - **Trainer Initialization**: The `Seq2SeqTrainer` was initialized with the model, training arguments, and the tokenized dataset.\n",
    "\n",
    "5. **Fine-Tuning**:\n",
    "   - The model was fine-tuned on the provided dataset, adapting it to generate summaries for the specific type of text found in Instagram comments.\n",
    "\n",
    "6. **Model Saving**:\n",
    "   - After fine-tuning, the model and tokenizer were saved for future use. The saved model can now generate summaries tailored to the style and content of Fiat Dolcevita Instagram comments.\n",
    "\n",
    "7. **Generating Summaries**:\n",
    "   - A function was created to generate summaries for new text inputs. This function chunks the input text, processes each chunk through the fine-tuned model, and then combines the resulting summaries into a final summary.\n",
    "\n",
    "#### Summary:\n",
    "The fine-tuning process adapted a pre-trained BART model to specialize in summarizing Instagram comments. By chunking long texts and fine-tuning on manually created summaries, the model learned to generate concise and relevant summaries for the unique content found in comments about Fiat Dolcevita. The resulting model can now be used to efficiently summarize large volumes of similar text data, providing valuable insights quickly.\n"
   ]
  },
  {
   "cell_type": "code",
   "execution_count": null,
   "metadata": {},
   "outputs": [],
   "source": [
    "import pandas as pd\n",
    "from datasets import Dataset\n",
    "from transformers import AutoTokenizer, AutoModelForSeq2SeqLM, Seq2SeqTrainingArguments, Seq2SeqTrainer\n",
    "import torch\n",
    "\n",
    "# Check if MPS is available\n",
    "device = torch.device(\"mps\") if torch.backends.mps.is_built() else torch.device(\"cuda\" if torch.cuda.is_available() else \"cpu\")\n",
    "print(f\"Using device: {device}\")\n",
    "\n",
    "# Set the Hugging Face model repo\n",
    "model_name = \"suriya7/bart-finetuned-text-summarization\"\n",
    "tokenizer = AutoTokenizer.from_pretrained(model_name)\n",
    "model = AutoModelForSeq2SeqLM.from_pretrained(model_name).to(device)\n",
    "\n",
    "# Ensure special tokens are set\n",
    "model.config.decoder_start_token_id = model.config.decoder_start_token_id or tokenizer.bos_token_id\n",
    "model.config.pad_token_id = model.config.pad_token_id or tokenizer.pad_token_id\n",
    "\n",
    "# Load the example dataset with the correct column names\n",
    "example_df = pd.read_csv(\"/Users/abhishekroy/Downloads/vscode folder/xinstagram example.csv\")\n",
    "\n",
    "# Chunking function\n",
    "def chunk_text(text, chunk_size=512, overlap=50):\n",
    "    tokens = tokenizer.tokenize(text)\n",
    "    chunks = []\n",
    "    start = 0\n",
    "    while start < len(tokens):\n",
    "        end = min(start + chunk_size, len(tokens))\n",
    "        chunk = tokenizer.convert_tokens_to_string(tokens[start:end])\n",
    "        chunks.append(chunk)\n",
    "        start += chunk_size - overlap\n",
    "    return chunks\n",
    "\n",
    "# Apply chunking in preprocessing\n",
    "def preprocess_chunked_function(examples):\n",
    "    chunked_input_texts = []\n",
    "    chunked_target_texts = []\n",
    "    for input_text, target_text in zip(examples[\"input_text\"], examples[\"target_text\"]):\n",
    "        input_chunks = chunk_text(input_text)\n",
    "        target_chunks = chunk_text(target_text)\n",
    "        for input_chunk, target_chunk in zip(input_chunks, target_chunks):\n",
    "            chunked_input_texts.append(input_chunk)\n",
    "            chunked_target_texts.append(target_chunk)\n",
    "    \n",
    "    inputs = tokenizer(chunked_input_texts, max_length=1024, truncation=True, padding=\"max_length\")\n",
    "    targets = tokenizer(chunked_target_texts, max_length=150, truncation=True, padding=\"max_length\")\n",
    "    inputs[\"labels\"] = targets[\"input_ids\"]\n",
    "    inputs[\"labels\"] = [[label if label != tokenizer.pad_token_id else -100 for label in labels] for labels in inputs[\"labels\"]]\n",
    "    return inputs\n",
    "\n",
    "# Convert the DataFrame to a Dataset\n",
    "example_dataset = Dataset.from_pandas(example_df)\n",
    "tokenized_example_dataset = example_dataset.map(preprocess_chunked_function, batched=True)\n",
    "\n",
    "# Training arguments\n",
    "training_args = Seq2SeqTrainingArguments(\n",
    "    output_dir=\"./fine-tuned-model-insta\",\n",
    "    evaluation_strategy=\"no\",  # Disable evaluation\n",
    "    learning_rate=6e-5,\n",
    "    per_device_train_batch_size=4,\n",
    "    per_device_eval_batch_size=4,\n",
    "    weight_decay=0.01,\n",
    "    save_total_limit=3,\n",
    "    use_cpu=True,\n",
    "    num_train_epochs=45,  # Increase epochs due to small dataset\n",
    "    predict_with_generate=True\n",
    ")\n",
    "\n",
    "# Initialize the Trainer\n",
    "trainer = Seq2SeqTrainer(\n",
    "    model=model,\n",
    "    args=training_args,\n",
    "    train_dataset=tokenized_example_dataset,\n",
    "    tokenizer=tokenizer\n",
    ")\n",
    "\n",
    "# Fine-tune the model\n",
    "trainer.train()\n",
    "\n",
    "# Save the trained model and tokenizer\n",
    "trainer.save_model(\"./fine-tuned-model-insta\")\n",
    "tokenizer.save_pretrained(\"./fine-tuned-model-insta\")\n",
    "\n",
    "# Function to generate summaries with chunking\n",
    "def generate_summary(text, model, tokenizer, chunk_size=512, overlap=50):\n",
    "    # Step 1: Chunk the input text\n",
    "    chunks = chunk_text(text, chunk_size=chunk_size, overlap=overlap)\n",
    "    \n",
    "    # Step 2: Generate summaries for each chunk\n",
    "    summaries = []\n",
    "    for chunk in chunks:\n",
    "        inputs = tokenizer(chunk, return_tensors=\"pt\", max_length=chunk_size, truncation=True).to(device)\n",
    "        summary_ids = model.generate(inputs[\"input_ids\"], max_length=150, num_beams=4, early_stopping=True)\n",
    "        summary = tokenizer.decode(summary_ids[0], skip_special_tokens=True)\n",
    "        summaries.append(summary)\n",
    "    \n",
    "    # Step 3: Combine the summaries into a final summary\n",
    "    final_summary = \" \".join(summaries)\n",
    "    return final_summary\n"
   ]
  },
  {
   "cell_type": "markdown",
   "metadata": {},
   "source": [
    "### Fine-Tuning Performance Summary\n",
    "\n",
    "The BART model was fine-tuned on Instagram comments related to Fiat Dolcevita to improve its summarization capabilities. Below are the key metrics and insights from the fine-tuning process:\n",
    "\n",
    "#### Key Metrics:\n",
    "- **Train Runtime**: 1328.77 seconds (~22 minutes)\n",
    "- **Training Speed**: \n",
    "  - **Train Samples Per Second**: 0.508\n",
    "  - **Train Steps Per Second**: 0.135\n",
    "- **Final Training Loss**: 0.2083\n",
    "- **Epochs**: 45\n",
    "\n",
    "#### Generation Parameters:\n",
    "- **max_length**: 142\n",
    "- **min_length**: 56\n",
    "- **early_stopping**: True\n",
    "- **num_beams**: 4\n",
    "- **length_penalty**: 2.0\n",
    "- **no_repeat_ngram_size**: 3\n",
    "- **forced_bos_token_id**: 0\n",
    "- **forced_eos_token_id**: 2\n",
    "\n",
    "#### Performance Insights:\n",
    "- The **low training loss** indicates that the model effectively learned to generate accurate summaries during training.\n",
    "- The use of **beam search** and **length penalties** ensured that the generated summaries were concise, coherent, and free from repetition.\n",
    "- The model is now well-tuned for summarizing Fiat Dolcevita comments and is expected to generalize well to similar unseen data.\n",
    "\n",
    "This fine-tuning process has successfully adapted the BART model for the specific task of summarizing Instagram comments, making it a valuable tool for analyzing large volumes of text data.\n"
   ]
  },
  {
   "cell_type": "markdown",
   "metadata": {},
   "source": [
    "### Generating Summaries for Instagram Comments by Topic\n",
    "\n",
    "In this step, the fine-tuned BART model was used to generate summaries for Instagram comments related to Fiat Dolcevita. The process involved summarizing comments across different topics and categories, and then saving the results into Word documents.\n",
    "\n",
    "#### Steps Performed:\n",
    "\n",
    "1. **Model and Tokenizer Loading**:\n",
    "   - The fine-tuned BART model and tokenizer were loaded from the saved directory (`./fine-tuned-model-insta`).\n",
    "   - Device selection was handled dynamically, using MPS, CUDA, or CPU depending on availability.\n",
    "\n",
    "2. **Summary Generation Function**:\n",
    "   - A function was defined to generate summaries using the fine-tuned model. The function processes the input text, applies tokenization, and uses the model to generate a concise summary.\n",
    "\n",
    "3. **Processing Topics and Categories**:\n",
    "   - The comments were processed across 5 topics, each with 3 categories (`most_important`, `important`, `least_important`).\n",
    "   - For each category within a topic:\n",
    "     - The number of comments and the average weight (if available) were calculated.\n",
    "     - All comments in the category were concatenated into a single string.\n",
    "     - A summary was generated for the concatenated comments using the BART model.\n",
    "\n",
    "4. **Saving Summaries to Word Documents**:\n",
    "   - The generated summaries, along with the number of comments and their average weight, were added to a Word document.\n",
    "   - Each topic was saved in a separate Word document named `Instagram_Topic_X_summaries.docx`, where `X` is the topic number.\n",
    "\n",
    "5. **Progress Tracking**:\n",
    "   - A progress bar was implemented to track the processing of topics and categories, providing feedback on the progress of the summarization task.\n",
    "\n",
    "#### Output:\n",
    "- **Summary Documents**: 5 Word documents, each corresponding to a topic, containing summaries for the `most_important`, `important`, and `least_important` comments.\n",
    "\n",
    "This process automated the summarization of Instagram comments, efficiently condensing large volumes of text into concise summaries. The resulting documents provide a clear and organized overview of public sentiment and discussion around Fiat Dolcevita, categorized by topic and comment importance.\n"
   ]
  },
  {
   "cell_type": "code",
   "execution_count": null,
   "metadata": {},
   "outputs": [],
   "source": [
    "import pandas as pd\n",
    "from transformers import AutoTokenizer, AutoModelForSeq2SeqLM\n",
    "import torch\n",
    "from tqdm import tqdm\n",
    "from docx import Document\n",
    "\n",
    "# Check if MPS is available\n",
    "device = torch.device(\"mps\") if torch.backends.mps.is_built() else torch.device(\"cuda\" if torch.cuda.is_available() else \"cpu\")\n",
    "print(f\"Using device: {device}\")\n",
    "\n",
    "# Load the fine-tuned Instagram model and tokenizer\n",
    "model_name = \"./fine-tuned-model-insta\"  # Path to the fine-tuned Instagram model\n",
    "tokenizer = AutoTokenizer.from_pretrained(model_name)\n",
    "model = AutoModelForSeq2SeqLM.from_pretrained(model_name).to(device)\n",
    "\n",
    "# Function to generate summaries\n",
    "def generate_summary(text):\n",
    "    inputs = tokenizer(text, return_tensors=\"pt\", max_length=1024, truncation=True, padding=\"max_length\")\n",
    "    inputs = {key: value.to(device) for key, value in inputs.items()}\n",
    "    summary_ids = model.generate(inputs[\"input_ids\"], attention_mask=inputs[\"attention_mask\"], num_beams=4, max_length=150, early_stopping=True)\n",
    "    return tokenizer.decode(summary_ids[0], skip_special_tokens=True)\n",
    "\n",
    "# Initialize the progress bar\n",
    "total_steps = 5 * 3  # 5 topics and 3 categories per topic\n",
    "progress_bar = tqdm(total=total_steps, desc=\"Processing\")\n",
    "\n",
    "# Process 5 topics, each with 3 categories, and generate summaries\n",
    "for topic_num in range(1, 6):\n",
    "    document = Document()\n",
    "    document.add_heading(f'Topic {topic_num}', level=1)\n",
    "    \n",
    "    for category in ['most_important', 'important', 'least_important']:\n",
    "        comments_path = f'/Users/abhishekroy/Downloads/vscode folder/INSTA_{category}_comments_topic_{topic_num}.csv'\n",
    "        comments_df = pd.read_csv(comments_path)\n",
    "        \n",
    "        # Calculate the number of comments and average weight of each aspect\n",
    "        num_comments = len(comments_df)\n",
    "        if 'Weight' in comments_df.columns:\n",
    "            average_weight = comments_df['Weight'].mean()\n",
    "        else:\n",
    "            average_weight = 'N/A'\n",
    "        \n",
    "        # Concatenate all comments in the category\n",
    "        all_comments = \" \".join(comments_df['Comment'].tolist())\n",
    "        \n",
    "        # Generate a summary for all comments together\n",
    "        summary = generate_summary(all_comments)\n",
    "        \n",
    "        # Add the summary to the document\n",
    "        document.add_heading(f'{category.replace(\"_\", \" \").title()} Comments Summary', level=2)\n",
    "        document.add_paragraph(f'Number of comments: {num_comments}')\n",
    "        document.add_paragraph(f'Average weight: {average_weight}')\n",
    "        document.add_paragraph(summary)\n",
    "        \n",
    "        # Update the progress bar\n",
    "        progress_bar.update(1)\n",
    "    \n",
    "    # Save the document with a name starting with \"Instagram\"\n",
    "    document_path = f'/Users/abhishekroy/Downloads/vscode folder/Instagram_Topic_{topic_num}_summaries.docx'\n",
    "    document.save(document_path)\n",
    "\n",
    "# Close the progress bar\n",
    "progress_bar.close()\n"
   ]
  },
  {
   "cell_type": "markdown",
   "metadata": {},
   "source": [
    "### Summary of Topic 1: Instagram Comments on Fiat Dolcevita\n",
    "\n",
    "The summaries for Topic 1, derived from Instagram comments, capture the general sentiment and key themes expressed by users regarding the Fiat Dolcevita.\n",
    "\n",
    "#### Most Important Comments:\n",
    "- **Number of Comments**: 23\n",
    "- **Average Weight**: 0.948\n",
    "- **Summary**: The most important comments highlight a deep appreciation for the aesthetics and experiences associated with Fiat cars, especially the Fiat Dolcevita. Enthusiasts express joy in capturing beautiful moments, often inspired by the scenic views from their cars, and share a strong affinity for Italian culture, style, and landscapes. Specific design elements like the car's sunshades and color combinations are frequently praised. There is a strong sense of community among Fiat lovers, with excitement about meeting fellow enthusiasts, discussing events, and dreaming of trips to Italy for Fiat-related activities.\n",
    "\n",
    "#### Important Comments:\n",
    "- **Number of Comments**: 130\n",
    "- **Average Weight**: 0.844\n",
    "- **Summary**: These comments reflect a strong appreciation for the Fiat Dolcevita, emphasizing the car's stylish design, the joy of driving it, and the personal connections formed around the vehicle. Users delight in the car's aesthetic appeal and share experiences such as photographing the car in picturesque locations and celebrating milestones. There is a recurring theme of nostalgia, with mentions of past memories and anticipation of future gatherings or collaborations. The connection to nature is also prominent, with frequent mentions of flowers, cherry blossoms, and scenic drives.\n",
    "\n",
    "#### Least Important Comments:\n",
    "- **Number of Comments**: 31\n",
    "- **Average Weight**: 0.600\n",
    "- **Summary**: These comments reflect a mix of admiration for the aesthetics of Fiat vehicles, particularly the Fiat Dolcevita and Abarth Rivale. Words like \"cute,\" \"beautiful,\" and \"dreamy winter vibe\" are commonly used. The sense of community is present, with mentions of car clubs and group activities like drives with the \"cha-cha group.\" Friendly exchanges among users are also noted, emphasizing the joy of experiencing these cars, whether through driving or simply admiring their design.\n",
    "\n",
    "### Overall Analysis:\n",
    "The summaries indicate a strong and positive sentiment towards the Fiat Dolcevita, with an emphasis on aesthetics, driving experience, and community engagement. The most important comments tend to focus on deeper, more meaningful interactions and experiences, while the least important comments, though still positive, highlight more casual admiration. The sense of community among Fiat enthusiasts is a recurring theme across all comment categories.\n"
   ]
  },
  {
   "cell_type": "markdown",
   "metadata": {},
   "source": [
    "### Analyzing the Alignment Between Instagram Reviews and Fiat's Marketing Messages\n",
    "\n",
    "In this step, the goal was to evaluate how well the topics and sentiments expressed in Instagram reviews align with Fiat's marketing messages. This was done by comparing the labeled content from both sources using semantic similarity and sentiment analysis.\n",
    "\n",
    "#### Steps Performed:\n",
    "\n",
    "1. **Data Loading and Preprocessing**:\n",
    "   - Instagram review data and Fiat marketing data were loaded from JSON files.\n",
    "   - Stopwords were removed from both datasets to ensure the analysis focused on the most meaningful words.\n",
    "\n",
    "2. **Model and Sentiment Analyzer Setup**:\n",
    "   - The Sentence-BERT model (`stsb-roberta-large`) was used to generate embeddings for the textual data, enabling the calculation of semantic similarity.\n",
    "   - VADER Sentiment Analyzer was initialized to evaluate the sentiment of the content from both sources.\n",
    "\n",
    "3. **Label Matching**:\n",
    "   - Matching labels between the Instagram reviews and Fiat marketing data were identified and used for comparison.\n",
    "   - Labels were sorted and prefixed with \"Insta Review: \" and \"Fiat: \" for clarity in the analysis.\n",
    "\n",
    "4. **Similarity and Sentiment Calculation**:\n",
    "   - **Cosine Similarity**: For each matching label, the semantic similarity between Instagram reviews and Fiat marketing content was calculated using cosine similarity of their embeddings.\n",
    "   - **Sentiment Correlation**: The sentiment of the content was analyzed, and the correlation was calculated based on the absolute difference between sentiment scores.\n",
    "\n",
    "5. **Heatmap Visualization**:\n",
    "   - **Cosine Similarity Heatmap**: A heatmap was created to visualize the degree of alignment between Instagram review topics and Fiat marketing topics. The custom color scale provided a clear indication of how well the themes align.\n",
    "   - **Sentiment Correlation Heatmap**: Another heatmap was generated to visualize the sentiment alignment between the two sources, showing how closely the emotions expressed in the reviews match those in Fiat's marketing.\n",
    "\n",
    "#### Results Interpretation:\n",
    "- **Cosine Similarity Heatmap**: This visualization shows how closely the topics discussed in Instagram reviews align with the themes in Fiat's marketing messages. Higher similarity scores (indicated by darker green) suggest a strong alignment between what consumers are discussing and what the brand is promoting.\n",
    "- **Sentiment Correlation Heatmap**: This heatmap illustrates the sentiment alignment between the two sources. A high sentiment correlation indicates that the emotional tone of the consumer reviews closely matches the sentiment projected in Fiat's marketing content.\n",
    "\n",
    "These analyses provide valuable insights into the effectiveness of Fiat's marketing strategies and how well they resonate with consumer discussions on social media.\n"
   ]
  },
  {
   "cell_type": "code",
   "execution_count": 23,
   "metadata": {},
   "outputs": [
    {
     "name": "stderr",
     "output_type": "stream",
     "text": [
      "[nltk_data] Downloading package stopwords to\n",
      "[nltk_data]     /Users/abhishekroy/nltk_data...\n",
      "[nltk_data]   Package stopwords is already up-to-date!\n"
     ]
    },
    {
     "data": {
      "application/vnd.plotly.v1+json": {
       "config": {
        "plotlyServerURL": "https://plot.ly"
       },
       "data": [
        {
         "coloraxis": "coloraxis",
         "hovertemplate": "Instagram Review Topics: %{x}<br>Fiat Marketing Topics: %{y}<br>Similarity: %{z}<extra></extra>",
         "name": "0",
         "texttemplate": "%{z}",
         "type": "heatmap",
         "x": [
          "Insta Review: Build Quality & Materials",
          "Insta Review: Design & Aesthetics",
          "Insta Review: Lifestyle & Heritage",
          "Insta Review: Specifications & Performance",
          "Insta Review: Technology & Features"
         ],
         "xaxis": "x",
         "y": [
          "Fiat: Build Quality & Materials",
          "Fiat: Design & Aesthetics",
          "Fiat: Lifestyle & Heritage",
          "Fiat: Specifications & Performance",
          "Fiat: Technology & Features"
         ],
         "yaxis": "y",
         "z": [
          [
           0.36903059482574463,
           0,
           0,
           0,
           0
          ],
          [
           0,
           0.5578634142875671,
           0,
           0,
           0
          ],
          [
           0,
           0,
           0.487861305475235,
           0,
           0
          ],
          [
           0,
           0,
           0,
           0.12430456280708313,
           0
          ],
          [
           0,
           0,
           0,
           0,
           0.341714084148407
          ]
         ]
        }
       ],
       "layout": {
        "coloraxis": {
         "colorbar": {
          "len": 300,
          "lenmode": "pixels",
          "thickness": 10,
          "thicknessmode": "pixels",
          "title": {
           "text": "Similarity"
          }
         },
         "colorscale": [
          [
           0,
           "rgba(0, 0, 0, 0)"
          ],
          [
           0.00001,
           "rgb(255, 0, 0)"
          ],
          [
           0.3,
           "rgb(255, 165, 0)"
          ],
          [
           0.5,
           "rgb(255, 255, 0)"
          ],
          [
           0.7,
           "rgb(0, 128, 0)"
          ],
          [
           1,
           "rgb(0, 100, 0)"
          ]
         ]
        },
        "height": 800,
        "margin": {
         "t": 60
        },
        "template": {
         "data": {
          "bar": [
           {
            "error_x": {
             "color": "#2a3f5f"
            },
            "error_y": {
             "color": "#2a3f5f"
            },
            "marker": {
             "line": {
              "color": "#E5ECF6",
              "width": 0.5
             },
             "pattern": {
              "fillmode": "overlay",
              "size": 10,
              "solidity": 0.2
             }
            },
            "type": "bar"
           }
          ],
          "barpolar": [
           {
            "marker": {
             "line": {
              "color": "#E5ECF6",
              "width": 0.5
             },
             "pattern": {
              "fillmode": "overlay",
              "size": 10,
              "solidity": 0.2
             }
            },
            "type": "barpolar"
           }
          ],
          "carpet": [
           {
            "aaxis": {
             "endlinecolor": "#2a3f5f",
             "gridcolor": "white",
             "linecolor": "white",
             "minorgridcolor": "white",
             "startlinecolor": "#2a3f5f"
            },
            "baxis": {
             "endlinecolor": "#2a3f5f",
             "gridcolor": "white",
             "linecolor": "white",
             "minorgridcolor": "white",
             "startlinecolor": "#2a3f5f"
            },
            "type": "carpet"
           }
          ],
          "choropleth": [
           {
            "colorbar": {
             "outlinewidth": 0,
             "ticks": ""
            },
            "type": "choropleth"
           }
          ],
          "contour": [
           {
            "colorbar": {
             "outlinewidth": 0,
             "ticks": ""
            },
            "colorscale": [
             [
              0,
              "#0d0887"
             ],
             [
              0.1111111111111111,
              "#46039f"
             ],
             [
              0.2222222222222222,
              "#7201a8"
             ],
             [
              0.3333333333333333,
              "#9c179e"
             ],
             [
              0.4444444444444444,
              "#bd3786"
             ],
             [
              0.5555555555555556,
              "#d8576b"
             ],
             [
              0.6666666666666666,
              "#ed7953"
             ],
             [
              0.7777777777777778,
              "#fb9f3a"
             ],
             [
              0.8888888888888888,
              "#fdca26"
             ],
             [
              1,
              "#f0f921"
             ]
            ],
            "type": "contour"
           }
          ],
          "contourcarpet": [
           {
            "colorbar": {
             "outlinewidth": 0,
             "ticks": ""
            },
            "type": "contourcarpet"
           }
          ],
          "heatmap": [
           {
            "colorbar": {
             "outlinewidth": 0,
             "ticks": ""
            },
            "colorscale": [
             [
              0,
              "#0d0887"
             ],
             [
              0.1111111111111111,
              "#46039f"
             ],
             [
              0.2222222222222222,
              "#7201a8"
             ],
             [
              0.3333333333333333,
              "#9c179e"
             ],
             [
              0.4444444444444444,
              "#bd3786"
             ],
             [
              0.5555555555555556,
              "#d8576b"
             ],
             [
              0.6666666666666666,
              "#ed7953"
             ],
             [
              0.7777777777777778,
              "#fb9f3a"
             ],
             [
              0.8888888888888888,
              "#fdca26"
             ],
             [
              1,
              "#f0f921"
             ]
            ],
            "type": "heatmap"
           }
          ],
          "heatmapgl": [
           {
            "colorbar": {
             "outlinewidth": 0,
             "ticks": ""
            },
            "colorscale": [
             [
              0,
              "#0d0887"
             ],
             [
              0.1111111111111111,
              "#46039f"
             ],
             [
              0.2222222222222222,
              "#7201a8"
             ],
             [
              0.3333333333333333,
              "#9c179e"
             ],
             [
              0.4444444444444444,
              "#bd3786"
             ],
             [
              0.5555555555555556,
              "#d8576b"
             ],
             [
              0.6666666666666666,
              "#ed7953"
             ],
             [
              0.7777777777777778,
              "#fb9f3a"
             ],
             [
              0.8888888888888888,
              "#fdca26"
             ],
             [
              1,
              "#f0f921"
             ]
            ],
            "type": "heatmapgl"
           }
          ],
          "histogram": [
           {
            "marker": {
             "pattern": {
              "fillmode": "overlay",
              "size": 10,
              "solidity": 0.2
             }
            },
            "type": "histogram"
           }
          ],
          "histogram2d": [
           {
            "colorbar": {
             "outlinewidth": 0,
             "ticks": ""
            },
            "colorscale": [
             [
              0,
              "#0d0887"
             ],
             [
              0.1111111111111111,
              "#46039f"
             ],
             [
              0.2222222222222222,
              "#7201a8"
             ],
             [
              0.3333333333333333,
              "#9c179e"
             ],
             [
              0.4444444444444444,
              "#bd3786"
             ],
             [
              0.5555555555555556,
              "#d8576b"
             ],
             [
              0.6666666666666666,
              "#ed7953"
             ],
             [
              0.7777777777777778,
              "#fb9f3a"
             ],
             [
              0.8888888888888888,
              "#fdca26"
             ],
             [
              1,
              "#f0f921"
             ]
            ],
            "type": "histogram2d"
           }
          ],
          "histogram2dcontour": [
           {
            "colorbar": {
             "outlinewidth": 0,
             "ticks": ""
            },
            "colorscale": [
             [
              0,
              "#0d0887"
             ],
             [
              0.1111111111111111,
              "#46039f"
             ],
             [
              0.2222222222222222,
              "#7201a8"
             ],
             [
              0.3333333333333333,
              "#9c179e"
             ],
             [
              0.4444444444444444,
              "#bd3786"
             ],
             [
              0.5555555555555556,
              "#d8576b"
             ],
             [
              0.6666666666666666,
              "#ed7953"
             ],
             [
              0.7777777777777778,
              "#fb9f3a"
             ],
             [
              0.8888888888888888,
              "#fdca26"
             ],
             [
              1,
              "#f0f921"
             ]
            ],
            "type": "histogram2dcontour"
           }
          ],
          "mesh3d": [
           {
            "colorbar": {
             "outlinewidth": 0,
             "ticks": ""
            },
            "type": "mesh3d"
           }
          ],
          "parcoords": [
           {
            "line": {
             "colorbar": {
              "outlinewidth": 0,
              "ticks": ""
             }
            },
            "type": "parcoords"
           }
          ],
          "pie": [
           {
            "automargin": true,
            "type": "pie"
           }
          ],
          "scatter": [
           {
            "fillpattern": {
             "fillmode": "overlay",
             "size": 10,
             "solidity": 0.2
            },
            "type": "scatter"
           }
          ],
          "scatter3d": [
           {
            "line": {
             "colorbar": {
              "outlinewidth": 0,
              "ticks": ""
             }
            },
            "marker": {
             "colorbar": {
              "outlinewidth": 0,
              "ticks": ""
             }
            },
            "type": "scatter3d"
           }
          ],
          "scattercarpet": [
           {
            "marker": {
             "colorbar": {
              "outlinewidth": 0,
              "ticks": ""
             }
            },
            "type": "scattercarpet"
           }
          ],
          "scattergeo": [
           {
            "marker": {
             "colorbar": {
              "outlinewidth": 0,
              "ticks": ""
             }
            },
            "type": "scattergeo"
           }
          ],
          "scattergl": [
           {
            "marker": {
             "colorbar": {
              "outlinewidth": 0,
              "ticks": ""
             }
            },
            "type": "scattergl"
           }
          ],
          "scattermapbox": [
           {
            "marker": {
             "colorbar": {
              "outlinewidth": 0,
              "ticks": ""
             }
            },
            "type": "scattermapbox"
           }
          ],
          "scatterpolar": [
           {
            "marker": {
             "colorbar": {
              "outlinewidth": 0,
              "ticks": ""
             }
            },
            "type": "scatterpolar"
           }
          ],
          "scatterpolargl": [
           {
            "marker": {
             "colorbar": {
              "outlinewidth": 0,
              "ticks": ""
             }
            },
            "type": "scatterpolargl"
           }
          ],
          "scatterternary": [
           {
            "marker": {
             "colorbar": {
              "outlinewidth": 0,
              "ticks": ""
             }
            },
            "type": "scatterternary"
           }
          ],
          "surface": [
           {
            "colorbar": {
             "outlinewidth": 0,
             "ticks": ""
            },
            "colorscale": [
             [
              0,
              "#0d0887"
             ],
             [
              0.1111111111111111,
              "#46039f"
             ],
             [
              0.2222222222222222,
              "#7201a8"
             ],
             [
              0.3333333333333333,
              "#9c179e"
             ],
             [
              0.4444444444444444,
              "#bd3786"
             ],
             [
              0.5555555555555556,
              "#d8576b"
             ],
             [
              0.6666666666666666,
              "#ed7953"
             ],
             [
              0.7777777777777778,
              "#fb9f3a"
             ],
             [
              0.8888888888888888,
              "#fdca26"
             ],
             [
              1,
              "#f0f921"
             ]
            ],
            "type": "surface"
           }
          ],
          "table": [
           {
            "cells": {
             "fill": {
              "color": "#EBF0F8"
             },
             "line": {
              "color": "white"
             }
            },
            "header": {
             "fill": {
              "color": "#C8D4E3"
             },
             "line": {
              "color": "white"
             }
            },
            "type": "table"
           }
          ]
         },
         "layout": {
          "annotationdefaults": {
           "arrowcolor": "#2a3f5f",
           "arrowhead": 0,
           "arrowwidth": 1
          },
          "autotypenumbers": "strict",
          "coloraxis": {
           "colorbar": {
            "outlinewidth": 0,
            "ticks": ""
           }
          },
          "colorscale": {
           "diverging": [
            [
             0,
             "#8e0152"
            ],
            [
             0.1,
             "#c51b7d"
            ],
            [
             0.2,
             "#de77ae"
            ],
            [
             0.3,
             "#f1b6da"
            ],
            [
             0.4,
             "#fde0ef"
            ],
            [
             0.5,
             "#f7f7f7"
            ],
            [
             0.6,
             "#e6f5d0"
            ],
            [
             0.7,
             "#b8e186"
            ],
            [
             0.8,
             "#7fbc41"
            ],
            [
             0.9,
             "#4d9221"
            ],
            [
             1,
             "#276419"
            ]
           ],
           "sequential": [
            [
             0,
             "#0d0887"
            ],
            [
             0.1111111111111111,
             "#46039f"
            ],
            [
             0.2222222222222222,
             "#7201a8"
            ],
            [
             0.3333333333333333,
             "#9c179e"
            ],
            [
             0.4444444444444444,
             "#bd3786"
            ],
            [
             0.5555555555555556,
             "#d8576b"
            ],
            [
             0.6666666666666666,
             "#ed7953"
            ],
            [
             0.7777777777777778,
             "#fb9f3a"
            ],
            [
             0.8888888888888888,
             "#fdca26"
            ],
            [
             1,
             "#f0f921"
            ]
           ],
           "sequentialminus": [
            [
             0,
             "#0d0887"
            ],
            [
             0.1111111111111111,
             "#46039f"
            ],
            [
             0.2222222222222222,
             "#7201a8"
            ],
            [
             0.3333333333333333,
             "#9c179e"
            ],
            [
             0.4444444444444444,
             "#bd3786"
            ],
            [
             0.5555555555555556,
             "#d8576b"
            ],
            [
             0.6666666666666666,
             "#ed7953"
            ],
            [
             0.7777777777777778,
             "#fb9f3a"
            ],
            [
             0.8888888888888888,
             "#fdca26"
            ],
            [
             1,
             "#f0f921"
            ]
           ]
          },
          "colorway": [
           "#636efa",
           "#EF553B",
           "#00cc96",
           "#ab63fa",
           "#FFA15A",
           "#19d3f3",
           "#FF6692",
           "#B6E880",
           "#FF97FF",
           "#FECB52"
          ],
          "font": {
           "color": "#2a3f5f"
          },
          "geo": {
           "bgcolor": "white",
           "lakecolor": "white",
           "landcolor": "#E5ECF6",
           "showlakes": true,
           "showland": true,
           "subunitcolor": "white"
          },
          "hoverlabel": {
           "align": "left"
          },
          "hovermode": "closest",
          "mapbox": {
           "style": "light"
          },
          "paper_bgcolor": "white",
          "plot_bgcolor": "#E5ECF6",
          "polar": {
           "angularaxis": {
            "gridcolor": "white",
            "linecolor": "white",
            "ticks": ""
           },
           "bgcolor": "#E5ECF6",
           "radialaxis": {
            "gridcolor": "white",
            "linecolor": "white",
            "ticks": ""
           }
          },
          "scene": {
           "xaxis": {
            "backgroundcolor": "#E5ECF6",
            "gridcolor": "white",
            "gridwidth": 2,
            "linecolor": "white",
            "showbackground": true,
            "ticks": "",
            "zerolinecolor": "white"
           },
           "yaxis": {
            "backgroundcolor": "#E5ECF6",
            "gridcolor": "white",
            "gridwidth": 2,
            "linecolor": "white",
            "showbackground": true,
            "ticks": "",
            "zerolinecolor": "white"
           },
           "zaxis": {
            "backgroundcolor": "#E5ECF6",
            "gridcolor": "white",
            "gridwidth": 2,
            "linecolor": "white",
            "showbackground": true,
            "ticks": "",
            "zerolinecolor": "white"
           }
          },
          "shapedefaults": {
           "line": {
            "color": "#2a3f5f"
           }
          },
          "ternary": {
           "aaxis": {
            "gridcolor": "white",
            "linecolor": "white",
            "ticks": ""
           },
           "baxis": {
            "gridcolor": "white",
            "linecolor": "white",
            "ticks": ""
           },
           "bgcolor": "#E5ECF6",
           "caxis": {
            "gridcolor": "white",
            "linecolor": "white",
            "ticks": ""
           }
          },
          "title": {
           "x": 0.05
          },
          "xaxis": {
           "automargin": true,
           "gridcolor": "white",
           "linecolor": "white",
           "ticks": "",
           "title": {
            "standoff": 15
           },
           "zerolinecolor": "white",
           "zerolinewidth": 2
          },
          "yaxis": {
           "automargin": true,
           "gridcolor": "white",
           "linecolor": "white",
           "ticks": "",
           "title": {
            "standoff": 15
           },
           "zerolinecolor": "white",
           "zerolinewidth": 2
          }
         }
        },
        "title": {
         "text": "How Well Do Instagram Reviews Align with Fiat's Marketing Messages?"
        },
        "width": 800,
        "xaxis": {
         "anchor": "y",
         "constrain": "domain",
         "domain": [
          0,
          1
         ],
         "scaleanchor": "y",
         "title": {
          "text": "Instagram Review Topics"
         }
        },
        "yaxis": {
         "anchor": "x",
         "autorange": "reversed",
         "constrain": "domain",
         "domain": [
          0,
          1
         ],
         "title": {
          "text": "Fiat Marketing Topics"
         }
        }
       }
      }
     },
     "metadata": {},
     "output_type": "display_data"
    },
    {
     "data": {
      "application/vnd.plotly.v1+json": {
       "config": {
        "plotlyServerURL": "https://plot.ly"
       },
       "data": [
        {
         "coloraxis": "coloraxis",
         "hovertemplate": "Instagram Review Topics: %{x}<br>Fiat Marketing Topics: %{y}<br>Sentiment Correlation: %{z}<extra></extra>",
         "name": "0",
         "texttemplate": "%{z}",
         "type": "heatmap",
         "x": [
          "Insta Review: Build Quality & Materials",
          "Insta Review: Design & Aesthetics",
          "Insta Review: Lifestyle & Heritage",
          "Insta Review: Specifications & Performance",
          "Insta Review: Technology & Features"
         ],
         "xaxis": "x",
         "y": [
          "Fiat: Build Quality & Materials",
          "Fiat: Design & Aesthetics",
          "Fiat: Lifestyle & Heritage",
          "Fiat: Specifications & Performance",
          "Fiat: Technology & Features"
         ],
         "yaxis": "y",
         "z": [
          [
           0.7837,
           0,
           0,
           0,
           0
          ],
          [
           0,
           0.9009,
           0,
           0,
           0
          ],
          [
           0,
           0,
           0.9889,
           0,
           0
          ],
          [
           0,
           0,
           0,
           0.7894999999999999,
           0
          ],
          [
           0,
           0,
           0,
           0,
           0.30069999999999997
          ]
         ]
        }
       ],
       "layout": {
        "coloraxis": {
         "colorbar": {
          "len": 300,
          "lenmode": "pixels",
          "thickness": 10,
          "thicknessmode": "pixels",
          "title": {
           "text": "Sentiment Correlation"
          }
         },
         "colorscale": [
          [
           0,
           "rgba(0, 0, 0, 0)"
          ],
          [
           0.00001,
           "rgb(255, 0, 0)"
          ],
          [
           0.3,
           "rgb(255, 165, 0)"
          ],
          [
           0.5,
           "rgb(255, 255, 0)"
          ],
          [
           0.7,
           "rgb(0, 128, 0)"
          ],
          [
           1,
           "rgb(0, 100, 0)"
          ]
         ]
        },
        "height": 800,
        "margin": {
         "t": 60
        },
        "template": {
         "data": {
          "bar": [
           {
            "error_x": {
             "color": "#2a3f5f"
            },
            "error_y": {
             "color": "#2a3f5f"
            },
            "marker": {
             "line": {
              "color": "#E5ECF6",
              "width": 0.5
             },
             "pattern": {
              "fillmode": "overlay",
              "size": 10,
              "solidity": 0.2
             }
            },
            "type": "bar"
           }
          ],
          "barpolar": [
           {
            "marker": {
             "line": {
              "color": "#E5ECF6",
              "width": 0.5
             },
             "pattern": {
              "fillmode": "overlay",
              "size": 10,
              "solidity": 0.2
             }
            },
            "type": "barpolar"
           }
          ],
          "carpet": [
           {
            "aaxis": {
             "endlinecolor": "#2a3f5f",
             "gridcolor": "white",
             "linecolor": "white",
             "minorgridcolor": "white",
             "startlinecolor": "#2a3f5f"
            },
            "baxis": {
             "endlinecolor": "#2a3f5f",
             "gridcolor": "white",
             "linecolor": "white",
             "minorgridcolor": "white",
             "startlinecolor": "#2a3f5f"
            },
            "type": "carpet"
           }
          ],
          "choropleth": [
           {
            "colorbar": {
             "outlinewidth": 0,
             "ticks": ""
            },
            "type": "choropleth"
           }
          ],
          "contour": [
           {
            "colorbar": {
             "outlinewidth": 0,
             "ticks": ""
            },
            "colorscale": [
             [
              0,
              "#0d0887"
             ],
             [
              0.1111111111111111,
              "#46039f"
             ],
             [
              0.2222222222222222,
              "#7201a8"
             ],
             [
              0.3333333333333333,
              "#9c179e"
             ],
             [
              0.4444444444444444,
              "#bd3786"
             ],
             [
              0.5555555555555556,
              "#d8576b"
             ],
             [
              0.6666666666666666,
              "#ed7953"
             ],
             [
              0.7777777777777778,
              "#fb9f3a"
             ],
             [
              0.8888888888888888,
              "#fdca26"
             ],
             [
              1,
              "#f0f921"
             ]
            ],
            "type": "contour"
           }
          ],
          "contourcarpet": [
           {
            "colorbar": {
             "outlinewidth": 0,
             "ticks": ""
            },
            "type": "contourcarpet"
           }
          ],
          "heatmap": [
           {
            "colorbar": {
             "outlinewidth": 0,
             "ticks": ""
            },
            "colorscale": [
             [
              0,
              "#0d0887"
             ],
             [
              0.1111111111111111,
              "#46039f"
             ],
             [
              0.2222222222222222,
              "#7201a8"
             ],
             [
              0.3333333333333333,
              "#9c179e"
             ],
             [
              0.4444444444444444,
              "#bd3786"
             ],
             [
              0.5555555555555556,
              "#d8576b"
             ],
             [
              0.6666666666666666,
              "#ed7953"
             ],
             [
              0.7777777777777778,
              "#fb9f3a"
             ],
             [
              0.8888888888888888,
              "#fdca26"
             ],
             [
              1,
              "#f0f921"
             ]
            ],
            "type": "heatmap"
           }
          ],
          "heatmapgl": [
           {
            "colorbar": {
             "outlinewidth": 0,
             "ticks": ""
            },
            "colorscale": [
             [
              0,
              "#0d0887"
             ],
             [
              0.1111111111111111,
              "#46039f"
             ],
             [
              0.2222222222222222,
              "#7201a8"
             ],
             [
              0.3333333333333333,
              "#9c179e"
             ],
             [
              0.4444444444444444,
              "#bd3786"
             ],
             [
              0.5555555555555556,
              "#d8576b"
             ],
             [
              0.6666666666666666,
              "#ed7953"
             ],
             [
              0.7777777777777778,
              "#fb9f3a"
             ],
             [
              0.8888888888888888,
              "#fdca26"
             ],
             [
              1,
              "#f0f921"
             ]
            ],
            "type": "heatmapgl"
           }
          ],
          "histogram": [
           {
            "marker": {
             "pattern": {
              "fillmode": "overlay",
              "size": 10,
              "solidity": 0.2
             }
            },
            "type": "histogram"
           }
          ],
          "histogram2d": [
           {
            "colorbar": {
             "outlinewidth": 0,
             "ticks": ""
            },
            "colorscale": [
             [
              0,
              "#0d0887"
             ],
             [
              0.1111111111111111,
              "#46039f"
             ],
             [
              0.2222222222222222,
              "#7201a8"
             ],
             [
              0.3333333333333333,
              "#9c179e"
             ],
             [
              0.4444444444444444,
              "#bd3786"
             ],
             [
              0.5555555555555556,
              "#d8576b"
             ],
             [
              0.6666666666666666,
              "#ed7953"
             ],
             [
              0.7777777777777778,
              "#fb9f3a"
             ],
             [
              0.8888888888888888,
              "#fdca26"
             ],
             [
              1,
              "#f0f921"
             ]
            ],
            "type": "histogram2d"
           }
          ],
          "histogram2dcontour": [
           {
            "colorbar": {
             "outlinewidth": 0,
             "ticks": ""
            },
            "colorscale": [
             [
              0,
              "#0d0887"
             ],
             [
              0.1111111111111111,
              "#46039f"
             ],
             [
              0.2222222222222222,
              "#7201a8"
             ],
             [
              0.3333333333333333,
              "#9c179e"
             ],
             [
              0.4444444444444444,
              "#bd3786"
             ],
             [
              0.5555555555555556,
              "#d8576b"
             ],
             [
              0.6666666666666666,
              "#ed7953"
             ],
             [
              0.7777777777777778,
              "#fb9f3a"
             ],
             [
              0.8888888888888888,
              "#fdca26"
             ],
             [
              1,
              "#f0f921"
             ]
            ],
            "type": "histogram2dcontour"
           }
          ],
          "mesh3d": [
           {
            "colorbar": {
             "outlinewidth": 0,
             "ticks": ""
            },
            "type": "mesh3d"
           }
          ],
          "parcoords": [
           {
            "line": {
             "colorbar": {
              "outlinewidth": 0,
              "ticks": ""
             }
            },
            "type": "parcoords"
           }
          ],
          "pie": [
           {
            "automargin": true,
            "type": "pie"
           }
          ],
          "scatter": [
           {
            "fillpattern": {
             "fillmode": "overlay",
             "size": 10,
             "solidity": 0.2
            },
            "type": "scatter"
           }
          ],
          "scatter3d": [
           {
            "line": {
             "colorbar": {
              "outlinewidth": 0,
              "ticks": ""
             }
            },
            "marker": {
             "colorbar": {
              "outlinewidth": 0,
              "ticks": ""
             }
            },
            "type": "scatter3d"
           }
          ],
          "scattercarpet": [
           {
            "marker": {
             "colorbar": {
              "outlinewidth": 0,
              "ticks": ""
             }
            },
            "type": "scattercarpet"
           }
          ],
          "scattergeo": [
           {
            "marker": {
             "colorbar": {
              "outlinewidth": 0,
              "ticks": ""
             }
            },
            "type": "scattergeo"
           }
          ],
          "scattergl": [
           {
            "marker": {
             "colorbar": {
              "outlinewidth": 0,
              "ticks": ""
             }
            },
            "type": "scattergl"
           }
          ],
          "scattermapbox": [
           {
            "marker": {
             "colorbar": {
              "outlinewidth": 0,
              "ticks": ""
             }
            },
            "type": "scattermapbox"
           }
          ],
          "scatterpolar": [
           {
            "marker": {
             "colorbar": {
              "outlinewidth": 0,
              "ticks": ""
             }
            },
            "type": "scatterpolar"
           }
          ],
          "scatterpolargl": [
           {
            "marker": {
             "colorbar": {
              "outlinewidth": 0,
              "ticks": ""
             }
            },
            "type": "scatterpolargl"
           }
          ],
          "scatterternary": [
           {
            "marker": {
             "colorbar": {
              "outlinewidth": 0,
              "ticks": ""
             }
            },
            "type": "scatterternary"
           }
          ],
          "surface": [
           {
            "colorbar": {
             "outlinewidth": 0,
             "ticks": ""
            },
            "colorscale": [
             [
              0,
              "#0d0887"
             ],
             [
              0.1111111111111111,
              "#46039f"
             ],
             [
              0.2222222222222222,
              "#7201a8"
             ],
             [
              0.3333333333333333,
              "#9c179e"
             ],
             [
              0.4444444444444444,
              "#bd3786"
             ],
             [
              0.5555555555555556,
              "#d8576b"
             ],
             [
              0.6666666666666666,
              "#ed7953"
             ],
             [
              0.7777777777777778,
              "#fb9f3a"
             ],
             [
              0.8888888888888888,
              "#fdca26"
             ],
             [
              1,
              "#f0f921"
             ]
            ],
            "type": "surface"
           }
          ],
          "table": [
           {
            "cells": {
             "fill": {
              "color": "#EBF0F8"
             },
             "line": {
              "color": "white"
             }
            },
            "header": {
             "fill": {
              "color": "#C8D4E3"
             },
             "line": {
              "color": "white"
             }
            },
            "type": "table"
           }
          ]
         },
         "layout": {
          "annotationdefaults": {
           "arrowcolor": "#2a3f5f",
           "arrowhead": 0,
           "arrowwidth": 1
          },
          "autotypenumbers": "strict",
          "coloraxis": {
           "colorbar": {
            "outlinewidth": 0,
            "ticks": ""
           }
          },
          "colorscale": {
           "diverging": [
            [
             0,
             "#8e0152"
            ],
            [
             0.1,
             "#c51b7d"
            ],
            [
             0.2,
             "#de77ae"
            ],
            [
             0.3,
             "#f1b6da"
            ],
            [
             0.4,
             "#fde0ef"
            ],
            [
             0.5,
             "#f7f7f7"
            ],
            [
             0.6,
             "#e6f5d0"
            ],
            [
             0.7,
             "#b8e186"
            ],
            [
             0.8,
             "#7fbc41"
            ],
            [
             0.9,
             "#4d9221"
            ],
            [
             1,
             "#276419"
            ]
           ],
           "sequential": [
            [
             0,
             "#0d0887"
            ],
            [
             0.1111111111111111,
             "#46039f"
            ],
            [
             0.2222222222222222,
             "#7201a8"
            ],
            [
             0.3333333333333333,
             "#9c179e"
            ],
            [
             0.4444444444444444,
             "#bd3786"
            ],
            [
             0.5555555555555556,
             "#d8576b"
            ],
            [
             0.6666666666666666,
             "#ed7953"
            ],
            [
             0.7777777777777778,
             "#fb9f3a"
            ],
            [
             0.8888888888888888,
             "#fdca26"
            ],
            [
             1,
             "#f0f921"
            ]
           ],
           "sequentialminus": [
            [
             0,
             "#0d0887"
            ],
            [
             0.1111111111111111,
             "#46039f"
            ],
            [
             0.2222222222222222,
             "#7201a8"
            ],
            [
             0.3333333333333333,
             "#9c179e"
            ],
            [
             0.4444444444444444,
             "#bd3786"
            ],
            [
             0.5555555555555556,
             "#d8576b"
            ],
            [
             0.6666666666666666,
             "#ed7953"
            ],
            [
             0.7777777777777778,
             "#fb9f3a"
            ],
            [
             0.8888888888888888,
             "#fdca26"
            ],
            [
             1,
             "#f0f921"
            ]
           ]
          },
          "colorway": [
           "#636efa",
           "#EF553B",
           "#00cc96",
           "#ab63fa",
           "#FFA15A",
           "#19d3f3",
           "#FF6692",
           "#B6E880",
           "#FF97FF",
           "#FECB52"
          ],
          "font": {
           "color": "#2a3f5f"
          },
          "geo": {
           "bgcolor": "white",
           "lakecolor": "white",
           "landcolor": "#E5ECF6",
           "showlakes": true,
           "showland": true,
           "subunitcolor": "white"
          },
          "hoverlabel": {
           "align": "left"
          },
          "hovermode": "closest",
          "mapbox": {
           "style": "light"
          },
          "paper_bgcolor": "white",
          "plot_bgcolor": "#E5ECF6",
          "polar": {
           "angularaxis": {
            "gridcolor": "white",
            "linecolor": "white",
            "ticks": ""
           },
           "bgcolor": "#E5ECF6",
           "radialaxis": {
            "gridcolor": "white",
            "linecolor": "white",
            "ticks": ""
           }
          },
          "scene": {
           "xaxis": {
            "backgroundcolor": "#E5ECF6",
            "gridcolor": "white",
            "gridwidth": 2,
            "linecolor": "white",
            "showbackground": true,
            "ticks": "",
            "zerolinecolor": "white"
           },
           "yaxis": {
            "backgroundcolor": "#E5ECF6",
            "gridcolor": "white",
            "gridwidth": 2,
            "linecolor": "white",
            "showbackground": true,
            "ticks": "",
            "zerolinecolor": "white"
           },
           "zaxis": {
            "backgroundcolor": "#E5ECF6",
            "gridcolor": "white",
            "gridwidth": 2,
            "linecolor": "white",
            "showbackground": true,
            "ticks": "",
            "zerolinecolor": "white"
           }
          },
          "shapedefaults": {
           "line": {
            "color": "#2a3f5f"
           }
          },
          "ternary": {
           "aaxis": {
            "gridcolor": "white",
            "linecolor": "white",
            "ticks": ""
           },
           "baxis": {
            "gridcolor": "white",
            "linecolor": "white",
            "ticks": ""
           },
           "bgcolor": "#E5ECF6",
           "caxis": {
            "gridcolor": "white",
            "linecolor": "white",
            "ticks": ""
           }
          },
          "title": {
           "x": 0.05
          },
          "xaxis": {
           "automargin": true,
           "gridcolor": "white",
           "linecolor": "white",
           "ticks": "",
           "title": {
            "standoff": 15
           },
           "zerolinecolor": "white",
           "zerolinewidth": 2
          },
          "yaxis": {
           "automargin": true,
           "gridcolor": "white",
           "linecolor": "white",
           "ticks": "",
           "title": {
            "standoff": 15
           },
           "zerolinecolor": "white",
           "zerolinewidth": 2
          }
         }
        },
        "title": {
         "text": "Sentiment Alignment Between Instagram Reviews and Fiat's Marketing"
        },
        "width": 800,
        "xaxis": {
         "anchor": "y",
         "constrain": "domain",
         "domain": [
          0,
          1
         ],
         "scaleanchor": "y",
         "title": {
          "text": "Instagram Review Topics"
         }
        },
        "yaxis": {
         "anchor": "x",
         "autorange": "reversed",
         "constrain": "domain",
         "domain": [
          0,
          1
         ],
         "title": {
          "text": "Fiat Marketing Topics"
         }
        }
       }
      }
     },
     "metadata": {},
     "output_type": "display_data"
    }
   ],
   "source": [
    "import pandas as pd\n",
    "import numpy as np\n",
    "import torch\n",
    "from sentence_transformers import SentenceTransformer\n",
    "from sklearn.metrics.pairwise import cosine_similarity\n",
    "import plotly.express as px\n",
    "from vaderSentiment.vaderSentiment import SentimentIntensityAnalyzer\n",
    "from nltk.corpus import stopwords\n",
    "import nltk\n",
    "\n",
    "# Download stopwords from NLTK\n",
    "nltk.download('stopwords')\n",
    "stop_words = set(stopwords.words('english'))\n",
    "\n",
    "# Function to remove stop words\n",
    "def remove_stopwords(text):\n",
    "    return ' '.join([word for word in text.split() if word.lower() not in stop_words])\n",
    "\n",
    "# Check if MPS is available and set the device\n",
    "device = torch.device(\"mps\") if torch.backends.mps.is_built() else torch.device(\"cpu\")\n",
    "\n",
    "# Load the STS model (Sentence-BERT)\n",
    "sts_model = SentenceTransformer('stsb-roberta-large').to(device)\n",
    "\n",
    "# Initialize the VADER sentiment analyzer\n",
    "analyzer = SentimentIntensityAnalyzer()\n",
    "\n",
    "# Load the new JSON file with Instagram reviews\n",
    "instagram_data = pd.read_json('/Users/abhishekroy/Downloads/vscode folder/instagram review Data.json')\n",
    "instagram_data['content'] = instagram_data['content'].apply(remove_stopwords)\n",
    "\n",
    "# Load the marketing data\n",
    "marketing_data = pd.read_json('/Users/abhishekroy/Downloads/vscode folder/XXmarketinTopic_Modeling_Data.json')\n",
    "marketing_data['content'] = marketing_data['content'].apply(remove_stopwords)\n",
    "\n",
    "# Filter and compute similarity and sentiment for matching labels\n",
    "matching_labels = set(instagram_data['label']).intersection(set(marketing_data['label']))\n",
    "\n",
    "# Create empty matrices for the heatmaps\n",
    "n_labels = len(matching_labels)\n",
    "similarity_matrix_diag = np.zeros((n_labels, n_labels))\n",
    "sentiment_matrix_diag = np.zeros((n_labels, n_labels))\n",
    "\n",
    "# Sort and prepend \"Fiat\" and \"Insta Review\" to labels\n",
    "matching_labels = sorted(matching_labels)  # Sort to maintain consistency\n",
    "review_labels = [\"Insta Review: \" + label for label in matching_labels]\n",
    "marketing_labels = [\"Fiat: \" + label for label in matching_labels]\n",
    "\n",
    "for idx, label in enumerate(matching_labels):\n",
    "    review_content = instagram_data[instagram_data['label'] == label]['content'].values[0]\n",
    "    marketing_content = marketing_data[marketing_data['label'] == label]['content'].values[0]\n",
    "    \n",
    "    # Generate embeddings\n",
    "    review_embedding = sts_model.encode(review_content, convert_to_tensor=True).cpu().numpy().reshape(1, -1)\n",
    "    marketing_embedding = sts_model.encode(marketing_content, convert_to_tensor=True).cpu().numpy().reshape(1, -1)\n",
    "    \n",
    "    # Calculate cosine similarity and store it in the diagonal of the matrix\n",
    "    similarity = cosine_similarity(review_embedding, marketing_embedding).flatten()[0]\n",
    "    similarity_matrix_diag[idx, idx] = similarity\n",
    "    \n",
    "    # Calculate sentiment for review and marketing content\n",
    "    review_sentiment = analyzer.polarity_scores(review_content)['compound']\n",
    "    marketing_sentiment = analyzer.polarity_scores(marketing_content)['compound']\n",
    "    \n",
    "    # Calculate the absolute difference between the sentiments and store it in the diagonal matrix\n",
    "    sentiment_correlation = 1 - abs(review_sentiment - marketing_sentiment)\n",
    "    sentiment_matrix_diag[idx, idx] = sentiment_correlation\n",
    "\n",
    "# Convert the matrices into dataframes for better visualization\n",
    "similarity_df = pd.DataFrame(similarity_matrix_diag, index=marketing_labels, columns=review_labels)\n",
    "sentiment_df = pd.DataFrame(sentiment_matrix_diag, index=marketing_labels, columns=review_labels)\n",
    "\n",
    "# Create a custom color scale for the heatmap\n",
    "color_scale = [\n",
    "    [0.0, 'rgba(0, 0, 0, 0)'],  # Transparent for zeros\n",
    "    [0.00001, 'rgb(255, 0, 0)'],  # Red for small values\n",
    "    [0.3, 'rgb(255, 165, 0)'],  # Orange\n",
    "    [0.5, 'rgb(255, 255, 0)'],  # Yellow\n",
    "    [0.7, 'rgb(0, 128, 0)'],  # Green\n",
    "    [1.0, 'rgb(0, 100, 0)']  # Dark Green for high values\n",
    "]\n",
    "\n",
    "# Create the cosine similarity heatmap\n",
    "fig1 = px.imshow(\n",
    "    similarity_df,\n",
    "    labels=dict(x=\"Instagram Review Topics\", y=\"Fiat Marketing Topics\", color=\"Similarity\"),\n",
    "    color_continuous_scale=color_scale,\n",
    "    text_auto=True\n",
    ")\n",
    "fig1.update_layout(\n",
    "    title=\"How Well Do Instagram Reviews Align with Fiat's Marketing Messages?\",\n",
    "    xaxis_title=\"Instagram Review Topics\",\n",
    "    yaxis_title=\"Fiat Marketing Topics\",\n",
    "    width=800,\n",
    "    height=800,\n",
    "    coloraxis_colorbar=dict(title=\"Similarity\", thicknessmode=\"pixels\", thickness=10, lenmode=\"pixels\", len=300),\n",
    ")\n",
    "fig1.show()\n",
    "\n",
    "# Create the sentiment correlation heatmap\n",
    "fig2 = px.imshow(\n",
    "    sentiment_df,\n",
    "    labels=dict(x=\"Instagram Review Topics\", y=\"Fiat Marketing Topics\", color=\"Sentiment Correlation\"),\n",
    "    color_continuous_scale=color_scale,\n",
    "    text_auto=True\n",
    ")\n",
    "fig2.update_layout(\n",
    "    title=\"Sentiment Alignment Between Instagram Reviews and Fiat's Marketing\",\n",
    "    xaxis_title=\"Instagram Review Topics\",\n",
    "    yaxis_title=\"Fiat Marketing Topics\",\n",
    "    width=800,\n",
    "    height=800,\n",
    "    coloraxis_colorbar=dict(title=\"Sentiment Correlation\", thicknessmode=\"pixels\", thickness=10, lenmode=\"pixels\", len=300),\n",
    ")\n",
    "fig2.show()\n"
   ]
  },
  {
   "cell_type": "markdown",
   "metadata": {},
   "source": [
    "### Insights from the Similarity and Sentiment Correlation Heatmaps\n",
    "\n",
    "#### 1. **Cosine Similarity Between Instagram Reviews and Fiat Marketing Topics**:\n",
    "   - **High Similarity in \"Design & Aesthetics\"**: The strongest alignment is observed between the \"Design & Aesthetics\" topic in both Instagram reviews and Fiat's marketing messages, with a similarity score of **0.5578**. This suggests that the visual and stylistic aspects of Fiat Dolcevita are well-represented and appreciated by the public in a way that aligns closely with how Fiat markets these features.\n",
    "   - **Moderate Similarity in \"Lifestyle & Heritage\"**: There is a moderate alignment in the \"Lifestyle & Heritage\" topic, with a similarity score of **0.4879**. This indicates that while consumers resonate with Fiat's messaging about lifestyle and heritage, there may be some divergence in how these concepts are perceived compared to how they are marketed.\n",
    "   - **Lower Similarity in Other Topics**: The \"Build Quality & Materials\" topic has a lower similarity score of **0.3690**, and \"Technology & Features\" shows even less alignment with a score of **0.3417**. The \"Specifications & Performance\" topic shows the lowest similarity at **0.1243**. These lower scores suggest that Fiat's marketing in these areas may not fully resonate with or reflect the public's discussions and sentiments on social media.\n",
    "\n",
    "#### 2. **Sentiment Correlation Between Instagram Reviews and Fiat Marketing**:\n",
    "   - **High Sentiment Correlation in \"Lifestyle & Heritage\"**: The sentiment correlation in the \"Lifestyle & Heritage\" topic is very high, with a score of **0.9889**. This indicates a nearly perfect alignment in the emotional tone between how Fiat markets this aspect and how consumers discuss it, suggesting a strong emotional resonance with this part of Fiat's brand identity.\n",
    "   - **Strong Correlation in \"Design & Aesthetics\"**: With a correlation score of **0.9009**, the sentiments expressed about \"Design & Aesthetics\" in reviews align closely with Fiat's marketing sentiments. This reinforces the finding that Fiat's design and aesthetic messaging strongly resonates with consumers.\n",
    "   - **Moderate Correlation in \"Build Quality & Materials\" and \"Specifications & Performance\"**: These topics show moderate sentiment alignment, with scores of **0.7837** and **0.7895** respectively. This suggests that while there is some consistency in sentiment, there is room for improvement in how Fiat's marketing might better connect emotionally with consumers in these areas.\n",
    "   - **Low Correlation in \"Technology & Features\"**: The sentiment correlation is notably lower for the \"Technology & Features\" topic, with a score of **0.3007**. This indicates a significant divergence between how Fiat communicates these aspects and how consumers feel about them, suggesting a potential disconnect that Fiat may need to address.\n",
    "\n",
    "### Overall Insights:\n",
    "- **Strong Alignment in Design and Lifestyle**: Fiat's marketing strategies around \"Design & Aesthetics\" and \"Lifestyle & Heritage\" are highly effective, resonating well with the public both in terms of thematic content and emotional tone.\n",
    "- **Opportunities for Improvement in Technical Aspects**: The lower alignment in \"Build Quality & Materials,\" \"Specifications & Performance,\" and particularly \"Technology & Features\" indicates areas where Fiat's marketing may need to better reflect consumer concerns and sentiments to strengthen the brand's connection with its audience.\n",
    "- **Emotional Disconnect in Technology**: The significant gap in sentiment correlation for \"Technology & Features\" suggests that Fiat might benefit from revisiting how it communicates these aspects, ensuring that it better matches the emotional expectations and experiences of its consumers.\n",
    "\n",
    "These insights provide a roadmap for Fiat to refine its marketing strategies, particularly by focusing on areas where there is less alignment with consumer sentiment and thematic discussion, to better meet consumer expectations and enhance brand perception.\n"
   ]
  },
  {
   "cell_type": "markdown",
   "metadata": {},
   "source": [
    "# Average Sentiment Per Post Per Year\n",
    "\n",
    "## Overview:\n",
    "This analysis focuses on understanding the average sentiment of Instagram posts over the years. The sentiment is derived from the text associated with emoji translations in the comments of these posts. By calculating the average sentiment per post and then averaging it annually, we aim to uncover trends in user sentiment over time.\n",
    "\n",
    "## Purpose:\n",
    "The primary goal of this analysis is to observe how the sentiment expressed in comments has evolved year over year. By aggregating sentiment data at the post level and then averaging it annually, we can detect shifts in audience mood, identify periods of heightened positivity or negativity, and correlate these trends with broader events or changes in content strategy.\n",
    "\n",
    "## Method:\n",
    "- **Sentiment Analysis**: We applied VADER, a widely-used sentiment analysis tool, to quantify the sentiment in each comment's translated emoji text. The result is a compound sentiment score ranging from -1 (most negative) to +1 (most positive).\n",
    "  \n",
    "- **Annual Aggregation**: The sentiment scores were aggregated at the post level, and then the average sentiment per post was calculated for each year. This annual aggregation helps smooth out short-term fluctuations and highlights longer-term trends.\n",
    "\n",
    "## Insights:\n",
    "This analysis provides insights into how sentiment towards Instagram posts has changed over the years. The resulting trend lines can help identify whether user sentiment has been improving, declining, or fluctuating over time. Such insights are valuable for understanding audience engagement and can guide future content strategies.\n"
   ]
  },
  {
   "cell_type": "code",
   "execution_count": 16,
   "metadata": {},
   "outputs": [
    {
     "data": {
      "image/png": "[encoded data removed]",
      "text/plain": [
       "<Figure size 1200x600 with 1 Axes>"
      ]
     },
     "metadata": {},
     "output_type": "display_data"
    }
   ],
   "source": [
    "import pandas as pd\n",
    "from vaderSentiment.vaderSentiment import SentimentIntensityAnalyzer\n",
    "import matplotlib.pyplot as plt\n",
    "\n",
    "# Define the file paths\n",
    "existing_file_path = '/Users/abhishekroy/Downloads/vscode folder/zfiltered_instagram_comments_with_translated_emojis.csv'\n",
    "new_file_path = '/Users/abhishekroy/Downloads/vscode folder/Zinstagram-comment-scraper_2024-08-09_00-37-54-932.csv'\n",
    "\n",
    "# Load the existing and new datasets\n",
    "df_existing = pd.read_csv(existing_file_path)\n",
    "df_new = pd.read_csv(new_file_path)\n",
    "\n",
    "# Select the columns to merge\n",
    "columns_to_add = ['id', 'likesCount', 'postUrl', 'ownerUsername']\n",
    "\n",
    "# Merge the datasets on the appropriate column (if id is not present, use a common column)\n",
    "# Assuming 'timestamp' is the common column since 'id' is partially populated\n",
    "df_merged = pd.merge(df_existing, df_new[columns_to_add + ['timestamp']], on='timestamp', how='left')\n",
    "\n",
    "# Initialize the VADER sentiment analyzer\n",
    "analyzer = SentimentIntensityAnalyzer()\n",
    "\n",
    "# Apply sentiment analysis on the 'translated_emoji_text' column\n",
    "df_merged['sentiment'] = df_merged['translated_emoji_text'].apply(lambda x: analyzer.polarity_scores(str(x))['compound'])\n",
    "\n",
    "# Extract the year from the timestamp\n",
    "df_merged['timestamp'] = pd.to_datetime(df_merged['timestamp'])\n",
    "df_merged['year'] = df_merged['timestamp'].dt.year\n",
    "\n",
    "# Calculate the average sentiment per post per year\n",
    "df_merged['post_id'] = df_merged['id'].fillna(df_merged['postUrl'])  # Use id if available, otherwise use postUrl\n",
    "average_sentiment_per_post_per_year = df_merged.groupby(['year', 'post_id'])['sentiment'].mean()\n",
    "average_sentiment_per_year = average_sentiment_per_post_per_year.groupby('year').mean()\n",
    "\n",
    "# Plot the average sentiment per post per year\n",
    "plt.figure(figsize=(12, 6))\n",
    "plt.plot(average_sentiment_per_year.index, average_sentiment_per_year, marker='o', linestyle='-', color='b')\n",
    "plt.title('Average Sentiment Per Post Per Year')\n",
    "plt.xlabel('Year')\n",
    "plt.ylabel('Average Sentiment Per Post')\n",
    "plt.grid(True)\n",
    "plt.show()\n",
    "\n",
    "# Save the merged dataset for future use\n",
    "df_merged.to_csv('/Users/abhishekroy/Downloads/vscode folder/merged_instagram_comments_dataset.csv', index=False)\n"
   ]
  },
  {
   "cell_type": "markdown",
   "metadata": {},
   "source": [
    "# Analyzing the Relationship Between Sentiment and Engagement on Instagram Posts\n",
    "\n",
    "## Overview:\n",
    "In this step, we analyzed the relationship between the sentiment expressed in Instagram comments and the engagement each post received, measured by the total number of likes. While it may seem intuitive that more positive sentiment could lead to more likes, this analysis provides a data-driven foundation for understanding how sentiment impacts engagement. Establishing this relationship is crucial for informing further analysis and content strategy.\n",
    "\n",
    "## Key Objectives:\n",
    "\n",
    "### 1. Measure Sentiment and Engagement at the Post Level\n",
    "To explore how sentiment affects engagement, we grouped the data by `post_id` and calculated two key metrics:\n",
    "- **Average Sentiment per Post**: We averaged the sentiment scores of all comments associated with each post to gauge the overall mood surrounding that content.\n",
    "- **Total Likes per Post**: We summed the number of likes each post received to measure its engagement level.\n",
    "\n",
    "This approach allowed us to directly compare the sentiment expressed in comments with the total engagement the post generated.\n",
    "\n",
    "### 2. Visualize the Sentiment-Engagement Relationship\n",
    "We plotted the relationship between the average sentiment and the total likes for each post:\n",
    "- **Scatter Plot**: This plot shows how sentiment correlates with likes across all posts. Each point represents a post, with its position on the x-axis determined by the average sentiment and on the y-axis by the total likes. This visualization helps us identify trends and outliers, such as whether posts with higher sentiment scores consistently receive more likes.\n",
    "\n",
    "### 3. Quantify the Sentiment-Engagement Correlation\n",
    "To quantify the relationship, we calculated the correlation coefficient between sentiment and likes:\n",
    "- **Correlation Coefficient**: This statistical measure indicates the strength and direction of the relationship between the two variables. A positive correlation suggests that as sentiment increases, likes tend to increase as well, reinforcing the hypothesis that positive sentiment drives higher engagement.\n",
    "\n",
    "## Purpose:\n",
    "The primary purpose of this analysis was to establish a clear, data-backed understanding of how sentiment affects engagement on Instagram. Although it might seem obvious that positive comments lead to more likes, this analysis provides a solid, quantifiable basis for this assumption. By confirming this relationship, we can proceed with confidence in further analyses, knowing that sentiment is a significant driver of engagement.\n",
    "\n",
    "## Conclusion:\n",
    "The relationship between sentiment and likes on Instagram posts is a fundamental aspect of user engagement. By quantifying this relationship, we have established a strong foundation for exploring other factors that may influence engagement, such as content type, post timing, or user demographics. This step is a critical building block for developing strategies that maximize user interaction based on the sentiments expressed in their comments.\n"
   ]
  },
  {
   "cell_type": "code",
   "execution_count": 17,
   "metadata": {},
   "outputs": [
    {
     "data": {
      "image/png": "[encoded data removed]",
      "text/plain": [
       "<Figure size 1000x600 with 1 Axes>"
      ]
     },
     "metadata": {},
     "output_type": "display_data"
    },
    {
     "name": "stdout",
     "output_type": "stream",
     "text": [
      "Correlation between sentiment and likes count: 0.02\n"
     ]
    }
   ],
   "source": [
    "import pandas as pd\n",
    "import matplotlib.pyplot as plt\n",
    "import seaborn as sns\n",
    "\n",
    "# Group by post_id and calculate average sentiment and total likes\n",
    "engagement_sentiment = df_merged.groupby('post_id').agg({\n",
    "    'sentiment': 'mean',\n",
    "    'likesCount': 'sum'\n",
    "}).dropna()\n",
    "\n",
    "# Plot the relationship between sentiment and likes\n",
    "plt.figure(figsize=(10, 6))\n",
    "sns.scatterplot(x=engagement_sentiment['sentiment'], y=engagement_sentiment['likesCount'])\n",
    "plt.title('Sentiment vs. Engagement (Likes Count)')\n",
    "plt.xlabel('Average Sentiment per Post')\n",
    "plt.ylabel('Total Likes per Post')\n",
    "plt.grid(True)\n",
    "plt.show()\n",
    "\n",
    "# Calculate the correlation between sentiment and likes\n",
    "correlation = engagement_sentiment['sentiment'].corr(engagement_sentiment['likesCount'])\n",
    "print(f\"Correlation between sentiment and likes count: {correlation:.2f}\")\n"
   ]
  },
  {
   "cell_type": "code",
   "execution_count": 22,
   "metadata": {},
   "outputs": [
    {
     "data": {
      "image/png": "[encoded data removed]",
      "text/plain": [
       "<Figure size 1000x600 with 1 Axes>"
      ]
     },
     "metadata": {},
     "output_type": "display_data"
    },
    {
     "name": "stdout",
     "output_type": "stream",
     "text": [
      "Correlation between normalized sentiment and likes count: 0.02\n"
     ]
    }
   ],
   "source": [
    "import pandas as pd\n",
    "import matplotlib.pyplot as plt\n",
    "import seaborn as sns\n",
    "import numpy as np\n",
    "from sklearn.linear_model import LinearRegression\n",
    "from sklearn.preprocessing import MinMaxScaler\n",
    "\n",
    "# Group by post_id and calculate average sentiment and total likes\n",
    "engagement_sentiment = df_merged.groupby('post_id').agg({\n",
    "    'sentiment': 'mean',\n",
    "    'likesCount': 'sum'\n",
    "}).dropna()\n",
    "\n",
    "# Normalize the sentiment values to the range [0, 1]\n",
    "scaler = MinMaxScaler()\n",
    "engagement_sentiment['normalized_sentiment'] = scaler.fit_transform(engagement_sentiment[['sentiment']])\n",
    "\n",
    "# Clearer Plot with Normalized Sentiment and Trend Line\n",
    "plt.figure(figsize=(10, 6))\n",
    "sns.scatterplot(\n",
    "    x=engagement_sentiment['normalized_sentiment'], \n",
    "    y=engagement_sentiment['likesCount'], \n",
    "    hue=engagement_sentiment['normalized_sentiment'], \n",
    "    palette=\"coolwarm\", \n",
    "    size=engagement_sentiment['likesCount'], \n",
    "    sizes=(20, 200),\n",
    "    alpha=0.6\n",
    ")\n",
    "\n",
    "# Adding a trend line with normalized sentiment\n",
    "X = engagement_sentiment['normalized_sentiment'].values.reshape(-1, 1)\n",
    "y = engagement_sentiment['likesCount'].values\n",
    "reg = LinearRegression().fit(X, y)\n",
    "plt.plot(engagement_sentiment['normalized_sentiment'], reg.predict(X), color='black', linewidth=2, linestyle='--')\n",
    "\n",
    "plt.title('Normalized Sentiment vs. Engagement (Likes Count)')\n",
    "plt.xlabel('Normalized Sentiment per Post')\n",
    "plt.ylabel('Total Likes per Post')\n",
    "plt.grid(True)\n",
    "plt.show()\n",
    "\n",
    "# Calculate the correlation between normalized sentiment and likes\n",
    "correlation = engagement_sentiment['normalized_sentiment'].corr(engagement_sentiment['likesCount'])\n",
    "print(f\"Correlation between normalized sentiment and likes count: {correlation:.2f}\")\n"
   ]
  },
  {
   "cell_type": "markdown",
   "metadata": {},
   "source": [
    "# Analyzing Engagement and Sentiment Over Time on Instagram\n",
    "\n",
    "## Overview:\n",
    "To understand the trends in user interaction and sentiment on Instagram over time, we conducted an analysis that focused on two key metrics: total likes (as a measure of engagement) and average sentiment. By examining these metrics on a monthly basis, we aimed to identify which year marked the highest engagement and to explore the relationship between user sentiment and engagement.\n",
    "\n",
    "## Key Objectives:\n",
    "\n",
    "### 1. Measure Engagement Over Time\n",
    "We calculated the total number of likes per month to track how engagement levels changed over time. This metric is crucial because likes are a direct indicator of user interaction with content. By summing the likes monthly, we could observe trends in engagement and identify peak periods of user activity.\n",
    "\n",
    "### 2. Analyze Average Sentiment Over Time\n",
    "In addition to engagement, we measured the average sentiment of comments per month. Sentiment analysis provides insight into the overall mood and tone of user interactions. By averaging sentiment scores monthly, we could see how user feelings towards content evolved over time and whether positive or negative sentiments correlated with periods of high engagement.\n",
    "\n",
    "### 3. Visualize Trends\n",
    "To make these insights more accessible, we plotted the data:\n",
    "- **Total Likes Over Time**: This plot shows how engagement (measured by likes) fluctuated on a monthly basis. It helps us identify when users were most active and which periods saw the highest interaction rates.\n",
    "- **Average Sentiment Over Time**: This plot illustrates how the sentiment of user comments changed over time. By tracking sentiment, we can assess whether shifts in user mood influenced engagement levels.\n",
    "- **Overlaying Sentiment and Likes**: Finally, we combined the two metrics in a single plot to examine the relationship between sentiment and engagement. This dual-axis plot allows us to see whether higher or lower sentiments corresponded with increased likes, providing a more nuanced understanding of user behavior.\n",
    "\n",
    "## Purpose:\n",
    "The primary purpose of this analysis was to determine which year had the highest engagement on Instagram, as indicated by the total number of likes. By identifying this peak period, we could then focus on understanding the underlying factors that contributed to the high engagement, including the role of user sentiment.\n",
    "\n",
    "## Conclusion:\n",
    "By analyzing and visualizing engagement and sentiment over time, we identified trends that help explain user interaction on Instagram. This analysis is a critical step towards understanding why certain periods, such as the year 2023, saw particularly high engagement. The next step involves delving deeper into the content and discussions during these peak periods to uncover the factors driving user engagement.\n"
   ]
  },
  {
   "cell_type": "code",
   "execution_count": 18,
   "metadata": {},
   "outputs": [
    {
     "name": "stderr",
     "output_type": "stream",
     "text": [
      "/var/folders/rf/f3gcxyps4nv_kk59lzb5qqkm0000gn/T/ipykernel_10385/2585850641.py:2: FutureWarning: 'M' is deprecated and will be removed in a future version, please use 'ME' instead.\n",
      "  engagement_over_time = df_merged.resample('M', on='timestamp').agg({\n"
     ]
    },
    {
     "data": {
      "image/png": "[encoded data removed]",
      "text/plain": [
       "<Figure size 1200x600 with 1 Axes>"
      ]
     },
     "metadata": {},
     "output_type": "display_data"
    },
    {
     "data": {
      "image/png": "[encoded data removed]",
      "text/plain": [
       "<Figure size 1200x600 with 1 Axes>"
      ]
     },
     "metadata": {},
     "output_type": "display_data"
    },
    {
     "data": {
      "image/png": "[encoded data removed]",
      "text/plain": [
       "<Figure size 1200x600 with 2 Axes>"
      ]
     },
     "metadata": {},
     "output_type": "display_data"
    }
   ],
   "source": [
    "# Calculate total likes and average sentiment over time (monthly)\n",
    "engagement_over_time = df_merged.resample('M', on='timestamp').agg({\n",
    "    'likesCount': 'sum',\n",
    "    'sentiment': 'mean'\n",
    "}).dropna()\n",
    "\n",
    "# Plot engagement (likes) over time\n",
    "plt.figure(figsize=(12, 6))\n",
    "plt.plot(engagement_over_time.index, engagement_over_time['likesCount'], label='Total Likes', color='blue')\n",
    "plt.title('Engagement Over Time (Total Likes)')\n",
    "plt.xlabel('Date')\n",
    "plt.ylabel('Total Likes')\n",
    "plt.grid(True)\n",
    "plt.legend()\n",
    "plt.show()\n",
    "\n",
    "# Plot average sentiment over time\n",
    "plt.figure(figsize=(12, 6))\n",
    "plt.plot(engagement_over_time.index, engagement_over_time['sentiment'], label='Average Sentiment', color='red')\n",
    "plt.title('Average Sentiment Over Time')\n",
    "plt.xlabel('Date')\n",
    "plt.ylabel('Average Sentiment')\n",
    "plt.grid(True)\n",
    "plt.legend()\n",
    "plt.show()\n",
    "\n",
    "# Overlay sentiment and likes\n",
    "fig, ax1 = plt.subplots(figsize=(12, 6))\n",
    "\n",
    "ax1.set_xlabel('Date')\n",
    "ax1.set_ylabel('Total Likes', color='blue')\n",
    "ax1.plot(engagement_over_time.index, engagement_over_time['likesCount'], color='blue', label='Total Likes')\n",
    "ax1.tick_params(axis='y', labelcolor='blue')\n",
    "\n",
    "ax2 = ax1.twinx()\n",
    "ax2.set_ylabel('Average Sentiment', color='red')\n",
    "ax2.plot(engagement_over_time.index, engagement_over_time['sentiment'], color='red', label='Average Sentiment')\n",
    "ax2.tick_params(axis='y', labelcolor='red')\n",
    "\n",
    "plt.title('Engagement and Sentiment Over Time')\n",
    "fig.tight_layout()\n",
    "plt.grid(True)\n",
    "plt.show()\n"
   ]
  },
  {
   "cell_type": "markdown",
   "metadata": {},
   "source": [
    "# Topic Modeling and Analysis of Instagram Comments from 2023\n",
    "\n",
    "## Overview:\n",
    "In this analysis, we aimed to uncover the key themes and topics within Instagram comments from the year 2023. This year was specifically chosen because it had the highest engagement in terms of likes, making it a crucial period to study for understanding what drove user interaction. The process involved determining the optimal number of topics for analysis, extracting those topics, and visualizing them to gain insights into user interactions and content focus.\n",
    "\n",
    "## Key Objectives:\n",
    "\n",
    "### 1. Identify Dominant Themes\n",
    "We performed topic modeling to identify the main themes discussed in the 2023 Instagram comments. Understanding these themes helps us recognize what content resonated most with users, driving engagement in terms of likes, comments, and shares.\n",
    "\n",
    "### 2. Optimize Topic Analysis\n",
    "Before diving into the topic analysis, we conducted a coherence test to determine the optimal number of topics. This step was crucial to ensure that the topics identified were both meaningful and easy to interpret, leading to more accurate insights.\n",
    "\n",
    "### 3. Visualize Topic Distribution\n",
    "By visualizing the distribution of topics, we could see which themes were most prevalent in the comments. This helped us understand the overall content trends and user interests during 2023.\n",
    "\n",
    "### 4. Create Interactive Exploration Tools\n",
    "We used PyLDAvis to create an interactive visualization of the topics. This tool allows for a deeper exploration of the topics, enabling us to see how different words contribute to each topic and how the topics relate to one another. This interactivity is essential for gaining a nuanced understanding of the data.\n",
    "\n",
    "## Why We Did This:\n",
    "\n",
    "### Focus on the Peak Engagement Year\n",
    "2023 was selected for this analysis because it had the highest engagement in terms of likes. By focusing on the year with the most interaction, we aimed to identify the factors that contributed to this peak in user activity, providing insights that could be leveraged to sustain or increase engagement in future years.\n",
    "\n",
    "### Understand High Engagement\n",
    "The primary goal was to understand why engagement was particularly high in 2023. By identifying the topics that dominated user conversations, we could infer what types of content, events, or discussions were most engaging to the audience.\n",
    "\n",
    "### Drive Future Content Strategies\n",
    "These insights are invaluable for shaping future content strategies. Knowing what topics drive engagement allows content creators and marketers to focus on themes that resonate with their audience, potentially replicating or enhancing the factors that led to high engagement in 2023.\n",
    "\n",
    "### Explore User Sentiments and Interests\n",
    "By analyzing the topics, we gain a better understanding of user sentiments and interests. This helps in tailoring content to better meet the audience's preferences, leading to sustained or even increased engagement in the future.\n",
    "\n",
    "## Conclusion:\n",
    "Through this analysis, we identified and explored the key topics that contributed to the high engagement on Instagram in 2023, a year marked by the highest number of likes. The insights gained from this study can inform content strategies, helping to maintain or boost engagement levels in subsequent years.\n"
   ]
  },
  {
   "cell_type": "code",
   "execution_count": 20,
   "metadata": {},
   "outputs": [
    {
     "name": "stderr",
     "output_type": "stream",
     "text": [
      "[nltk_data] Downloading package punkt to\n",
      "[nltk_data]     /Users/abhishekroy/nltk_data...\n",
      "[nltk_data]   Package punkt is already up-to-date!\n",
      "[nltk_data] Downloading package stopwords to\n",
      "[nltk_data]     /Users/abhishekroy/nltk_data...\n",
      "[nltk_data]   Package stopwords is already up-to-date!\n",
      "/var/folders/rf/f3gcxyps4nv_kk59lzb5qqkm0000gn/T/ipykernel_10385/412280469.py:24: SettingWithCopyWarning: \n",
      "A value is trying to be set on a copy of a slice from a DataFrame.\n",
      "Try using .loc[row_indexer,col_indexer] = value instead\n",
      "\n",
      "See the caveats in the documentation: https://pandas.pydata.org/pandas-docs/stable/user_guide/indexing.html#returning-a-view-versus-a-copy\n",
      "  df_2023.loc[:, 'cleaned_text'] = df_2023['translated_comments'].fillna('').str.lower().str.replace(r'[^\\w\\s]', '')\n",
      "/var/folders/rf/f3gcxyps4nv_kk59lzb5qqkm0000gn/T/ipykernel_10385/412280469.py:25: SettingWithCopyWarning: \n",
      "A value is trying to be set on a copy of a slice from a DataFrame.\n",
      "Try using .loc[row_indexer,col_indexer] = value instead\n",
      "\n",
      "See the caveats in the documentation: https://pandas.pydata.org/pandas-docs/stable/user_guide/indexing.html#returning-a-view-versus-a-copy\n",
      "  df_2023.loc[:, 'tokenized_text'] = df_2023['cleaned_text'].apply(word_tokenize)\n"
     ]
    },
    {
     "data": {
      "image/png": "[encoded data removed]",
      "text/plain": [
       "<Figure size 1000x600 with 1 Axes>"
      ]
     },
     "metadata": {},
     "output_type": "display_data"
    },
    {
     "name": "stdout",
     "output_type": "stream",
     "text": [
      "Optimal number of topics: 9\n",
      "Topic 1:\n",
      "0.040*\"melon\" + 0.017*\"happy\" + 0.011*\"like\" + 0.010*\"n't\" + 0.009*\"thank\" + 0.007*\"fiat\" + 0.006*\"rossa\" + 0.006*\"topolina\" + 0.006*\"one\" + 0.005*\"really\"\n",
      "\n",
      "Topic 2:\n",
      "0.026*\"nice\" + 0.018*\"beautiful\" + 0.012*\"fiat\" + 0.011*\"year\" + 0.009*\"n't\" + 0.009*\"like\" + 0.009*\"'ll\" + 0.008*\"dolcevita\" + 0.008*\"really\" + 0.007*\"much\"\n",
      "\n",
      "Topic 3:\n",
      "0.030*\"thank\" + 0.017*\"much\" + 0.009*\"fiat\" + 0.009*\"please\" + 0.009*\"misalunlun\" + 0.008*\"get\" + 0.008*\"never\" + 0.008*\"n't\" + 0.008*\"fun\" + 0.008*\"see\"\n",
      "\n",
      "Topic 4:\n",
      "0.021*\"fiat\" + 0.017*\"dolcevita\" + 0.012*\"'ll\" + 0.011*\"beautiful\" + 0.011*\"happy\" + 0.011*\"n't\" + 0.010*\"'ve\" + 0.010*\"year\" + 0.010*\"like\" + 0.010*\"next\"\n",
      "\n",
      "Topic 5:\n",
      "0.033*\"beautiful\" + 0.022*\"thank\" + 0.018*\"fiat\" + 0.016*\"good\" + 0.015*\"n't\" + 0.011*\"nice\" + 0.010*\"really\" + 0.008*\"bon\" + 0.007*\"great\" + 0.006*\"lovely\"\n",
      "\n",
      "Topic 6:\n",
      "0.020*\"lovely\" + 0.013*\"fiat\" + 0.012*\"thank\" + 0.012*\"see\" + 0.009*\"cha\" + 0.009*\"great\" + 0.007*\"'re\" + 0.007*\"anniversary\" + 0.007*\"happy\" + 0.007*\"n't\"\n",
      "\n",
      "Topic 7:\n",
      "0.021*\"thank\" + 0.018*\"cute\" + 0.018*\"n't\" + 0.013*\"send\" + 0.013*\"wow\" + 0.012*\"pic\" + 0.010*\"cha\" + 0.008*\"kumi\" + 0.008*\"congratulations\" + 0.008*\"really\"\n",
      "\n",
      "Topic 8:\n",
      "0.036*\"thank\" + 0.014*\"fiat\" + 0.013*\"would\" + 0.013*\"car\" + 0.011*\"like\" + 0.010*\"much\" + 0.010*\"cha\" + 0.008*\"year\" + 0.007*\"wish\" + 0.007*\"well\"\n",
      "\n",
      "Topic 9:\n",
      "0.015*\"fiat\" + 0.015*\"merry\" + 0.014*\"christmas\" + 0.012*\"good\" + 0.011*\"thank\" + 0.009*\"please\" + 0.008*\"make\" + 0.008*\"car\" + 0.007*\"like\" + 0.007*\"great\"\n",
      "\n"
     ]
    },
    {
     "data": {
      "image/png": "[encoded data removed]",
      "text/plain": [
       "<Figure size 1000x600 with 1 Axes>"
      ]
     },
     "metadata": {},
     "output_type": "display_data"
    },
    {
     "data": {
      "text/html": [
       "\n",
       "<link rel=\"stylesheet\" type=\"text/css\" href=\"https://cdn.jsdelivr.net/gh/bmabey/pyLDAvis@3.4.0/pyLDAvis/js/ldavis.v1.0.0.css\">\n",
       "\n",
       "\n",
       "<div id=\"ldavis_el10385133508226083379058222\" style=\"background-color:white;\"></div>\n",
       "<script type=\"text/javascript\">\n",
       "\n",
       "var ldavis_el10385133508226083379058222_data = {\"mdsDat\": {\"x\": [-0.011000134272039398, 0.02024692671696461, 0.04429685045491742, 0.05558055881784996, 0.0746491783043094, 0.07298963996506032, -0.08254308458778427, -0.11268854343612963, -0.06153139196314825], \"y\": [0.0029487546848175183, -0.034511910368175185, -0.04227111887723321, 0.00574926823328371, -0.04320874379403103, 0.05780262389491768, 0.05170128010719979, -0.11080261346797267, 0.11259245958719345], \"topics\": [1, 2, 3, 4, 5, 6, 7, 8, 9], \"cluster\": [1, 1, 1, 1, 1, 1, 1, 1, 1], \"Freq\": [15.10231417317165, 12.13171418880283, 11.72226141898098, 11.201336740673549, 10.579716323016388, 10.457272568596277, 10.071964325864096, 9.580340145828822, 9.153080115065409]}, \"tinfo\": {\"Term\": [\"melon\", \"beautiful\", \"cha\", \"thank\", \"merry\", \"nice\", \"lovely\", \"send\", \"christmas\", \"cute\", \"wow\", \"good\", \"bon\", \"like\", \"pic\", \"please\", \"much\", \"dolcevita\", \"happy\", \"'ll\", \"super\", \"well\", \"sunday\", \"really\", \"would\", \"misalunlun\", \"imaimaquen\", \"kumi\", \"great\", \"pretty\", \"akkun\", \"high\", \"models\", \"wanker\", \"heard\", \"appearance\", \"full\", \"puno\", \"design\", \"summer\", \"internal\", \"conflict\", \"say\", \"different\", \"less\", \"akiko\", \"biggest\", \"pernambuco\", \"including\", \"decade\", \"profile\", \"genuinely\", \"raise\", \"countries\", \"bath\", \"relief\", \"sight\", \"hamagami\", \"fertilised\", \"nationalised\", \"renegade\", \"would\", \"well\", \"spank\", \"feel\", \"mudrinicmila\", \"though\", \"posts\", \"brazil\", \"bad\", \"wish\", \"safe\", \"soba\", \"apple\", \"cha\", \"dear\", \"thank\", \"sell\", \"car\", \"abarth\", \"glad\", \"much\", \"like\", \"fiat\", \"meet\", \"snow\", \"year\", \"got\", \"could\", \"also\", \"see\", \"looking\", \"come\", \"hope\", \"people\", \"nice\", \"lovely\", \"'ve\", \"beautiful\", \"forward\", \"n't\", \"cute\", \"love\", \"marikel\", \"someday\", \"mountain\", \"giving\", \"pigeon\", \"days\", \"frame-by-frame\", \"two\", \"buds\", \"coche\", \"flowers\", \"australian\", \"market\", \"strengthen\", \"lucaskauan\", \"amorim\", \"understand\", \"comment\", \"yuririna\", \"wheels\", \"priority\", \"snatched\", \"crackers\", \"bottom\", \"sen\", \"tonbi\", \"steep\", \"organised\", \"owner\", \"fully\", \"bonito\", \"kangaroo\", \"call\", \"driver\", \"vls\", \"dolcevita\", \"imaimaquen\", \"bon\", \"'ll\", \"lol\", \"fly\", \"miyaken\", \"made\", \"glad\", \"next\", \"'ve\", \"let\", \"delivery\", \"fiat\", \"happy\", \"love\", \"time\", \"year\", \"see\", \"like\", \"n't\", \"beautiful\", \"car\", \"buy\", \"picture\", \"thought\", \"going\", \"one\", \"would\", \"'re\", \"forward\", \"missed\", \"helloaesthete\", \"daughter\", \"content\", \"pot\", \"ask\", \"clubsport\", \"megmeg\", \"chacha\", \"waiting\", \"morning\", \"expect\", \"aestheticbeige\", \"ohpedroestevao\", \"flowerstagram\", \"haha\", \"aido\", \"goodbye\", \"hiragana\", \"result\", \"estetvisual\", \"brand\", \"llemerci\", \"mauritania\", \"tasty\", \"article\", \"cookery\", \"heritage\", \"knowledge\", \"generated\", \"bon\", \"frau\", \"whether\", \"funny\", \"dream\", \"instagram\", \"version\", \"beautiful\", \"good\", \"super\", \"really\", \"job\", \"photo\", \"small\", \"yuyuuka\", \"something\", \"hiro\", \"n't\", \"thank\", \"fiat\", \"great\", \"nice\", \"wow\", \"work\", \"white\", \"lovely\", \"'ve\", \"hard\", \"happy\", \"time\", \"got\", \"picture\", \"'re\", \"know\", \"always\", \"pleasure\", \"car\", \"see\", \"topolina\", \"girl\", \"important\", \"comedy\", \"lilli\", \"belli\", \"bitch\", \"nettiboholove\", \"blue\", \"danke\", \"sky\", \"fiatcollezione\", \"support\", \"fabulous\", \"auto\", \"fall\", \"olllllllllo\", \"allwhite\", \"specialedition\", \"petrels\", \"married\", \"survey\", \"upscale\", \"wintermood\", \"give\", \"bait\", \"fiatth\", \"daily\", \"fiatanniversario\", \"occasion\", \"developments\", \"future\", \"bloom\", \"second\", \"lovely\", \"prettier\", \"wait\", \"anniversary\", \"...\", \"nishi\", \"wedding\", \"azaleas\", \"always\", \"fiatdolcevita\", \"great\", \"cha\", \"sunflower\", \"small\", \"see\", \"'re\", \"right\", \"hope\", \"fiat\", \"one\", \"thank\", \"happy\", \"'ve\", \"look\", \"n't\", \"nice\", \"drive\", \"pretty\", \"pleasure\", \"got\", \"'ll\", \"forward\", \"year\", \"get\", \"next\", \"page\", \"gave\", \"around\", \"double\", \"hokuriku\", \"points\", \"legendary\", \"lookdujour\", \"joao\", \"nishikawa-san\", \"treasure\", \"lie\", \"photographer\", \"gaudy\", \"shots\", \"lestylealafran\\u00e7ais\", \"station\", \"wagons\", \"reading\", \"roads\", \"history\", \"ran\", \"says\", \"kazu-san\", \"omikanorange\", \"admire\", \"display\", \"pedromarques\", \"bossa\", \"slanted\", \"easily\", \"pictures\", \"beauty\", \"outfit\", \"true\", \"working\", \"nice\", \"sunday\", \"super\", \"wonderful\", \"weekend\", \"barronmn\", \"beautiful\", \"pretty\", \"big\", \"something\", \"real\", \"white\", \"year\", \"'ll\", \"work\", \"careful\", \"join\", \"aesthetic\", \"italian\", \"like\", \"quickly\", \"really\", \"dolcevita\", \"fiat\", \"yes\", \"next\", \"n't\", \"much\", \"forward\", \"one\", \"look\", \"cute\", \"also\", \"thank\", \"cha-cha-cha\", \"lovely\", \"fiatclub\", \"fiatabarth\", \"build\", \"tried\", \"muscles\", \"far\", \"story\", \"amaze\", \"ceases\", \"zagreb\", \"sore\", \"need\", \"panda\", \"nicolewom\", \"eviwave\", \"sweet\", \"put\", \"sure\", \"italiancar\", \"etc\", \"cartastic\", \"luxurylife\", \"area\", \"italiancars\", \"fiatfridays\", \"started\", \"luxurylifestyle\", \"smallcar\", \"applause\", \"long-awaited\", \"luxury\", \"fiatlovers\", \"cook\", \"dad\", \"misalunlun\", \"never\", \"better\", \"together\", \"much\", \"please\", \"new\", \"cool\", \"thank\", \"fun\", \"get\", \"even\", \"'re\", \"pleasure\", \"see\", \"ikuchon\", \"fiat\", \"look\", \"good\", \"n't\", \"beautiful\", \"dolcevita\", \"right\", \"well\", \"imaimaquen\", \"year\", \"hope\", \"picture\", \"one\", \"merry\", \"christmas\", \"harder\", \"mail\", \"denz\", \"costs\", \"style\", \"seriously\", \"standard\", \"wonderland\", \"sabibdr\", \"borkamomcilovic\", \"grass\", \"stripes\", \"zechmeister\", \"lehr\", \"pasted\", \"fabric\", \"blowers\", \"abarths\", \"catia\", \"andreas\", \"autohaus\", \"ssbase\", \"pietrasanta\", \"part\", \"passenger\", \"azalea\", \"master\", \"toybox\", \"searching\", \"thomas\", \"seat\", \"bro\", \"bili\", \"make\", \"please\", \"yuyuka\", \"price\", \"family\", \"barronmn\", \"good\", \"buy\", \"cha-cha-cha\", \"thanks\", \"winter\", \"lot\", \"fiat\", \"snow\", \"great\", \"abarth\", \"car\", \"love\", \"thank\", \"look\", \"like\", \"drive\", \"want\", \"day\", \"nice\", \"looks\", \"really\", \"dolcevita\", \"one\", \"year\", \"get\", \"n't\", \"elypre\", \"magazine\", \"send\", \"fascinating\", \"toot\", \"annekatrinbergmann\", \"abarthhugo\", \"cuter\", \"pic\", \"orange\", \"tastes\", \"younger\", \"arrangements\", \"laugh\", \"chose\", \"match\", \"chocolate\", \"play\", \"crazy\", \"cakes\", \"lake\", \"parking\", \"platform\", \"knows\", \"lining\", \"everywhere\", \"eat-in\", \"view\", \"birds\", \"tonotsuka\", \"wow\", \"austria\", \"cute\", \"imuk\", \"kumi\", \"congratulations\", \"went\", \"perfect\", \"people\", \"cha\", \"shop\", \"every\", \"killifish\", \"n't\", \"take\", \"adorable\", \"thank\", \"...\", \"makes\", \"nishikawa\", \"really\", \"lot\", \"place\", \"think\", \"make\", \"want\", \"car\", \"like\", \"nice\", \"know\", \"thanks\", \"time\", \"melon\", \"side\", \"photograph\", \"person\", \"mellow\", \"pinch-hitter\", \"una\", \"renovated\", \"spare\", \"plans\", \"throw\", \"north\", \"manufacture\", \"sorts\", \"impulse\", \"filled\", \"carpassion\", \"fruit\", \"joy\", \"spring\", \"finding\", \"jelly\", \"hide-san\", \"expired\", \"named\", \"ago\", \"afectada\", \"avisa\", \"years\", \"dealer\", \"ball\", \"impressed\", \"carrieslifestyle\", \"\\ud835\\udc12\\ud835\\udc1e\\ud835\\udc27\\ud835\\udc1d\", \"actually\", \"agree\", \"happy\", \"hand\", \"sunday\", \"rossa\", \"nishikawa\", \"topolina\", \"like\", \"pretty\", \"long\", \"could\", \"lily\", \"come\", \"already\", \"n't\", \"delicious\", \"post\", \"azaleas\", \"wedding\", \"one\", \"thank\", \"look\", \"really\", \"fiat\", \"good\", \"see\", \"picture\", \"year\", \"ikuchon\", \"take\", \"anniversary\"], \"Freq\": [19.0, 44.0, 15.0, 77.0, 9.0, 34.0, 23.0, 7.0, 8.0, 17.0, 11.0, 23.0, 8.0, 28.0, 7.0, 12.0, 25.0, 22.0, 27.0, 18.0, 7.0, 8.0, 7.0, 20.0, 16.0, 9.0, 8.0, 8.0, 15.0, 9.0, 1.5732664737843265, 1.5732061983897467, 1.573170826250296, 1.5731812951346176, 1.5731343437746292, 1.5731110267140944, 1.5731107094751755, 1.5729593865108884, 1.5729708071119666, 1.568601951341148, 1.4338458378737113, 1.4183723509877828, 2.318374087916961, 2.318427701294245, 1.3424759534248056, 3.0577349190347913, 0.8280825636917106, 0.8280759809841447, 0.8280756637452258, 0.8280680500111737, 0.828064956931715, 0.8280624983300939, 0.8280622604009048, 0.8280686051792816, 0.8280702706836055, 0.8280599604187432, 0.8280622604009048, 0.828064401763607, 0.8280567087198251, 0.8280369605971273, 2.06704678890735, 9.14998381996197, 4.554205781540686, 2.318066683404604, 1.573131964482738, 1.5718579329846725, 1.5732342740340641, 1.5731132473865264, 1.5732920115172933, 1.5730574133368103, 4.661371943475441, 1.573200646708667, 1.5730767649108595, 1.573127840376793, 6.7898924969785, 4.552665269350794, 24.291994104371955, 2.197864381197376, 9.024684598665182, 3.8065504216508392, 3.3238717238731965, 7.0343022427433235, 7.586716082421673, 9.769244975662817, 3.78677438192813, 3.808891327632967, 5.2259309579226985, 3.4363909753244744, 3.126927899623199, 3.0632885035480215, 4.553752764364581, 3.063319275723149, 2.658720530986866, 3.063692031452787, 2.3181272760381026, 4.553695661359189, 3.80841959336065, 3.4495509973947547, 4.53456552007524, 3.0636393697922597, 3.993041858002864, 3.0632250557642533, 3.0631609735026473, 2.335423578335329, 2.335112165623393, 1.5847455249341114, 1.5847546991220243, 1.5847072991511404, 1.5847912684543999, 1.584753297509982, 1.5847866813604432, 1.5844839331593141, 1.584143214013767, 2.335178168808656, 0.8341705537276384, 0.8341523327710889, 0.8341512497072381, 0.8341322642350293, 0.8341300981073275, 0.8341279319796259, 0.8341245553687968, 0.8341199682748403, 0.8341341118145396, 0.8341097747327147, 0.8341192037591809, 0.8341106666676507, 0.8341004094158868, 0.8341136610206501, 0.8341110489254804, 0.834120796500138, 0.8341132787628204, 0.8340788118485083, 0.8340955674833772, 1.5840583527755716, 1.5846397669345587, 1.5845977185732907, 1.5846476669297058, 1.583655962700165, 9.089754803582695, 3.836747575480069, 3.836448395018684, 6.8392046956932475, 2.3355650137323214, 2.3350912688620356, 2.3356057879008234, 3.0859988043803552, 3.0858122625594575, 5.33793039206637, 5.427858840052319, 2.3352798493913585, 2.3350874462837385, 11.465002002617076, 6.088571111619553, 4.586432905297533, 3.836778920622105, 5.4072541236768075, 5.337861075979916, 5.358281798920061, 6.088297924690588, 6.109651356735221, 3.8367903883569965, 2.3354151686630753, 3.085357120903551, 2.3349447366939806, 2.3354735266917444, 3.085663436844424, 2.3526453129179186, 2.3353440687067497, 2.3353249558152642, 1.528953133408549, 1.5288840637628174, 1.5288460200542058, 1.5288111774343447, 1.5288749529717582, 1.5286935989821633, 1.5283311372405697, 1.5271855168242892, 2.2571012210369243, 2.252773841521457, 2.5681638192768514, 0.8047604834065945, 0.8047489717989725, 0.8047279800438972, 0.8047343822213981, 0.80472650261832, 0.8047381989041391, 0.8047210853912038, 0.804711051209159, 0.8046992933639409, 0.8047039103188695, 0.8046970156661761, 0.8047013248241095, 0.8047023713338933, 0.8047103124963705, 0.8047127748723324, 0.8046962153939885, 0.8046863043307417, 0.8046776244554761, 0.8046921524736513, 4.425277674010867, 1.5283722589191335, 1.5287474018969311, 1.5288039134252571, 1.5284334489617872, 1.5288098231275657, 1.528523202565599, 17.45162079368158, 8.213630287060393, 2.9765185853359393, 5.4931978168131135, 1.528781875160398, 1.5285715882532505, 1.528871751883008, 1.5286122174566221, 1.5289552264281168, 1.5287096044259159, 8.01319682356214, 11.670596343155546, 9.495001490121146, 3.701587348705143, 5.873152277240275, 2.97611056963905, 2.97744369998483, 2.2528208729023294, 3.3394065642086717, 2.9773580093013554, 2.253015154365724, 2.985667050747238, 2.391968999797295, 2.2591100273466536, 2.252490175810644, 2.252964921896101, 2.023902028682667, 1.9321183190091054, 1.9960859217477045, 2.2530154006033203, 2.2528405719100246, 1.9121677796092849, 2.241166176063162, 1.520813165777587, 1.5207651655848382, 1.5206625769375908, 1.5203416344723484, 1.5194172778193396, 1.519273747831218, 2.9613547151000534, 2.9608775367133147, 2.2408480571386695, 0.800518155724917, 0.8005278616462449, 0.8005140380613234, 0.8005073909758078, 0.8005183321962138, 0.8005038615498704, 0.8005066262668548, 0.8004930379769957, 0.8004939791572456, 0.8004932144482926, 0.8004936262146519, 0.800507685094636, 0.8004962144603394, 0.8004915085590895, 0.800483920293324, 0.8004696261182775, 0.8004822144041209, 0.8004661555161058, 0.8004663319874026, 0.8004800967485585, 1.520867401289492, 2.2407927627989834, 1.520580811903374, 10.164059638171635, 1.520851283577711, 1.520657988683872, 3.6819020791072483, 2.9615890689822977, 2.241169940784162, 2.241336529688408, 2.241166176063162, 2.9613344797246786, 2.1798755770043945, 4.402359325105508, 4.40250473745413, 1.520733753693995, 1.5207669302978069, 5.842190518634304, 3.6819881971001216, 2.241352059162532, 2.9615067157104247, 6.445956237224324, 3.393895510827778, 5.843800407451891, 3.681870314273812, 2.9616142455539847, 2.961477774417738, 3.681768196216689, 3.2231635311214077, 2.240395114143368, 2.2412765294474717, 2.2412715882511596, 2.2410873522172263, 2.241399588765156, 2.241396529929344, 2.2412417057782226, 2.2412212351077856, 2.2411868820286616, 1.5347505699124853, 1.5346258947781826, 1.3833577321183503, 2.261797615871422, 0.8078950369606529, 0.8078829805862573, 0.8078885920784875, 0.8078699797032686, 0.8078734243816673, 0.8078661461095666, 0.8078591456341112, 0.8078614791259296, 0.8078510895314045, 0.8078403110215762, 0.8078379775297576, 0.8078219208836731, 0.8078313659696051, 0.8078269767826133, 0.8078339772580687, 0.8078554787183964, 0.8078203096631318, 0.8078270323419423, 0.8078249766467688, 0.8078037529830863, 0.807816809425404, 0.8078251433247559, 0.8078230876295824, 0.8078019750845579, 0.8077948634904444, 0.8078193095952096, 0.8078161427134559, 2.989003894867307, 2.9879100427977194, 1.5349613620067568, 1.534729790723435, 1.8039526312488585, 12.17317521732008, 2.988596089392359, 2.9879387114114895, 2.2615713782836853, 2.9884125213693036, 1.5346806762765883, 8.801354211321277, 2.9868904179916913, 1.534814240903533, 1.5346120049459295, 1.5346454516619947, 2.2617765033263977, 5.16974000523562, 4.098313458735544, 2.9889781153386457, 1.5349130253905163, 1.5347039000761153, 1.534776682797121, 1.5349053582031127, 4.442765741997689, 1.3650712679233217, 3.715943266846619, 3.715953712000473, 5.8959511055302425, 2.261481594408002, 2.988988338255184, 4.443242663277927, 3.2928447532321727, 2.534773933546237, 2.552049995783854, 2.5044518741446593, 2.2609697818691434, 1.9462308499999204, 2.628856323396594, 1.9107275498120018, 1.9335202089458758, 1.4907752345744987, 1.490600161358361, 1.4906283883449027, 1.4906387126123537, 1.4906845128200885, 1.4905563381380105, 1.490556997133805, 1.4904906582238007, 1.4904310191043761, 1.490485496090075, 1.4903977398167414, 1.490405318268381, 1.490352269106904, 1.4891381791877158, 1.4889900149665305, 2.196514040372926, 2.9028676892478518, 3.248559309950686, 0.7845980867399326, 0.7846095093337082, 0.7845940229325317, 0.7845903435393443, 0.7846078618442214, 0.7845722211549888, 0.7845598649838373, 0.7845726604855187, 0.7845434450052848, 0.7845419073484304, 0.7845758456318599, 0.784566509858101, 1.490608069307898, 1.4906140002700508, 1.4904694605257363, 1.4902473789429067, 4.014327800014693, 3.609741944800627, 2.196402450418349, 2.196534908573093, 7.844308116406994, 4.314677434725258, 2.409821972856515, 2.1955795843359756, 14.198458037968638, 3.608993764908325, 3.8368958182623705, 2.5715037354491312, 3.4861995638289662, 2.9500950622088915, 3.608936212608917, 2.196735243294696, 4.31508952676224, 2.9253231906191046, 3.092226835889292, 3.609261536866257, 3.608437352792294, 2.9026682331873084, 2.102955528731702, 2.196454511086134, 2.1962763625562873, 2.901361444526326, 2.1967587474780417, 2.1965570947648496, 2.1963692809633466, 6.961299414521445, 6.272479775731781, 1.4538531455696426, 1.453743868896382, 1.4536846288799, 1.453690658667292, 1.4535245750496546, 1.4535024658292177, 1.453487655825097, 1.4534100090892081, 1.4528866870150354, 1.4523382937196017, 1.433031337633639, 1.3844817110544934, 0.7652372501223789, 0.7652282583341629, 0.7652296864417031, 0.7651951473963792, 0.765187742394319, 0.7651724034614799, 0.7651953589678666, 0.7651694414606557, 0.7651630414231608, 0.7651554777424849, 0.7651725621400954, 0.7651548430280226, 0.7651495537408367, 0.765150558705402, 0.7651471735616031, 0.7651199866254675, 0.7651284494849651, 1.453873985361155, 1.4535088129738407, 1.453418683520193, 1.0968859236810278, 3.5196256182476504, 4.2082804428486025, 2.0802430103469294, 1.4533820816528666, 1.4532992514155354, 1.4532319716825308, 5.241339585985713, 2.142187968295848, 2.7698598505012524, 2.8307260054357353, 2.141971530664201, 2.247997408020388, 6.9617987232317935, 2.831032149378055, 2.9840819055317436, 2.2619050597469865, 3.519476460349008, 2.9430814669815417, 4.896165358806775, 2.830727698007635, 3.1530596095455565, 2.142570489545132, 2.1423261244771434, 2.066330915619095, 2.4694179713393978, 1.7842422282778418, 2.1425931276942873, 2.1424403730803587, 2.0754655145891396, 2.142352147770098, 1.8964271632047751, 2.0562478416708747, 2.185825132463243, 2.1853399321197586, 5.698558293780972, 1.4832751595420024, 1.483054796880818, 1.4830560043474548, 1.4815898379839314, 2.3363881722729367, 4.99576562006577, 2.1860982211675597, 0.7807674479530436, 0.7807524552423055, 0.7807221176430603, 0.7807330351538998, 0.7807363556871505, 0.780712558532187, 0.7807108982655617, 0.7807102945322434, 0.7807047603101588, 0.7806985720436461, 0.7807032509768631, 0.780692182532694, 0.7806780451108235, 0.7806823215551615, 0.7806751270664516, 0.7806946980881869, 0.7806824221773813, 0.780696458977032, 0.7806761835997587, 0.7806791519552404, 5.697905456819436, 2.1855216558485706, 7.803948639978688, 2.8880835021917384, 3.5906789563562915, 3.5884733173000547, 1.965989127976993, 2.1859597649932265, 2.185912472549959, 4.293961459037085, 1.4831672925224637, 1.4831633682558947, 1.4833410670959182, 7.753587621498287, 2.8885218125808336, 1.2228221910884853, 8.907313943016922, 2.1858780597508147, 1.4832111638102612, 1.4829492441723329, 3.5828320331737378, 2.1858553191291583, 2.185881480906285, 2.1812536637769764, 2.1798986849662425, 2.185494689093686, 2.888244497743288, 2.881838484747108, 2.8887065549762374, 2.18560778846865, 2.1858355971740937, 2.185514411048751, 16.388654968668714, 2.206107056150184, 2.20596612266275, 1.4969759881782683, 1.4233980367846757, 0.787947159472305, 0.7879381228094, 0.7879365846540118, 0.7879193284732516, 0.7879217799084015, 0.7879162040951196, 0.7879287016076478, 0.787913271986411, 0.7879201936856575, 0.7879044756602854, 0.7879084171834674, 0.787941679793735, 0.7879087055876026, 0.7878992843858506, 0.7879118780330906, 0.7879085133181791, 0.7878910168006396, 0.7879018319557122, 0.7878818840030228, 0.7878976020283949, 0.7878778944124849, 0.7878705401070356, 0.7878688577495798, 0.7878642913507715, 0.7878647239569744, 2.2061539698895207, 1.1584007811354404, 1.495364385870393, 1.4966930637215707, 1.4970751030660885, 1.4967082530060283, 7.16813327376922, 1.496321310791211, 2.205406618640331, 2.5904290232638623, 1.497043474745921, 2.5392478640721654, 4.353351981908802, 2.2057969255700596, 1.4457521451745516, 2.206015920443439, 1.496409081783044, 1.8819863759628304, 1.4970467433261205, 4.333230602199455, 1.434619841687936, 1.5023423239231914, 1.4968302479552464, 1.4967592044032587, 2.511055013963798, 3.6249096614435063, 2.2056804102994114, 2.214258126090539, 2.9223831443039296, 2.206478328406985, 2.2060134209409337, 1.4972141138592876, 1.4971030782672095, 1.4970632784965425, 1.4970487621550674, 1.4970325153887807], \"Total\": [19.0, 44.0, 15.0, 77.0, 9.0, 34.0, 23.0, 7.0, 8.0, 17.0, 11.0, 23.0, 8.0, 28.0, 7.0, 12.0, 25.0, 22.0, 27.0, 18.0, 7.0, 8.0, 7.0, 20.0, 16.0, 9.0, 8.0, 8.0, 15.0, 9.0, 2.210093459927468, 2.210050331936471, 2.2100192231311695, 2.210040840888094, 2.2099923014882963, 2.2099815436179124, 2.210009973659211, 2.209943597218872, 2.2099855997758198, 2.2098842476030165, 2.2060756949536713, 2.205609931874962, 3.6614046114867618, 3.679480066970156, 2.2056548006506627, 5.153455911223327, 1.4648603842854937, 1.4648532423130336, 1.464858496812872, 1.4648459500731428, 1.4648416445633172, 1.4648406127556435, 1.4648412966227886, 1.4648543187329133, 1.4648575910202857, 1.4648467888561583, 1.464853612832945, 1.4648583610082573, 1.4648479284190314, 1.464816295431157, 3.698920772964662, 16.90650105601336, 8.72734950958183, 4.3780604545450155, 2.898573788251228, 2.898144402017305, 2.9126881050746234, 2.9160173791689847, 2.9191058301347406, 2.919006339994835, 9.410499804980319, 2.930377862926563, 2.9303069682186154, 2.934185385720358, 15.965531411880754, 10.200138124892232, 77.9739815616588, 4.3910963147729785, 25.424164710033473, 9.36043296892025, 8.109016661563617, 25.33525612936171, 28.309917951871025, 59.44946516795233, 12.366666836060928, 12.920970144612959, 26.198299796387495, 12.355934641860125, 10.118199584288275, 10.193996264605326, 26.13160020379172, 10.925188533484436, 7.950969069585807, 11.599416923685187, 5.813562745412947, 34.70795080394444, 23.25309143846628, 17.608705286934725, 44.366141711244836, 13.862595484991644, 43.97187506798509, 17.872664246969062, 18.093728458856138, 2.971767113113237, 2.971502114501335, 2.2209544786407425, 2.22097290232418, 2.220917692340347, 2.2210360428649385, 2.220991229704837, 2.2210409500435127, 2.221018416716076, 2.2207558667548097, 3.6740881600306614, 1.4703467031979498, 1.4703289094147824, 1.4703289306724476, 1.470311197530647, 1.4703083555044678, 1.4703064682074045, 1.4703072309594925, 1.47030278469293, 1.470330967197911, 1.4702923885221848, 1.4703100354397711, 1.4702977610210142, 1.4702810155542436, 1.4703045628584164, 1.470300240362294, 1.47031843457466, 1.4703104148001038, 1.4702632565757396, 1.4702956241438419, 2.9231801108301245, 2.945116952490953, 2.947883677016375, 2.947987788655012, 2.9654500069402205, 22.602685177033173, 8.75911396353935, 8.818105810122477, 18.283201702105213, 5.101189597916287, 5.110652700737257, 5.1286798631539625, 7.336733622197989, 8.109016661563617, 16.819525603737105, 17.608705286934725, 5.834011058030207, 5.867038970119181, 59.44946516795233, 27.495146988123643, 18.093728458856138, 13.847117230652122, 26.198299796387495, 26.13160020379172, 28.309917951871025, 43.97187506798509, 44.366141711244836, 25.424164710033473, 6.449287917931044, 14.472466435801353, 6.54545746190683, 7.233122324062366, 19.448237340877498, 16.90650105601336, 15.161520447825477, 13.862595484991644, 2.1680868359505214, 2.1680319053836263, 2.168025770392774, 2.1679843900163585, 2.168082621661383, 2.167909796165981, 2.1678805957553213, 2.1675264951224125, 3.6428333597131615, 3.637709388238889, 4.284423293027666, 1.4438770023328198, 1.443869021011491, 1.4438439790743463, 1.4438560844497166, 1.4438424974334643, 1.4438762133212764, 1.443853057323137, 1.4438386205193094, 1.4438184912376422, 1.4438305762594543, 1.4438187322451694, 1.4438265990601553, 1.4438306861222756, 1.4438460954210286, 1.4438520740841014, 1.4438302490301027, 1.4438136836669884, 1.443798699081683, 1.4438261307004936, 8.818105810122477, 2.8565319701123633, 2.860280503800239, 2.870610802119808, 2.870302752025773, 2.9132876073377925, 2.918609159699304, 44.366141711244836, 23.550008628632664, 7.936311078104179, 20.83526507580154, 3.590983740583726, 3.604164648029522, 3.6088154248766005, 3.6112242402946104, 3.6220771899801805, 3.6693458334878497, 43.97187506798509, 77.9739815616588, 59.44946516795233, 15.75235408788979, 34.70795080394444, 11.357996208405714, 11.597475215241582, 7.194524028689587, 23.25309143846628, 17.608705286934725, 8.706661717948064, 27.495146988123643, 13.847117230652122, 12.355934641860125, 14.472466435801353, 15.161520447825477, 10.816346405014928, 8.612546354335349, 10.801361936329368, 25.424164710033473, 26.13160020379172, 10.770283381360038, 2.8809025962712873, 2.1604344829113318, 2.1604048407214784, 2.160408049178014, 2.160175569374111, 2.160006907988163, 2.1599161441459493, 4.289707989547222, 4.289445115054193, 3.631191103742456, 1.4400608836667177, 1.4400825547217466, 1.4400589330108238, 1.4400516375441295, 1.4400745996764823, 1.4400493080605916, 1.4400643105196531, 1.4400399599323694, 1.4400432434870625, 1.4400425027683565, 1.4400438655589531, 1.4400702712649627, 1.4400515921690198, 1.440048221800027, 1.4400373303307092, 1.4400176032578473, 1.4400425399877348, 1.440014446412991, 1.4400157254458616, 1.4400407314352135, 2.8631124025483192, 4.353003022584748, 2.869321809128561, 23.25309143846628, 2.905512751525217, 2.9108947532053717, 7.938737496338854, 7.937495843517726, 5.7673175246228725, 5.800500846341966, 5.800231515719574, 8.612546354335349, 5.711135638829552, 15.75235408788979, 15.965531411880754, 3.5898049153330125, 3.6088154248766005, 26.13160020379172, 15.161520447825477, 7.178131286621719, 11.599416923685187, 59.44946516795233, 19.448237340877498, 77.9739815616588, 27.495146988123643, 17.608705286934725, 18.651525667273123, 43.97187506798509, 34.70795080394444, 9.286164452490178, 9.389948390540235, 10.801361936329368, 12.355934641860125, 18.283201702105213, 13.862595484991644, 26.198299796387495, 13.601212626893167, 16.819525603737105, 2.1736594308965405, 2.173612051902147, 2.169322276531351, 3.6097812630992214, 1.4467073251292049, 1.4466981843291902, 1.4467096697578965, 1.4466765756602915, 1.4466914791917052, 1.44668839783256, 1.4466800363359804, 1.4466876506079167, 1.446671692489137, 1.4466637531203046, 1.446663232240916, 1.446634500195258, 1.4466542455448785, 1.4466480072575452, 1.4466626467886994, 1.4467048316301274, 1.4466457875550862, 1.4466578718058247, 1.4466566049594922, 1.4466247913438204, 1.4466481816732475, 1.4466642208566223, 1.4466608524818996, 1.4466266855196401, 1.446621990450599, 1.4466658582318384, 1.4466609978423486, 5.746682335344485, 5.763817840569708, 2.896687673177436, 2.91874561772296, 3.638127784280969, 34.70795080394444, 7.195584442811852, 7.936311078104179, 5.785338750433478, 8.661569271109101, 3.550729102663179, 44.366141711244836, 9.389948390540235, 3.6212538827931997, 3.6220771899801805, 3.66407701254284, 7.194524028689587, 26.198299796387495, 18.283201702105213, 11.597475215241582, 4.303244899125871, 4.329067520957264, 4.343176046959301, 4.352705412437863, 28.309917951871025, 3.5847957349687363, 20.83526507580154, 22.602685177033173, 59.44946516795233, 9.50874262956358, 16.819525603737105, 43.97187506798509, 25.33525612936171, 13.862595484991644, 19.448237340877498, 18.651525667273123, 17.872664246969062, 10.193996264605326, 77.9739815616588, 10.82309433967724, 23.25309143846628, 2.131915066093583, 2.1317572019554274, 2.131808228191979, 2.131843904436436, 2.131914378265285, 2.131780855223451, 2.1317943792974376, 2.1317434355116887, 2.1317029342758147, 2.1317890654467244, 2.131684144868673, 2.131744407083103, 2.1317409743564664, 2.131340561937791, 2.1312747807253873, 3.562141418389042, 4.995319396621505, 5.7043349406778265, 1.4257279801871054, 1.425752211067768, 1.4257256800849347, 1.4257194262132706, 1.4257582490152119, 1.4257024258843334, 1.4256924679375018, 1.425721333664913, 1.4256730787801597, 1.425675825744314, 1.425738735651952, 1.4257251093678298, 2.834470613009403, 2.8408071546709923, 2.8560707832220427, 2.8586230319784405, 9.199486563161033, 8.691319435047586, 4.975590888874557, 5.006650304095245, 25.33525612936171, 12.789020898919029, 6.4450916525089275, 5.787557290774007, 77.9739815616588, 12.248906614033016, 13.601212626893167, 7.2095074528288485, 15.161520447825477, 10.801361936329368, 26.13160020379172, 6.491795771900023, 59.44946516795233, 18.651525667273123, 23.550008628632664, 43.97187506798509, 44.366141711244836, 22.602685177033173, 7.178131286621719, 8.72734950958183, 8.75911396353935, 26.198299796387495, 11.599416923685187, 14.472466435801353, 19.448237340877498, 9.0392286500694, 8.35023700000817, 2.096962450027516, 2.096868482729418, 2.0968059929751184, 2.0968524761530487, 2.0968401852243574, 2.096873333201875, 2.096858521915887, 2.0968084809811094, 2.096689532367407, 2.096502718510061, 2.098630427318429, 2.100390163617167, 1.408312373334905, 1.4083037049915994, 1.4083120105455673, 1.4082766323487514, 1.4082678963845943, 1.4082523117050865, 1.4082961417962765, 1.4082516844354174, 1.4082455863647116, 1.4082395831646055, 1.408274479234136, 1.4082487317177896, 1.4082392570071642, 1.4082419454637471, 1.4082524570577237, 1.4082070036589955, 1.4082230056108354, 2.7995212747436216, 2.821341688068052, 2.8419374180523476, 2.1041239360974733, 9.164985656844246, 12.789020898919029, 5.693249497646111, 3.522922158525545, 3.5439560623077258, 3.550729102663179, 23.550008628632664, 6.449287917931044, 10.82309433967724, 12.183181049876818, 7.862303029972377, 8.56192537532421, 59.44946516795233, 12.920970144612959, 15.75235408788979, 9.36043296892025, 25.424164710033473, 18.093728458856138, 77.9739815616588, 18.651525667273123, 28.309917951871025, 9.286164452490178, 10.041080172422378, 12.264537438795445, 34.70795080394444, 6.378340120608408, 20.83526507580154, 22.602685177033173, 19.448237340877498, 26.198299796387495, 13.601212626893167, 43.97187506798509, 2.8275518096413625, 2.827215740265489, 7.781459780219209, 2.1248518171342656, 2.124776224232521, 2.124859660715013, 2.1242992073826015, 3.5469683330575874, 7.770343119968381, 3.5334353617634036, 1.4222885749622556, 1.4222753689315395, 1.4222549902472084, 1.42227643482049, 1.4222832060984771, 1.422241928443367, 1.4222446120627976, 1.422247995509743, 1.422244066108774, 1.4222344401902036, 1.4222455668334764, 1.4222287907739144, 1.422203960140804, 1.4222146072417947, 1.4222018818300282, 1.4222394281862527, 1.4222195019500166, 1.422245292581157, 1.4222095960956316, 1.4222161995644, 11.357996208405714, 4.263488636451155, 17.872664246969062, 6.381281793727531, 8.534696037387356, 8.617781561102097, 4.332686748077894, 5.052440720131458, 5.813562745412947, 15.965531411880754, 3.5337534407920463, 3.5585837172703996, 3.576106461186843, 43.97187506798509, 10.732170227579015, 2.8546364532330974, 77.9739815616588, 7.937495843517726, 4.26020162991023, 4.269851300972993, 20.83526507580154, 8.56192537532421, 8.568580687205996, 8.65140884797414, 9.164985656844246, 10.041080172422378, 25.424164710033473, 28.309917951871025, 34.70795080394444, 10.816346405014928, 12.183181049876818, 13.847117230652122, 19.187955385151632, 2.846997609133278, 2.846937893785828, 2.1378440759404214, 2.1416640766008577, 1.428746122883993, 1.4287383435779182, 1.4287407183862493, 1.4287204288875048, 1.4287254073414486, 1.4287174269395524, 1.428742605233286, 1.4287172543049018, 1.4287311730744277, 1.4287123129079875, 1.4287195409893954, 1.4287803929471177, 1.4287206517127644, 1.4287119228934901, 1.4287362948349247, 1.428731170195006, 1.4287044528955124, 1.4287261099158857, 1.4286910230894359, 1.4287226776986992, 1.428691235201016, 1.4286783546096506, 1.4286759285356174, 1.4286705759506955, 1.4286763854515856, 4.280687547059227, 2.155005978774464, 2.8575776826335066, 2.864665506726257, 2.8831385584113463, 2.882934803708407, 27.495146988123643, 3.5285483743134263, 7.195584442811852, 10.770429436361736, 4.269851300972993, 10.770283381360038, 28.309917951871025, 9.389948390540235, 4.333983734926676, 10.118199584288275, 4.998061441713949, 7.950969069585807, 5.069145620685979, 43.97187506798509, 4.965808973805108, 5.683009901607951, 5.800231515719574, 5.800500846341966, 19.448237340877498, 77.9739815616588, 18.651525667273123, 20.83526507580154, 59.44946516795233, 23.550008628632664, 26.13160020379172, 14.472466435801353, 26.198299796387495, 6.491795771900023, 10.732170227579015, 7.938737496338854], \"Category\": [\"Default\", \"Default\", \"Default\", \"Default\", \"Default\", \"Default\", \"Default\", \"Default\", \"Default\", \"Default\", \"Default\", \"Default\", \"Default\", \"Default\", \"Default\", \"Default\", \"Default\", \"Default\", \"Default\", \"Default\", \"Default\", \"Default\", \"Default\", \"Default\", \"Default\", \"Default\", \"Default\", \"Default\", \"Default\", \"Default\", \"Topic1\", \"Topic1\", \"Topic1\", \"Topic1\", \"Topic1\", \"Topic1\", \"Topic1\", \"Topic1\", \"Topic1\", \"Topic1\", \"Topic1\", \"Topic1\", \"Topic1\", \"Topic1\", \"Topic1\", \"Topic1\", \"Topic1\", \"Topic1\", \"Topic1\", \"Topic1\", \"Topic1\", \"Topic1\", \"Topic1\", \"Topic1\", \"Topic1\", \"Topic1\", \"Topic1\", \"Topic1\", \"Topic1\", \"Topic1\", \"Topic1\", \"Topic1\", \"Topic1\", \"Topic1\", \"Topic1\", \"Topic1\", \"Topic1\", \"Topic1\", \"Topic1\", \"Topic1\", \"Topic1\", \"Topic1\", \"Topic1\", \"Topic1\", \"Topic1\", \"Topic1\", \"Topic1\", \"Topic1\", \"Topic1\", \"Topic1\", \"Topic1\", \"Topic1\", \"Topic1\", \"Topic1\", \"Topic1\", \"Topic1\", \"Topic1\", \"Topic1\", \"Topic1\", \"Topic1\", \"Topic1\", \"Topic1\", \"Topic1\", \"Topic1\", \"Topic1\", \"Topic1\", \"Topic1\", \"Topic1\", \"Topic1\", \"Topic1\", \"Topic1\", \"Topic1\", \"Topic1\", \"Topic2\", \"Topic2\", \"Topic2\", \"Topic2\", \"Topic2\", \"Topic2\", \"Topic2\", \"Topic2\", \"Topic2\", \"Topic2\", \"Topic2\", \"Topic2\", \"Topic2\", \"Topic2\", \"Topic2\", \"Topic2\", \"Topic2\", \"Topic2\", \"Topic2\", \"Topic2\", \"Topic2\", \"Topic2\", \"Topic2\", \"Topic2\", \"Topic2\", \"Topic2\", \"Topic2\", \"Topic2\", \"Topic2\", \"Topic2\", \"Topic2\", \"Topic2\", \"Topic2\", \"Topic2\", \"Topic2\", \"Topic2\", \"Topic2\", \"Topic2\", \"Topic2\", \"Topic2\", \"Topic2\", \"Topic2\", \"Topic2\", \"Topic2\", \"Topic2\", \"Topic2\", \"Topic2\", \"Topic2\", \"Topic2\", \"Topic2\", \"Topic2\", \"Topic2\", \"Topic2\", \"Topic2\", \"Topic2\", \"Topic2\", \"Topic2\", \"Topic2\", \"Topic2\", \"Topic2\", \"Topic2\", \"Topic2\", \"Topic2\", \"Topic2\", \"Topic2\", \"Topic2\", \"Topic3\", \"Topic3\", \"Topic3\", \"Topic3\", \"Topic3\", \"Topic3\", \"Topic3\", \"Topic3\", \"Topic3\", \"Topic3\", \"Topic3\", \"Topic3\", \"Topic3\", \"Topic3\", \"Topic3\", \"Topic3\", \"Topic3\", \"Topic3\", \"Topic3\", \"Topic3\", \"Topic3\", \"Topic3\", \"Topic3\", \"Topic3\", \"Topic3\", \"Topic3\", \"Topic3\", \"Topic3\", \"Topic3\", \"Topic3\", \"Topic3\", \"Topic3\", \"Topic3\", \"Topic3\", \"Topic3\", \"Topic3\", \"Topic3\", \"Topic3\", \"Topic3\", \"Topic3\", \"Topic3\", \"Topic3\", \"Topic3\", \"Topic3\", \"Topic3\", \"Topic3\", \"Topic3\", \"Topic3\", \"Topic3\", \"Topic3\", \"Topic3\", \"Topic3\", \"Topic3\", \"Topic3\", \"Topic3\", \"Topic3\", \"Topic3\", \"Topic3\", \"Topic3\", \"Topic3\", \"Topic3\", \"Topic3\", \"Topic3\", \"Topic3\", \"Topic3\", \"Topic3\", \"Topic3\", \"Topic3\", \"Topic3\", \"Topic4\", \"Topic4\", \"Topic4\", \"Topic4\", \"Topic4\", \"Topic4\", \"Topic4\", \"Topic4\", \"Topic4\", \"Topic4\", \"Topic4\", \"Topic4\", \"Topic4\", \"Topic4\", \"Topic4\", \"Topic4\", \"Topic4\", \"Topic4\", \"Topic4\", \"Topic4\", \"Topic4\", \"Topic4\", \"Topic4\", \"Topic4\", \"Topic4\", \"Topic4\", \"Topic4\", \"Topic4\", \"Topic4\", \"Topic4\", \"Topic4\", \"Topic4\", \"Topic4\", \"Topic4\", \"Topic4\", \"Topic4\", \"Topic4\", \"Topic4\", \"Topic4\", \"Topic4\", \"Topic4\", \"Topic4\", \"Topic4\", \"Topic4\", \"Topic4\", \"Topic4\", \"Topic4\", \"Topic4\", \"Topic4\", \"Topic4\", \"Topic4\", \"Topic4\", \"Topic4\", \"Topic4\", \"Topic4\", \"Topic4\", \"Topic4\", \"Topic4\", \"Topic4\", \"Topic4\", \"Topic4\", \"Topic4\", \"Topic4\", \"Topic4\", \"Topic4\", \"Topic4\", \"Topic4\", \"Topic4\", \"Topic5\", \"Topic5\", \"Topic5\", \"Topic5\", \"Topic5\", \"Topic5\", \"Topic5\", \"Topic5\", \"Topic5\", \"Topic5\", \"Topic5\", \"Topic5\", \"Topic5\", \"Topic5\", \"Topic5\", \"Topic5\", \"Topic5\", \"Topic5\", \"Topic5\", \"Topic5\", \"Topic5\", \"Topic5\", \"Topic5\", \"Topic5\", \"Topic5\", \"Topic5\", \"Topic5\", \"Topic5\", \"Topic5\", \"Topic5\", \"Topic5\", \"Topic5\", \"Topic5\", \"Topic5\", \"Topic5\", \"Topic5\", \"Topic5\", \"Topic5\", \"Topic5\", \"Topic5\", \"Topic5\", \"Topic5\", \"Topic5\", \"Topic5\", \"Topic5\", \"Topic5\", \"Topic5\", \"Topic5\", \"Topic5\", \"Topic5\", \"Topic5\", \"Topic5\", \"Topic5\", \"Topic5\", \"Topic5\", \"Topic5\", \"Topic5\", \"Topic5\", \"Topic5\", \"Topic5\", \"Topic5\", \"Topic5\", \"Topic5\", \"Topic5\", \"Topic5\", \"Topic5\", \"Topic5\", \"Topic5\", \"Topic5\", \"Topic5\", \"Topic5\", \"Topic5\", \"Topic6\", \"Topic6\", \"Topic6\", \"Topic6\", \"Topic6\", \"Topic6\", \"Topic6\", \"Topic6\", \"Topic6\", \"Topic6\", \"Topic6\", \"Topic6\", \"Topic6\", \"Topic6\", \"Topic6\", \"Topic6\", \"Topic6\", \"Topic6\", \"Topic6\", \"Topic6\", \"Topic6\", \"Topic6\", \"Topic6\", \"Topic6\", \"Topic6\", \"Topic6\", \"Topic6\", \"Topic6\", \"Topic6\", \"Topic6\", \"Topic6\", \"Topic6\", \"Topic6\", \"Topic6\", \"Topic6\", \"Topic6\", \"Topic6\", \"Topic6\", \"Topic6\", \"Topic6\", \"Topic6\", \"Topic6\", \"Topic6\", \"Topic6\", \"Topic6\", \"Topic6\", \"Topic6\", \"Topic6\", \"Topic6\", \"Topic6\", \"Topic6\", \"Topic6\", \"Topic6\", \"Topic6\", \"Topic6\", \"Topic6\", \"Topic6\", \"Topic6\", \"Topic6\", \"Topic6\", \"Topic6\", \"Topic6\", \"Topic6\", \"Topic7\", \"Topic7\", \"Topic7\", \"Topic7\", \"Topic7\", \"Topic7\", \"Topic7\", \"Topic7\", \"Topic7\", \"Topic7\", \"Topic7\", \"Topic7\", \"Topic7\", \"Topic7\", \"Topic7\", \"Topic7\", \"Topic7\", \"Topic7\", \"Topic7\", \"Topic7\", \"Topic7\", \"Topic7\", \"Topic7\", \"Topic7\", \"Topic7\", \"Topic7\", \"Topic7\", \"Topic7\", \"Topic7\", \"Topic7\", \"Topic7\", \"Topic7\", \"Topic7\", \"Topic7\", \"Topic7\", \"Topic7\", \"Topic7\", \"Topic7\", \"Topic7\", \"Topic7\", \"Topic7\", \"Topic7\", \"Topic7\", \"Topic7\", \"Topic7\", \"Topic7\", \"Topic7\", \"Topic7\", \"Topic7\", \"Topic7\", \"Topic7\", \"Topic7\", \"Topic7\", \"Topic7\", \"Topic7\", \"Topic7\", \"Topic7\", \"Topic7\", \"Topic7\", \"Topic7\", \"Topic7\", \"Topic7\", \"Topic7\", \"Topic7\", \"Topic7\", \"Topic7\", \"Topic7\", \"Topic8\", \"Topic8\", \"Topic8\", \"Topic8\", \"Topic8\", \"Topic8\", \"Topic8\", \"Topic8\", \"Topic8\", \"Topic8\", \"Topic8\", \"Topic8\", \"Topic8\", \"Topic8\", \"Topic8\", \"Topic8\", \"Topic8\", \"Topic8\", \"Topic8\", \"Topic8\", \"Topic8\", \"Topic8\", \"Topic8\", \"Topic8\", \"Topic8\", \"Topic8\", \"Topic8\", \"Topic8\", \"Topic8\", \"Topic8\", \"Topic8\", \"Topic8\", \"Topic8\", \"Topic8\", \"Topic8\", \"Topic8\", \"Topic8\", \"Topic8\", \"Topic8\", \"Topic8\", \"Topic8\", \"Topic8\", \"Topic8\", \"Topic8\", \"Topic8\", \"Topic8\", \"Topic8\", \"Topic8\", \"Topic8\", \"Topic8\", \"Topic8\", \"Topic8\", \"Topic8\", \"Topic8\", \"Topic8\", \"Topic8\", \"Topic8\", \"Topic8\", \"Topic8\", \"Topic8\", \"Topic8\", \"Topic8\", \"Topic9\", \"Topic9\", \"Topic9\", \"Topic9\", \"Topic9\", \"Topic9\", \"Topic9\", \"Topic9\", \"Topic9\", \"Topic9\", \"Topic9\", \"Topic9\", \"Topic9\", \"Topic9\", \"Topic9\", \"Topic9\", \"Topic9\", \"Topic9\", \"Topic9\", \"Topic9\", \"Topic9\", \"Topic9\", \"Topic9\", \"Topic9\", \"Topic9\", \"Topic9\", \"Topic9\", \"Topic9\", \"Topic9\", \"Topic9\", \"Topic9\", \"Topic9\", \"Topic9\", \"Topic9\", \"Topic9\", \"Topic9\", \"Topic9\", \"Topic9\", \"Topic9\", \"Topic9\", \"Topic9\", \"Topic9\", \"Topic9\", \"Topic9\", \"Topic9\", \"Topic9\", \"Topic9\", \"Topic9\", \"Topic9\", \"Topic9\", \"Topic9\", \"Topic9\", \"Topic9\", \"Topic9\", \"Topic9\", \"Topic9\", \"Topic9\", \"Topic9\", \"Topic9\", \"Topic9\", \"Topic9\", \"Topic9\", \"Topic9\", \"Topic9\", \"Topic9\", \"Topic9\"], \"logprob\": [30.0, 29.0, 28.0, 27.0, 26.0, 25.0, 24.0, 23.0, 22.0, 21.0, 20.0, 19.0, 18.0, 17.0, 16.0, 15.0, 14.0, 13.0, 12.0, 11.0, 10.0, 9.0, 8.0, 7.0, 6.0, 5.0, 4.0, 3.0, 2.0, 1.0, -6.0708, -6.0708, -6.0709, -6.0709, -6.0709, -6.0709, -6.0709, -6.071, -6.071, -6.0738, -6.1636, -6.1744, -5.6831, -5.6831, -6.2294, -5.4063, -6.7126, -6.7126, -6.7126, -6.7126, -6.7126, -6.7126, -6.7126, -6.7126, -6.7126, -6.7126, -6.7126, -6.7126, -6.7126, -6.7126, -5.7978, -4.3102, -5.0079, -5.6832, -6.0709, -6.0717, -6.0708, -6.0709, -6.0708, -6.0709, -4.9846, -6.0708, -6.0709, -6.0709, -4.6085, -5.0082, -3.3338, -5.7365, -4.324, -5.1872, -5.3228, -4.5732, -4.4976, -4.2447, -5.1924, -5.1866, -4.8703, -5.2895, -5.3839, -5.4045, -5.008, -5.4045, -5.5461, -5.4043, -5.6832, -5.008, -5.1867, -5.2857, -5.0122, -5.4043, -5.1394, -5.4045, -5.4045, -5.4567, -5.4569, -5.8445, -5.8445, -5.8445, -5.8445, -5.8445, -5.8445, -5.8447, -5.8449, -5.4568, -6.4862, -6.4863, -6.4863, -6.4863, -6.4863, -6.4863, -6.4863, -6.4863, -6.4863, -6.4863, -6.4863, -6.4863, -6.4863, -6.4863, -6.4863, -6.4863, -6.4863, -6.4864, -6.4863, -5.8449, -5.8446, -5.8446, -5.8446, -5.8452, -4.0978, -4.9603, -4.9604, -4.3823, -5.4567, -5.4569, -5.4567, -5.1781, -5.1781, -4.6301, -4.6134, -5.4568, -5.4569, -3.8656, -4.4985, -4.7818, -4.9603, -4.6172, -4.6301, -4.6263, -4.4986, -4.4951, -4.9603, -5.4567, -5.1783, -5.4569, -5.4567, -5.1782, -5.4494, -5.4568, -5.4568, -5.846, -5.8461, -5.8461, -5.8461, -5.8461, -5.8462, -5.8464, -5.8472, -5.4565, -5.4584, -5.3274, -6.4878, -6.4878, -6.4878, -6.4878, -6.4878, -6.4878, -6.4879, -6.4879, -6.4879, -6.4879, -6.4879, -6.4879, -6.4879, -6.4879, -6.4879, -6.4879, -6.4879, -6.4879, -6.4879, -4.7833, -5.8464, -5.8461, -5.8461, -5.8464, -5.8461, -5.8463, -3.4112, -4.1648, -5.1798, -4.5671, -5.8461, -5.8463, -5.8461, -5.8462, -5.846, -5.8462, -4.1895, -3.8135, -4.0198, -4.9618, -4.5002, -5.18, -5.1795, -5.4584, -5.0648, -5.1796, -5.4583, -5.1768, -5.3985, -5.4556, -5.4586, -5.4583, -5.5656, -5.612, -5.5794, -5.4583, -5.4584, -5.6224, -5.4181, -5.8059, -5.8059, -5.806, -5.8062, -5.8068, -5.8069, -5.1395, -5.1397, -5.4183, -6.4476, -6.4476, -6.4476, -6.4476, -6.4476, -6.4477, -6.4476, -6.4477, -6.4477, -6.4477, -6.4477, -6.4476, -6.4477, -6.4477, -6.4477, -6.4477, -6.4477, -6.4477, -6.4477, -6.4477, -5.8059, -5.4183, -5.806, -3.9063, -5.8059, -5.806, -4.9217, -5.1394, -5.4181, -5.4181, -5.4181, -5.1395, -5.4459, -4.743, -4.743, -5.8059, -5.8059, -4.46, -4.9217, -5.4181, -5.1394, -4.3617, -5.0032, -4.4598, -4.9217, -5.1394, -5.1394, -4.9217, -5.0548, -5.4185, -5.4181, -5.4181, -5.4182, -5.418, -5.418, -5.4181, -5.4181, -5.4181, -5.7397, -5.7398, -5.8435, -5.3519, -6.3814, -6.3814, -6.3814, -6.3814, -6.3814, -6.3814, -6.3814, -6.3814, -6.3814, -6.3814, -6.3814, -6.3815, -6.3814, -6.3814, -6.3814, -6.3814, -6.3815, -6.3814, -6.3815, -6.3815, -6.3815, -6.3815, -6.3815, -6.3815, -6.3815, -6.3815, -6.3815, -5.0731, -5.0735, -5.7395, -5.7397, -5.5781, -3.6688, -5.0732, -5.0735, -5.352, -5.0733, -5.7397, -3.9931, -5.0738, -5.7396, -5.7398, -5.7397, -5.3519, -4.5252, -4.7575, -5.0731, -5.7396, -5.7397, -5.7397, -5.7396, -4.6768, -5.8568, -4.8554, -4.8554, -4.3938, -5.352, -5.0731, -4.6767, -4.9763, -5.2379, -5.2311, -5.25, -5.3522, -5.5021, -5.2015, -5.5206, -5.5087, -5.7571, -5.7572, -5.7572, -5.7572, -5.7572, -5.7573, -5.7573, -5.7573, -5.7573, -5.7573, -5.7574, -5.7574, -5.7574, -5.7582, -5.7583, -5.3695, -5.0907, -4.9782, -6.399, -6.399, -6.399, -6.399, -6.399, -6.399, -6.399, -6.399, -6.3991, -6.3991, -6.399, -6.399, -5.7572, -5.7572, -5.7573, -5.7575, -4.7665, -4.8728, -5.3696, -5.3695, -4.0966, -4.6944, -5.2768, -5.37, -3.5033, -4.873, -4.8117, -5.2119, -4.9076, -5.0746, -4.873, -5.3694, -4.6943, -5.083, -5.0275, -4.8729, -4.8731, -5.0908, -5.4131, -5.3696, -5.3696, -5.0912, -5.3694, -5.3695, -5.3696, -4.1785, -4.2827, -5.7446, -5.7447, -5.7448, -5.7448, -5.7449, -5.7449, -5.7449, -5.7449, -5.7453, -5.7457, -5.7591, -5.7935, -6.3864, -6.3864, -6.3864, -6.3865, -6.3865, -6.3865, -6.3865, -6.3865, -6.3865, -6.3865, -6.3865, -6.3865, -6.3865, -6.3865, -6.3865, -6.3866, -6.3866, -5.7446, -5.7449, -5.7449, -6.0264, -4.8605, -4.6818, -5.3864, -5.745, -5.745, -5.7451, -4.4623, -5.357, -5.1001, -5.0783, -5.3571, -5.3088, -4.1784, -5.0782, -5.0256, -5.3027, -4.8605, -5.0394, -4.5304, -5.0783, -4.9705, -5.3569, -5.357, -5.3931, -5.2149, -5.5399, -5.3568, -5.3569, -5.3887, -5.357, -5.4789, -5.398, -5.2868, -5.287, -4.3286, -5.6746, -5.6747, -5.6747, -5.6757, -5.2202, -4.4602, -5.2867, -6.3163, -6.3163, -6.3164, -6.3163, -6.3163, -6.3164, -6.3164, -6.3164, -6.3164, -6.3164, -6.3164, -6.3164, -6.3164, -6.3164, -6.3164, -6.3164, -6.3164, -6.3164, -6.3164, -6.3164, -4.3287, -5.287, -4.0142, -5.0082, -4.7905, -4.7911, -5.3928, -5.2868, -5.2868, -4.6116, -5.6746, -5.6746, -5.6745, -4.0207, -5.0081, -5.8677, -3.8819, -5.2868, -5.6746, -5.6748, -4.7927, -5.2868, -5.2868, -5.2889, -5.2895, -5.287, -5.0082, -5.0104, -5.008, -5.2869, -5.2868, -5.287, -3.2266, -5.232, -5.232, -5.6197, -5.6701, -6.2615, -6.2615, -6.2615, -6.2616, -6.2616, -6.2616, -6.2615, -6.2616, -6.2616, -6.2616, -6.2616, -6.2615, -6.2616, -6.2616, -6.2616, -6.2616, -6.2616, -6.2616, -6.2616, -6.2616, -6.2616, -6.2616, -6.2616, -6.2616, -6.2616, -5.2319, -5.8762, -5.6208, -5.6199, -5.6197, -5.6199, -4.0535, -5.6202, -5.2323, -5.0714, -5.6197, -5.0913, -4.5522, -5.2321, -5.6546, -5.232, -5.6201, -5.3909, -5.6197, -4.5569, -5.6623, -5.6162, -5.6198, -5.6199, -5.1025, -4.7354, -5.2322, -5.2283, -4.9508, -5.2318, -5.232, -5.6196, -5.6197, -5.6197, -5.6197, -5.6197], \"loglift\": [30.0, 29.0, 28.0, 27.0, 26.0, 25.0, 24.0, 23.0, 22.0, 21.0, 20.0, 19.0, 18.0, 17.0, 16.0, 15.0, 14.0, 13.0, 12.0, 11.0, 10.0, 9.0, 8.0, 7.0, 6.0, 5.0, 4.0, 3.0, 2.0, 1.0, 1.5504, 1.5504, 1.5504, 1.5504, 1.5504, 1.5504, 1.5504, 1.5503, 1.5503, 1.5476, 1.4595, 1.4488, 1.4333, 1.4284, 1.3938, 1.3683, 1.3199, 1.3199, 1.3199, 1.3199, 1.3199, 1.3199, 1.3199, 1.3199, 1.3199, 1.3199, 1.3199, 1.3199, 1.3199, 1.3199, 1.3084, 1.2764, 1.2399, 1.2544, 1.2792, 1.2785, 1.2744, 1.2732, 1.2722, 1.2721, 1.1878, 1.2683, 1.2682, 1.267, 1.0353, 1.0836, 0.7241, 1.1982, 0.8546, 0.9906, 0.9985, 0.6089, 0.5735, 0.0844, 0.7068, 0.6688, 0.2783, 0.6106, 0.716, 0.688, 0.1431, 0.6188, 0.7949, 0.559, 0.9709, -0.1407, 0.0811, 0.2602, -0.3904, 0.3807, -0.5087, 0.1265, 0.1142, 1.8684, 1.8683, 1.7718, 1.7718, 1.7718, 1.7718, 1.7718, 1.7718, 1.7716, 1.7715, 1.6561, 1.5425, 1.5425, 1.5425, 1.5425, 1.5425, 1.5425, 1.5425, 1.5425, 1.5425, 1.5425, 1.5425, 1.5425, 1.5425, 1.5425, 1.5425, 1.5425, 1.5425, 1.5425, 1.5425, 1.4967, 1.4896, 1.4886, 1.4886, 1.4821, 1.1984, 1.2839, 1.2771, 1.126, 1.3281, 1.3261, 1.3228, 1.2433, 1.1432, 0.9616, 0.9325, 1.1938, 1.188, 0.4635, 0.6018, 0.7369, 0.8259, 0.5314, 0.521, 0.4448, 0.1322, 0.1267, 0.2183, 1.0936, 0.5638, 1.0786, 0.9789, 0.2684, 0.1372, 0.2387, 0.3283, 1.7944, 1.7944, 1.7944, 1.7944, 1.7944, 1.7943, 1.7941, 1.7935, 1.665, 1.6645, 1.6319, 1.5591, 1.5591, 1.5591, 1.5591, 1.5591, 1.5591, 1.5591, 1.5591, 1.5591, 1.5591, 1.5591, 1.5591, 1.5591, 1.5591, 1.5591, 1.5591, 1.5591, 1.5591, 1.5591, 1.4542, 1.5183, 1.5172, 1.5136, 1.5135, 1.4989, 1.4969, 1.2106, 1.0903, 1.163, 0.8105, 1.2897, 1.2859, 1.2848, 1.284, 1.2812, 1.2681, 0.4412, 0.2444, 0.3093, 0.6955, 0.3671, 0.8044, 0.784, 0.9825, 0.203, 0.3663, 0.7919, -0.0765, 0.3877, 0.4445, 0.2835, 0.2372, 0.4676, 0.6491, 0.4552, -0.2798, -0.3073, 0.4151, 1.938, 1.8381, 1.8381, 1.838, 1.8379, 1.8374, 1.8373, 1.8186, 1.8185, 1.7064, 1.602, 1.602, 1.602, 1.6019, 1.6019, 1.6019, 1.6019, 1.6019, 1.6019, 1.6019, 1.6019, 1.6019, 1.6019, 1.6019, 1.6019, 1.6019, 1.6019, 1.6019, 1.6019, 1.6019, 1.5565, 1.5251, 1.5542, 1.3616, 1.5418, 1.5398, 1.4208, 1.2033, 1.2439, 1.2383, 1.2382, 1.1216, 1.226, 0.9143, 0.9009, 1.3302, 1.325, 0.6911, 0.7738, 1.0252, 0.8239, -0.0325, 0.4434, -0.4019, 0.1785, 0.4065, 0.3489, -0.291, -0.1875, 0.7673, 0.7565, 0.6165, 0.482, 0.0903, 0.367, -0.2695, 0.386, 0.1736, 1.8982, 1.8981, 1.7963, 1.7787, 1.6636, 1.6636, 1.6636, 1.6636, 1.6636, 1.6636, 1.6636, 1.6636, 1.6636, 1.6636, 1.6636, 1.6636, 1.6636, 1.6636, 1.6636, 1.6636, 1.6636, 1.6636, 1.6636, 1.6636, 1.6636, 1.6636, 1.6636, 1.6636, 1.6636, 1.6636, 1.6636, 1.5925, 1.5892, 1.6112, 1.6034, 1.5447, 1.1985, 1.3676, 1.2694, 1.307, 1.1821, 1.4074, 0.6287, 1.1008, 1.3878, 1.3875, 1.376, 1.0891, 0.6234, 0.7508, 0.8904, 1.2153, 1.2092, 1.206, 1.2039, 0.3943, 1.2807, 0.5222, 0.4408, -0.0646, 0.81, 0.5186, -0.0459, 0.2058, 0.5471, 0.2154, 0.2384, 0.1788, 0.5903, -1.1436, 0.512, -0.2409, 1.9001, 1.9001, 1.9001, 1.9001, 1.9001, 1.9001, 1.9001, 1.9, 1.9, 1.9, 1.9, 1.9, 1.8999, 1.8993, 1.8993, 1.7744, 1.7151, 1.6949, 1.6606, 1.6606, 1.6606, 1.6606, 1.6606, 1.6606, 1.6606, 1.6606, 1.6606, 1.6606, 1.6606, 1.6606, 1.6152, 1.613, 1.6075, 1.6065, 1.4286, 1.3792, 1.4401, 1.434, 1.0855, 1.1713, 1.2741, 1.2886, 0.5546, 1.0359, 0.9924, 1.227, 0.7879, 0.96, 0.2781, 1.1743, -0.3651, 0.4053, 0.2276, -0.2422, -0.2513, 0.2054, 1.0302, 0.8783, 0.8745, 0.0574, 0.5939, 0.3725, 0.0769, 2.0342, 2.0093, 1.9291, 1.9291, 1.9291, 1.9291, 1.929, 1.9289, 1.9289, 1.9289, 1.9286, 1.9283, 1.9139, 1.8786, 1.6855, 1.6854, 1.6854, 1.6854, 1.6854, 1.6854, 1.6854, 1.6854, 1.6854, 1.6854, 1.6854, 1.6854, 1.6854, 1.6854, 1.6854, 1.6854, 1.6854, 1.6402, 1.6322, 1.6248, 1.644, 1.3384, 1.1839, 1.2886, 1.41, 1.404, 1.4021, 0.7929, 1.1933, 0.9325, 0.8359, 0.9951, 0.9581, 0.1507, 0.7772, 0.6317, 0.8751, 0.318, 0.4793, -0.4725, 0.41, 0.1006, 0.8289, 0.7506, 0.5145, -0.3476, 1.0215, 0.0208, -0.0607, 0.0578, -0.2084, 0.3252, -0.7673, 2.088, 2.0879, 2.0339, 1.986, 1.9859, 1.9859, 1.9851, 1.928, 1.9037, 1.8653, 1.7457, 1.7457, 1.7457, 1.7457, 1.7457, 1.7457, 1.7457, 1.7457, 1.7457, 1.7457, 1.7457, 1.7457, 1.7457, 1.7457, 1.7457, 1.7457, 1.7457, 1.7457, 1.7457, 1.7456, 1.6556, 1.6772, 1.5168, 1.5527, 1.4797, 1.4694, 1.5553, 1.5076, 1.3673, 1.0322, 1.4773, 1.4703, 1.4655, 0.6101, 1.033, 1.4977, 0.176, 1.0559, 1.2904, 1.2879, 0.585, 0.9801, 0.9794, 0.9676, 0.9093, 0.8206, 0.1704, 0.0607, -0.1407, 0.7463, 0.6274, 0.4992, 2.2334, 2.136, 2.136, 2.0347, 1.9825, 1.796, 1.796, 1.7959, 1.7959, 1.7959, 1.7959, 1.7959, 1.7959, 1.7959, 1.7959, 1.7959, 1.7959, 1.7959, 1.7959, 1.7959, 1.7959, 1.7959, 1.7959, 1.7959, 1.7959, 1.7959, 1.7959, 1.7959, 1.7959, 1.7959, 1.7282, 1.7703, 1.7435, 1.7419, 1.7357, 1.7355, 1.0467, 1.5332, 1.2085, 0.9661, 1.343, 0.9462, 0.5188, 0.9425, 1.2932, 0.8679, 1.1851, 0.9501, 1.1714, 0.0738, 1.1494, 1.0606, 1.0365, 1.0364, 0.344, -0.6775, 0.2562, 0.1494, -0.6216, 0.0234, -0.0809, 0.1224, -0.4711, 0.924, 0.4213, 0.7228]}, \"token.table\": {\"Topic\": [1, 2, 3, 4, 5, 6, 8, 9, 1, 2, 3, 4, 6, 7, 9, 1, 2, 3, 4, 5, 6, 9, 2, 4, 5, 8, 1, 4, 6, 7, 8, 7, 1, 9, 5, 4, 8, 3, 4, 5, 3, 9, 9, 1, 9, 3, 1, 2, 8, 1, 4, 1, 4, 9, 1, 2, 3, 4, 5, 7, 8, 1, 3, 4, 6, 7, 6, 2, 7, 8, 2, 3, 4, 9, 1, 6, 1, 3, 6, 5, 8, 3, 3, 2, 5, 8, 9, 4, 7, 9, 7, 2, 4, 9, 1, 9, 4, 1, 7, 9, 5, 7, 1, 1, 2, 3, 4, 5, 6, 7, 8, 9, 3, 5, 6, 4, 5, 6, 7, 1, 5, 8, 1, 7, 8, 4, 2, 4, 5, 7, 4, 7, 2, 3, 2, 8, 7, 5, 2, 3, 1, 9, 1, 7, 2, 6, 2, 7, 8, 9, 8, 2, 5, 1, 2, 3, 4, 5, 6, 7, 8, 9, 4, 5, 7, 9, 4, 9, 6, 7, 6, 1, 4, 8, 1, 2, 3, 5, 7, 2, 3, 8, 8, 3, 7, 9, 3, 2, 1, 2, 3, 7, 9, 4, 2, 1, 1, 2, 3, 5, 7, 8, 3, 3, 6, 3, 1, 2, 5, 6, 7, 1, 3, 5, 7, 8, 9, 1, 2, 8, 1, 2, 3, 5, 6, 7, 8, 3, 8, 5, 6, 4, 4, 7, 3, 1, 2, 3, 4, 6, 7, 8, 9, 2, 9, 1, 3, 4, 5, 6, 8, 1, 3, 6, 7, 9, 1, 2, 8, 7, 1, 4, 1, 3, 5, 1, 2, 3, 5, 6, 7, 8, 9, 5, 9, 3, 8, 2, 3, 4, 7, 8, 9, 2, 5, 5, 8, 8, 3, 6, 1, 4, 6, 8, 1, 7, 8, 8, 6, 3, 9, 7, 4, 4, 4, 5, 7, 6, 8, 1, 7, 1, 1, 2, 3, 4, 5, 6, 7, 8, 9, 6, 4, 6, 4, 3, 4, 6, 7, 9, 6, 6, 9, 4, 9, 9, 2, 8, 3, 2, 3, 6, 9, 1, 2, 3, 4, 5, 6, 2, 3, 7, 9, 1, 2, 1, 2, 3, 4, 5, 6, 8, 9, 3, 8, 4, 8, 5, 5, 3, 1, 1, 2, 4, 5, 6, 7, 8, 9, 4, 4, 2, 1, 2, 7, 8, 1, 2, 6, 8, 1, 2, 3, 4, 5, 6, 7, 9, 3, 1, 2, 3, 4, 7, 8, 7, 1, 3, 4, 5, 6, 7, 9, 3, 1, 7, 8, 9, 1, 2, 3, 4, 5, 6, 7, 8, 9, 1, 2, 3, 4, 5, 8, 9, 7, 1, 3, 3, 9, 1, 3, 2, 3, 5, 5, 1, 2, 4, 6, 7, 9, 1, 6, 9, 2, 4, 5, 6, 4, 9, 9, 3, 5, 7, 8, 9, 1, 1, 3, 1, 1, 5, 7, 6, 6, 9, 5, 3, 4, 8, 1, 4, 5, 7, 9, 2, 3, 5, 3, 5, 8, 1, 2, 3, 4, 6, 7, 8, 3, 8, 3, 5, 7, 8, 9, 8, 8, 5, 7, 1, 5, 2, 5, 6, 8, 5, 1, 2, 5, 7, 8, 9, 4, 1, 3, 7, 8, 9, 8, 3, 2, 3, 8, 1, 8, 9, 6, 1, 2, 3, 4, 5, 6, 7, 8, 9, 5, 1, 2, 3, 4, 5, 6, 7, 3, 4, 6, 7, 9, 1, 2, 3, 6, 7, 8, 1, 2, 3, 4, 5, 6, 7, 8, 9, 1, 2, 3, 4, 5, 6, 9, 2, 6, 8, 6, 6, 1, 2, 5, 6, 9, 8, 7, 1, 5, 7, 8, 9, 4, 6, 8, 9, 9, 2, 2, 4, 7, 8, 3, 1, 2, 3, 4, 5, 6, 7, 3, 9, 1, 3, 7, 9, 3, 7, 9, 3, 4, 6, 7, 9, 3, 1, 2, 8, 9, 1, 3, 7, 2, 1, 2, 3, 4, 5, 6, 7, 8, 1, 7, 6, 1, 2, 3, 4, 5, 6, 7, 8, 9, 9, 1, 6, 4, 1, 2, 4, 6, 1, 3, 4, 6, 8, 1, 2, 3, 4, 5, 6, 7, 8, 1, 2, 3, 4, 5, 6, 7, 8, 6, 2, 3, 4, 8, 9, 5, 8, 9, 5, 9, 4, 3, 4, 5, 1, 2, 4, 5, 6, 7, 8, 9, 6, 8, 2, 4, 5, 2, 5, 6, 8, 7, 7, 7, 5, 1, 2, 8, 2, 3, 8, 1, 9, 4, 3, 5, 9, 9, 5, 4, 6, 8, 1, 2, 3, 5, 6, 7, 8, 9, 3, 5, 6, 7, 7, 2, 9, 1, 3, 4, 5, 6, 7, 8, 9, 9, 8, 8, 1, 2, 6, 7, 9, 1, 3, 4, 6, 7, 5, 1, 6, 7, 8, 9, 1, 6, 3, 1, 4, 2, 3, 4, 5, 9, 4, 6, 7, 2, 1, 1, 3, 5, 6, 3, 5, 7, 1, 5, 5, 1, 5, 1, 2, 3, 4, 5, 7, 8, 9, 1, 1, 2, 9, 3, 1, 4, 5, 6, 9, 5, 2, 3, 4, 5, 7, 9, 7, 1, 4, 1, 6, 5, 7, 5, 7, 4, 9, 1, 2, 3, 4, 6, 7, 8, 9, 1, 2, 7, 2, 4, 8, 7, 4, 7, 8, 5, 9, 1, 2, 4, 5, 3, 4, 6, 2, 1, 3, 4, 5, 6, 7, 8, 9, 1, 4, 2, 3, 5, 6, 9, 1, 4, 8, 9, 4, 9, 7, 7, 6, 5, 2, 6, 2, 7, 7, 1, 4, 5, 9, 4, 5, 8, 3, 5, 6, 4, 3, 5, 6, 4, 3, 6, 1, 2, 5, 6, 7, 8, 9, 8, 3, 1, 2, 3, 4, 5, 6, 7, 8, 9, 1, 2, 3, 4, 5, 7, 8, 1, 2, 3, 4, 7, 8, 7, 8, 1, 8, 1, 2, 6, 7, 9, 1, 2, 3, 4, 8, 9, 3, 4, 6, 2, 8, 8, 2, 3, 4, 5, 7, 9, 7, 5, 6, 1, 5, 2, 9, 2, 4, 2, 3, 8, 1, 2, 5, 2, 4, 1, 3, 1, 1, 2, 4, 5, 7, 8, 9, 2, 4, 9, 1, 2, 4, 5, 8, 9, 1, 6, 9, 1, 2, 8, 2, 3, 7, 3, 5, 6, 9, 1, 4, 5, 6, 7, 4, 1, 6, 7, 8, 9, 1, 5, 6, 7, 7, 1, 2, 3, 4, 5, 6, 8, 2, 5, 6, 1, 2, 4, 5, 7, 8, 9, 3, 5, 6, 7, 8, 1, 2, 3, 4, 5, 6, 7, 9, 9, 1, 2, 3, 4, 5, 8, 8, 2, 1, 6, 7, 2, 3, 7, 6, 7, 5, 9], \"Freq\": [0.0546950154734034, 0.3828651083138238, 0.0546950154734034, 0.1093900309468068, 0.2187800618936136, 0.1093900309468068, 0.0546950154734034, 0.0546950154734034, 0.13191289138068257, 0.13191289138068257, 0.13191289138068257, 0.26382578276136515, 0.19786933707102386, 0.06595644569034129, 0.06595644569034129, 0.17037027715069628, 0.28395046191782713, 0.17037027715069628, 0.17037027715069628, 0.05679009238356542, 0.05679009238356542, 0.05679009238356542, 0.25196863588071416, 0.37795295382107125, 0.12598431794035708, 0.25196863588071416, 0.4273306601608419, 0.21366533008042096, 0.10683266504021048, 0.21366533008042096, 0.4707434793199981, 0.7101000237586814, 0.3468442392692412, 0.3468442392692412, 0.6912454082868406, 0.3503073040587786, 0.3503073040587786, 0.2302462504830099, 0.2302462504830099, 0.4604925009660198, 0.6925835968829485, 0.6999476101625576, 0.6999412996743839, 0.34686875288115065, 0.34686875288115065, 0.6925801469502361, 0.5821336306509431, 0.1940445435503144, 0.1940445435503144, 0.9049391060890415, 0.6944134318828761, 0.3945438047465978, 0.3945438047465978, 0.1972719023732989, 0.29429086710737073, 0.09809695570245693, 0.19619391140491385, 0.09809695570245693, 0.19619391140491385, 0.09809695570245693, 0.09809695570245693, 0.1161096798621727, 0.2322193597243454, 0.3483290395865181, 0.1161096798621727, 0.1161096798621727, 0.4690996033300635, 0.680129441049729, 0.7101003400545622, 0.4706193159427296, 0.12596461344907484, 0.25192922689814967, 0.5038584537962993, 0.12596461344907484, 0.9049849333700062, 0.701390777282015, 0.6816201899625335, 0.34081009498126674, 0.7013811778334174, 0.46097346199705985, 0.7031088003608872, 0.6925917259455708, 0.9225476094702211, 0.6801117027875377, 0.2345497045425177, 0.4690994090850354, 0.2345497045425177, 0.6944195429723649, 0.7101034149742522, 0.6999487987629167, 0.7101052508918776, 0.34481382244478925, 0.34481382244478925, 0.17240691122239463, 0.6851646646315742, 0.3425823323157871, 0.694426442243929, 0.2336073327021932, 0.2336073327021932, 0.4672146654043864, 0.5632645978258172, 0.2816322989129086, 0.6826602163446425, 0.11269855360743987, 0.13523826432892783, 0.38317508226529556, 0.04507942144297595, 0.20285739649339177, 0.0901588428859519, 0.022539710721487975, 0.022539710721487975, 0.022539710721487975, 0.17349611449572772, 0.5204883434871831, 0.17349611449572772, 0.9258506708227793, 0.20098115426571836, 0.4019623085314367, 0.20098115426571836, 0.27614744294831517, 0.5522948858966303, 0.27614744294831517, 0.6826589146157872, 0.47525717608379275, 0.7031312422200521, 0.9259229646921853, 0.229726465801123, 0.459452931602246, 0.229726465801123, 0.7100921653950014, 0.6993483023343623, 0.23311610077812076, 0.45361215731935556, 0.45361215731935556, 0.684186373802345, 0.3420931869011725, 0.4769848334423713, 0.6912655874175647, 0.680142088091259, 0.6926077198381949, 0.6851413125736807, 0.34257065628684036, 0.35187263225709087, 0.35187263225709087, 0.9004878054803047, 0.4690853458465709, 0.3101117558171612, 0.3101117558171612, 0.1550558779085806, 0.1550558779085806, 0.7031189596746541, 0.6784528221358614, 0.3392264110679307, 0.353993930681554, 0.15733063585846843, 0.07866531792923422, 0.07866531792923422, 0.03933265896461711, 0.03933265896461711, 0.15733063585846843, 0.11799797689385132, 0.03933265896461711, 0.4647655541069171, 0.4647655541069171, 0.23238277705345856, 0.6998976224311977, 0.34994674198267567, 0.34994674198267567, 0.7013972000142601, 0.7100779234717662, 0.46910851597608816, 0.43844453525618, 0.25053973443210287, 0.25053973443210287, 0.18479003667814678, 0.18479003667814678, 0.09239501833907339, 0.18479003667814678, 0.2771850550172202, 0.2745115961271258, 0.5490231922542516, 0.7031139309781728, 0.7030948517933644, 0.11975707994863159, 0.7185424796917895, 0.11975707994863159, 0.9225600357860902, 0.900594266096705, 0.3773124978533315, 0.12577083261777716, 0.12577083261777716, 0.12577083261777716, 0.2515416652355543, 0.9257524156130337, 0.6801299612377071, 0.4533893258042741, 0.11603914451877956, 0.23207828903755912, 0.11603914451877956, 0.11603914451877956, 0.11603914451877956, 0.46415657807511823, 0.9225158673697411, 0.3501313783518564, 0.3501313783518564, 0.6926021952177225, 0.17278446670309566, 0.17278446670309566, 0.3455689334061913, 0.3455689334061913, 0.476905271769348, 0.29649543626896374, 0.1976636241793092, 0.0988318120896546, 0.0988318120896546, 0.0988318120896546, 0.1976636241793092, 0.6826617413156768, 0.6801343418394198, 0.7031142008811302, 0.16785410157910594, 0.05595136719303531, 0.05595136719303531, 0.11190273438607062, 0.05595136719303531, 0.05595136719303531, 0.4476109375442825, 0.281930907214492, 0.563861814428984, 0.34981877246959153, 0.34981877246959153, 0.6944239300100935, 0.6993911612183196, 0.23313038707277317, 0.9224982596206255, 0.1630717839935453, 0.1630717839935453, 0.08153589199677265, 0.1630717839935453, 0.08153589199677265, 0.1630717839935453, 0.08153589199677265, 0.08153589199677265, 0.9004806592063127, 0.6999485749069152, 0.4901894404545455, 0.09803788809090909, 0.09803788809090909, 0.19607577618181818, 0.09803788809090909, 0.09803788809090909, 0.6826656413598085, 0.20137705765063665, 0.20137705765063665, 0.20137705765063665, 0.20137705765063665, 0.34088745791292613, 0.34088745791292613, 0.17044372895646306, 0.47691584407440524, 0.9049832723809962, 0.6944248021396952, 0.543555057670658, 0.271777528835329, 0.6912470177681205, 0.08848506203290488, 0.398182779148072, 0.08848506203290488, 0.17697012406580975, 0.13272759304935733, 0.08848506203290488, 0.04424253101645244, 0.04424253101645244, 0.5540501914741714, 0.2770250957370857, 0.6967906080947247, 0.34839530404736235, 0.21537417415256738, 0.10768708707628369, 0.21537417415256738, 0.21537417415256738, 0.10768708707628369, 0.10768708707628369, 0.6784288617804889, 0.33921443089024444, 0.6912469483116431, 0.7031263448637092, 0.7073256777047964, 0.6926020382465576, 0.7013841481270329, 0.27741146161312935, 0.13870573080656468, 0.416117192419694, 0.13870573080656468, 0.28101067150586717, 0.28101067150586717, 0.28101067150586717, 0.7031164937364137, 0.4692027555731909, 0.6925797684874377, 0.6999414035916429, 0.7100877604794027, 0.6944160249811692, 0.694408470383863, 0.2821705411744941, 0.2821705411744941, 0.2821705411744941, 0.46909136910096744, 0.47062105316533315, 0.6899945097504807, 0.34499725487524036, 0.6826647193878148, 0.1682100919116551, 0.18503110110282062, 0.1513890827204896, 0.10092605514699306, 0.10092605514699306, 0.06728403676466203, 0.11774706433815857, 0.03364201838233102, 0.05046302757349653, 0.4690965739825885, 0.694437477687084, 0.4690618382993799, 0.6944150843496116, 0.175096524271124, 0.350193048542248, 0.175096524271124, 0.175096524271124, 0.175096524271124, 0.7014135393775799, 0.3520126307608567, 0.3520126307608567, 0.6944359553227917, 0.6999274324389061, 0.6999217353559319, 0.5443527517269235, 0.2721763758634618, 0.6925898022455061, 0.39133944666431403, 0.19566972333215701, 0.19566972333215701, 0.19566972333215701, 0.21640969061298468, 0.1442731270753231, 0.07213656353766155, 0.1442731270753231, 0.21640969061298468, 0.1442731270753231, 0.9004988282937947, 0.7001496993297537, 0.35007484966487684, 0.699926888297716, 0.9049732914501339, 0.6801353303233174, 0.1632798798309631, 0.08163993991548155, 0.08163993991548155, 0.1632798798309631, 0.08163993991548155, 0.3265597596619262, 0.08163993991548155, 0.08163993991548155, 0.6967158343175941, 0.34835791715879705, 0.698540510746241, 0.3492702553731205, 0.6912456317807805, 0.9201273972739443, 0.692604170777014, 0.6826681287316373, 0.14704571238342934, 0.07352285619171467, 0.14704571238342934, 0.07352285619171467, 0.2940914247668587, 0.14704571238342934, 0.07352285619171467, 0.07352285619171467, 0.6942268727129381, 0.694421190111275, 0.9005062591745543, 0.3699585443226265, 0.3699585443226265, 0.12331951477420883, 0.12331951477420883, 0.13825288101008723, 0.27650576202017446, 0.27650576202017446, 0.13825288101008723, 0.04246282945239247, 0.04246282945239247, 0.33970263561913977, 0.08492565890478494, 0.08492565890478494, 0.12738848835717742, 0.21231414726196238, 0.08492565890478494, 0.6925912543025479, 0.2427983059926873, 0.1618655373284582, 0.1618655373284582, 0.1618655373284582, 0.0809327686642291, 0.0809327686642291, 0.47650123956211377, 0.12696515002399386, 0.2539303000479877, 0.2539303000479877, 0.06348257501199693, 0.06348257501199693, 0.19044772503599078, 0.06348257501199693, 0.6925963197354097, 0.682659857511209, 0.2834026613549196, 0.2834026613549196, 0.2834026613549196, 0.07274010940417548, 0.21822032821252646, 0.10911016410626323, 0.14548021880835096, 0.07274010940417548, 0.03637005470208774, 0.03637005470208774, 0.03637005470208774, 0.2545903829146142, 0.11485458289238258, 0.22970916578476516, 0.22970916578476516, 0.11485458289238258, 0.11485458289238258, 0.11485458289238258, 0.11485458289238258, 0.4768802607728517, 0.9049805280557407, 0.9224956491800826, 0.6926101416771495, 0.6999242143470547, 0.9049567655084024, 0.6925981794560442, 0.54505628271591, 0.54505628271591, 0.691254216203164, 0.6912248128077255, 0.2586336899292078, 0.1724224599528052, 0.2586336899292078, 0.1724224599528052, 0.0862112299764026, 0.0862112299764026, 0.3080811643300724, 0.3080811643300724, 0.1540405821650362, 0.456667194495971, 0.2283335972479855, 0.11416679862399275, 0.2283335972479855, 0.9257397138490701, 0.4640358355612046, 0.6999309734824147, 0.15670832793858877, 0.15670832793858877, 0.15670832793858877, 0.47012498381576634, 0.15670832793858877, 0.6826597942229398, 0.343254815446737, 0.686509630893474, 0.4532936028838306, 0.45948434605406485, 0.45948434605406485, 0.22974217302703243, 0.7013960684623479, 0.7014086402916239, 0.6999348241501803, 0.6912323839487322, 0.5569504471426243, 0.27847522357131216, 0.27847522357131216, 0.23099662806342072, 0.23099662806342072, 0.46199325612684145, 0.23099662806342072, 0.6999311645518825, 0.6790901795286663, 0.3395450897643332, 0.6912642490186174, 0.27963373318257384, 0.27963373318257384, 0.27963373318257384, 0.184905320624043, 0.0924526603120215, 0.184905320624043, 0.184905320624043, 0.0924526603120215, 0.0924526603120215, 0.184905320624043, 0.6926173299893138, 0.7031287647504715, 0.23433757819127216, 0.23433757819127216, 0.11716878909563608, 0.4686751563825443, 0.11716878909563608, 0.703113458969273, 0.7030981991389129, 0.6912236925653146, 0.7100741100485601, 0.4533801026819802, 0.691259609711386, 0.34281731386969283, 0.34281731386969283, 0.17140865693484642, 0.17140865693484642, 0.6912342132593633, 0.2825864777708151, 0.17661654860675943, 0.14129323888540754, 0.10596992916405565, 0.10596992916405565, 0.14129323888540754, 0.9257510407633198, 0.20007757240716859, 0.20007757240716859, 0.20007757240716859, 0.20007757240716859, 0.20007757240716859, 0.7031350561238486, 0.6926039461047054, 0.39206541172611026, 0.19603270586305513, 0.19603270586305513, 0.46146919839186634, 0.23073459919593317, 0.23073459919593317, 0.7013974807832364, 0.10722983393842668, 0.10722983393842668, 0.05361491696921334, 0.16084475090764003, 0.16084475090764003, 0.16084475090764003, 0.16084475090764003, 0.05361491696921334, 0.10722983393842668, 0.6912395049623171, 0.2745948036324818, 0.1830632024216545, 0.1830632024216545, 0.09153160121082725, 0.1830632024216545, 0.09153160121082725, 0.09153160121082725, 0.31356120278660005, 0.15678060139330002, 0.15678060139330002, 0.31356120278660005, 0.15678060139330002, 0.23359231858806842, 0.11679615929403421, 0.11679615929403421, 0.11679615929403421, 0.23359231858806842, 0.23359231858806842, 0.165803306202024, 0.27633884367004, 0.055267768734008, 0.110535537468016, 0.055267768734008, 0.055267768734008, 0.165803306202024, 0.055267768734008, 0.055267768734008, 0.17202013807863092, 0.08601006903931546, 0.1290151035589732, 0.43005034519657726, 0.08601006903931546, 0.04300503451965773, 0.04300503451965773, 0.6801281263990074, 0.35279956525577943, 0.35279956525577943, 0.7014002766701531, 0.701423078603423, 0.13630043715563073, 0.4089013114668922, 0.27260087431126145, 0.13630043715563073, 0.13630043715563073, 0.7074097570679875, 0.4769016312832058, 0.10911091816638228, 0.10911091816638228, 0.43644367266552914, 0.21822183633276457, 0.10911091816638228, 0.23473067400827968, 0.23473067400827968, 0.23473067400827968, 0.23473067400827968, 0.6999285526837982, 0.6730002466124577, 0.6801199334358583, 0.6944239479581935, 0.7100999504657781, 0.703115257679467, 0.6926019855456318, 0.3234501303403831, 0.16172506517019156, 0.16172506517019156, 0.08086253258509578, 0.16172506517019156, 0.08086253258509578, 0.08086253258509578, 0.9227107509415006, 0.46692663472562423, 0.052116026951669794, 0.052116026951669794, 0.052116026951669794, 0.8338564312267167, 0.11062890858417684, 0.7744023600892379, 0.11062890858417684, 0.10870171863769648, 0.21740343727539296, 0.4348068745507859, 0.21740343727539296, 0.10870171863769648, 0.9224722768648564, 0.19498194987453052, 0.38996389974906104, 0.19498194987453052, 0.19498194987453052, 0.9049695039151683, 0.7002109256762993, 0.23340364189209975, 0.9005137292251167, 0.27629481874025785, 0.07894137678293081, 0.07894137678293081, 0.039470688391465406, 0.11841206517439622, 0.31576550713172324, 0.039470688391465406, 0.039470688391465406, 0.6900967386607322, 0.3450483693303661, 0.4690619896347286, 0.09096723744019522, 0.13645085616029284, 0.18193447488039044, 0.09096723744019522, 0.09096723744019522, 0.09096723744019522, 0.04548361872009761, 0.18193447488039044, 0.09096723744019522, 0.6999258957733772, 0.6826794616629097, 0.46909938953155955, 0.9259618737609919, 0.23011465807309267, 0.23011465807309267, 0.11505732903654634, 0.46022931614618534, 0.15515683157286408, 0.15515683157286408, 0.31031366314572817, 0.31031366314572817, 0.15515683157286408, 0.11890941796572568, 0.2972735449143142, 0.05945470898286284, 0.11890941796572568, 0.17836412694858853, 0.05945470898286284, 0.05945470898286284, 0.05945470898286284, 0.1440592107625025, 0.057623684305001, 0.172871052915003, 0.0864355264575015, 0.345742105830006, 0.057623684305001, 0.057623684305001, 0.0864355264575015, 0.4691882742056066, 0.1733908347738129, 0.1733908347738129, 0.3467816695476258, 0.1733908347738129, 0.1733908347738129, 0.2342001932882592, 0.2342001932882592, 0.2342001932882592, 0.6912338562320731, 0.699916133484883, 0.6944368608824583, 0.692595609008325, 0.6944206662942433, 0.6912530722178509, 0.10283708312198954, 0.15425562468298432, 0.15425562468298432, 0.15425562468298432, 0.10283708312198954, 0.10283708312198954, 0.05141854156099477, 0.15425562468298432, 0.2830106957159499, 0.5660213914318998, 0.6801284884702086, 0.34522189232195666, 0.6904437846439133, 0.6801503033742485, 0.9201073413672198, 0.4691001449188177, 0.7031217526231093, 0.7101018289433816, 0.7101066065472655, 0.7100699223694109, 0.6912633438949675, 0.3440231210333203, 0.17201156051666014, 0.3440231210333203, 0.39584828616217044, 0.19792414308108522, 0.39584828616217044, 0.6826622429568298, 0.46776096126660105, 0.6944235907655811, 0.5549136055960832, 0.2774568027980416, 0.2774568027980416, 0.7025091781473396, 0.6912418382082284, 0.128694445606936, 0.128694445606936, 0.64347222803468, 0.13819344538623268, 0.20729016807934905, 0.13819344538623268, 0.06909672269311634, 0.13819344538623268, 0.06909672269311634, 0.06909672269311634, 0.06909672269311634, 0.17401344665418242, 0.5220403399625473, 0.17401344665418242, 0.17401344665418242, 0.7100888461344776, 0.9005286449370623, 0.6999144102532728, 0.11670544241861781, 0.11670544241861781, 0.23341088483723563, 0.11670544241861781, 0.11670544241861781, 0.11670544241861781, 0.23341088483723563, 0.11670544241861781, 0.699924558534159, 0.7031340286107739, 0.7031122583101926, 0.15638413728521208, 0.15638413728521208, 0.31276827457042417, 0.31276827457042417, 0.07819206864260604, 0.18516183531200706, 0.18516183531200706, 0.18516183531200706, 0.2777427529680106, 0.09258091765600353, 0.6912291802340813, 0.1759630930287593, 0.1759630930287593, 0.1759630930287593, 0.1759630930287593, 0.3519261860575186, 0.6858669685192226, 0.3429334842596113, 0.9224740699537628, 0.34417333032700026, 0.6883466606540005, 0.10649685796009649, 0.10649685796009649, 0.21299371592019298, 0.31949057388028945, 0.21299371592019298, 0.2838552641817473, 0.2838552641817473, 0.2838552641817473, 0.6801368270736384, 0.6826676478726881, 0.9050004726441535, 0.20018739956374604, 0.20018739956374604, 0.6005621986912382, 0.27895592215904075, 0.27895592215904075, 0.27895592215904075, 0.6826678100252317, 0.6912484420049686, 0.6912461604091314, 0.545840055532025, 0.545840055532025, 0.0479955496780033, 0.0959910993560066, 0.23997774839001648, 0.0479955496780033, 0.1919821987120132, 0.0959910993560066, 0.1919821987120132, 0.0959910993560066, 0.682665250459989, 0.5406982530196267, 0.27034912650981335, 0.6999170578196243, 0.6926078354508394, 0.1393120242678976, 0.2786240485357952, 0.1393120242678976, 0.2786240485357952, 0.1393120242678976, 0.6912260041830465, 0.18569361712243876, 0.18569361712243876, 0.18569361712243876, 0.09284680856121938, 0.09284680856121938, 0.2785404256836581, 0.476942334362152, 0.6825058383435246, 0.3412529191717623, 0.5462384555166312, 0.2731192277583156, 0.6912490473355983, 0.710114801431068, 0.35444129444837363, 0.35444129444837363, 0.6970288218062993, 0.34851441090314966, 0.19133921998678424, 0.19133921998678424, 0.0765356879947137, 0.2296070639841411, 0.1530713759894274, 0.03826784399735685, 0.03826784399735685, 0.0765356879947137, 0.455467121791748, 0.227733560895874, 0.227733560895874, 0.680131195441509, 0.2570211832340356, 0.7710635497021069, 0.4769005281177496, 0.2829852214521969, 0.2829852214521969, 0.2829852214521969, 0.6912458806677322, 0.7024944431227912, 0.6826620702843172, 0.27539172999442485, 0.5507834599888497, 0.6912446259167492, 0.5541984736081058, 0.5541984736081058, 0.7014217271152241, 0.680128663952769, 0.3095742777230771, 0.07739356943076928, 0.07739356943076928, 0.07739356943076928, 0.07739356943076928, 0.23218070829230783, 0.07739356943076928, 0.07739356943076928, 0.6825223506245268, 0.3412611753122634, 0.6730602647865291, 0.5521693478903865, 0.5521693478903865, 0.4691126508620756, 0.6999217339453309, 0.45682329441653347, 0.22841164720826673, 0.22841164720826673, 0.6999269974593038, 0.6944251741784752, 0.6999192248528546, 0.7101064420819597, 0.4769038967332455, 0.7013993382770197, 0.6912501747253039, 0.680124778745146, 0.4690883931918255, 0.6801199236028465, 0.4761020201493705, 0.4769080672178181, 0.9050247777318334, 0.27794823560133924, 0.41692235340200884, 0.27794823560133924, 0.5571333393236684, 0.2785666696618342, 0.2785666696618342, 0.37800937620462305, 0.37800937620462305, 0.12600312540154102, 0.694404634457377, 0.17530527404149474, 0.17530527404149474, 0.5259158221244842, 0.6944232907876385, 0.28073001112130025, 0.5614600222426005, 0.09317779897212664, 0.18635559794425327, 0.18635559794425327, 0.09317779897212664, 0.09317779897212664, 0.2795333969163799, 0.09317779897212664, 0.7030921977465352, 0.6925945938222715, 0.30779497877791107, 0.025649581564825923, 0.15389748938895553, 0.07694874469447777, 0.03847437234723888, 0.17954707095378145, 0.06412395391206481, 0.11542311704171665, 0.05129916312965185, 0.08208036931455687, 0.16416073862911373, 0.16416073862911373, 0.16416073862911373, 0.08208036931455687, 0.24624110794367063, 0.16416073862911373, 0.11558811028034645, 0.2311762205606929, 0.2311762205606929, 0.2311762205606929, 0.11558811028034645, 0.2311762205606929, 0.35720392947954266, 0.35720392947954266, 0.6866509313219995, 0.34332546566099975, 0.30555541940950265, 0.30555541940950265, 0.15277770970475132, 0.15277770970475132, 0.6999284681100968, 0.14443439502142577, 0.28886879004285154, 0.14443439502142577, 0.14443439502142577, 0.14443439502142577, 0.07221719751071289, 0.39946868235715965, 0.19973434117857983, 0.39946868235715965, 0.6801331949409134, 0.7031279775228847, 0.470637796392514, 0.18569613529959378, 0.18569613529959378, 0.18569613529959378, 0.09284806764979689, 0.09284806764979689, 0.2785442029493907, 0.7101228707155011, 0.6912378514137162, 0.4690774957392367, 0.34261293410699606, 0.6852258682139921, 0.9004786696800064, 0.6999182212018962, 0.6801303140692828, 0.6944105575636921, 0.34262895279305816, 0.6852579055861163, 0.7031135945510169, 0.33721694773462374, 0.6744338954692475, 0.6912531555590572, 0.3435369825373577, 0.6870739650747154, 0.2748982651646415, 0.549796530329283, 0.9049606518566914, 0.19918175790419035, 0.19918175790419035, 0.09959087895209517, 0.09959087895209517, 0.19918175790419035, 0.19918175790419035, 0.09959087895209517, 0.3447978119443396, 0.3447978119443396, 0.1723989059721698, 0.11545252005725187, 0.11545252005725187, 0.11545252005725187, 0.3463575601717556, 0.11545252005725187, 0.11545252005725187, 0.5729116262056949, 0.22916465048227797, 0.11458232524113898, 0.2308036694422068, 0.2308036694422068, 0.4616073388844136, 0.6801189815825983, 0.6992321198367611, 0.3496160599183806, 0.2779892029027361, 0.2779892029027361, 0.13899460145136805, 0.13899460145136805, 0.2543783917225875, 0.12718919586129376, 0.2543783917225875, 0.12718919586129376, 0.2543783917225875, 0.694419564853083, 0.5313214073235356, 0.10626428146470712, 0.10626428146470712, 0.10626428146470712, 0.10626428146470712, 0.3457014509046935, 0.3457014509046935, 0.17285072545234675, 0.17285072545234675, 0.4769152781812929, 0.17245132780034475, 0.08622566390017238, 0.25867699170051717, 0.08622566390017238, 0.25867699170051717, 0.08622566390017238, 0.08622566390017238, 0.2748666510067726, 0.5497333020135452, 0.2748666510067726, 0.5323395994346712, 0.11829768876326029, 0.05914884438163014, 0.11829768876326029, 0.05914884438163014, 0.05914884438163014, 0.05914884438163014, 0.2641310971542489, 0.08804369905141629, 0.08804369905141629, 0.08804369905141629, 0.5282621943084977, 0.19085207967157677, 0.19085207967157677, 0.0763408318686307, 0.0763408318686307, 0.19085207967157677, 0.11451124780294607, 0.0763408318686307, 0.03817041593431535, 0.6999514211556848, 0.2103327514388507, 0.2103327514388507, 0.2103327514388507, 0.10516637571942535, 0.2103327514388507, 0.10516637571942535, 0.7030987260583956, 0.6801320179835258, 0.35129322908242566, 0.17564661454121283, 0.35129322908242566, 0.27691440172610776, 0.5538288034522155, 0.27691440172610776, 0.4690895624752847, 0.7100697394513299, 0.3490808953617769, 0.3490808953617769], \"Term\": [\"'ll\", \"'ll\", \"'ll\", \"'ll\", \"'ll\", \"'ll\", \"'ll\", \"'ll\", \"'re\", \"'re\", \"'re\", \"'re\", \"'re\", \"'re\", \"'re\", \"'ve\", \"'ve\", \"'ve\", \"'ve\", \"'ve\", \"'ve\", \"'ve\", \"...\", \"...\", \"...\", \"...\", \"abarth\", \"abarth\", \"abarth\", \"abarth\", \"abarthhugo\", \"abarths\", \"actually\", \"actually\", \"admire\", \"adorable\", \"adorable\", \"aesthetic\", \"aesthetic\", \"aesthetic\", \"aestheticbeige\", \"afectada\", \"ago\", \"agree\", \"agree\", \"aido\", \"akiko\", \"akiko\", \"akiko\", \"akkun\", \"allwhite\", \"already\", \"already\", \"already\", \"also\", \"also\", \"also\", \"also\", \"also\", \"also\", \"also\", \"always\", \"always\", \"always\", \"always\", \"always\", \"amaze\", \"amorim\", \"andreas\", \"annekatrinbergmann\", \"anniversary\", \"anniversary\", \"anniversary\", \"anniversary\", \"appearance\", \"applause\", \"apple\", \"apple\", \"area\", \"around\", \"arrangements\", \"article\", \"ask\", \"australian\", \"austria\", \"austria\", \"austria\", \"auto\", \"autohaus\", \"avisa\", \"azalea\", \"azaleas\", \"azaleas\", \"azaleas\", \"bad\", \"bad\", \"bait\", \"ball\", \"ball\", \"ball\", \"barronmn\", \"barronmn\", \"bath\", \"beautiful\", \"beautiful\", \"beautiful\", \"beautiful\", \"beautiful\", \"beautiful\", \"beautiful\", \"beautiful\", \"beautiful\", \"beauty\", \"beauty\", \"beauty\", \"belli\", \"better\", \"better\", \"better\", \"big\", \"big\", \"big\", \"biggest\", \"bili\", \"birds\", \"bitch\", \"bloom\", \"bloom\", \"bloom\", \"blowers\", \"blue\", \"blue\", \"bon\", \"bon\", \"bonito\", \"bonito\", \"borkamomcilovic\", \"bossa\", \"bottom\", \"brand\", \"brazil\", \"brazil\", \"bro\", \"bro\", \"buds\", \"build\", \"buy\", \"buy\", \"buy\", \"buy\", \"cakes\", \"call\", \"call\", \"car\", \"car\", \"car\", \"car\", \"car\", \"car\", \"car\", \"car\", \"car\", \"careful\", \"careful\", \"careful\", \"carpassion\", \"carrieslifestyle\", \"carrieslifestyle\", \"cartastic\", \"catia\", \"ceases\", \"cha\", \"cha\", \"cha\", \"cha-cha-cha\", \"cha-cha-cha\", \"cha-cha-cha\", \"cha-cha-cha\", \"cha-cha-cha\", \"chacha\", \"chacha\", \"chocolate\", \"chose\", \"christmas\", \"christmas\", \"christmas\", \"clubsport\", \"coche\", \"come\", \"come\", \"come\", \"come\", \"come\", \"comedy\", \"comment\", \"conflict\", \"congratulations\", \"congratulations\", \"congratulations\", \"congratulations\", \"congratulations\", \"congratulations\", \"content\", \"cook\", \"cook\", \"cookery\", \"cool\", \"cool\", \"cool\", \"cool\", \"costs\", \"could\", \"could\", \"could\", \"could\", \"could\", \"could\", \"countries\", \"crackers\", \"crazy\", \"cute\", \"cute\", \"cute\", \"cute\", \"cute\", \"cute\", \"cute\", \"cuter\", \"cuter\", \"dad\", \"dad\", \"daily\", \"danke\", \"danke\", \"daughter\", \"day\", \"day\", \"day\", \"day\", \"day\", \"day\", \"day\", \"day\", \"days\", \"dealer\", \"dear\", \"dear\", \"dear\", \"dear\", \"dear\", \"dear\", \"decade\", \"delicious\", \"delicious\", \"delicious\", \"delicious\", \"delivery\", \"delivery\", \"delivery\", \"denz\", \"design\", \"developments\", \"different\", \"different\", \"display\", \"dolcevita\", \"dolcevita\", \"dolcevita\", \"dolcevita\", \"dolcevita\", \"dolcevita\", \"dolcevita\", \"dolcevita\", \"double\", \"double\", \"dream\", \"dream\", \"drive\", \"drive\", \"drive\", \"drive\", \"drive\", \"drive\", \"driver\", \"driver\", \"easily\", \"eat-in\", \"elypre\", \"estetvisual\", \"etc\", \"even\", \"even\", \"even\", \"even\", \"every\", \"every\", \"every\", \"everywhere\", \"eviwave\", \"expect\", \"expired\", \"fabric\", \"fabulous\", \"fall\", \"family\", \"family\", \"family\", \"far\", \"fascinating\", \"feel\", \"feel\", \"fertilised\", \"fiat\", \"fiat\", \"fiat\", \"fiat\", \"fiat\", \"fiat\", \"fiat\", \"fiat\", \"fiat\", \"fiatabarth\", \"fiatanniversario\", \"fiatclub\", \"fiatcollezione\", \"fiatdolcevita\", \"fiatdolcevita\", \"fiatdolcevita\", \"fiatdolcevita\", \"fiatdolcevita\", \"fiatfridays\", \"fiatlovers\", \"fiatlovers\", \"fiatth\", \"filled\", \"finding\", \"flowers\", \"flowers\", \"flowerstagram\", \"fly\", \"fly\", \"fly\", \"fly\", \"forward\", \"forward\", \"forward\", \"forward\", \"forward\", \"forward\", \"frame-by-frame\", \"frau\", \"frau\", \"fruit\", \"full\", \"fully\", \"fun\", \"fun\", \"fun\", \"fun\", \"fun\", \"fun\", \"fun\", \"fun\", \"funny\", \"funny\", \"future\", \"future\", \"gaudy\", \"gave\", \"generated\", \"genuinely\", \"get\", \"get\", \"get\", \"get\", \"get\", \"get\", \"get\", \"get\", \"girl\", \"give\", \"giving\", \"glad\", \"glad\", \"glad\", \"glad\", \"going\", \"going\", \"going\", \"going\", \"good\", \"good\", \"good\", \"good\", \"good\", \"good\", \"good\", \"good\", \"goodbye\", \"got\", \"got\", \"got\", \"got\", \"got\", \"got\", \"grass\", \"great\", \"great\", \"great\", \"great\", \"great\", \"great\", \"great\", \"haha\", \"hamagami\", \"hand\", \"hand\", \"hand\", \"happy\", \"happy\", \"happy\", \"happy\", \"happy\", \"happy\", \"happy\", \"happy\", \"happy\", \"hard\", \"hard\", \"hard\", \"hard\", \"hard\", \"hard\", \"hard\", \"harder\", \"heard\", \"helloaesthete\", \"heritage\", \"hide-san\", \"high\", \"hiragana\", \"hiro\", \"hiro\", \"history\", \"hokuriku\", \"hope\", \"hope\", \"hope\", \"hope\", \"hope\", \"hope\", \"ikuchon\", \"ikuchon\", \"ikuchon\", \"imaimaquen\", \"imaimaquen\", \"imaimaquen\", \"imaimaquen\", \"important\", \"impressed\", \"impulse\", \"imuk\", \"imuk\", \"imuk\", \"imuk\", \"imuk\", \"including\", \"instagram\", \"instagram\", \"internal\", \"italian\", \"italian\", \"italian\", \"italiancar\", \"italiancars\", \"jelly\", \"joao\", \"job\", \"job\", \"job\", \"join\", \"join\", \"join\", \"join\", \"joy\", \"kangaroo\", \"kangaroo\", \"kazu-san\", \"killifish\", \"killifish\", \"killifish\", \"know\", \"know\", \"know\", \"know\", \"know\", \"know\", \"know\", \"knowledge\", \"knows\", \"kumi\", \"kumi\", \"kumi\", \"kumi\", \"kumi\", \"lake\", \"laugh\", \"legendary\", \"lehr\", \"less\", \"lestylealafran\\u00e7ais\", \"let\", \"let\", \"let\", \"let\", \"lie\", \"like\", \"like\", \"like\", \"like\", \"like\", \"like\", \"lilli\", \"lily\", \"lily\", \"lily\", \"lily\", \"lily\", \"lining\", \"llemerci\", \"lol\", \"lol\", \"lol\", \"long\", \"long\", \"long\", \"long-awaited\", \"look\", \"look\", \"look\", \"look\", \"look\", \"look\", \"look\", \"look\", \"look\", \"lookdujour\", \"looking\", \"looking\", \"looking\", \"looking\", \"looking\", \"looking\", \"looking\", \"looks\", \"looks\", \"looks\", \"looks\", \"looks\", \"lot\", \"lot\", \"lot\", \"lot\", \"lot\", \"lot\", \"love\", \"love\", \"love\", \"love\", \"love\", \"love\", \"love\", \"love\", \"love\", \"lovely\", \"lovely\", \"lovely\", \"lovely\", \"lovely\", \"lovely\", \"lovely\", \"lucaskauan\", \"luxury\", \"luxury\", \"luxurylife\", \"luxurylifestyle\", \"made\", \"made\", \"made\", \"made\", \"made\", \"magazine\", \"mail\", \"make\", \"make\", \"make\", \"make\", \"make\", \"makes\", \"makes\", \"makes\", \"makes\", \"manufacture\", \"marikel\", \"market\", \"married\", \"master\", \"match\", \"mauritania\", \"meet\", \"meet\", \"meet\", \"meet\", \"meet\", \"meet\", \"meet\", \"megmeg\", \"mellow\", \"melon\", \"melon\", \"melon\", \"melon\", \"merry\", \"merry\", \"merry\", \"misalunlun\", \"misalunlun\", \"misalunlun\", \"misalunlun\", \"misalunlun\", \"missed\", \"miyaken\", \"miyaken\", \"miyaken\", \"miyaken\", \"models\", \"morning\", \"morning\", \"mountain\", \"much\", \"much\", \"much\", \"much\", \"much\", \"much\", \"much\", \"much\", \"mudrinicmila\", \"mudrinicmila\", \"muscles\", \"n't\", \"n't\", \"n't\", \"n't\", \"n't\", \"n't\", \"n't\", \"n't\", \"n't\", \"named\", \"nationalised\", \"need\", \"nettiboholove\", \"never\", \"never\", \"never\", \"never\", \"new\", \"new\", \"new\", \"new\", \"new\", \"next\", \"next\", \"next\", \"next\", \"next\", \"next\", \"next\", \"next\", \"nice\", \"nice\", \"nice\", \"nice\", \"nice\", \"nice\", \"nice\", \"nice\", \"nicolewom\", \"nishi\", \"nishi\", \"nishi\", \"nishi\", \"nishi\", \"nishikawa\", \"nishikawa\", \"nishikawa\", \"nishikawa-san\", \"north\", \"occasion\", \"ohpedroestevao\", \"olllllllllo\", \"omikanorange\", \"one\", \"one\", \"one\", \"one\", \"one\", \"one\", \"one\", \"one\", \"orange\", \"orange\", \"organised\", \"outfit\", \"outfit\", \"owner\", \"page\", \"panda\", \"parking\", \"part\", \"passenger\", \"pasted\", \"pedromarques\", \"people\", \"people\", \"people\", \"perfect\", \"perfect\", \"perfect\", \"pernambuco\", \"person\", \"petrels\", \"photo\", \"photo\", \"photo\", \"photograph\", \"photographer\", \"pic\", \"pic\", \"pic\", \"picture\", \"picture\", \"picture\", \"picture\", \"picture\", \"picture\", \"picture\", \"picture\", \"pictures\", \"pictures\", \"pictures\", \"pictures\", \"pietrasanta\", \"pigeon\", \"pinch-hitter\", \"place\", \"place\", \"place\", \"place\", \"place\", \"place\", \"place\", \"place\", \"plans\", \"platform\", \"play\", \"please\", \"please\", \"please\", \"please\", \"please\", \"pleasure\", \"pleasure\", \"pleasure\", \"pleasure\", \"pleasure\", \"points\", \"post\", \"post\", \"post\", \"post\", \"post\", \"posts\", \"posts\", \"pot\", \"prettier\", \"prettier\", \"pretty\", \"pretty\", \"pretty\", \"pretty\", \"pretty\", \"price\", \"price\", \"price\", \"priority\", \"profile\", \"puno\", \"put\", \"put\", \"put\", \"quickly\", \"quickly\", \"quickly\", \"raise\", \"ran\", \"reading\", \"real\", \"real\", \"really\", \"really\", \"really\", \"really\", \"really\", \"really\", \"really\", \"really\", \"relief\", \"renegade\", \"renegade\", \"renovated\", \"result\", \"right\", \"right\", \"right\", \"right\", \"right\", \"roads\", \"rossa\", \"rossa\", \"rossa\", \"rossa\", \"rossa\", \"rossa\", \"sabibdr\", \"safe\", \"safe\", \"say\", \"say\", \"says\", \"searching\", \"seat\", \"seat\", \"second\", \"second\", \"see\", \"see\", \"see\", \"see\", \"see\", \"see\", \"see\", \"see\", \"sell\", \"sell\", \"sell\", \"sen\", \"send\", \"send\", \"seriously\", \"shop\", \"shop\", \"shop\", \"shots\", \"side\", \"sight\", \"sky\", \"sky\", \"slanted\", \"small\", \"small\", \"smallcar\", \"snatched\", \"snow\", \"snow\", \"snow\", \"snow\", \"snow\", \"snow\", \"snow\", \"snow\", \"soba\", \"soba\", \"someday\", \"something\", \"something\", \"sore\", \"sorts\", \"spank\", \"spank\", \"spank\", \"spare\", \"specialedition\", \"spring\", \"ssbase\", \"standard\", \"started\", \"station\", \"steep\", \"story\", \"strengthen\", \"stripes\", \"style\", \"summer\", \"sunday\", \"sunday\", \"sunday\", \"sunflower\", \"sunflower\", \"sunflower\", \"super\", \"super\", \"super\", \"support\", \"sure\", \"sure\", \"sure\", \"survey\", \"sweet\", \"sweet\", \"take\", \"take\", \"take\", \"take\", \"take\", \"take\", \"take\", \"tastes\", \"tasty\", \"thank\", \"thank\", \"thank\", \"thank\", \"thank\", \"thank\", \"thank\", \"thank\", \"thank\", \"thanks\", \"thanks\", \"thanks\", \"thanks\", \"thanks\", \"thanks\", \"thanks\", \"think\", \"think\", \"think\", \"think\", \"think\", \"think\", \"thomas\", \"thomas\", \"though\", \"though\", \"thought\", \"thought\", \"thought\", \"thought\", \"throw\", \"time\", \"time\", \"time\", \"time\", \"time\", \"time\", \"together\", \"together\", \"together\", \"tonbi\", \"tonotsuka\", \"toot\", \"topolina\", \"topolina\", \"topolina\", \"topolina\", \"topolina\", \"topolina\", \"toybox\", \"treasure\", \"tried\", \"true\", \"true\", \"two\", \"una\", \"understand\", \"upscale\", \"version\", \"version\", \"view\", \"vls\", \"vls\", \"wagons\", \"wait\", \"wait\", \"waiting\", \"waiting\", \"wanker\", \"want\", \"want\", \"want\", \"want\", \"want\", \"want\", \"want\", \"wedding\", \"wedding\", \"wedding\", \"weekend\", \"weekend\", \"weekend\", \"weekend\", \"weekend\", \"weekend\", \"well\", \"well\", \"well\", \"went\", \"went\", \"went\", \"wheels\", \"whether\", \"whether\", \"white\", \"white\", \"white\", \"white\", \"winter\", \"winter\", \"winter\", \"winter\", \"winter\", \"wintermood\", \"wish\", \"wish\", \"wish\", \"wish\", \"wish\", \"wonderful\", \"wonderful\", \"wonderful\", \"wonderful\", \"wonderland\", \"work\", \"work\", \"work\", \"work\", \"work\", \"work\", \"work\", \"working\", \"working\", \"working\", \"would\", \"would\", \"would\", \"would\", \"would\", \"would\", \"would\", \"wow\", \"wow\", \"wow\", \"wow\", \"wow\", \"year\", \"year\", \"year\", \"year\", \"year\", \"year\", \"year\", \"year\", \"years\", \"yes\", \"yes\", \"yes\", \"yes\", \"yes\", \"yes\", \"younger\", \"yuririna\", \"yuyuka\", \"yuyuka\", \"yuyuka\", \"yuyuuka\", \"yuyuuka\", \"yuyuuka\", \"zagreb\", \"zechmeister\", \"\\ud835\\udc12\\ud835\\udc1e\\ud835\\udc27\\ud835\\udc1d\", \"\\ud835\\udc12\\ud835\\udc1e\\ud835\\udc27\\ud835\\udc1d\"]}, \"R\": 30, \"lambda.step\": 0.01, \"plot.opts\": {\"xlab\": \"PC1\", \"ylab\": \"PC2\"}, \"topic.order\": [8, 4, 5, 6, 2, 3, 9, 7, 1]};\n",
       "\n",
       "function LDAvis_load_lib(url, callback){\n",
       "  var s = document.createElement('script');\n",
       "  s.src = url;\n",
       "  s.async = true;\n",
       "  s.onreadystatechange = s.onload = callback;\n",
       "  s.onerror = function(){console.warn(\"failed to load library \" + url);};\n",
       "  document.getElementsByTagName(\"head\")[0].appendChild(s);\n",
       "}\n",
       "\n",
       "if(typeof(LDAvis) !== \"undefined\"){\n",
       "   // already loaded: just create the visualization\n",
       "   !function(LDAvis){\n",
       "       new LDAvis(\"#\" + \"ldavis_el10385133508226083379058222\", ldavis_el10385133508226083379058222_data);\n",
       "   }(LDAvis);\n",
       "}else if(typeof define === \"function\" && define.amd){\n",
       "   // require.js is available: use it to load d3/LDAvis\n",
       "   require.config({paths: {d3: \"https://d3js.org/d3.v5\"}});\n",
       "   require([\"d3\"], function(d3){\n",
       "      window.d3 = d3;\n",
       "      LDAvis_load_lib(\"https://cdn.jsdelivr.net/gh/bmabey/pyLDAvis@3.4.0/pyLDAvis/js/ldavis.v3.0.0.js\", function(){\n",
       "        new LDAvis(\"#\" + \"ldavis_el10385133508226083379058222\", ldavis_el10385133508226083379058222_data);\n",
       "      });\n",
       "    });\n",
       "}else{\n",
       "    // require.js not available: dynamically load d3 & LDAvis\n",
       "    LDAvis_load_lib(\"https://d3js.org/d3.v5.js\", function(){\n",
       "         LDAvis_load_lib(\"https://cdn.jsdelivr.net/gh/bmabey/pyLDAvis@3.4.0/pyLDAvis/js/ldavis.v3.0.0.js\", function(){\n",
       "                 new LDAvis(\"#\" + \"ldavis_el10385133508226083379058222\", ldavis_el10385133508226083379058222_data);\n",
       "            })\n",
       "         });\n",
       "}\n",
       "</script>"
      ],
      "text/plain": [
       "PreparedData(topic_coordinates=              x         y  topics  cluster       Freq\n",
       "topic                                                \n",
       "7     -0.011000  0.002949       1        1  15.102314\n",
       "3      0.020247 -0.034512       2        1  12.131714\n",
       "4      0.044297 -0.042271       3        1  11.722261\n",
       "5      0.055581  0.005749       4        1  11.201337\n",
       "1      0.074649 -0.043209       5        1  10.579716\n",
       "2      0.072990  0.057803       6        1  10.457273\n",
       "8     -0.082543  0.051701       7        1  10.071964\n",
       "6     -0.112689 -0.110803       8        1   9.580340\n",
       "0     -0.061531  0.112592       9        1   9.153080, topic_info=             Term       Freq      Total Category  logprob  loglift\n",
       "603         melon  19.000000  19.000000  Default  30.0000  30.0000\n",
       "118     beautiful  44.000000  44.000000  Default  29.0000  29.0000\n",
       "932           cha  15.000000  15.000000  Default  28.0000  28.0000\n",
       "149         thank  77.000000  77.000000  Default  27.0000  27.0000\n",
       "987         merry   9.000000   9.000000  Default  26.0000  26.0000\n",
       "...           ...        ...        ...      ...      ...      ...\n",
       "307       picture   1.497214  14.472466   Topic9  -5.6196   0.1224\n",
       "187          year   1.497103  26.198300   Topic9  -5.6197  -0.4711\n",
       "249       ikuchon   1.497063   6.491796   Topic9  -5.6197   0.9240\n",
       "192          take   1.497049  10.732170   Topic9  -5.6197   0.4213\n",
       "1272  anniversary   1.497033   7.938737   Topic9  -5.6197   0.7228\n",
       "\n",
       "[636 rows x 6 columns], token_table=      Topic      Freq         Term\n",
       "term                              \n",
       "176       1  0.054695          'll\n",
       "176       2  0.382865          'll\n",
       "176       3  0.054695          'll\n",
       "176       4  0.109390          'll\n",
       "176       5  0.218780          'll\n",
       "...     ...       ...          ...\n",
       "273       7  0.276914      yuyuuka\n",
       "869       6  0.469090       zagreb\n",
       "1398      7  0.710070  zechmeister\n",
       "953       5  0.349081         𝐒𝐞𝐧𝐝\n",
       "953       9  0.349081         𝐒𝐞𝐧𝐝\n",
       "\n",
       "[1093 rows x 3 columns], R=30, lambda_step=0.01, plot_opts={'xlab': 'PC1', 'ylab': 'PC2'}, topic_order=[8, 4, 5, 6, 2, 3, 9, 7, 1])"
      ]
     },
     "execution_count": 20,
     "metadata": {},
     "output_type": "execute_result"
    }
   ],
   "source": [
    "import pandas as pd\n",
    "from sklearn.feature_extraction.text import TfidfVectorizer\n",
    "from sklearn.decomposition import LatentDirichletAllocation\n",
    "from gensim.models.coherencemodel import CoherenceModel\n",
    "from gensim.corpora import Dictionary\n",
    "from gensim.models import LdaModel\n",
    "from nltk.tokenize import word_tokenize\n",
    "from nltk.corpus import stopwords\n",
    "import numpy as np\n",
    "import nltk\n",
    "import pyLDAvis.gensim_models as gensimvis\n",
    "import pyLDAvis\n",
    "import matplotlib.pyplot as plt\n",
    "import seaborn as sns\n",
    "\n",
    "nltk.download('punkt')\n",
    "nltk.download('stopwords')\n",
    "\n",
    "# Filter the data for the year 2023\n",
    "df_2023 = df_merged[df_merged['year'] == 2023]\n",
    "\n",
    "# Text Preprocessing for the 'translated_comments' column\n",
    "stop_words = set(stopwords.words('english'))\n",
    "df_2023.loc[:, 'cleaned_text'] = df_2023['translated_comments'].fillna('').str.lower().str.replace(r'[^\\w\\s]', '')\n",
    "df_2023.loc[:, 'tokenized_text'] = df_2023['cleaned_text'].apply(word_tokenize)\n",
    "df_2023.loc[:, 'tokenized_text'] = df_2023['tokenized_text'].apply(lambda x: [word for word in x if word not in stop_words and len(word) > 2])\n",
    "\n",
    "# Create a Gensim dictionary and corpus for coherence testing\n",
    "dictionary = Dictionary(df_2023['tokenized_text'])\n",
    "corpus = [dictionary.doc2bow(text) for text in df_2023['tokenized_text']]\n",
    "\n",
    "# Coherence Test for Different Numbers of Topics\n",
    "coherence_values = []\n",
    "model_list = []\n",
    "for num_topics in range(2, 11):\n",
    "    lda_model = LdaModel(corpus=corpus, id2word=dictionary, num_topics=num_topics, random_state=42)\n",
    "    model_list.append(lda_model)\n",
    "    coherence_model = CoherenceModel(model=lda_model, texts=df_2023['tokenized_text'], dictionary=dictionary, coherence='c_v')\n",
    "    coherence_values.append(coherence_model.get_coherence())\n",
    "\n",
    "# Plot Coherence Scores\n",
    "plt.figure(figsize=(10, 6))\n",
    "plt.plot(range(2, 11), coherence_values, marker='o')\n",
    "plt.title('Coherence Score vs. Number of Topics')\n",
    "plt.xlabel('Number of Topics')\n",
    "plt.ylabel('Coherence Score')\n",
    "plt.grid(True)\n",
    "plt.show()\n",
    "\n",
    "# Select the optimal number of topics with the highest coherence score\n",
    "optimal_num_topics = np.argmax(coherence_values) + 2\n",
    "print(f'Optimal number of topics: {optimal_num_topics}')\n",
    "\n",
    "# Perform Topic Modeling with the Optimal Number of Topics\n",
    "optimal_lda_model = LdaModel(corpus=corpus, id2word=dictionary, num_topics=optimal_num_topics, random_state=42)\n",
    "\n",
    "# Display the top words in each topic\n",
    "for idx, topic in optimal_lda_model.print_topics(-1):\n",
    "    print(f'Topic {idx + 1}:')\n",
    "    print(topic)\n",
    "    print()\n",
    "\n",
    "# Visualize the distribution of topics\n",
    "lda_topics = optimal_lda_model.get_document_topics(corpus, minimum_probability=0)\n",
    "topic_distribution = np.mean([[prob for topic_num, prob in doc] for doc in lda_topics], axis=0)\n",
    "\n",
    "plt.figure(figsize=(10, 6))\n",
    "sns.barplot(x=[f'Topic {i+1}' for i in range(optimal_num_topics)], y=topic_distribution)\n",
    "plt.title('Topic Distribution for 2023 Comments')\n",
    "plt.xlabel('Topic')\n",
    "plt.ylabel('Average Topic Proportion')\n",
    "plt.grid(True)\n",
    "plt.show()\n",
    "\n",
    "# PyLDAvis Visualization\n",
    "pyLDAvis.enable_notebook()\n",
    "vis = gensimvis.prepare(optimal_lda_model, corpus, dictionary)\n",
    "\n",
    "# Save the PyLDAvis visualization as an HTML file\n",
    "pyLDAvis.save_html(vis, '/Users/abhishekroy/Downloads/vscode folder/insta2023.html')\n",
    "\n",
    "# Render the PyLDAvis visualization in the Jupyter notebook\n",
    "vis\n"
   ]
  },
  {
   "cell_type": "markdown",
   "metadata": {},
   "source": [
    "# Analysis of High Engagement in 2023: Insights from Topic Modeling\n",
    "\n",
    "## Overview:\n",
    "In 2023, Instagram saw a significant increase in user engagement, particularly in the form of likes, comments, and overall interaction with posts. To understand the reasons behind this surge, we conducted a topic modeling analysis on the comments from that year. The analysis, visualized through the PyLDAvis tool, reveals several key topics that help explain why engagement was so high.\n",
    "\n",
    "## Key Topics and Their Impact on Engagement:\n",
    "\n",
    "### 1. Celebration and Well-Wishing\n",
    "- **Keywords**: thank, merry, christmas, happy, year, lovely, beautiful, enjoy\n",
    "- **Impact**: The prevalence of comments centered around festive occasions, such as Christmas and New Year, suggests that users were actively engaging in sharing positive sentiments and well-wishes. This likely boosted interaction as users participated in the communal celebration, contributing to higher engagement during these periods.\n",
    "\n",
    "### 2. Compliments and Appreciation\n",
    "- **Keywords**: beautiful, cute, nice, lovely, good, pretty, great, love\n",
    "- **Impact**: Instagram is a platform where visual content is paramount, and users frequently engage by complimenting the aesthetics of posts. The topic dominated by words like \"beautiful\" and \"cute\" indicates that users were actively engaging with content by expressing appreciation, driving more likes and comments as part of this positive feedback loop.\n",
    "\n",
    "### 3. Product and Brand Discussions (Fiat Dolcevita)\n",
    "- **Keywords**: fiat, dolcevita, car, abarth, model, design, summer, drive\n",
    "- **Impact**: A significant portion of the engagement can be attributed to discussions around specific products, particularly the Fiat Dolcevita. The enthusiastic comments about this car suggest that product-related content was a major driver of engagement. Users who are passionate about particular brands or products tend to engage more, discussing features, sharing opinions, and promoting word-of-mouth through comments.\n",
    "\n",
    "### 4. Personal Experiences and Life Updates\n",
    "- **Keywords**: time, work, year, day, life, long, love, people, see\n",
    "- **Impact**: The topic of personal experiences and life updates reflects Instagram’s role as a platform for storytelling. Users sharing moments from their lives encourages others to respond, creating a dialogue that boosts engagement. The ongoing narrative of people’s lives shared in comments may have kept users coming back and participating more frequently.\n",
    "\n",
    "### 5. Visual and Creative Content\n",
    "- **Keywords**: photo, picture, look, love, style, beautiful, fashion, art\n",
    "- **Impact**: Content related to fashion, photography, and art is central to Instagram's appeal. The high engagement can be linked to the platform's strong visual culture, where users interact with and discuss visually appealing posts. This visual-centric engagement is likely a consistent driver of high interaction rates.\n",
    "\n",
    "### 6. Seasonal and Event-Driven Content\n",
    "- **Keywords**: summer, snow, winter, season, year, next, enjoy, weather\n",
    "- **Impact**: Seasonal content, especially tied to current or upcoming events, tends to resonate well with users. As they experience and anticipate these seasons, their engagement with related posts increases, reflecting the relevance of the content to their lives at the moment.\n",
    "\n",
    "## Conclusion:\n",
    "The high engagement seen in 2023 can be attributed to a combination of factors uncovered through topic modeling. Positive community interactions during celebrations, appreciation of visual content, discussions about popular products like the Fiat Dolcevita, and the sharing of personal experiences all played significant roles in driving user interaction. This multifaceted engagement strategy, where users connect over shared interests, celebrations, and personal stories, has not only sustained high engagement but also positioned it to continue growing into 2024.\n"
   ]
  }
 ],
 "metadata": {
  "kernelspec": {
   "display_name": "myenv",
   "language": "python",
   "name": "python3"
  },
  "language_info": {
   "codemirror_mode": {
    "name": "ipython",
    "version": 3
   },
   "file_extension": ".py",
   "mimetype": "text/x-python",
   "name": "python",
   "nbconvert_exporter": "python",
   "pygments_lexer": "ipython3",
   "version": "3.11.9"
  }
 },
 "nbformat": 4,
 "nbformat_minor": 2
}
